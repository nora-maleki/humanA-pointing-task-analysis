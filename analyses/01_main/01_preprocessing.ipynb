{
 "cells": [
  {
   "cell_type": "markdown",
   "source": [
    "# Exploring the data\n",
    "author: Nora Maleki (noora.maleki@gmail.com)\n",
    "March 2022"
   ],
   "metadata": {
    "collapsed": false
   }
  },
  {
   "cell_type": "markdown",
   "source": [
    "## Import libraries"
   ],
   "metadata": {
    "collapsed": false
   }
  },
  {
   "cell_type": "code",
   "execution_count": 1,
   "outputs": [],
   "source": [
    "import numpy as np\n",
    "import pandas as pd\n",
    "import matplotlib.pyplot as plt\n",
    "import seaborn as sns\n",
    "import os"
   ],
   "metadata": {
    "collapsed": false,
    "pycharm": {
     "name": "#%%\n"
    }
   }
  },
  {
   "cell_type": "markdown",
   "source": [
    "## Load data"
   ],
   "metadata": {
    "collapsed": false
   }
  },
  {
   "cell_type": "code",
   "execution_count": 2,
   "outputs": [],
   "source": [
    "FILE_PATH = r'../../data/01_main'"
   ],
   "metadata": {
    "collapsed": false,
    "pycharm": {
     "name": "#%%\n"
    }
   }
  },
  {
   "cell_type": "code",
   "execution_count": 3,
   "metadata": {
    "collapsed": true,
    "pycharm": {
     "name": "#%%\n"
    }
   },
   "outputs": [
    {
     "data": {
      "text/plain": "   Unnamed: 0  SubjectID  ParticipantPosition_x  ParticipantPosition_z  \\\n0           0        365             -33.362625            -190.912018   \n1           1        365             118.412003             -62.941864   \n2           2        365             257.929993             -33.097687   \n3           3        365            -242.933212              39.037964   \n4           4        365            -320.974487              77.197166   \n\n   PointerPosition_x  PointerPosition_z      Angle  BuildingPositionLocal_x  \\\n0         -33.590775        -190.709625  87.005028               255.062286   \n1         118.647705         -63.044891  44.100197               255.062286   \n2         257.598694         -32.840240  47.522392               255.062286   \n3        -242.879013          38.953239   1.100918               255.062286   \n4        -320.853760          77.009575  29.176662               255.062286   \n\n   BuildingPositionLocal_y  BuildingPositionLocal_z  ...  meaningful  \\\n0                -1.663044               -18.984482  ...        True   \n1                -1.663044               -18.984482  ...        True   \n2                -1.663044               -18.984482  ...        True   \n3                -1.663044               -18.984482  ...        True   \n4                -1.663044               -18.984482  ...        True   \n\n   meaningfulBuilding Trials  TrialID ImageName                  TimeDelta  \\\n0          Meaningful      0       29    01_CmA  0 days 00:00:07.635420416   \n1          Meaningful      0      102    01_CmA  0 days 00:00:03.853917952   \n2          Meaningful      0      155    01_CmA  0 days 00:00:03.418430208   \n3          Meaningful      0      223    01_CmA  0 days 00:00:04.257166592   \n4          Meaningful      0      303    01_CmA  0 days 00:00:02.474542336   \n\n         RT  TimeOut                 TimeStampBegin  \\\n0  7.635421    False  2021-11-18 10:26:39.660960000   \n1  3.853918    False  2021-11-18 10:34:18.716167680   \n2  3.418430    False  2021-11-18 10:40:28.512252160   \n3  4.257167    False  2021-11-18 10:47:55.246826496   \n4  2.474542    False  2021-11-18 11:08:19.997678080   \n\n                    TimeStampEnd  \n0  2021-11-18 10:26:47.296380416  \n1  2021-11-18 10:34:22.570085632  \n2  2021-11-18 10:40:31.930682368  \n3  2021-11-18 10:47:59.503993088  \n4  2021-11-18 11:08:22.472220416  \n\n[5 rows x 30 columns]",
      "text/html": "<div>\n<style scoped>\n    .dataframe tbody tr th:only-of-type {\n        vertical-align: middle;\n    }\n\n    .dataframe tbody tr th {\n        vertical-align: top;\n    }\n\n    .dataframe thead th {\n        text-align: right;\n    }\n</style>\n<table border=\"1\" class=\"dataframe\">\n  <thead>\n    <tr style=\"text-align: right;\">\n      <th></th>\n      <th>Unnamed: 0</th>\n      <th>SubjectID</th>\n      <th>ParticipantPosition_x</th>\n      <th>ParticipantPosition_z</th>\n      <th>PointerPosition_x</th>\n      <th>PointerPosition_z</th>\n      <th>Angle</th>\n      <th>BuildingPositionLocal_x</th>\n      <th>BuildingPositionLocal_y</th>\n      <th>BuildingPositionLocal_z</th>\n      <th>...</th>\n      <th>meaningful</th>\n      <th>meaningfulBuilding</th>\n      <th>Trials</th>\n      <th>TrialID</th>\n      <th>ImageName</th>\n      <th>TimeDelta</th>\n      <th>RT</th>\n      <th>TimeOut</th>\n      <th>TimeStampBegin</th>\n      <th>TimeStampEnd</th>\n    </tr>\n  </thead>\n  <tbody>\n    <tr>\n      <th>0</th>\n      <td>0</td>\n      <td>365</td>\n      <td>-33.362625</td>\n      <td>-190.912018</td>\n      <td>-33.590775</td>\n      <td>-190.709625</td>\n      <td>87.005028</td>\n      <td>255.062286</td>\n      <td>-1.663044</td>\n      <td>-18.984482</td>\n      <td>...</td>\n      <td>True</td>\n      <td>Meaningful</td>\n      <td>0</td>\n      <td>29</td>\n      <td>01_CmA</td>\n      <td>0 days 00:00:07.635420416</td>\n      <td>7.635421</td>\n      <td>False</td>\n      <td>2021-11-18 10:26:39.660960000</td>\n      <td>2021-11-18 10:26:47.296380416</td>\n    </tr>\n    <tr>\n      <th>1</th>\n      <td>1</td>\n      <td>365</td>\n      <td>118.412003</td>\n      <td>-62.941864</td>\n      <td>118.647705</td>\n      <td>-63.044891</td>\n      <td>44.100197</td>\n      <td>255.062286</td>\n      <td>-1.663044</td>\n      <td>-18.984482</td>\n      <td>...</td>\n      <td>True</td>\n      <td>Meaningful</td>\n      <td>0</td>\n      <td>102</td>\n      <td>01_CmA</td>\n      <td>0 days 00:00:03.853917952</td>\n      <td>3.853918</td>\n      <td>False</td>\n      <td>2021-11-18 10:34:18.716167680</td>\n      <td>2021-11-18 10:34:22.570085632</td>\n    </tr>\n    <tr>\n      <th>2</th>\n      <td>2</td>\n      <td>365</td>\n      <td>257.929993</td>\n      <td>-33.097687</td>\n      <td>257.598694</td>\n      <td>-32.840240</td>\n      <td>47.522392</td>\n      <td>255.062286</td>\n      <td>-1.663044</td>\n      <td>-18.984482</td>\n      <td>...</td>\n      <td>True</td>\n      <td>Meaningful</td>\n      <td>0</td>\n      <td>155</td>\n      <td>01_CmA</td>\n      <td>0 days 00:00:03.418430208</td>\n      <td>3.418430</td>\n      <td>False</td>\n      <td>2021-11-18 10:40:28.512252160</td>\n      <td>2021-11-18 10:40:31.930682368</td>\n    </tr>\n    <tr>\n      <th>3</th>\n      <td>3</td>\n      <td>365</td>\n      <td>-242.933212</td>\n      <td>39.037964</td>\n      <td>-242.879013</td>\n      <td>38.953239</td>\n      <td>1.100918</td>\n      <td>255.062286</td>\n      <td>-1.663044</td>\n      <td>-18.984482</td>\n      <td>...</td>\n      <td>True</td>\n      <td>Meaningful</td>\n      <td>0</td>\n      <td>223</td>\n      <td>01_CmA</td>\n      <td>0 days 00:00:04.257166592</td>\n      <td>4.257167</td>\n      <td>False</td>\n      <td>2021-11-18 10:47:55.246826496</td>\n      <td>2021-11-18 10:47:59.503993088</td>\n    </tr>\n    <tr>\n      <th>4</th>\n      <td>4</td>\n      <td>365</td>\n      <td>-320.974487</td>\n      <td>77.197166</td>\n      <td>-320.853760</td>\n      <td>77.009575</td>\n      <td>29.176662</td>\n      <td>255.062286</td>\n      <td>-1.663044</td>\n      <td>-18.984482</td>\n      <td>...</td>\n      <td>True</td>\n      <td>Meaningful</td>\n      <td>0</td>\n      <td>303</td>\n      <td>01_CmA</td>\n      <td>0 days 00:00:02.474542336</td>\n      <td>2.474542</td>\n      <td>False</td>\n      <td>2021-11-18 11:08:19.997678080</td>\n      <td>2021-11-18 11:08:22.472220416</td>\n    </tr>\n  </tbody>\n</table>\n<p>5 rows × 30 columns</p>\n</div>"
     },
     "execution_count": 3,
     "metadata": {},
     "output_type": "execute_result"
    }
   ],
   "source": [
    "dataset = pd.read_csv(f'{FILE_PATH}/01_coordinates_integrated.csv')\n",
    "dataset.head()"
   ]
  },
  {
   "cell_type": "code",
   "execution_count": 4,
   "outputs": [
    {
     "name": "stdout",
     "output_type": "stream",
     "text": [
      "<class 'pandas.core.frame.DataFrame'>\n",
      "RangeIndex: 3024 entries, 0 to 3023\n",
      "Data columns (total 30 columns):\n",
      " #   Column                    Non-Null Count  Dtype  \n",
      "---  ------                    --------------  -----  \n",
      " 0   Unnamed: 0                3024 non-null   int64  \n",
      " 1   SubjectID                 3024 non-null   int64  \n",
      " 2   ParticipantPosition_x     3024 non-null   float64\n",
      " 3   ParticipantPosition_z     3024 non-null   float64\n",
      " 4   PointerPosition_x         3024 non-null   float64\n",
      " 5   PointerPosition_z         3024 non-null   float64\n",
      " 6   Angle                     3024 non-null   float64\n",
      " 7   BuildingPositionLocal_x   3024 non-null   float64\n",
      " 8   BuildingPositionLocal_y   3024 non-null   float64\n",
      " 9   BuildingPositionLocal_z   3024 non-null   float64\n",
      " 10  PointingTargetId          3024 non-null   int64  \n",
      " 11  PointingTargetIndex       3024 non-null   int64  \n",
      " 12  PointingTargetName        3024 non-null   object \n",
      " 13  PointingTargetBuildingId  3024 non-null   int64  \n",
      " 14  PointingTargetCondition   3024 non-null   object \n",
      " 15  Context                   3024 non-null   bool   \n",
      " 16  Agent                     3024 non-null   bool   \n",
      " 17  avatarID                  3024 non-null   int64  \n",
      " 18  AvatarPresence            3024 non-null   bool   \n",
      " 19  AvatarPresenceCategory    3024 non-null   object \n",
      " 20  meaningful                3024 non-null   bool   \n",
      " 21  meaningfulBuilding        3024 non-null   object \n",
      " 22  Trials                    3024 non-null   int64  \n",
      " 23  TrialID                   3024 non-null   int64  \n",
      " 24  ImageName                 3024 non-null   object \n",
      " 25  TimeDelta                 3024 non-null   object \n",
      " 26  RT                        3024 non-null   float64\n",
      " 27  TimeOut                   3024 non-null   bool   \n",
      " 28  TimeStampBegin            3024 non-null   object \n",
      " 29  TimeStampEnd              3024 non-null   object \n",
      "dtypes: bool(5), float64(9), int64(8), object(8)\n",
      "memory usage: 605.5+ KB\n"
     ]
    }
   ],
   "source": [
    "dataset.info(verbose=True, show_counts=True)"
   ],
   "metadata": {
    "collapsed": false,
    "pycharm": {
     "name": "#%%\n"
    }
   }
  },
  {
   "cell_type": "code",
   "execution_count": 6,
   "outputs": [],
   "source": [
    "dataset.drop(columns=['Unnamed: 0', 'AvatarPresence'], inplace=True)"
   ],
   "metadata": {
    "collapsed": false,
    "pycharm": {
     "name": "#%%\n"
    }
   }
  },
  {
   "cell_type": "code",
   "execution_count": 7,
   "outputs": [
    {
     "name": "stdout",
     "output_type": "stream",
     "text": [
      "[ 365 3572 4176 5741 6642 7264 7842 8469 9472]\n"
     ]
    }
   ],
   "source": [
    "print(dataset.SubjectID.unique())"
   ],
   "metadata": {
    "collapsed": false,
    "pycharm": {
     "name": "#%%\n"
    }
   }
  },
  {
   "cell_type": "code",
   "execution_count": 8,
   "outputs": [
    {
     "data": {
      "text/plain": "      SubjectID  ParticipantPosition_x  ParticipantPosition_z  \\\n0           365             -33.362625            -190.912018   \n1           365             118.412003             -62.941864   \n2           365             257.929993             -33.097687   \n3           365            -242.933212              39.037964   \n4           365            -320.974487              77.197166   \n...         ...                    ...                    ...   \n3019       7842            -242.936417              39.360191   \n3020       7842              29.996002             177.688263   \n3021       8469             216.959259             133.368546   \n3022       8469             195.947968             -80.574738   \n3023       9472              30.100510             177.803452   \n\n      PointerPosition_x  PointerPosition_z      Angle  \\\n0            -33.590775        -190.709625  87.005028   \n1            118.647705         -63.044891  44.100197   \n2            257.598694         -32.840240  47.522392   \n3           -242.879013          38.953239   1.100918   \n4           -320.853760          77.009575  29.176662   \n...                 ...                ...        ...   \n3019        -242.767288          39.562004   5.586337   \n3020          30.368515         178.135193  89.111778   \n3021         216.656937         133.552170  10.910424   \n3022         195.926285         -80.244644  31.975525   \n3023          30.011749         178.196762  47.655743   \n\n      BuildingPositionLocal_x  BuildingPositionLocal_y  \\\n0                  255.062286                -1.663044   \n1                  255.062286                -1.663044   \n2                  255.062286                -1.663044   \n3                  255.062286                -1.663044   \n4                  255.062286                -1.663044   \n...                       ...                      ...   \n3019              -431.064392                12.052597   \n3020              -431.064392                12.052597   \n3021              -431.064392                12.052597   \n3022              -431.064392                12.052597   \n3023              -431.064392                12.052597   \n\n      BuildingPositionLocal_z  PointingTargetId  ...  meaningful  \\\n0                  -18.984482                 1  ...        True   \n1                  -18.984482                 1  ...        True   \n2                  -18.984482                 1  ...        True   \n3                  -18.984482                 1  ...        True   \n4                  -18.984482                 1  ...        True   \n...                       ...               ...  ...         ...   \n3019              -241.219849                56  ...       False   \n3020              -241.219849                56  ...       False   \n3021              -241.219849                56  ...       False   \n3022              -241.219849                56  ...       False   \n3023              -241.219849                56  ...       False   \n\n     meaningfulBuilding  Trials TrialID  ImageName                  TimeDelta  \\\n0            Meaningful       0      29     01_CmA  0 days 00:00:07.635420416   \n1            Meaningful       0     102     01_CmA  0 days 00:00:03.853917952   \n2            Meaningful       0     155     01_CmA  0 days 00:00:03.418430208   \n3            Meaningful       0     223     01_CmA  0 days 00:00:04.257166592   \n4            Meaningful       0     303     01_CmA  0 days 00:00:02.474542336   \n...                 ...     ...     ...        ...                        ...   \n3019     Not meaningful     110     308      56_Sa  0 days 00:00:05.227837952   \n3020     Not meaningful     110     325      56_Sa  0 days 00:00:17.154151168   \n3021     Not meaningful     110     146      56_Sa  0 days 00:00:12.459017472   \n3022     Not meaningful     110     249      56_Sa  0 days 00:00:08.456300032   \n3023     Not meaningful     110     184      56_Sa  0 days 00:00:06.110213888   \n\n             RT TimeOut                 TimeStampBegin  \\\n0      7.635421   False  2021-11-18 10:26:39.660960000   \n1      3.853918   False  2021-11-18 10:34:18.716167680   \n2      3.418430   False  2021-11-18 10:40:28.512252160   \n3      4.257167   False  2021-11-18 10:47:55.246826496   \n4      2.474542   False  2021-11-18 11:08:19.997678080   \n...         ...     ...                            ...   \n3019   5.227838   False  2021-12-10 11:26:34.675234816   \n3020  17.154151   False  2021-12-10 11:27:39.271762432   \n3021  12.459017   False  2021-11-12 14:55:31.406387712   \n3022   8.456300   False  2021-11-12 15:17:15.624334848   \n3023   6.110214   False  2021-12-22 15:35:45.264132864   \n\n                       TimeStampEnd  \n0     2021-11-18 10:26:47.296380416  \n1     2021-11-18 10:34:22.570085632  \n2     2021-11-18 10:40:31.930682368  \n3     2021-11-18 10:47:59.503993088  \n4     2021-11-18 11:08:22.472220416  \n...                             ...  \n3019  2021-12-10 11:26:39.903072768  \n3020  2021-12-10 11:27:56.425913600  \n3021  2021-11-12 14:55:43.865405184  \n3022  2021-11-12 15:17:24.080634880  \n3023  2021-12-22 15:35:51.374346752  \n\n[3024 rows x 28 columns]",
      "text/html": "<div>\n<style scoped>\n    .dataframe tbody tr th:only-of-type {\n        vertical-align: middle;\n    }\n\n    .dataframe tbody tr th {\n        vertical-align: top;\n    }\n\n    .dataframe thead th {\n        text-align: right;\n    }\n</style>\n<table border=\"1\" class=\"dataframe\">\n  <thead>\n    <tr style=\"text-align: right;\">\n      <th></th>\n      <th>SubjectID</th>\n      <th>ParticipantPosition_x</th>\n      <th>ParticipantPosition_z</th>\n      <th>PointerPosition_x</th>\n      <th>PointerPosition_z</th>\n      <th>Angle</th>\n      <th>BuildingPositionLocal_x</th>\n      <th>BuildingPositionLocal_y</th>\n      <th>BuildingPositionLocal_z</th>\n      <th>PointingTargetId</th>\n      <th>...</th>\n      <th>meaningful</th>\n      <th>meaningfulBuilding</th>\n      <th>Trials</th>\n      <th>TrialID</th>\n      <th>ImageName</th>\n      <th>TimeDelta</th>\n      <th>RT</th>\n      <th>TimeOut</th>\n      <th>TimeStampBegin</th>\n      <th>TimeStampEnd</th>\n    </tr>\n  </thead>\n  <tbody>\n    <tr>\n      <th>0</th>\n      <td>365</td>\n      <td>-33.362625</td>\n      <td>-190.912018</td>\n      <td>-33.590775</td>\n      <td>-190.709625</td>\n      <td>87.005028</td>\n      <td>255.062286</td>\n      <td>-1.663044</td>\n      <td>-18.984482</td>\n      <td>1</td>\n      <td>...</td>\n      <td>True</td>\n      <td>Meaningful</td>\n      <td>0</td>\n      <td>29</td>\n      <td>01_CmA</td>\n      <td>0 days 00:00:07.635420416</td>\n      <td>7.635421</td>\n      <td>False</td>\n      <td>2021-11-18 10:26:39.660960000</td>\n      <td>2021-11-18 10:26:47.296380416</td>\n    </tr>\n    <tr>\n      <th>1</th>\n      <td>365</td>\n      <td>118.412003</td>\n      <td>-62.941864</td>\n      <td>118.647705</td>\n      <td>-63.044891</td>\n      <td>44.100197</td>\n      <td>255.062286</td>\n      <td>-1.663044</td>\n      <td>-18.984482</td>\n      <td>1</td>\n      <td>...</td>\n      <td>True</td>\n      <td>Meaningful</td>\n      <td>0</td>\n      <td>102</td>\n      <td>01_CmA</td>\n      <td>0 days 00:00:03.853917952</td>\n      <td>3.853918</td>\n      <td>False</td>\n      <td>2021-11-18 10:34:18.716167680</td>\n      <td>2021-11-18 10:34:22.570085632</td>\n    </tr>\n    <tr>\n      <th>2</th>\n      <td>365</td>\n      <td>257.929993</td>\n      <td>-33.097687</td>\n      <td>257.598694</td>\n      <td>-32.840240</td>\n      <td>47.522392</td>\n      <td>255.062286</td>\n      <td>-1.663044</td>\n      <td>-18.984482</td>\n      <td>1</td>\n      <td>...</td>\n      <td>True</td>\n      <td>Meaningful</td>\n      <td>0</td>\n      <td>155</td>\n      <td>01_CmA</td>\n      <td>0 days 00:00:03.418430208</td>\n      <td>3.418430</td>\n      <td>False</td>\n      <td>2021-11-18 10:40:28.512252160</td>\n      <td>2021-11-18 10:40:31.930682368</td>\n    </tr>\n    <tr>\n      <th>3</th>\n      <td>365</td>\n      <td>-242.933212</td>\n      <td>39.037964</td>\n      <td>-242.879013</td>\n      <td>38.953239</td>\n      <td>1.100918</td>\n      <td>255.062286</td>\n      <td>-1.663044</td>\n      <td>-18.984482</td>\n      <td>1</td>\n      <td>...</td>\n      <td>True</td>\n      <td>Meaningful</td>\n      <td>0</td>\n      <td>223</td>\n      <td>01_CmA</td>\n      <td>0 days 00:00:04.257166592</td>\n      <td>4.257167</td>\n      <td>False</td>\n      <td>2021-11-18 10:47:55.246826496</td>\n      <td>2021-11-18 10:47:59.503993088</td>\n    </tr>\n    <tr>\n      <th>4</th>\n      <td>365</td>\n      <td>-320.974487</td>\n      <td>77.197166</td>\n      <td>-320.853760</td>\n      <td>77.009575</td>\n      <td>29.176662</td>\n      <td>255.062286</td>\n      <td>-1.663044</td>\n      <td>-18.984482</td>\n      <td>1</td>\n      <td>...</td>\n      <td>True</td>\n      <td>Meaningful</td>\n      <td>0</td>\n      <td>303</td>\n      <td>01_CmA</td>\n      <td>0 days 00:00:02.474542336</td>\n      <td>2.474542</td>\n      <td>False</td>\n      <td>2021-11-18 11:08:19.997678080</td>\n      <td>2021-11-18 11:08:22.472220416</td>\n    </tr>\n    <tr>\n      <th>...</th>\n      <td>...</td>\n      <td>...</td>\n      <td>...</td>\n      <td>...</td>\n      <td>...</td>\n      <td>...</td>\n      <td>...</td>\n      <td>...</td>\n      <td>...</td>\n      <td>...</td>\n      <td>...</td>\n      <td>...</td>\n      <td>...</td>\n      <td>...</td>\n      <td>...</td>\n      <td>...</td>\n      <td>...</td>\n      <td>...</td>\n      <td>...</td>\n      <td>...</td>\n      <td>...</td>\n    </tr>\n    <tr>\n      <th>3019</th>\n      <td>7842</td>\n      <td>-242.936417</td>\n      <td>39.360191</td>\n      <td>-242.767288</td>\n      <td>39.562004</td>\n      <td>5.586337</td>\n      <td>-431.064392</td>\n      <td>12.052597</td>\n      <td>-241.219849</td>\n      <td>56</td>\n      <td>...</td>\n      <td>False</td>\n      <td>Not meaningful</td>\n      <td>110</td>\n      <td>308</td>\n      <td>56_Sa</td>\n      <td>0 days 00:00:05.227837952</td>\n      <td>5.227838</td>\n      <td>False</td>\n      <td>2021-12-10 11:26:34.675234816</td>\n      <td>2021-12-10 11:26:39.903072768</td>\n    </tr>\n    <tr>\n      <th>3020</th>\n      <td>7842</td>\n      <td>29.996002</td>\n      <td>177.688263</td>\n      <td>30.368515</td>\n      <td>178.135193</td>\n      <td>89.111778</td>\n      <td>-431.064392</td>\n      <td>12.052597</td>\n      <td>-241.219849</td>\n      <td>56</td>\n      <td>...</td>\n      <td>False</td>\n      <td>Not meaningful</td>\n      <td>110</td>\n      <td>325</td>\n      <td>56_Sa</td>\n      <td>0 days 00:00:17.154151168</td>\n      <td>17.154151</td>\n      <td>False</td>\n      <td>2021-12-10 11:27:39.271762432</td>\n      <td>2021-12-10 11:27:56.425913600</td>\n    </tr>\n    <tr>\n      <th>3021</th>\n      <td>8469</td>\n      <td>216.959259</td>\n      <td>133.368546</td>\n      <td>216.656937</td>\n      <td>133.552170</td>\n      <td>10.910424</td>\n      <td>-431.064392</td>\n      <td>12.052597</td>\n      <td>-241.219849</td>\n      <td>56</td>\n      <td>...</td>\n      <td>False</td>\n      <td>Not meaningful</td>\n      <td>110</td>\n      <td>146</td>\n      <td>56_Sa</td>\n      <td>0 days 00:00:12.459017472</td>\n      <td>12.459017</td>\n      <td>False</td>\n      <td>2021-11-12 14:55:31.406387712</td>\n      <td>2021-11-12 14:55:43.865405184</td>\n    </tr>\n    <tr>\n      <th>3022</th>\n      <td>8469</td>\n      <td>195.947968</td>\n      <td>-80.574738</td>\n      <td>195.926285</td>\n      <td>-80.244644</td>\n      <td>31.975525</td>\n      <td>-431.064392</td>\n      <td>12.052597</td>\n      <td>-241.219849</td>\n      <td>56</td>\n      <td>...</td>\n      <td>False</td>\n      <td>Not meaningful</td>\n      <td>110</td>\n      <td>249</td>\n      <td>56_Sa</td>\n      <td>0 days 00:00:08.456300032</td>\n      <td>8.456300</td>\n      <td>False</td>\n      <td>2021-11-12 15:17:15.624334848</td>\n      <td>2021-11-12 15:17:24.080634880</td>\n    </tr>\n    <tr>\n      <th>3023</th>\n      <td>9472</td>\n      <td>30.100510</td>\n      <td>177.803452</td>\n      <td>30.011749</td>\n      <td>178.196762</td>\n      <td>47.655743</td>\n      <td>-431.064392</td>\n      <td>12.052597</td>\n      <td>-241.219849</td>\n      <td>56</td>\n      <td>...</td>\n      <td>False</td>\n      <td>Not meaningful</td>\n      <td>110</td>\n      <td>184</td>\n      <td>56_Sa</td>\n      <td>0 days 00:00:06.110213888</td>\n      <td>6.110214</td>\n      <td>False</td>\n      <td>2021-12-22 15:35:45.264132864</td>\n      <td>2021-12-22 15:35:51.374346752</td>\n    </tr>\n  </tbody>\n</table>\n<p>3024 rows × 28 columns</p>\n</div>"
     },
     "execution_count": 8,
     "metadata": {},
     "output_type": "execute_result"
    }
   ],
   "source": [
    "dataset"
   ],
   "metadata": {
    "collapsed": false,
    "pycharm": {
     "name": "#%%\n"
    }
   }
  },
  {
   "cell_type": "code",
   "execution_count": 9,
   "outputs": [
    {
     "data": {
      "text/plain": "         SubjectID  ParticipantPosition_x  ParticipantPosition_z  \\\ncount  3024.000000            3024.000000            3024.000000   \nmean   5949.222222              -2.380455              14.179977   \nstd    2679.017027             174.526182             137.780203   \nmin     365.000000            -326.886047            -191.062988   \n25%    4176.000000            -121.389214            -131.491875   \n50%    6642.000000             -15.471565              33.366211   \n75%    7842.000000             123.511269             135.194962   \nmax    9472.000000             366.834778             235.882217   \n\n       PointerPosition_x  PointerPosition_z        Angle  \\\ncount        3024.000000        3024.000000  3024.000000   \nmean           -2.105650          14.240982    49.312632   \nstd           174.422929         137.616658    43.940893   \nmin          -327.157532        -191.119629     0.000000   \n25%          -114.630356        -128.914780    13.787071   \n50%             1.953339          33.455299    36.979969   \n75%           137.915379         135.195560    72.340826   \nmax           366.869934         235.829254   179.972031   \n\n       BuildingPositionLocal_x  BuildingPositionLocal_y  \\\ncount              3024.000000              3024.000000   \nmean                 -0.507066                -0.480803   \nstd                 201.542360                 3.702814   \nmin                -431.064392                -6.542114   \n25%                -153.392502                -2.357716   \n50%                  -3.306354                -1.083273   \n75%                 151.605972                 0.727402   \nmax                 401.828735                18.361389   \n\n       BuildingPositionLocal_z  PointingTargetId  PointingTargetIndex  \\\ncount              3024.000000       3024.000000          3024.000000   \nmean                  3.461617         28.521495            55.543651   \nstd                 128.275646         16.143405            32.306260   \nmin                -256.052216          1.000000             0.000000   \n25%                 -91.287842         15.000000            28.000000   \n50%                  18.519926         29.000000            56.000000   \n75%                 100.204834         43.000000            84.000000   \nmax                 293.247559         56.000000           111.000000   \n\n       PointingTargetBuildingId     avatarID       Trials      TrialID  \\\ncount               3024.000000  3024.000000  3024.000000  3024.000000   \nmean                  29.076058    28.521495    55.543651   168.500000   \nstd                   16.729943    16.143405    32.306260    97.010457   \nmin                    1.000000     1.000000     0.000000     1.000000   \n25%                   14.000000    15.000000    28.000000    84.750000   \n50%                   29.000000    29.000000    56.000000   168.500000   \n75%                   43.000000    43.000000    84.000000   252.250000   \nmax                   59.000000    56.000000   111.000000   336.000000   \n\n                RT  \ncount  3024.000000  \nmean      7.694524  \nstd       5.776413  \nmin       0.955793  \n25%       3.419546  \n50%       5.872636  \n75%       9.962899  \nmax      30.010961  ",
      "text/html": "<div>\n<style scoped>\n    .dataframe tbody tr th:only-of-type {\n        vertical-align: middle;\n    }\n\n    .dataframe tbody tr th {\n        vertical-align: top;\n    }\n\n    .dataframe thead th {\n        text-align: right;\n    }\n</style>\n<table border=\"1\" class=\"dataframe\">\n  <thead>\n    <tr style=\"text-align: right;\">\n      <th></th>\n      <th>SubjectID</th>\n      <th>ParticipantPosition_x</th>\n      <th>ParticipantPosition_z</th>\n      <th>PointerPosition_x</th>\n      <th>PointerPosition_z</th>\n      <th>Angle</th>\n      <th>BuildingPositionLocal_x</th>\n      <th>BuildingPositionLocal_y</th>\n      <th>BuildingPositionLocal_z</th>\n      <th>PointingTargetId</th>\n      <th>PointingTargetIndex</th>\n      <th>PointingTargetBuildingId</th>\n      <th>avatarID</th>\n      <th>Trials</th>\n      <th>TrialID</th>\n      <th>RT</th>\n    </tr>\n  </thead>\n  <tbody>\n    <tr>\n      <th>count</th>\n      <td>3024.000000</td>\n      <td>3024.000000</td>\n      <td>3024.000000</td>\n      <td>3024.000000</td>\n      <td>3024.000000</td>\n      <td>3024.000000</td>\n      <td>3024.000000</td>\n      <td>3024.000000</td>\n      <td>3024.000000</td>\n      <td>3024.000000</td>\n      <td>3024.000000</td>\n      <td>3024.000000</td>\n      <td>3024.000000</td>\n      <td>3024.000000</td>\n      <td>3024.000000</td>\n      <td>3024.000000</td>\n    </tr>\n    <tr>\n      <th>mean</th>\n      <td>5949.222222</td>\n      <td>-2.380455</td>\n      <td>14.179977</td>\n      <td>-2.105650</td>\n      <td>14.240982</td>\n      <td>49.312632</td>\n      <td>-0.507066</td>\n      <td>-0.480803</td>\n      <td>3.461617</td>\n      <td>28.521495</td>\n      <td>55.543651</td>\n      <td>29.076058</td>\n      <td>28.521495</td>\n      <td>55.543651</td>\n      <td>168.500000</td>\n      <td>7.694524</td>\n    </tr>\n    <tr>\n      <th>std</th>\n      <td>2679.017027</td>\n      <td>174.526182</td>\n      <td>137.780203</td>\n      <td>174.422929</td>\n      <td>137.616658</td>\n      <td>43.940893</td>\n      <td>201.542360</td>\n      <td>3.702814</td>\n      <td>128.275646</td>\n      <td>16.143405</td>\n      <td>32.306260</td>\n      <td>16.729943</td>\n      <td>16.143405</td>\n      <td>32.306260</td>\n      <td>97.010457</td>\n      <td>5.776413</td>\n    </tr>\n    <tr>\n      <th>min</th>\n      <td>365.000000</td>\n      <td>-326.886047</td>\n      <td>-191.062988</td>\n      <td>-327.157532</td>\n      <td>-191.119629</td>\n      <td>0.000000</td>\n      <td>-431.064392</td>\n      <td>-6.542114</td>\n      <td>-256.052216</td>\n      <td>1.000000</td>\n      <td>0.000000</td>\n      <td>1.000000</td>\n      <td>1.000000</td>\n      <td>0.000000</td>\n      <td>1.000000</td>\n      <td>0.955793</td>\n    </tr>\n    <tr>\n      <th>25%</th>\n      <td>4176.000000</td>\n      <td>-121.389214</td>\n      <td>-131.491875</td>\n      <td>-114.630356</td>\n      <td>-128.914780</td>\n      <td>13.787071</td>\n      <td>-153.392502</td>\n      <td>-2.357716</td>\n      <td>-91.287842</td>\n      <td>15.000000</td>\n      <td>28.000000</td>\n      <td>14.000000</td>\n      <td>15.000000</td>\n      <td>28.000000</td>\n      <td>84.750000</td>\n      <td>3.419546</td>\n    </tr>\n    <tr>\n      <th>50%</th>\n      <td>6642.000000</td>\n      <td>-15.471565</td>\n      <td>33.366211</td>\n      <td>1.953339</td>\n      <td>33.455299</td>\n      <td>36.979969</td>\n      <td>-3.306354</td>\n      <td>-1.083273</td>\n      <td>18.519926</td>\n      <td>29.000000</td>\n      <td>56.000000</td>\n      <td>29.000000</td>\n      <td>29.000000</td>\n      <td>56.000000</td>\n      <td>168.500000</td>\n      <td>5.872636</td>\n    </tr>\n    <tr>\n      <th>75%</th>\n      <td>7842.000000</td>\n      <td>123.511269</td>\n      <td>135.194962</td>\n      <td>137.915379</td>\n      <td>135.195560</td>\n      <td>72.340826</td>\n      <td>151.605972</td>\n      <td>0.727402</td>\n      <td>100.204834</td>\n      <td>43.000000</td>\n      <td>84.000000</td>\n      <td>43.000000</td>\n      <td>43.000000</td>\n      <td>84.000000</td>\n      <td>252.250000</td>\n      <td>9.962899</td>\n    </tr>\n    <tr>\n      <th>max</th>\n      <td>9472.000000</td>\n      <td>366.834778</td>\n      <td>235.882217</td>\n      <td>366.869934</td>\n      <td>235.829254</td>\n      <td>179.972031</td>\n      <td>401.828735</td>\n      <td>18.361389</td>\n      <td>293.247559</td>\n      <td>56.000000</td>\n      <td>111.000000</td>\n      <td>59.000000</td>\n      <td>56.000000</td>\n      <td>111.000000</td>\n      <td>336.000000</td>\n      <td>30.010961</td>\n    </tr>\n  </tbody>\n</table>\n</div>"
     },
     "execution_count": 9,
     "metadata": {},
     "output_type": "execute_result"
    }
   ],
   "source": [
    "dataset.describe()"
   ],
   "metadata": {
    "collapsed": false,
    "pycharm": {
     "name": "#%%\n"
    }
   }
  },
  {
   "cell_type": "code",
   "execution_count": 29,
   "outputs": [
    {
     "data": {
      "text/plain": "   Unnamed: 0  BuildingID            BuildingName  BuildingCenterWorld.x  \\\n0           0          16  Church-TaskBuilding_16             277.208374   \n1           1          31         TaskBuilding_31               6.088593   \n2           2          35         TaskBuilding_35             -72.578285   \n3           3           7          TaskBuilding_7            -192.461411   \n4           4          36         TaskBuilding_36             -51.411949   \n\n   BuildingCenterWorld.y  BuildingCenterWorld.z  BuildingPositionGlobal.x  \\\n0              19.870621             -91.080727                280.644775   \n1               5.046637              -0.542253                  5.910362   \n2               6.850483              53.288437                -72.798836   \n3               6.050417            -174.973267               -192.461411   \n4               4.593466            -142.603455                -52.689445   \n\n   BuildingPositionGlobal.y  BuildingPositionGlobal.z  \\\n0                 -2.905334                -91.287842   \n1                 -0.844291                 -0.364021   \n2                  0.727402                 53.811722   \n3                 -0.946640               -173.510040   \n4                 -3.524445               -144.380814   \n\n   BuildingPositionLocal.x  ...  BuildingLocalScale.z  \\\n0               280.644775  ...                   1.0   \n1                 5.910362  ...                   1.0   \n2               -72.798836  ...                   1.0   \n3              -192.461411  ...                   1.0   \n4               -52.689445  ...                   1.0   \n\n   BuildingForwardDirection.x  BuildingForwardDirection.y  \\\n0               -3.576279e-07               -1.000000e+00   \n1                5.120487e-01               -3.606156e-07   \n2                3.965120e-01               -4.116096e-07   \n3                4.611581e-01                1.051915e-07   \n4               -6.533048e-01               -2.793398e-07   \n\n   BuildingForwardDirection.z  BuildingUpDirection.x  BuildingUpDirection.y  \\\n0               -2.980232e-07          -5.596234e-01          -5.215406e-08   \n1               -8.589562e-01           1.524359e-07           1.000000e+00   \n2               -9.180295e-01           9.906053e-08           1.000000e+00   \n3                8.873180e-01           1.513008e-08           1.000000e+00   \n4               -7.570951e-01          -1.038612e-07           1.000000e+00   \n\n   BuildingUpDirection.z  BuildingRightDirection.x  BuildingRightDirection.y  \\\n0           8.287471e-01                  0.828747             -4.172325e-07   \n1          -3.289585e-07                 -0.858956             -3.750693e-08   \n2          -4.055762e-07                 -0.918030             -6.987533e-08   \n3          -1.264134e-07                  0.887318             -7.172174e-08   \n4          -2.793398e-07                 -0.757095              1.038612e-07   \n\n   BuildingRightDirection.z  \n0                  0.559623  \n1                 -0.512049  \n2                 -0.396512  \n3                 -0.461158  \n4                  0.653305  \n\n[5 rows x 41 columns]",
      "text/html": "<div>\n<style scoped>\n    .dataframe tbody tr th:only-of-type {\n        vertical-align: middle;\n    }\n\n    .dataframe tbody tr th {\n        vertical-align: top;\n    }\n\n    .dataframe thead th {\n        text-align: right;\n    }\n</style>\n<table border=\"1\" class=\"dataframe\">\n  <thead>\n    <tr style=\"text-align: right;\">\n      <th></th>\n      <th>Unnamed: 0</th>\n      <th>BuildingID</th>\n      <th>BuildingName</th>\n      <th>BuildingCenterWorld.x</th>\n      <th>BuildingCenterWorld.y</th>\n      <th>BuildingCenterWorld.z</th>\n      <th>BuildingPositionGlobal.x</th>\n      <th>BuildingPositionGlobal.y</th>\n      <th>BuildingPositionGlobal.z</th>\n      <th>BuildingPositionLocal.x</th>\n      <th>...</th>\n      <th>BuildingLocalScale.z</th>\n      <th>BuildingForwardDirection.x</th>\n      <th>BuildingForwardDirection.y</th>\n      <th>BuildingForwardDirection.z</th>\n      <th>BuildingUpDirection.x</th>\n      <th>BuildingUpDirection.y</th>\n      <th>BuildingUpDirection.z</th>\n      <th>BuildingRightDirection.x</th>\n      <th>BuildingRightDirection.y</th>\n      <th>BuildingRightDirection.z</th>\n    </tr>\n  </thead>\n  <tbody>\n    <tr>\n      <th>0</th>\n      <td>0</td>\n      <td>16</td>\n      <td>Church-TaskBuilding_16</td>\n      <td>277.208374</td>\n      <td>19.870621</td>\n      <td>-91.080727</td>\n      <td>280.644775</td>\n      <td>-2.905334</td>\n      <td>-91.287842</td>\n      <td>280.644775</td>\n      <td>...</td>\n      <td>1.0</td>\n      <td>-3.576279e-07</td>\n      <td>-1.000000e+00</td>\n      <td>-2.980232e-07</td>\n      <td>-5.596234e-01</td>\n      <td>-5.215406e-08</td>\n      <td>8.287471e-01</td>\n      <td>0.828747</td>\n      <td>-4.172325e-07</td>\n      <td>0.559623</td>\n    </tr>\n    <tr>\n      <th>1</th>\n      <td>1</td>\n      <td>31</td>\n      <td>TaskBuilding_31</td>\n      <td>6.088593</td>\n      <td>5.046637</td>\n      <td>-0.542253</td>\n      <td>5.910362</td>\n      <td>-0.844291</td>\n      <td>-0.364021</td>\n      <td>5.910362</td>\n      <td>...</td>\n      <td>1.0</td>\n      <td>5.120487e-01</td>\n      <td>-3.606156e-07</td>\n      <td>-8.589562e-01</td>\n      <td>1.524359e-07</td>\n      <td>1.000000e+00</td>\n      <td>-3.289585e-07</td>\n      <td>-0.858956</td>\n      <td>-3.750693e-08</td>\n      <td>-0.512049</td>\n    </tr>\n    <tr>\n      <th>2</th>\n      <td>2</td>\n      <td>35</td>\n      <td>TaskBuilding_35</td>\n      <td>-72.578285</td>\n      <td>6.850483</td>\n      <td>53.288437</td>\n      <td>-72.798836</td>\n      <td>0.727402</td>\n      <td>53.811722</td>\n      <td>-72.798836</td>\n      <td>...</td>\n      <td>1.0</td>\n      <td>3.965120e-01</td>\n      <td>-4.116096e-07</td>\n      <td>-9.180295e-01</td>\n      <td>9.906053e-08</td>\n      <td>1.000000e+00</td>\n      <td>-4.055762e-07</td>\n      <td>-0.918030</td>\n      <td>-6.987533e-08</td>\n      <td>-0.396512</td>\n    </tr>\n    <tr>\n      <th>3</th>\n      <td>3</td>\n      <td>7</td>\n      <td>TaskBuilding_7</td>\n      <td>-192.461411</td>\n      <td>6.050417</td>\n      <td>-174.973267</td>\n      <td>-192.461411</td>\n      <td>-0.946640</td>\n      <td>-173.510040</td>\n      <td>-192.461411</td>\n      <td>...</td>\n      <td>1.0</td>\n      <td>4.611581e-01</td>\n      <td>1.051915e-07</td>\n      <td>8.873180e-01</td>\n      <td>1.513008e-08</td>\n      <td>1.000000e+00</td>\n      <td>-1.264134e-07</td>\n      <td>0.887318</td>\n      <td>-7.172174e-08</td>\n      <td>-0.461158</td>\n    </tr>\n    <tr>\n      <th>4</th>\n      <td>4</td>\n      <td>36</td>\n      <td>TaskBuilding_36</td>\n      <td>-51.411949</td>\n      <td>4.593466</td>\n      <td>-142.603455</td>\n      <td>-52.689445</td>\n      <td>-3.524445</td>\n      <td>-144.380814</td>\n      <td>-52.689445</td>\n      <td>...</td>\n      <td>1.0</td>\n      <td>-6.533048e-01</td>\n      <td>-2.793398e-07</td>\n      <td>-7.570951e-01</td>\n      <td>-1.038612e-07</td>\n      <td>1.000000e+00</td>\n      <td>-2.793398e-07</td>\n      <td>-0.757095</td>\n      <td>1.038612e-07</td>\n      <td>0.653305</td>\n    </tr>\n  </tbody>\n</table>\n<p>5 rows × 41 columns</p>\n</div>"
     },
     "execution_count": 29,
     "metadata": {},
     "output_type": "execute_result"
    }
   ],
   "source": [
    "all_buildings = pd.read_csv(f'{FILE_PATH}/02_all_buildings_list.csv')\n",
    "all_buildings.head()"
   ],
   "metadata": {
    "collapsed": false,
    "pycharm": {
     "name": "#%%\n"
    }
   }
  }
 ],
 "metadata": {
  "kernelspec": {
   "display_name": "Python 3",
   "language": "python",
   "name": "python3"
  },
  "language_info": {
   "codemirror_mode": {
    "name": "ipython",
    "version": 2
   },
   "file_extension": ".py",
   "mimetype": "text/x-python",
   "name": "python",
   "nbconvert_exporter": "python",
   "pygments_lexer": "ipython2",
   "version": "2.7.6"
  }
 },
 "nbformat": 4,
 "nbformat_minor": 0
}