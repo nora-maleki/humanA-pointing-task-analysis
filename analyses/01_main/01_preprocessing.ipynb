{
 "cells": [
  {
   "cell_type": "markdown",
   "source": [
    "# Preprocessing HumanA\n",
    "author: Nora Maleki (noora.maleki@gmail.com)\n",
    "April 2022"
   ],
   "metadata": {
    "collapsed": false
   }
  },
  {
   "cell_type": "markdown",
   "source": [
    "## Import libraries"
   ],
   "metadata": {
    "collapsed": false
   }
  },
  {
   "cell_type": "code",
   "execution_count": 1364,
   "outputs": [],
   "source": [
    "import math\n",
    "\n",
    "import numpy as np\n",
    "import pandas as pd\n",
    "import matplotlib.pyplot as plt\n",
    "import seaborn as sns\n",
    "import os"
   ],
   "metadata": {
    "collapsed": false,
    "pycharm": {
     "name": "#%%\n"
    }
   }
  },
  {
   "cell_type": "code",
   "execution_count": 1365,
   "outputs": [],
   "source": [
    "colorblind_palette = ['#5ab4ac', '#b2182b', '#2d004b', '#8c510a','#4575b4','#8073ac']\n",
    "sns.set_theme(font_scale=1, palette=colorblind_palette, style='darkgrid')"
   ],
   "metadata": {
    "collapsed": false,
    "pycharm": {
     "name": "#%%\n"
    }
   }
  },
  {
   "cell_type": "markdown",
   "source": [
    "## Load datasets"
   ],
   "metadata": {
    "collapsed": false
   }
  },
  {
   "cell_type": "code",
   "execution_count": 1366,
   "outputs": [],
   "source": [
    "FILE_PATH = r'../../data/01_main'\n",
    "PLOT_PATH = f'{FILE_PATH}/plots/'\n",
    "\n",
    "os.makedirs(os.path.dirname(PLOT_PATH), exist_ok=True)"
   ],
   "metadata": {
    "collapsed": false,
    "pycharm": {
     "name": "#%%\n"
    }
   }
  },
  {
   "cell_type": "code",
   "execution_count": 1367,
   "metadata": {
    "collapsed": true,
    "pycharm": {
     "name": "#%%\n"
    }
   },
   "outputs": [
    {
     "name": "stdout",
     "output_type": "stream",
     "text": [
      "Done!\n"
     ]
    }
   ],
   "source": [
    "dataset = pd.read_csv(f'{FILE_PATH}/01_coordinates_integrated.csv', index_col=[0])\n",
    "all_buildings = pd.read_csv(f'{FILE_PATH}/02_all_buildings_list.csv', index_col=[0])\n",
    "avatar_info = pd.read_csv(f'{FILE_PATH}/03_avatar_info_list.csv', index_col=[0])\n",
    "starting_locations = pd.read_csv(f'{FILE_PATH}/05_starting_locations_info.csv', index_col=0)\n",
    "print('Done!')"
   ]
  },
  {
   "cell_type": "markdown",
   "source": [
    "### Glimpse at the data"
   ],
   "metadata": {
    "collapsed": false
   }
  },
  {
   "cell_type": "code",
   "execution_count": 1368,
   "outputs": [
    {
     "data": {
      "text/plain": "   SubjectID  ParticipantPosition_x  ParticipantPosition_z  PointerPosition_x  \\\n0        365             -33.362625            -190.912018         -33.590775   \n1        365             118.412003             -62.941864         118.647705   \n2        365             257.929993             -33.097687         257.598694   \n3        365            -242.933212              39.037964        -242.879013   \n4        365            -320.974487              77.197166        -320.853760   \n\n   PointerPosition_z  PointerDirection_x  PointerDirection_y  \\\n0        -190.709625           -0.729280            0.062026   \n1         -63.044891            0.943334            0.213414   \n2         -32.840240           -0.831603            0.212654   \n3          38.953239            0.985110            0.081270   \n4          77.009575            0.907607            0.056222   \n\n   PointerDirection_z      Angle  BuildingPositionLocal_x  ...  \\\n0            0.681399  87.005028               255.062286  ...   \n1            0.254118  44.100197               255.062286  ...   \n2            0.513045  47.522392               255.062286  ...   \n3            0.151506   1.100918               255.062286  ...   \n4           -0.416039  29.176662               255.062286  ...   \n\n                              vector_PartPos  \\\n0  (-33.36262512207031, -190.91201782226562)   \n1  (118.41200256347656, -62.941864013671875)   \n2  (257.92999267578125, -33.097686767578125)   \n3    (-242.93321228027344, 39.0379638671875)   \n4     (-320.9744873046875, 77.1971664428711)   \n\n                         vector_BuildingPos  \\\n0  (255.06228637695312, -1.663042545318603)   \n1  (255.06228637695312, -1.663042545318603)   \n2  (255.06228637695312, -1.663042545318603)   \n3  (255.06228637695312, -1.663042545318603)   \n4  (255.06228637695312, -1.663042545318603)   \n\n                           vector_PointerPos  \\\n0  (-33.59077453613281, -190.70962524414062)   \n1    (118.647705078125, -63.044891357421875)   \n2  (257.59869384765625, -32.840240478515625)   \n3   (-242.87901306152344, 38.95323944091797)   \n4     (-320.853759765625, 77.00957489013672)   \n\n                Vector_Participant-Building  \\\n0  (288.42491149902344, 189.24897527694702)   \n1   (136.65028381347656, 61.27882146835327)   \n2   (-2.867706298828125, 31.43464422225952)   \n3   (497.99549865722656, -40.7010064125061)   \n4    (576.0367736816406, -78.8602089881897)   \n\n              Vector_Participant-Pointer  Dot_Pointer-Building-Participant  \\\n0     (-0.2281494140625, 0.202392578125)                        -27.501387   \n1   (0.2357025146484375, -0.10302734375)                         25.895421   \n2     (-0.331298828125, 0.2574462890625)                          9.042800   \n3  (0.05419921875, -0.08472442626953125)                         30.439336   \n4  (0.1207275390625, -0.187591552734375)                         84.337011   \n\n   Magnitud_Participant-Pointer Magnitud_Participant-Building   radians  \\\n0                      0.304983                    344.969715  1.835264   \n1                      0.257236                    149.761123  0.833633   \n2                      0.419568                     31.565180  0.819211   \n3                      0.100577                    499.655970  0.920139   \n4                      0.223082                    581.409750  0.862902   \n\n      degrees  \n0  105.152855  \n1   47.763652  \n2   46.937344  \n3   52.720091  \n4   49.440636  \n\n[5 rows x 45 columns]",
      "text/html": "<div>\n<style scoped>\n    .dataframe tbody tr th:only-of-type {\n        vertical-align: middle;\n    }\n\n    .dataframe tbody tr th {\n        vertical-align: top;\n    }\n\n    .dataframe thead th {\n        text-align: right;\n    }\n</style>\n<table border=\"1\" class=\"dataframe\">\n  <thead>\n    <tr style=\"text-align: right;\">\n      <th></th>\n      <th>SubjectID</th>\n      <th>ParticipantPosition_x</th>\n      <th>ParticipantPosition_z</th>\n      <th>PointerPosition_x</th>\n      <th>PointerPosition_z</th>\n      <th>PointerDirection_x</th>\n      <th>PointerDirection_y</th>\n      <th>PointerDirection_z</th>\n      <th>Angle</th>\n      <th>BuildingPositionLocal_x</th>\n      <th>...</th>\n      <th>vector_PartPos</th>\n      <th>vector_BuildingPos</th>\n      <th>vector_PointerPos</th>\n      <th>Vector_Participant-Building</th>\n      <th>Vector_Participant-Pointer</th>\n      <th>Dot_Pointer-Building-Participant</th>\n      <th>Magnitud_Participant-Pointer</th>\n      <th>Magnitud_Participant-Building</th>\n      <th>radians</th>\n      <th>degrees</th>\n    </tr>\n  </thead>\n  <tbody>\n    <tr>\n      <th>0</th>\n      <td>365</td>\n      <td>-33.362625</td>\n      <td>-190.912018</td>\n      <td>-33.590775</td>\n      <td>-190.709625</td>\n      <td>-0.729280</td>\n      <td>0.062026</td>\n      <td>0.681399</td>\n      <td>87.005028</td>\n      <td>255.062286</td>\n      <td>...</td>\n      <td>(-33.36262512207031, -190.91201782226562)</td>\n      <td>(255.06228637695312, -1.663042545318603)</td>\n      <td>(-33.59077453613281, -190.70962524414062)</td>\n      <td>(288.42491149902344, 189.24897527694702)</td>\n      <td>(-0.2281494140625, 0.202392578125)</td>\n      <td>-27.501387</td>\n      <td>0.304983</td>\n      <td>344.969715</td>\n      <td>1.835264</td>\n      <td>105.152855</td>\n    </tr>\n    <tr>\n      <th>1</th>\n      <td>365</td>\n      <td>118.412003</td>\n      <td>-62.941864</td>\n      <td>118.647705</td>\n      <td>-63.044891</td>\n      <td>0.943334</td>\n      <td>0.213414</td>\n      <td>0.254118</td>\n      <td>44.100197</td>\n      <td>255.062286</td>\n      <td>...</td>\n      <td>(118.41200256347656, -62.941864013671875)</td>\n      <td>(255.06228637695312, -1.663042545318603)</td>\n      <td>(118.647705078125, -63.044891357421875)</td>\n      <td>(136.65028381347656, 61.27882146835327)</td>\n      <td>(0.2357025146484375, -0.10302734375)</td>\n      <td>25.895421</td>\n      <td>0.257236</td>\n      <td>149.761123</td>\n      <td>0.833633</td>\n      <td>47.763652</td>\n    </tr>\n    <tr>\n      <th>2</th>\n      <td>365</td>\n      <td>257.929993</td>\n      <td>-33.097687</td>\n      <td>257.598694</td>\n      <td>-32.840240</td>\n      <td>-0.831603</td>\n      <td>0.212654</td>\n      <td>0.513045</td>\n      <td>47.522392</td>\n      <td>255.062286</td>\n      <td>...</td>\n      <td>(257.92999267578125, -33.097686767578125)</td>\n      <td>(255.06228637695312, -1.663042545318603)</td>\n      <td>(257.59869384765625, -32.840240478515625)</td>\n      <td>(-2.867706298828125, 31.43464422225952)</td>\n      <td>(-0.331298828125, 0.2574462890625)</td>\n      <td>9.042800</td>\n      <td>0.419568</td>\n      <td>31.565180</td>\n      <td>0.819211</td>\n      <td>46.937344</td>\n    </tr>\n    <tr>\n      <th>3</th>\n      <td>365</td>\n      <td>-242.933212</td>\n      <td>39.037964</td>\n      <td>-242.879013</td>\n      <td>38.953239</td>\n      <td>0.985110</td>\n      <td>0.081270</td>\n      <td>0.151506</td>\n      <td>1.100918</td>\n      <td>255.062286</td>\n      <td>...</td>\n      <td>(-242.93321228027344, 39.0379638671875)</td>\n      <td>(255.06228637695312, -1.663042545318603)</td>\n      <td>(-242.87901306152344, 38.95323944091797)</td>\n      <td>(497.99549865722656, -40.7010064125061)</td>\n      <td>(0.05419921875, -0.08472442626953125)</td>\n      <td>30.439336</td>\n      <td>0.100577</td>\n      <td>499.655970</td>\n      <td>0.920139</td>\n      <td>52.720091</td>\n    </tr>\n    <tr>\n      <th>4</th>\n      <td>365</td>\n      <td>-320.974487</td>\n      <td>77.197166</td>\n      <td>-320.853760</td>\n      <td>77.009575</td>\n      <td>0.907607</td>\n      <td>0.056222</td>\n      <td>-0.416039</td>\n      <td>29.176662</td>\n      <td>255.062286</td>\n      <td>...</td>\n      <td>(-320.9744873046875, 77.1971664428711)</td>\n      <td>(255.06228637695312, -1.663042545318603)</td>\n      <td>(-320.853759765625, 77.00957489013672)</td>\n      <td>(576.0367736816406, -78.8602089881897)</td>\n      <td>(0.1207275390625, -0.187591552734375)</td>\n      <td>84.337011</td>\n      <td>0.223082</td>\n      <td>581.409750</td>\n      <td>0.862902</td>\n      <td>49.440636</td>\n    </tr>\n  </tbody>\n</table>\n<p>5 rows × 45 columns</p>\n</div>"
     },
     "execution_count": 1368,
     "metadata": {},
     "output_type": "execute_result"
    }
   ],
   "source": [
    "dataset.head()"
   ],
   "metadata": {
    "collapsed": false,
    "pycharm": {
     "name": "#%%\n"
    }
   }
  },
  {
   "cell_type": "code",
   "execution_count": 1369,
   "outputs": [
    {
     "name": "stdout",
     "output_type": "stream",
     "text": [
      "<class 'pandas.core.frame.DataFrame'>\n",
      "Int64Index: 3024 entries, 0 to 3023\n",
      "Data columns (total 45 columns):\n",
      " #   Column                            Non-Null Count  Dtype  \n",
      "---  ------                            --------------  -----  \n",
      " 0   SubjectID                         3024 non-null   int64  \n",
      " 1   ParticipantPosition_x             3024 non-null   float64\n",
      " 2   ParticipantPosition_z             3024 non-null   float64\n",
      " 3   PointerPosition_x                 3024 non-null   float64\n",
      " 4   PointerPosition_z                 3024 non-null   float64\n",
      " 5   PointerDirection_x                3024 non-null   float64\n",
      " 6   PointerDirection_y                3024 non-null   float64\n",
      " 7   PointerDirection_z                3024 non-null   float64\n",
      " 8   Angle                             3024 non-null   float64\n",
      " 9   BuildingPositionLocal_x           3024 non-null   float64\n",
      " 10  BuildingPositionLocal_y           3024 non-null   float64\n",
      " 11  SignedAngle-+180                  3024 non-null   float64\n",
      " 12  SignedAngle360                    3024 non-null   float64\n",
      " 13  BuildingPositionLocal_z           3024 non-null   float64\n",
      " 14  DistanceToParticipant             3024 non-null   float64\n",
      " 15  PointingTargetId                  3024 non-null   int64  \n",
      " 16  PointingTargetIndex               3024 non-null   int64  \n",
      " 17  PointingTargetName                3024 non-null   object \n",
      " 18  PointingTargetBuildingId          3024 non-null   int64  \n",
      " 19  PointingTargetCondition           3024 non-null   object \n",
      " 20  Context                           3024 non-null   bool   \n",
      " 21  Agent                             3024 non-null   bool   \n",
      " 22  avatarID                          3024 non-null   int64  \n",
      " 23  AvatarPresence                    3024 non-null   bool   \n",
      " 24  AvatarPresenceCategory            3024 non-null   object \n",
      " 25  meaningful                        3024 non-null   bool   \n",
      " 26  meaningfulBuilding                3024 non-null   object \n",
      " 27  Trials                            3024 non-null   int64  \n",
      " 28  TrialID                           3024 non-null   int64  \n",
      " 29  ImageName                         3024 non-null   object \n",
      " 30  TimeDelta                         3024 non-null   object \n",
      " 31  RT                                3024 non-null   float64\n",
      " 32  TimeOut                           3024 non-null   bool   \n",
      " 33  TimeStampBegin                    3024 non-null   object \n",
      " 34  TimeStampEnd                      3024 non-null   object \n",
      " 35  vector_PartPos                    3024 non-null   object \n",
      " 36  vector_BuildingPos                3024 non-null   object \n",
      " 37  vector_PointerPos                 3024 non-null   object \n",
      " 38  Vector_Participant-Building       3024 non-null   object \n",
      " 39  Vector_Participant-Pointer        3024 non-null   object \n",
      " 40  Dot_Pointer-Building-Participant  3024 non-null   float64\n",
      " 41  Magnitud_Participant-Pointer      3024 non-null   float64\n",
      " 42  Magnitud_Participant-Building     3024 non-null   float64\n",
      " 43  radians                           3024 non-null   float64\n",
      " 44  degrees                           3024 non-null   float64\n",
      "dtypes: bool(5), float64(20), int64(7), object(13)\n",
      "memory usage: 983.4+ KB\n"
     ]
    }
   ],
   "source": [
    "dataset.info(verbose=True, show_counts=True)"
   ],
   "metadata": {
    "collapsed": false,
    "pycharm": {
     "name": "#%%\n"
    }
   }
  },
  {
   "cell_type": "code",
   "execution_count": 1370,
   "outputs": [
    {
     "data": {
      "text/plain": "         SubjectID  ParticipantPosition_x  ParticipantPosition_z  \\\ncount  3024.000000            3024.000000            3024.000000   \nmean   5949.222222              -2.380455              14.179977   \nstd    2679.017027             174.526182             137.780203   \nmin     365.000000            -326.886047            -191.062988   \n25%    4176.000000            -121.389214            -131.491875   \n50%    6642.000000             -15.471565              33.366211   \n75%    7842.000000             123.511269             135.194962   \nmax    9472.000000             366.834778             235.882217   \n\n       PointerPosition_x  PointerPosition_z  PointerDirection_x  \\\ncount        3024.000000        3024.000000         3024.000000   \nmean           -2.105650          14.240982           -0.062420   \nstd           174.422929         137.616658            0.711618   \nmin          -327.157532        -191.119629           -0.999783   \n25%          -114.630356        -128.914780           -0.786176   \n50%             1.953339          33.455299           -0.127837   \n75%           137.915379         135.195560            0.630784   \nmax           366.869934         235.829254            0.999977   \n\n       PointerDirection_y  PointerDirection_z        Angle  \\\ncount         3024.000000         3024.000000  3024.000000   \nmean             0.049247           -0.019174    49.312632   \nstd              0.063007            0.694938    43.940893   \nmin             -0.107550           -0.999844     0.000000   \n25%              0.011022           -0.697728    13.787071   \n50%              0.031453           -0.036454    36.979969   \n75%              0.066026            0.674460    72.340826   \nmax              0.741587            0.999944   179.972031   \n\n       BuildingPositionLocal_x  ...  PointingTargetBuildingId     avatarID  \\\ncount              3024.000000  ...               3024.000000  3024.000000   \nmean                 -0.507066  ...                 29.076058    28.521495   \nstd                 201.542360  ...                 16.729943    16.143405   \nmin                -431.064392  ...                  1.000000     1.000000   \n25%                -153.392502  ...                 14.000000    15.000000   \n50%                  -3.306354  ...                 29.000000    29.000000   \n75%                 151.605972  ...                 43.000000    43.000000   \nmax                 401.828735  ...                 59.000000    56.000000   \n\n            Trials      TrialID           RT  \\\ncount  3024.000000  3024.000000  3024.000000   \nmean     55.543651   168.500000     7.694524   \nstd      32.306260    97.010457     5.776413   \nmin       0.000000     1.000000     0.955793   \n25%      28.000000    84.750000     3.419546   \n50%      56.000000   168.500000     5.872636   \n75%      84.000000   252.250000     9.962899   \nmax     111.000000   336.000000    30.010961   \n\n       Dot_Pointer-Building-Participant  Magnitud_Participant-Pointer  \\\ncount                       3024.000000                   3024.000000   \nmean                         211.732028                      0.654070   \nstd                         8369.270787                     13.277142   \nmin                         -339.516977                      0.082994   \n25%                           -3.540310                      0.274503   \n50%                           39.073825                      0.327167   \n75%                           76.360604                      0.394744   \nmax                       453402.151930                    688.357250   \n\n       Magnitud_Participant-Building      radians      degrees  \ncount                    3024.000000  3024.000000  3024.000000  \nmean                      268.227781     1.084565    62.141000  \nstd                       133.901451     0.825415    47.292774  \nmin                        15.586697     0.000718     0.041118  \n25%                       173.853627     0.410019    23.492378  \n50%                       243.993779     0.887194    50.832459  \n75%                       351.346622     1.629042    93.337221  \nmax                       728.521287     3.138685   179.833419  \n\n[8 rows x 27 columns]",
      "text/html": "<div>\n<style scoped>\n    .dataframe tbody tr th:only-of-type {\n        vertical-align: middle;\n    }\n\n    .dataframe tbody tr th {\n        vertical-align: top;\n    }\n\n    .dataframe thead th {\n        text-align: right;\n    }\n</style>\n<table border=\"1\" class=\"dataframe\">\n  <thead>\n    <tr style=\"text-align: right;\">\n      <th></th>\n      <th>SubjectID</th>\n      <th>ParticipantPosition_x</th>\n      <th>ParticipantPosition_z</th>\n      <th>PointerPosition_x</th>\n      <th>PointerPosition_z</th>\n      <th>PointerDirection_x</th>\n      <th>PointerDirection_y</th>\n      <th>PointerDirection_z</th>\n      <th>Angle</th>\n      <th>BuildingPositionLocal_x</th>\n      <th>...</th>\n      <th>PointingTargetBuildingId</th>\n      <th>avatarID</th>\n      <th>Trials</th>\n      <th>TrialID</th>\n      <th>RT</th>\n      <th>Dot_Pointer-Building-Participant</th>\n      <th>Magnitud_Participant-Pointer</th>\n      <th>Magnitud_Participant-Building</th>\n      <th>radians</th>\n      <th>degrees</th>\n    </tr>\n  </thead>\n  <tbody>\n    <tr>\n      <th>count</th>\n      <td>3024.000000</td>\n      <td>3024.000000</td>\n      <td>3024.000000</td>\n      <td>3024.000000</td>\n      <td>3024.000000</td>\n      <td>3024.000000</td>\n      <td>3024.000000</td>\n      <td>3024.000000</td>\n      <td>3024.000000</td>\n      <td>3024.000000</td>\n      <td>...</td>\n      <td>3024.000000</td>\n      <td>3024.000000</td>\n      <td>3024.000000</td>\n      <td>3024.000000</td>\n      <td>3024.000000</td>\n      <td>3024.000000</td>\n      <td>3024.000000</td>\n      <td>3024.000000</td>\n      <td>3024.000000</td>\n      <td>3024.000000</td>\n    </tr>\n    <tr>\n      <th>mean</th>\n      <td>5949.222222</td>\n      <td>-2.380455</td>\n      <td>14.179977</td>\n      <td>-2.105650</td>\n      <td>14.240982</td>\n      <td>-0.062420</td>\n      <td>0.049247</td>\n      <td>-0.019174</td>\n      <td>49.312632</td>\n      <td>-0.507066</td>\n      <td>...</td>\n      <td>29.076058</td>\n      <td>28.521495</td>\n      <td>55.543651</td>\n      <td>168.500000</td>\n      <td>7.694524</td>\n      <td>211.732028</td>\n      <td>0.654070</td>\n      <td>268.227781</td>\n      <td>1.084565</td>\n      <td>62.141000</td>\n    </tr>\n    <tr>\n      <th>std</th>\n      <td>2679.017027</td>\n      <td>174.526182</td>\n      <td>137.780203</td>\n      <td>174.422929</td>\n      <td>137.616658</td>\n      <td>0.711618</td>\n      <td>0.063007</td>\n      <td>0.694938</td>\n      <td>43.940893</td>\n      <td>201.542360</td>\n      <td>...</td>\n      <td>16.729943</td>\n      <td>16.143405</td>\n      <td>32.306260</td>\n      <td>97.010457</td>\n      <td>5.776413</td>\n      <td>8369.270787</td>\n      <td>13.277142</td>\n      <td>133.901451</td>\n      <td>0.825415</td>\n      <td>47.292774</td>\n    </tr>\n    <tr>\n      <th>min</th>\n      <td>365.000000</td>\n      <td>-326.886047</td>\n      <td>-191.062988</td>\n      <td>-327.157532</td>\n      <td>-191.119629</td>\n      <td>-0.999783</td>\n      <td>-0.107550</td>\n      <td>-0.999844</td>\n      <td>0.000000</td>\n      <td>-431.064392</td>\n      <td>...</td>\n      <td>1.000000</td>\n      <td>1.000000</td>\n      <td>0.000000</td>\n      <td>1.000000</td>\n      <td>0.955793</td>\n      <td>-339.516977</td>\n      <td>0.082994</td>\n      <td>15.586697</td>\n      <td>0.000718</td>\n      <td>0.041118</td>\n    </tr>\n    <tr>\n      <th>25%</th>\n      <td>4176.000000</td>\n      <td>-121.389214</td>\n      <td>-131.491875</td>\n      <td>-114.630356</td>\n      <td>-128.914780</td>\n      <td>-0.786176</td>\n      <td>0.011022</td>\n      <td>-0.697728</td>\n      <td>13.787071</td>\n      <td>-153.392502</td>\n      <td>...</td>\n      <td>14.000000</td>\n      <td>15.000000</td>\n      <td>28.000000</td>\n      <td>84.750000</td>\n      <td>3.419546</td>\n      <td>-3.540310</td>\n      <td>0.274503</td>\n      <td>173.853627</td>\n      <td>0.410019</td>\n      <td>23.492378</td>\n    </tr>\n    <tr>\n      <th>50%</th>\n      <td>6642.000000</td>\n      <td>-15.471565</td>\n      <td>33.366211</td>\n      <td>1.953339</td>\n      <td>33.455299</td>\n      <td>-0.127837</td>\n      <td>0.031453</td>\n      <td>-0.036454</td>\n      <td>36.979969</td>\n      <td>-3.306354</td>\n      <td>...</td>\n      <td>29.000000</td>\n      <td>29.000000</td>\n      <td>56.000000</td>\n      <td>168.500000</td>\n      <td>5.872636</td>\n      <td>39.073825</td>\n      <td>0.327167</td>\n      <td>243.993779</td>\n      <td>0.887194</td>\n      <td>50.832459</td>\n    </tr>\n    <tr>\n      <th>75%</th>\n      <td>7842.000000</td>\n      <td>123.511269</td>\n      <td>135.194962</td>\n      <td>137.915379</td>\n      <td>135.195560</td>\n      <td>0.630784</td>\n      <td>0.066026</td>\n      <td>0.674460</td>\n      <td>72.340826</td>\n      <td>151.605972</td>\n      <td>...</td>\n      <td>43.000000</td>\n      <td>43.000000</td>\n      <td>84.000000</td>\n      <td>252.250000</td>\n      <td>9.962899</td>\n      <td>76.360604</td>\n      <td>0.394744</td>\n      <td>351.346622</td>\n      <td>1.629042</td>\n      <td>93.337221</td>\n    </tr>\n    <tr>\n      <th>max</th>\n      <td>9472.000000</td>\n      <td>366.834778</td>\n      <td>235.882217</td>\n      <td>366.869934</td>\n      <td>235.829254</td>\n      <td>0.999977</td>\n      <td>0.741587</td>\n      <td>0.999944</td>\n      <td>179.972031</td>\n      <td>401.828735</td>\n      <td>...</td>\n      <td>59.000000</td>\n      <td>56.000000</td>\n      <td>111.000000</td>\n      <td>336.000000</td>\n      <td>30.010961</td>\n      <td>453402.151930</td>\n      <td>688.357250</td>\n      <td>728.521287</td>\n      <td>3.138685</td>\n      <td>179.833419</td>\n    </tr>\n  </tbody>\n</table>\n<p>8 rows × 27 columns</p>\n</div>"
     },
     "execution_count": 1370,
     "metadata": {},
     "output_type": "execute_result"
    }
   ],
   "source": [
    "dataset.describe()"
   ],
   "metadata": {
    "collapsed": false,
    "pycharm": {
     "name": "#%%\n"
    }
   }
  },
  {
   "cell_type": "code",
   "execution_count": 1371,
   "outputs": [
    {
     "data": {
      "text/plain": "   BuildingID        BuildingName  BuildingCenterWorld.x  \\\n0          59            Crane_59            -318.127991   \n1          58  BasketballCourt_58             104.339996   \n2          57     Construction_57             -71.695419   \n3          48     TaskBuilding_48            -195.637009   \n4          52     TaskBuilding_52            -247.185669   \n\n   BuildingCenterWorld.y  BuildingCenterWorld.z  BuildingPositionGlobal.x  \\\n0              26.896717            -167.823914               -313.499451   \n1              -0.440584             -45.689999                104.339996   \n2               0.739893             -26.238297                -71.803406   \n3               7.350957            -130.434052               -195.637512   \n4               4.570368              54.489395               -247.203369   \n\n   BuildingPositionGlobal.y  BuildingPositionGlobal.z  \\\n0                  1.614944               -150.514664   \n1                 -3.070000                -45.689999   \n2                  0.551138                -26.717417   \n3                 -0.000015               -130.434052   \n4                  2.410477                 54.642479   \n\n   BuildingPositionLocal.x  BuildingPositionLocal.y  ...  \\\n0              -313.499451                 1.614944  ...   \n1               104.339996                -3.070000  ...   \n2                -0.028043                 0.005596  ...   \n3              -195.637512               130.434067  ...   \n4              -247.203369               -54.642483  ...   \n\n   BuildingLocalScale.z  BuildingForwardDirection.x  \\\n0               1.20745                2.423655e-01   \n1               1.00000               -6.614817e-01   \n2               1.00000                1.490116e-07   \n3               1.00000                0.000000e+00   \n4               1.00000                1.147317e-01   \n\n   BuildingForwardDirection.y  BuildingForwardDirection.z  \\\n0               -7.277503e-09                9.701850e-01   \n1                0.000000e+00                7.499613e-01   \n2                1.000000e+00               -1.639128e-07   \n3                0.000000e+00                1.000000e+00   \n4               -4.165431e-07               -9.933965e-01   \n\n   BuildingUpDirection.x  BuildingUpDirection.y  BuildingUpDirection.z  \\\n0           5.915870e-08           1.000000e+00          -7.277503e-09   \n1           0.000000e+00           1.000000e+00           0.000000e+00   \n2           7.768201e-01          -2.384186e-07          -6.297227e-01   \n3           0.000000e+00           1.000000e+00           0.000000e+00   \n4           2.397451e-08           1.000000e+00          -4.165431e-07   \n\n   BuildingRightDirection.x  BuildingRightDirection.y  \\\n0                  0.970185             -5.915870e-08   \n1                  0.749961              0.000000e+00   \n2                  0.629723              0.000000e+00   \n3                  1.000000              0.000000e+00   \n4                 -0.993397             -2.397451e-08   \n\n   BuildingRightDirection.z  \n0                 -0.242366  \n1                  0.661482  \n2                  0.776820  \n3                  0.000000  \n4                 -0.114732  \n\n[5 rows x 40 columns]",
      "text/html": "<div>\n<style scoped>\n    .dataframe tbody tr th:only-of-type {\n        vertical-align: middle;\n    }\n\n    .dataframe tbody tr th {\n        vertical-align: top;\n    }\n\n    .dataframe thead th {\n        text-align: right;\n    }\n</style>\n<table border=\"1\" class=\"dataframe\">\n  <thead>\n    <tr style=\"text-align: right;\">\n      <th></th>\n      <th>BuildingID</th>\n      <th>BuildingName</th>\n      <th>BuildingCenterWorld.x</th>\n      <th>BuildingCenterWorld.y</th>\n      <th>BuildingCenterWorld.z</th>\n      <th>BuildingPositionGlobal.x</th>\n      <th>BuildingPositionGlobal.y</th>\n      <th>BuildingPositionGlobal.z</th>\n      <th>BuildingPositionLocal.x</th>\n      <th>BuildingPositionLocal.y</th>\n      <th>...</th>\n      <th>BuildingLocalScale.z</th>\n      <th>BuildingForwardDirection.x</th>\n      <th>BuildingForwardDirection.y</th>\n      <th>BuildingForwardDirection.z</th>\n      <th>BuildingUpDirection.x</th>\n      <th>BuildingUpDirection.y</th>\n      <th>BuildingUpDirection.z</th>\n      <th>BuildingRightDirection.x</th>\n      <th>BuildingRightDirection.y</th>\n      <th>BuildingRightDirection.z</th>\n    </tr>\n  </thead>\n  <tbody>\n    <tr>\n      <th>0</th>\n      <td>59</td>\n      <td>Crane_59</td>\n      <td>-318.127991</td>\n      <td>26.896717</td>\n      <td>-167.823914</td>\n      <td>-313.499451</td>\n      <td>1.614944</td>\n      <td>-150.514664</td>\n      <td>-313.499451</td>\n      <td>1.614944</td>\n      <td>...</td>\n      <td>1.20745</td>\n      <td>2.423655e-01</td>\n      <td>-7.277503e-09</td>\n      <td>9.701850e-01</td>\n      <td>5.915870e-08</td>\n      <td>1.000000e+00</td>\n      <td>-7.277503e-09</td>\n      <td>0.970185</td>\n      <td>-5.915870e-08</td>\n      <td>-0.242366</td>\n    </tr>\n    <tr>\n      <th>1</th>\n      <td>58</td>\n      <td>BasketballCourt_58</td>\n      <td>104.339996</td>\n      <td>-0.440584</td>\n      <td>-45.689999</td>\n      <td>104.339996</td>\n      <td>-3.070000</td>\n      <td>-45.689999</td>\n      <td>104.339996</td>\n      <td>-3.070000</td>\n      <td>...</td>\n      <td>1.00000</td>\n      <td>-6.614817e-01</td>\n      <td>0.000000e+00</td>\n      <td>7.499613e-01</td>\n      <td>0.000000e+00</td>\n      <td>1.000000e+00</td>\n      <td>0.000000e+00</td>\n      <td>0.749961</td>\n      <td>0.000000e+00</td>\n      <td>0.661482</td>\n    </tr>\n    <tr>\n      <th>2</th>\n      <td>57</td>\n      <td>Construction_57</td>\n      <td>-71.695419</td>\n      <td>0.739893</td>\n      <td>-26.238297</td>\n      <td>-71.803406</td>\n      <td>0.551138</td>\n      <td>-26.717417</td>\n      <td>-0.028043</td>\n      <td>0.005596</td>\n      <td>...</td>\n      <td>1.00000</td>\n      <td>1.490116e-07</td>\n      <td>1.000000e+00</td>\n      <td>-1.639128e-07</td>\n      <td>7.768201e-01</td>\n      <td>-2.384186e-07</td>\n      <td>-6.297227e-01</td>\n      <td>0.629723</td>\n      <td>0.000000e+00</td>\n      <td>0.776820</td>\n    </tr>\n    <tr>\n      <th>3</th>\n      <td>48</td>\n      <td>TaskBuilding_48</td>\n      <td>-195.637009</td>\n      <td>7.350957</td>\n      <td>-130.434052</td>\n      <td>-195.637512</td>\n      <td>-0.000015</td>\n      <td>-130.434052</td>\n      <td>-195.637512</td>\n      <td>130.434067</td>\n      <td>...</td>\n      <td>1.00000</td>\n      <td>0.000000e+00</td>\n      <td>0.000000e+00</td>\n      <td>1.000000e+00</td>\n      <td>0.000000e+00</td>\n      <td>1.000000e+00</td>\n      <td>0.000000e+00</td>\n      <td>1.000000</td>\n      <td>0.000000e+00</td>\n      <td>0.000000</td>\n    </tr>\n    <tr>\n      <th>4</th>\n      <td>52</td>\n      <td>TaskBuilding_52</td>\n      <td>-247.185669</td>\n      <td>4.570368</td>\n      <td>54.489395</td>\n      <td>-247.203369</td>\n      <td>2.410477</td>\n      <td>54.642479</td>\n      <td>-247.203369</td>\n      <td>-54.642483</td>\n      <td>...</td>\n      <td>1.00000</td>\n      <td>1.147317e-01</td>\n      <td>-4.165431e-07</td>\n      <td>-9.933965e-01</td>\n      <td>2.397451e-08</td>\n      <td>1.000000e+00</td>\n      <td>-4.165431e-07</td>\n      <td>-0.993397</td>\n      <td>-2.397451e-08</td>\n      <td>-0.114732</td>\n    </tr>\n  </tbody>\n</table>\n<p>5 rows × 40 columns</p>\n</div>"
     },
     "execution_count": 1371,
     "metadata": {},
     "output_type": "execute_result"
    }
   ],
   "source": [
    "all_buildings.head()"
   ],
   "metadata": {
    "collapsed": false,
    "pycharm": {
     "name": "#%%\n"
    }
   }
  },
  {
   "cell_type": "code",
   "execution_count": 1372,
   "outputs": [
    {
     "name": "stdout",
     "output_type": "stream",
     "text": [
      "<class 'pandas.core.frame.DataFrame'>\n",
      "Int64Index: 56 entries, 0 to 58\n",
      "Data columns (total 40 columns):\n",
      " #   Column                           Non-Null Count  Dtype  \n",
      "---  ------                           --------------  -----  \n",
      " 0   BuildingID                       56 non-null     int64  \n",
      " 1   BuildingName                     56 non-null     object \n",
      " 2   BuildingCenterWorld.x            56 non-null     float64\n",
      " 3   BuildingCenterWorld.y            56 non-null     float64\n",
      " 4   BuildingCenterWorld.z            56 non-null     float64\n",
      " 5   BuildingPositionGlobal.x         56 non-null     float64\n",
      " 6   BuildingPositionGlobal.y         56 non-null     float64\n",
      " 7   BuildingPositionGlobal.z         56 non-null     float64\n",
      " 8   BuildingPositionLocal.x          56 non-null     float64\n",
      " 9   BuildingPositionLocal.y          56 non-null     float64\n",
      " 10  BuildingPositionLocal.z          56 non-null     float64\n",
      " 11  BuildingRotationGlobal.x         56 non-null     float64\n",
      " 12  BuildingRotationGlobal.y         56 non-null     float64\n",
      " 13  BuildingRotationGlobal.z         56 non-null     float64\n",
      " 14  BuildingRotationGlobal.w         56 non-null     float64\n",
      " 15  BuildingRotationLocal.x          56 non-null     float64\n",
      " 16  BuildingRotationLocal.y          56 non-null     float64\n",
      " 17  BuildingRotationLocal.z          56 non-null     float64\n",
      " 18  BuildingRotationLocal.w          56 non-null     float64\n",
      " 19  BuildingRotationVector3Global.x  56 non-null     float64\n",
      " 20  BuildingRotationVector3Global.y  56 non-null     float64\n",
      " 21  BuildingRotationVector3Global.z  56 non-null     float64\n",
      " 22  BuildingRotationVector3Local.x   56 non-null     float64\n",
      " 23  BuildingRotationVector3Local.y   56 non-null     float64\n",
      " 24  BuildingRotationVector3Local.z   56 non-null     float64\n",
      " 25  BuildingLossyScale.x             56 non-null     float64\n",
      " 26  BuildingLossyScale.y             56 non-null     float64\n",
      " 27  BuildingLossyScale.z             56 non-null     float64\n",
      " 28  BuildingLocalScale.x             56 non-null     float64\n",
      " 29  BuildingLocalScale.y             56 non-null     float64\n",
      " 30  BuildingLocalScale.z             56 non-null     float64\n",
      " 31  BuildingForwardDirection.x       56 non-null     float64\n",
      " 32  BuildingForwardDirection.y       56 non-null     float64\n",
      " 33  BuildingForwardDirection.z       56 non-null     float64\n",
      " 34  BuildingUpDirection.x            56 non-null     float64\n",
      " 35  BuildingUpDirection.y            56 non-null     float64\n",
      " 36  BuildingUpDirection.z            56 non-null     float64\n",
      " 37  BuildingRightDirection.x         56 non-null     float64\n",
      " 38  BuildingRightDirection.y         56 non-null     float64\n",
      " 39  BuildingRightDirection.z         56 non-null     float64\n",
      "dtypes: float64(38), int64(1), object(1)\n",
      "memory usage: 17.9+ KB\n"
     ]
    }
   ],
   "source": [
    "all_buildings.info(verbose=True, show_counts=True)"
   ],
   "metadata": {
    "collapsed": false,
    "pycharm": {
     "name": "#%%\n"
    }
   }
  },
  {
   "cell_type": "code",
   "execution_count": 1373,
   "outputs": [
    {
     "data": {
      "text/plain": "       BuildingID  BuildingCenterWorld.x  BuildingCenterWorld.y  \\\ncount   56.000000              56.000000              56.000000   \nmean    28.839286               8.897565               6.230483   \nstd     16.827226             192.782942               5.453986   \nmin      1.000000            -336.362793              -0.791109   \n25%     14.750000            -136.218853               4.085809   \n50%     28.500000               1.375929               5.244463   \n75%     42.250000             143.431297               7.395142   \nmax     59.000000             401.768616              31.293985   \n\n       BuildingCenterWorld.z  BuildingPositionGlobal.x  \\\ncount              56.000000                 56.000000   \nmean                8.850133                  8.891293   \nstd               124.984650                192.946374   \nmin              -255.873932               -338.406921   \n25%               -66.197618               -136.462280   \n50%                 9.003581                  1.302004   \n75%               102.297266                146.388565   \nmax               288.053894                401.828735   \n\n       BuildingPositionGlobal.y  BuildingPositionGlobal.z  \\\ncount                 56.000000                 56.000000   \nmean                  -0.699142                  9.432957   \nstd                    3.398881                124.649720   \nmin                   -6.542114               -256.052216   \n25%                   -2.367606                -66.331362   \n50%                   -1.151408                  9.077952   \n75%                    0.595204                102.433146   \nmax                   18.361389                293.247559   \n\n       BuildingPositionLocal.x  BuildingPositionLocal.y  \\\ncount                56.000000                56.000000   \nmean                 10.172996               -15.121614   \nstd                 192.638739               121.578577   \nmin                -338.406921              -293.247589   \n25%                -136.462280              -102.433153   \n50%                   2.941159               -10.794964   \n75%                 146.388565                55.490621   \nmax                 401.828735               256.052246   \n\n       BuildingPositionLocal.z  ...  BuildingLocalScale.z  \\\ncount                56.000000  ...             56.000000   \nmean                 -5.762569  ...              1.003704   \nstd                  24.067370  ...              0.027722   \nmin                -150.514664  ...              1.000000   \n25%                  -2.426545  ...              1.000000   \n50%                  -1.305926  ...              1.000000   \n75%                   0.422222  ...              1.000000   \nmax                  18.361364  ...              1.207450   \n\n       BuildingForwardDirection.x  BuildingForwardDirection.y  \\\ncount                   56.000000                5.600000e+01   \nmean                     0.092599                7.142840e-02   \nstd                      0.560289                3.745127e-01   \nmin                     -0.950611               -1.000000e+00   \n25%                     -0.632546               -3.650081e-07   \n50%                      0.057366               -9.727868e-08   \n75%                      0.579345                0.000000e+00   \nmax                      0.940934                1.000000e+00   \n\n       BuildingForwardDirection.z  BuildingUpDirection.x  \\\ncount                   56.000000           5.600000e+01   \nmean                     0.099134           2.409818e-02   \nstd                      0.734892           2.720723e-01   \nmin                     -1.000000          -9.998724e-01   \n25%                     -0.743667          -8.064804e-08   \n50%                      0.169295           4.079921e-08   \n75%                      0.762951           1.512802e-07   \nmax                      1.000000           9.893244e-01   \n\n       BuildingUpDirection.y  BuildingUpDirection.z  BuildingRightDirection.x  \\\ncount           5.600000e+01           5.600000e+01                 56.000000   \nmean            8.571428e-01          -1.916140e-02                  0.124996   \nstd             3.530940e-01           2.654545e-01                  0.777820   \nmin            -2.384186e-07          -9.999999e-01                 -1.000000   \n25%             1.000000e+00          -3.809883e-07                 -0.746625   \n50%             1.000000e+00          -1.388518e-07                  0.625363   \n75%             1.000000e+00           0.000000e+00                  0.774274   \nmax             1.000000e+00           9.417416e-01                  1.000000   \n\n       BuildingRightDirection.y  BuildingRightDirection.z  \ncount              5.600000e+01                 56.000000  \nmean              -3.602064e-08                 -0.075923  \nstd                1.314038e-07                  0.625620  \nmin               -4.172325e-07                 -0.999872  \n25%               -1.117616e-07                 -0.631021  \n50%               -3.162905e-08                 -0.150597  \n75%                6.304895e-08                  0.648394  \nmax                1.851118e-07                  0.989324  \n\n[8 rows x 39 columns]",
      "text/html": "<div>\n<style scoped>\n    .dataframe tbody tr th:only-of-type {\n        vertical-align: middle;\n    }\n\n    .dataframe tbody tr th {\n        vertical-align: top;\n    }\n\n    .dataframe thead th {\n        text-align: right;\n    }\n</style>\n<table border=\"1\" class=\"dataframe\">\n  <thead>\n    <tr style=\"text-align: right;\">\n      <th></th>\n      <th>BuildingID</th>\n      <th>BuildingCenterWorld.x</th>\n      <th>BuildingCenterWorld.y</th>\n      <th>BuildingCenterWorld.z</th>\n      <th>BuildingPositionGlobal.x</th>\n      <th>BuildingPositionGlobal.y</th>\n      <th>BuildingPositionGlobal.z</th>\n      <th>BuildingPositionLocal.x</th>\n      <th>BuildingPositionLocal.y</th>\n      <th>BuildingPositionLocal.z</th>\n      <th>...</th>\n      <th>BuildingLocalScale.z</th>\n      <th>BuildingForwardDirection.x</th>\n      <th>BuildingForwardDirection.y</th>\n      <th>BuildingForwardDirection.z</th>\n      <th>BuildingUpDirection.x</th>\n      <th>BuildingUpDirection.y</th>\n      <th>BuildingUpDirection.z</th>\n      <th>BuildingRightDirection.x</th>\n      <th>BuildingRightDirection.y</th>\n      <th>BuildingRightDirection.z</th>\n    </tr>\n  </thead>\n  <tbody>\n    <tr>\n      <th>count</th>\n      <td>56.000000</td>\n      <td>56.000000</td>\n      <td>56.000000</td>\n      <td>56.000000</td>\n      <td>56.000000</td>\n      <td>56.000000</td>\n      <td>56.000000</td>\n      <td>56.000000</td>\n      <td>56.000000</td>\n      <td>56.000000</td>\n      <td>...</td>\n      <td>56.000000</td>\n      <td>56.000000</td>\n      <td>5.600000e+01</td>\n      <td>56.000000</td>\n      <td>5.600000e+01</td>\n      <td>5.600000e+01</td>\n      <td>5.600000e+01</td>\n      <td>56.000000</td>\n      <td>5.600000e+01</td>\n      <td>56.000000</td>\n    </tr>\n    <tr>\n      <th>mean</th>\n      <td>28.839286</td>\n      <td>8.897565</td>\n      <td>6.230483</td>\n      <td>8.850133</td>\n      <td>8.891293</td>\n      <td>-0.699142</td>\n      <td>9.432957</td>\n      <td>10.172996</td>\n      <td>-15.121614</td>\n      <td>-5.762569</td>\n      <td>...</td>\n      <td>1.003704</td>\n      <td>0.092599</td>\n      <td>7.142840e-02</td>\n      <td>0.099134</td>\n      <td>2.409818e-02</td>\n      <td>8.571428e-01</td>\n      <td>-1.916140e-02</td>\n      <td>0.124996</td>\n      <td>-3.602064e-08</td>\n      <td>-0.075923</td>\n    </tr>\n    <tr>\n      <th>std</th>\n      <td>16.827226</td>\n      <td>192.782942</td>\n      <td>5.453986</td>\n      <td>124.984650</td>\n      <td>192.946374</td>\n      <td>3.398881</td>\n      <td>124.649720</td>\n      <td>192.638739</td>\n      <td>121.578577</td>\n      <td>24.067370</td>\n      <td>...</td>\n      <td>0.027722</td>\n      <td>0.560289</td>\n      <td>3.745127e-01</td>\n      <td>0.734892</td>\n      <td>2.720723e-01</td>\n      <td>3.530940e-01</td>\n      <td>2.654545e-01</td>\n      <td>0.777820</td>\n      <td>1.314038e-07</td>\n      <td>0.625620</td>\n    </tr>\n    <tr>\n      <th>min</th>\n      <td>1.000000</td>\n      <td>-336.362793</td>\n      <td>-0.791109</td>\n      <td>-255.873932</td>\n      <td>-338.406921</td>\n      <td>-6.542114</td>\n      <td>-256.052216</td>\n      <td>-338.406921</td>\n      <td>-293.247589</td>\n      <td>-150.514664</td>\n      <td>...</td>\n      <td>1.000000</td>\n      <td>-0.950611</td>\n      <td>-1.000000e+00</td>\n      <td>-1.000000</td>\n      <td>-9.998724e-01</td>\n      <td>-2.384186e-07</td>\n      <td>-9.999999e-01</td>\n      <td>-1.000000</td>\n      <td>-4.172325e-07</td>\n      <td>-0.999872</td>\n    </tr>\n    <tr>\n      <th>25%</th>\n      <td>14.750000</td>\n      <td>-136.218853</td>\n      <td>4.085809</td>\n      <td>-66.197618</td>\n      <td>-136.462280</td>\n      <td>-2.367606</td>\n      <td>-66.331362</td>\n      <td>-136.462280</td>\n      <td>-102.433153</td>\n      <td>-2.426545</td>\n      <td>...</td>\n      <td>1.000000</td>\n      <td>-0.632546</td>\n      <td>-3.650081e-07</td>\n      <td>-0.743667</td>\n      <td>-8.064804e-08</td>\n      <td>1.000000e+00</td>\n      <td>-3.809883e-07</td>\n      <td>-0.746625</td>\n      <td>-1.117616e-07</td>\n      <td>-0.631021</td>\n    </tr>\n    <tr>\n      <th>50%</th>\n      <td>28.500000</td>\n      <td>1.375929</td>\n      <td>5.244463</td>\n      <td>9.003581</td>\n      <td>1.302004</td>\n      <td>-1.151408</td>\n      <td>9.077952</td>\n      <td>2.941159</td>\n      <td>-10.794964</td>\n      <td>-1.305926</td>\n      <td>...</td>\n      <td>1.000000</td>\n      <td>0.057366</td>\n      <td>-9.727868e-08</td>\n      <td>0.169295</td>\n      <td>4.079921e-08</td>\n      <td>1.000000e+00</td>\n      <td>-1.388518e-07</td>\n      <td>0.625363</td>\n      <td>-3.162905e-08</td>\n      <td>-0.150597</td>\n    </tr>\n    <tr>\n      <th>75%</th>\n      <td>42.250000</td>\n      <td>143.431297</td>\n      <td>7.395142</td>\n      <td>102.297266</td>\n      <td>146.388565</td>\n      <td>0.595204</td>\n      <td>102.433146</td>\n      <td>146.388565</td>\n      <td>55.490621</td>\n      <td>0.422222</td>\n      <td>...</td>\n      <td>1.000000</td>\n      <td>0.579345</td>\n      <td>0.000000e+00</td>\n      <td>0.762951</td>\n      <td>1.512802e-07</td>\n      <td>1.000000e+00</td>\n      <td>0.000000e+00</td>\n      <td>0.774274</td>\n      <td>6.304895e-08</td>\n      <td>0.648394</td>\n    </tr>\n    <tr>\n      <th>max</th>\n      <td>59.000000</td>\n      <td>401.768616</td>\n      <td>31.293985</td>\n      <td>288.053894</td>\n      <td>401.828735</td>\n      <td>18.361389</td>\n      <td>293.247559</td>\n      <td>401.828735</td>\n      <td>256.052246</td>\n      <td>18.361364</td>\n      <td>...</td>\n      <td>1.207450</td>\n      <td>0.940934</td>\n      <td>1.000000e+00</td>\n      <td>1.000000</td>\n      <td>9.893244e-01</td>\n      <td>1.000000e+00</td>\n      <td>9.417416e-01</td>\n      <td>1.000000</td>\n      <td>1.851118e-07</td>\n      <td>0.989324</td>\n    </tr>\n  </tbody>\n</table>\n<p>8 rows × 39 columns</p>\n</div>"
     },
     "execution_count": 1373,
     "metadata": {},
     "output_type": "execute_result"
    }
   ],
   "source": [
    "all_buildings.describe()"
   ],
   "metadata": {
    "collapsed": false,
    "pycharm": {
     "name": "#%%\n"
    }
   }
  },
  {
   "cell_type": "code",
   "execution_count": 1374,
   "outputs": [
    {
     "data": {
      "text/plain": "   AvatarID AvatarName  AvatarCenterWorld.x  AvatarCenterWorld.y  \\\n0         2     02_Cma          -147.664993             3.072653   \n1        42      42_Sa            65.630707            -1.885010   \n2        36      36_Sa           162.001144            -0.394517   \n3        38      38_Sa           150.833649            -1.489311   \n4        41      41_Sa            92.128632             0.218283   \n\n   AvatarCenterWorld.z  AvatarPositionGlobal.x  AvatarPositionGlobal.y  \\\n0            67.390167             -147.646744                2.345342   \n1           -52.687607               65.613266               -2.612321   \n2           133.271271              162.000000               -1.121828   \n3           -43.709518              150.816269               -2.300489   \n4            38.293304               92.163269               -0.467581   \n\n   AvatarPositionGlobal.z  AvatarPositionLocal.x  AvatarPositionLocal.y  ...  \\\n0               67.389999            -351.640015               6.398831  ...   \n1              -52.674149            -138.380005               1.441168  ...   \n2              133.300003             -41.993271               2.931661  ...   \n3              -43.692154             -53.176998               1.753000  ...   \n4               38.295853            -111.830002               3.585908  ...   \n\n   AvatarLocalScale.z  AvatarForwardDirection.x  AvatarForwardDirection.y  \\\n0                 1.0                  0.000000                       0.0   \n1                 1.0                 -0.605179                       0.0   \n2                 1.0                  0.664752                       0.0   \n3                 1.0                  0.711973                       0.0   \n4                 1.0                  0.743769                       0.0   \n\n   AvatarForwardDirection.z  AvatarUpDirection.x  AvatarUpDirection.y  \\\n0                  1.000000                  0.0                  1.0   \n1                 -0.796090                  0.0                  1.0   \n2                  0.747064                  0.0                  1.0   \n3                  0.702207                  0.0                  1.0   \n4                 -0.668437                  0.0                  1.0   \n\n   AvatarUpDirection.z  AvatarRightDirection.x  AvatarRightDirection.y  \\\n0                  0.0                1.000000                     0.0   \n1                  0.0               -0.796090                     0.0   \n2                  0.0                0.747064                     0.0   \n3                  0.0                0.702207                     0.0   \n4                  0.0               -0.668437                     0.0   \n\n   AvatarRightDirection.z  \n0                0.000000  \n1                0.605179  \n2               -0.664752  \n3               -0.711973  \n4               -0.743769  \n\n[5 rows x 40 columns]",
      "text/html": "<div>\n<style scoped>\n    .dataframe tbody tr th:only-of-type {\n        vertical-align: middle;\n    }\n\n    .dataframe tbody tr th {\n        vertical-align: top;\n    }\n\n    .dataframe thead th {\n        text-align: right;\n    }\n</style>\n<table border=\"1\" class=\"dataframe\">\n  <thead>\n    <tr style=\"text-align: right;\">\n      <th></th>\n      <th>AvatarID</th>\n      <th>AvatarName</th>\n      <th>AvatarCenterWorld.x</th>\n      <th>AvatarCenterWorld.y</th>\n      <th>AvatarCenterWorld.z</th>\n      <th>AvatarPositionGlobal.x</th>\n      <th>AvatarPositionGlobal.y</th>\n      <th>AvatarPositionGlobal.z</th>\n      <th>AvatarPositionLocal.x</th>\n      <th>AvatarPositionLocal.y</th>\n      <th>...</th>\n      <th>AvatarLocalScale.z</th>\n      <th>AvatarForwardDirection.x</th>\n      <th>AvatarForwardDirection.y</th>\n      <th>AvatarForwardDirection.z</th>\n      <th>AvatarUpDirection.x</th>\n      <th>AvatarUpDirection.y</th>\n      <th>AvatarUpDirection.z</th>\n      <th>AvatarRightDirection.x</th>\n      <th>AvatarRightDirection.y</th>\n      <th>AvatarRightDirection.z</th>\n    </tr>\n  </thead>\n  <tbody>\n    <tr>\n      <th>0</th>\n      <td>2</td>\n      <td>02_Cma</td>\n      <td>-147.664993</td>\n      <td>3.072653</td>\n      <td>67.390167</td>\n      <td>-147.646744</td>\n      <td>2.345342</td>\n      <td>67.389999</td>\n      <td>-351.640015</td>\n      <td>6.398831</td>\n      <td>...</td>\n      <td>1.0</td>\n      <td>0.000000</td>\n      <td>0.0</td>\n      <td>1.000000</td>\n      <td>0.0</td>\n      <td>1.0</td>\n      <td>0.0</td>\n      <td>1.000000</td>\n      <td>0.0</td>\n      <td>0.000000</td>\n    </tr>\n    <tr>\n      <th>1</th>\n      <td>42</td>\n      <td>42_Sa</td>\n      <td>65.630707</td>\n      <td>-1.885010</td>\n      <td>-52.687607</td>\n      <td>65.613266</td>\n      <td>-2.612321</td>\n      <td>-52.674149</td>\n      <td>-138.380005</td>\n      <td>1.441168</td>\n      <td>...</td>\n      <td>1.0</td>\n      <td>-0.605179</td>\n      <td>0.0</td>\n      <td>-0.796090</td>\n      <td>0.0</td>\n      <td>1.0</td>\n      <td>0.0</td>\n      <td>-0.796090</td>\n      <td>0.0</td>\n      <td>0.605179</td>\n    </tr>\n    <tr>\n      <th>2</th>\n      <td>36</td>\n      <td>36_Sa</td>\n      <td>162.001144</td>\n      <td>-0.394517</td>\n      <td>133.271271</td>\n      <td>162.000000</td>\n      <td>-1.121828</td>\n      <td>133.300003</td>\n      <td>-41.993271</td>\n      <td>2.931661</td>\n      <td>...</td>\n      <td>1.0</td>\n      <td>0.664752</td>\n      <td>0.0</td>\n      <td>0.747064</td>\n      <td>0.0</td>\n      <td>1.0</td>\n      <td>0.0</td>\n      <td>0.747064</td>\n      <td>0.0</td>\n      <td>-0.664752</td>\n    </tr>\n    <tr>\n      <th>3</th>\n      <td>38</td>\n      <td>38_Sa</td>\n      <td>150.833649</td>\n      <td>-1.489311</td>\n      <td>-43.709518</td>\n      <td>150.816269</td>\n      <td>-2.300489</td>\n      <td>-43.692154</td>\n      <td>-53.176998</td>\n      <td>1.753000</td>\n      <td>...</td>\n      <td>1.0</td>\n      <td>0.711973</td>\n      <td>0.0</td>\n      <td>0.702207</td>\n      <td>0.0</td>\n      <td>1.0</td>\n      <td>0.0</td>\n      <td>0.702207</td>\n      <td>0.0</td>\n      <td>-0.711973</td>\n    </tr>\n    <tr>\n      <th>4</th>\n      <td>41</td>\n      <td>41_Sa</td>\n      <td>92.128632</td>\n      <td>0.218283</td>\n      <td>38.293304</td>\n      <td>92.163269</td>\n      <td>-0.467581</td>\n      <td>38.295853</td>\n      <td>-111.830002</td>\n      <td>3.585908</td>\n      <td>...</td>\n      <td>1.0</td>\n      <td>0.743769</td>\n      <td>0.0</td>\n      <td>-0.668437</td>\n      <td>0.0</td>\n      <td>1.0</td>\n      <td>0.0</td>\n      <td>-0.668437</td>\n      <td>0.0</td>\n      <td>-0.743769</td>\n    </tr>\n  </tbody>\n</table>\n<p>5 rows × 40 columns</p>\n</div>"
     },
     "execution_count": 1374,
     "metadata": {},
     "output_type": "execute_result"
    }
   ],
   "source": [
    "avatar_info.head()"
   ],
   "metadata": {
    "collapsed": false,
    "pycharm": {
     "name": "#%%\n"
    }
   }
  },
  {
   "cell_type": "code",
   "execution_count": 1375,
   "outputs": [
    {
     "name": "stdout",
     "output_type": "stream",
     "text": [
      "<class 'pandas.core.frame.DataFrame'>\n",
      "Int64Index: 56 entries, 0 to 55\n",
      "Data columns (total 40 columns):\n",
      " #   Column                         Non-Null Count  Dtype  \n",
      "---  ------                         --------------  -----  \n",
      " 0   AvatarID                       56 non-null     int64  \n",
      " 1   AvatarName                     56 non-null     object \n",
      " 2   AvatarCenterWorld.x            56 non-null     float64\n",
      " 3   AvatarCenterWorld.y            56 non-null     float64\n",
      " 4   AvatarCenterWorld.z            56 non-null     float64\n",
      " 5   AvatarPositionGlobal.x         56 non-null     float64\n",
      " 6   AvatarPositionGlobal.y         56 non-null     float64\n",
      " 7   AvatarPositionGlobal.z         56 non-null     float64\n",
      " 8   AvatarPositionLocal.x          56 non-null     float64\n",
      " 9   AvatarPositionLocal.y          56 non-null     float64\n",
      " 10  AvatarPositionLocal.z          56 non-null     float64\n",
      " 11  AvatarRotationGlobal.x         56 non-null     float64\n",
      " 12  AvatarRotationGlobal.y         56 non-null     float64\n",
      " 13  AvatarRotationGlobal.z         56 non-null     float64\n",
      " 14  AvatarRotationGlobal.w         56 non-null     float64\n",
      " 15  AvatarRotationLocal.x          56 non-null     float64\n",
      " 16  AvatarRotationLocal.y          56 non-null     float64\n",
      " 17  AvatarRotationLocal.z          56 non-null     float64\n",
      " 18  AvatarRotationLocal.w          56 non-null     float64\n",
      " 19  AvatarRotationVector3Global.x  56 non-null     float64\n",
      " 20  AvatarRotationVector3Global.y  56 non-null     float64\n",
      " 21  AvatarRotationVector3Global.z  56 non-null     float64\n",
      " 22  AvatarRotationVector3Local.x   56 non-null     float64\n",
      " 23  AvatarRotationVector3Local.y   56 non-null     float64\n",
      " 24  AvatarRotationVector3Local.z   56 non-null     float64\n",
      " 25  AvatarLossyScale.x             56 non-null     float64\n",
      " 26  AvatarLossyScale.y             56 non-null     float64\n",
      " 27  AvatarLossyScale.z             56 non-null     float64\n",
      " 28  AvatarLocalScale.x             56 non-null     float64\n",
      " 29  AvatarLocalScale.y             56 non-null     float64\n",
      " 30  AvatarLocalScale.z             56 non-null     float64\n",
      " 31  AvatarForwardDirection.x       56 non-null     float64\n",
      " 32  AvatarForwardDirection.y       56 non-null     float64\n",
      " 33  AvatarForwardDirection.z       56 non-null     float64\n",
      " 34  AvatarUpDirection.x            56 non-null     float64\n",
      " 35  AvatarUpDirection.y            56 non-null     float64\n",
      " 36  AvatarUpDirection.z            56 non-null     float64\n",
      " 37  AvatarRightDirection.x         56 non-null     float64\n",
      " 38  AvatarRightDirection.y         56 non-null     float64\n",
      " 39  AvatarRightDirection.z         56 non-null     float64\n",
      "dtypes: float64(38), int64(1), object(1)\n",
      "memory usage: 17.9+ KB\n"
     ]
    }
   ],
   "source": [
    "avatar_info.info(verbose=True, show_counts=True)"
   ],
   "metadata": {
    "collapsed": false,
    "pycharm": {
     "name": "#%%\n"
    }
   }
  },
  {
   "cell_type": "code",
   "execution_count": 1376,
   "outputs": [
    {
     "data": {
      "text/plain": "        AvatarID  AvatarCenterWorld.x  AvatarCenterWorld.y  \\\ncount  56.000000            56.000000            56.000000   \nmean   28.500000             9.451360            -0.154723   \nstd    16.309506           192.022522             2.171865   \nmin     1.000000          -336.241150            -5.256408   \n25%    14.750000          -141.405403            -1.509524   \n50%    28.500000             2.890167            -0.333378   \n75%    42.250000           147.657764             1.529099   \nmax    56.000000           395.572296             3.703803   \n\n       AvatarCenterWorld.z  AvatarPositionGlobal.x  AvatarPositionGlobal.y  \\\ncount            56.000000               56.000000               56.000000   \nmean              8.906428                9.479183               -0.852688   \nstd             120.788425              191.980332                2.207004   \nmin            -251.694504             -336.241333               -6.063000   \n25%             -58.579079             -141.419785               -2.255122   \n50%               9.498009                2.883270               -1.067159   \n75%             111.972822              147.616764                0.888565   \nmax             230.311523              395.563293                3.100000   \n\n       AvatarPositionGlobal.z  AvatarPositionLocal.x  AvatarPositionLocal.y  \\\ncount               56.000000              56.000000              56.000000   \nmean                 8.787668            -194.514089               3.200802   \nstd                120.734400             191.980334               2.207004   \nmin               -251.780014            -540.234619              -2.009511   \n25%                -58.426651            -345.413055               1.798367   \n50%                  9.492935            -201.110001               2.986331   \n75%                111.858717             -56.376500               4.942055   \nmax                230.184113             191.570007               7.153489   \n\n       AvatarPositionLocal.z  ...  AvatarLocalScale.z  \\\ncount              56.000000  ...                56.0   \nmean             -224.888190  ...                 1.0   \nstd               120.734400  ...                 0.0   \nmin              -485.455872  ...                 1.0   \n25%              -292.102509  ...                 1.0   \n50%              -224.182922  ...                 1.0   \n75%              -121.817141  ...                 1.0   \nmax                -3.491745  ...                 1.0   \n\n       AvatarForwardDirection.x  AvatarForwardDirection.y  \\\ncount                 56.000000                 56.000000   \nmean                   0.152601                 -0.000248   \nstd                    0.596715                  0.001783   \nmin                   -0.961716                 -0.013202   \n25%                   -0.241996                  0.000000   \n50%                    0.000000                  0.000000   \n75%                    0.745289                  0.000000   \nmax                    0.966854                  0.001019   \n\n       AvatarForwardDirection.z  AvatarUpDirection.x  AvatarUpDirection.y  \\\ncount                 56.000000            56.000000            56.000000   \nmean                   0.181139            -0.000041             0.999998   \nstd                    0.777812             0.000304             0.000012   \nmin                   -0.999927            -0.002276             0.999913   \n25%                   -0.655529             0.000000             1.000000   \n50%                    0.468661             0.000000             1.000000   \n75%                    0.980278             0.000000             1.000000   \nmax                    1.000000             0.000000             1.000000   \n\n       AvatarUpDirection.z  AvatarRightDirection.x  AvatarRightDirection.y  \\\ncount            56.000000               56.000000               56.000000   \nmean              0.000191                0.181141                0.000098   \nstd               0.001847                0.777813                0.000539   \nmin              -0.003719               -0.999927                0.000000   \n25%               0.000000               -0.655529                0.000000   \n50%               0.000000                0.468661                0.000000   \n75%               0.000000                0.980299                0.000000   \nmax               0.013202                1.000000                0.003576   \n\n       AvatarRightDirection.z  \ncount               56.000000  \nmean                -0.152601  \nstd                  0.596715  \nmin                 -0.966854  \n25%                 -0.745289  \n50%                  0.000000  \n75%                  0.241999  \nmax                  0.961709  \n\n[8 rows x 39 columns]",
      "text/html": "<div>\n<style scoped>\n    .dataframe tbody tr th:only-of-type {\n        vertical-align: middle;\n    }\n\n    .dataframe tbody tr th {\n        vertical-align: top;\n    }\n\n    .dataframe thead th {\n        text-align: right;\n    }\n</style>\n<table border=\"1\" class=\"dataframe\">\n  <thead>\n    <tr style=\"text-align: right;\">\n      <th></th>\n      <th>AvatarID</th>\n      <th>AvatarCenterWorld.x</th>\n      <th>AvatarCenterWorld.y</th>\n      <th>AvatarCenterWorld.z</th>\n      <th>AvatarPositionGlobal.x</th>\n      <th>AvatarPositionGlobal.y</th>\n      <th>AvatarPositionGlobal.z</th>\n      <th>AvatarPositionLocal.x</th>\n      <th>AvatarPositionLocal.y</th>\n      <th>AvatarPositionLocal.z</th>\n      <th>...</th>\n      <th>AvatarLocalScale.z</th>\n      <th>AvatarForwardDirection.x</th>\n      <th>AvatarForwardDirection.y</th>\n      <th>AvatarForwardDirection.z</th>\n      <th>AvatarUpDirection.x</th>\n      <th>AvatarUpDirection.y</th>\n      <th>AvatarUpDirection.z</th>\n      <th>AvatarRightDirection.x</th>\n      <th>AvatarRightDirection.y</th>\n      <th>AvatarRightDirection.z</th>\n    </tr>\n  </thead>\n  <tbody>\n    <tr>\n      <th>count</th>\n      <td>56.000000</td>\n      <td>56.000000</td>\n      <td>56.000000</td>\n      <td>56.000000</td>\n      <td>56.000000</td>\n      <td>56.000000</td>\n      <td>56.000000</td>\n      <td>56.000000</td>\n      <td>56.000000</td>\n      <td>56.000000</td>\n      <td>...</td>\n      <td>56.0</td>\n      <td>56.000000</td>\n      <td>56.000000</td>\n      <td>56.000000</td>\n      <td>56.000000</td>\n      <td>56.000000</td>\n      <td>56.000000</td>\n      <td>56.000000</td>\n      <td>56.000000</td>\n      <td>56.000000</td>\n    </tr>\n    <tr>\n      <th>mean</th>\n      <td>28.500000</td>\n      <td>9.451360</td>\n      <td>-0.154723</td>\n      <td>8.906428</td>\n      <td>9.479183</td>\n      <td>-0.852688</td>\n      <td>8.787668</td>\n      <td>-194.514089</td>\n      <td>3.200802</td>\n      <td>-224.888190</td>\n      <td>...</td>\n      <td>1.0</td>\n      <td>0.152601</td>\n      <td>-0.000248</td>\n      <td>0.181139</td>\n      <td>-0.000041</td>\n      <td>0.999998</td>\n      <td>0.000191</td>\n      <td>0.181141</td>\n      <td>0.000098</td>\n      <td>-0.152601</td>\n    </tr>\n    <tr>\n      <th>std</th>\n      <td>16.309506</td>\n      <td>192.022522</td>\n      <td>2.171865</td>\n      <td>120.788425</td>\n      <td>191.980332</td>\n      <td>2.207004</td>\n      <td>120.734400</td>\n      <td>191.980334</td>\n      <td>2.207004</td>\n      <td>120.734400</td>\n      <td>...</td>\n      <td>0.0</td>\n      <td>0.596715</td>\n      <td>0.001783</td>\n      <td>0.777812</td>\n      <td>0.000304</td>\n      <td>0.000012</td>\n      <td>0.001847</td>\n      <td>0.777813</td>\n      <td>0.000539</td>\n      <td>0.596715</td>\n    </tr>\n    <tr>\n      <th>min</th>\n      <td>1.000000</td>\n      <td>-336.241150</td>\n      <td>-5.256408</td>\n      <td>-251.694504</td>\n      <td>-336.241333</td>\n      <td>-6.063000</td>\n      <td>-251.780014</td>\n      <td>-540.234619</td>\n      <td>-2.009511</td>\n      <td>-485.455872</td>\n      <td>...</td>\n      <td>1.0</td>\n      <td>-0.961716</td>\n      <td>-0.013202</td>\n      <td>-0.999927</td>\n      <td>-0.002276</td>\n      <td>0.999913</td>\n      <td>-0.003719</td>\n      <td>-0.999927</td>\n      <td>0.000000</td>\n      <td>-0.966854</td>\n    </tr>\n    <tr>\n      <th>25%</th>\n      <td>14.750000</td>\n      <td>-141.405403</td>\n      <td>-1.509524</td>\n      <td>-58.579079</td>\n      <td>-141.419785</td>\n      <td>-2.255122</td>\n      <td>-58.426651</td>\n      <td>-345.413055</td>\n      <td>1.798367</td>\n      <td>-292.102509</td>\n      <td>...</td>\n      <td>1.0</td>\n      <td>-0.241996</td>\n      <td>0.000000</td>\n      <td>-0.655529</td>\n      <td>0.000000</td>\n      <td>1.000000</td>\n      <td>0.000000</td>\n      <td>-0.655529</td>\n      <td>0.000000</td>\n      <td>-0.745289</td>\n    </tr>\n    <tr>\n      <th>50%</th>\n      <td>28.500000</td>\n      <td>2.890167</td>\n      <td>-0.333378</td>\n      <td>9.498009</td>\n      <td>2.883270</td>\n      <td>-1.067159</td>\n      <td>9.492935</td>\n      <td>-201.110001</td>\n      <td>2.986331</td>\n      <td>-224.182922</td>\n      <td>...</td>\n      <td>1.0</td>\n      <td>0.000000</td>\n      <td>0.000000</td>\n      <td>0.468661</td>\n      <td>0.000000</td>\n      <td>1.000000</td>\n      <td>0.000000</td>\n      <td>0.468661</td>\n      <td>0.000000</td>\n      <td>0.000000</td>\n    </tr>\n    <tr>\n      <th>75%</th>\n      <td>42.250000</td>\n      <td>147.657764</td>\n      <td>1.529099</td>\n      <td>111.972822</td>\n      <td>147.616764</td>\n      <td>0.888565</td>\n      <td>111.858717</td>\n      <td>-56.376500</td>\n      <td>4.942055</td>\n      <td>-121.817141</td>\n      <td>...</td>\n      <td>1.0</td>\n      <td>0.745289</td>\n      <td>0.000000</td>\n      <td>0.980278</td>\n      <td>0.000000</td>\n      <td>1.000000</td>\n      <td>0.000000</td>\n      <td>0.980299</td>\n      <td>0.000000</td>\n      <td>0.241999</td>\n    </tr>\n    <tr>\n      <th>max</th>\n      <td>56.000000</td>\n      <td>395.572296</td>\n      <td>3.703803</td>\n      <td>230.311523</td>\n      <td>395.563293</td>\n      <td>3.100000</td>\n      <td>230.184113</td>\n      <td>191.570007</td>\n      <td>7.153489</td>\n      <td>-3.491745</td>\n      <td>...</td>\n      <td>1.0</td>\n      <td>0.966854</td>\n      <td>0.001019</td>\n      <td>1.000000</td>\n      <td>0.000000</td>\n      <td>1.000000</td>\n      <td>0.013202</td>\n      <td>1.000000</td>\n      <td>0.003576</td>\n      <td>0.961709</td>\n    </tr>\n  </tbody>\n</table>\n<p>8 rows × 39 columns</p>\n</div>"
     },
     "execution_count": 1376,
     "metadata": {},
     "output_type": "execute_result"
    }
   ],
   "source": [
    "avatar_info.describe()"
   ],
   "metadata": {
    "collapsed": false,
    "pycharm": {
     "name": "#%%\n"
    }
   }
  },
  {
   "cell_type": "code",
   "execution_count": 1377,
   "outputs": [
    {
     "data": {
      "text/plain": "    SpawnPointID         SpawnPointName  SpawnPointCenterWorld.x  \\\n0              9      SP_TaskBuilding_9               366.741425   \n1             30     SP_TaskBuilding_30                38.822807   \n2             38     SP_TaskBuilding_38               -54.884190   \n3              7      SP_TaskBuilding_7              -185.620300   \n4             29     SP_TaskBuilding_29                30.083309   \n5             20     SP_TaskBuilding_20               195.920258   \n6             34     SP_TaskBuilding_34               -46.292664   \n7             43     SP_TaskBuilding_43              -145.235855   \n8             45     SP_TaskBuilding_45              -142.188049   \n9             25     SP_TaskBuilding_25               103.361137   \n10            21     SP_TaskBuilding_21               138.591415   \n11            52     SP_TaskBuilding_52              -243.075241   \n12            55     SP_TaskBuilding_55              -326.726471   \n13            54     SP_TaskBuilding_54              -321.041016   \n14            51     SP_TaskBuilding_51              -228.901550   \n15            40     SP_TaskBuilding_40              -101.047653   \n16            14     SP_TaskBuilding_14               216.941422   \n17             5      SP_TaskBuilding_5                 2.451136   \n18             1      SP_TaskBuilding_1               257.839844   \n19            44     SP_TaskBuilding_44              -114.325958   \n20            58  SP_BasketballCourt_58               118.379997   \n21            35     SP_TaskBuilding_35               -61.519260   \n22             4      SP_TaskBuilding_4                47.080509   \n23            36     SP_TaskBuilding_36               -65.603775   \n24            37     SP_TaskBuilding_37               -33.352345   \n25            18     SP_TaskBuilding_18               174.541840   \n26             2      SP_TaskBuilding_2               201.651260   \n27            19     SP_TaskBuilding_19               110.677322   \n\n    SpawnPointCenterWorld.y  SpawnPointCenterWorld.z  \\\n0                 -1.029061               109.221771   \n1                  0.351428                53.957973   \n2                 -0.080298               235.924225   \n3                 -0.395362              -159.597656   \n4                 -0.475717               177.916245   \n5                 -1.826742               -80.497787   \n6                  0.974889               151.395493   \n7                  0.976016               -40.267723   \n8                 -1.789833              -184.783508   \n9                 -4.799697              -182.246994   \n10                -3.519833              -128.356964   \n11                 2.588058                39.462566   \n12                 2.050282                 3.927505   \n13                 1.864460                77.596870   \n14                 1.277502               190.179321   \n15                 2.032324               122.551407   \n16                -0.630068               133.503387   \n17                 0.616729                41.691082   \n18                -0.401294               -32.619427   \n19                -1.411310              -139.534698   \n20                -2.120000               -62.560001   \n21                 0.715586                27.766203   \n22                -4.003204              -156.391357   \n23                -2.645481              -159.510620   \n24                -3.901010              -190.505417   \n25                -0.658548               140.806412   \n26                -2.249071               215.801544   \n27                -1.378735               197.029724   \n\n    SpawnPointPositionGlobal.x  SpawnPointPositionGlobal.y  \\\n0                   366.741425                   -1.029061   \n1                    38.822807                    0.351428   \n2                   -54.884186                   -0.080298   \n3                  -185.620300                   -0.395362   \n4                    30.083307                   -0.475717   \n5                   195.920258                   -1.826742   \n6                   -46.292664                    0.974889   \n7                  -145.235855                    0.976016   \n8                  -142.188049                   -1.789833   \n9                   103.361137                   -4.799697   \n10                  138.591415                   -3.519833   \n11                 -243.075241                    2.588058   \n12                 -326.726471                    2.050283   \n13                 -321.041016                    1.864460   \n14                 -228.901550                    1.277502   \n15                 -101.047653                    2.032323   \n16                  216.941422                   -0.630068   \n17                    2.451136                    0.616729   \n18                  257.839844                   -0.401294   \n19                 -114.325951                   -1.411310   \n20                  118.379990                   -2.120000   \n21                  -61.519260                    0.715586   \n22                   47.080509                   -4.003204   \n23                  -65.603775                   -2.645481   \n24                  -33.352345                   -3.901010   \n25                  174.541840                   -0.658548   \n26                  201.651260                   -2.249071   \n27                  110.677322                   -1.378735   \n\n    SpawnPointPositionGlobal.z  SpawnPointPositionLocal.x  \\\n0                   109.221771                 366.730011   \n1                    53.957973                  38.820000   \n2                   235.924240                 -54.900002   \n3                  -159.597656                -185.610001   \n4                   177.916245                  30.070000   \n5                   -80.497787                 195.919998   \n6                   151.395477                 -46.299999   \n7                   -40.267727                -145.229996   \n8                  -184.783508                -142.179993   \n9                  -182.246994                 103.360001   \n10                 -128.356964                 138.589996   \n11                   39.462566                -243.070007   \n12                    3.927505                -326.720001   \n13                   77.596878                -321.040009   \n14                  190.179321                -228.910004   \n15                  122.551407                -101.050003   \n16                  133.503387                 216.929993   \n17                   41.691082                   2.450000   \n18                  -32.619427                 257.839996   \n19                 -139.534698                -114.320000   \n20                  -62.560001                 118.378029   \n21                   27.766205                 -61.518963   \n22                 -156.391373                  47.080002   \n23                 -159.510620                 -65.599998   \n24                 -190.505432                 -33.349998   \n25                  140.806412                 174.529999   \n26                  215.801544                 201.630005   \n27                  197.029724                 110.660004   \n\n    SpawnPointPositionLocal.y  ...  SpawnPointLocalScale.z  \\\n0                   -1.810000  ...                     1.0   \n1                    0.350000  ...                     1.0   \n2                    0.520000  ...                     1.0   \n3                   -0.200000  ...                     1.0   \n4                   -0.216000  ...                     1.0   \n5                   -2.510000  ...                     1.0   \n6                    1.390000  ...                     1.0   \n7                    1.291000  ...                     1.0   \n8                   -1.760000  ...                     1.0   \n9                   -5.428000  ...                     1.0   \n10                  -4.140000  ...                     1.0   \n11                   3.320000  ...                     1.0   \n12                   2.940000  ...                     1.0   \n13                   2.880000  ...                     1.0   \n14                   2.260000  ...                     1.0   \n15                   2.540000  ...                     1.0   \n16                  -0.960000  ...                     1.0   \n17                   0.690000  ...                     1.0   \n18                  -1.160000  ...                     1.0   \n19                  -1.370000  ...                     1.0   \n20                  -2.559514  ...                     1.0   \n21                   0.934900  ...                     1.0   \n22                  -4.430000  ...                     1.0   \n23                  -2.774000  ...                     1.0   \n24                  -4.176000  ...                     1.0   \n25                  -0.860000  ...                     1.0   \n26                  -2.380000  ...                     1.0   \n27                  -1.300000  ...                     1.0   \n\n    SpawnPointForwardDirection.x  SpawnPointForwardDirection.y  \\\n0                       0.634623                  2.325984e-04   \n1                       0.011997                 -1.883786e-03   \n2                      -0.919156                 -1.727029e-03   \n3                      -0.500830                  3.063527e-04   \n4                       0.166026                  2.101680e-03   \n5                      -0.635811                 -3.195868e-03   \n6                       0.404591                  2.844915e-03   \n7                       0.683276                  3.244148e-03   \n8                      -0.525191                  2.126690e-04   \n9                      -0.199725                  1.338425e-03   \n10                      0.638103                  3.198427e-03   \n11                     -0.436831                 -2.903309e-03   \n12                     -0.660040                 -3.426039e-04   \n13                     -0.669801                 -3.856095e-04   \n14                     -0.711677                 -5.753986e-04   \n15                     -0.546861                 -3.080978e-03   \n16                      0.698280                  3.257188e-03   \n17                     -0.907683                 -1.646683e-03   \n18                     -0.592875                 -3.144035e-03   \n19                     -0.715405                 -3.270631e-03   \n20                     -0.564175                  5.966811e-11   \n21                     -0.445422                 -6.741502e-02   \n22                     -0.038195                 -2.018049e-03   \n23                      0.703650                  5.383175e-04   \n24                     -0.523389                  2.196631e-04   \n25                     -0.776730                 -8.903158e-04   \n26                     -0.107144                 -2.194589e-03   \n27                     -0.007237                 -1.935807e-03   \n\n    SpawnPointForwardDirection.z  SpawnPointUpDirection.x  \\\n0                       0.772822            -2.700125e-03   \n1                       0.999926            -2.700125e-03   \n2                      -0.393891            -2.700125e-03   \n3                      -0.865546            -2.700125e-03   \n4                      -0.986119            -3.791834e-03   \n5                       0.771838            -2.700125e-03   \n6                      -0.914493            -2.700125e-03   \n7                      -0.730153            -2.700125e-03   \n8                      -0.850984            -2.700125e-03   \n9                      -0.979851            -2.700125e-03   \n10                     -0.769945            -2.700125e-03   \n11                      0.899539            -2.700125e-03   \n12                     -0.751230            -2.700125e-03   \n13                     -0.742541            -2.700125e-03   \n14                     -0.702507            -2.700125e-03   \n15                      0.837218            -2.700125e-03   \n16                     -0.715818            -2.700125e-03   \n17                     -0.419653            -2.700125e-03   \n18                      0.805289            -2.700125e-03   \n19                      0.698703            -2.700125e-03   \n20                      0.825655            -1.324667e-10   \n21                      0.892779            -2.102448e-02   \n22                      0.999268            -2.700125e-03   \n23                      0.710547            -2.700125e-03   \n24                     -0.852094            -2.700125e-03   \n25                     -0.629834            -2.700125e-03   \n26                      0.994241            -2.700125e-03   \n27                      0.999972            -2.700125e-03   \n\n    SpawnPointUpDirection.y  SpawnPointUpDirection.z  \\\n0                  0.999995             1.916310e-03   \n1                  0.999995             1.916310e-03   \n2                  0.999995             1.916310e-03   \n3                  0.999995             1.916310e-03   \n4                  0.999992             1.492841e-03   \n5                  0.999995             1.916310e-03   \n6                  0.999995             1.916310e-03   \n7                  0.999995             1.916310e-03   \n8                  0.999995             1.916310e-03   \n9                  0.999995             1.916310e-03   \n10                 0.999995             1.916310e-03   \n11                 0.999995             1.916310e-03   \n12                 0.999995             1.916310e-03   \n13                 0.999995             1.916310e-03   \n14                 0.999995             1.916310e-03   \n15                 0.999995             1.916310e-03   \n16                 0.999995             1.916310e-03   \n17                 0.999995             1.916310e-03   \n18                 0.999995             1.916310e-03   \n19                 0.999995             1.916309e-03   \n20                 1.000000            -1.627830e-10   \n21                 0.997674             6.484631e-02   \n22                 0.999995             1.916310e-03   \n23                 0.999995             1.916310e-03   \n24                 0.999995             1.916310e-03   \n25                 0.999995             1.916310e-03   \n26                 0.999995             1.916310e-03   \n27                 0.999995             1.916310e-03   \n\n    SpawnPointRightDirection.x  SpawnPointRightDirection.y  \\\n0                     0.772817                3.302850e-03   \n1                     0.999924                2.722915e-03   \n2                    -0.393885               -2.824940e-03   \n3                    -0.865542               -3.296827e-03   \n4                    -0.986114               -3.491349e-03   \n5                     0.771840                8.656483e-04   \n6                    -0.914494               -1.693924e-03   \n7                    -0.730155               -6.621348e-04   \n8                    -0.850980               -3.304193e-03   \n9                    -0.979849               -3.028455e-03   \n10                   -0.769947               -8.561446e-04   \n11                    0.899540                1.591765e-03   \n12                   -0.751225               -3.293257e-03   \n13                   -0.742536               -3.288499e-03   \n14                   -0.702502               -3.260649e-03   \n15                    0.837219                1.212639e-03   \n16                   -0.715820               -5.946765e-04   \n17                   -0.419648               -2.872517e-03   \n18                    0.805290                1.038249e-03   \n19                    0.698705                5.156469e-04   \n20                    0.825655                2.012099e-10   \n21                    0.895074               -1.011379e-02   \n22                    0.999267                2.624956e-03   \n23                    0.710542                3.266976e-03   \n24                   -0.852090               -3.303735e-03   \n25                   -0.629828               -3.189084e-03   \n26                    0.994240                2.479254e-03   \n27                    0.999970                2.686181e-03   \n\n    SpawnPointRightDirection.z  \n0                    -0.634621  \n1                    -0.011992  \n2                     0.919155  \n3                     0.500826  \n4                    -0.166033  \n5                     0.635816  \n6                    -0.404597  \n7                    -0.683281  \n8                     0.525188  \n9                     0.199720  \n10                   -0.638108  \n11                    0.436836  \n12                    0.660038  \n13                    0.669798  \n14                    0.711674  \n15                    0.546866  \n16                   -0.698285  \n17                    0.907683  \n18                    0.592880  \n19                    0.715410  \n20                    0.564175  \n21                    0.445804  \n22                    0.038200  \n23                   -0.703647  \n24                    0.523385  \n25                    0.776728  \n26                    0.107150  \n27                    0.007242  \n\n[28 rows x 40 columns]",
      "text/html": "<div>\n<style scoped>\n    .dataframe tbody tr th:only-of-type {\n        vertical-align: middle;\n    }\n\n    .dataframe tbody tr th {\n        vertical-align: top;\n    }\n\n    .dataframe thead th {\n        text-align: right;\n    }\n</style>\n<table border=\"1\" class=\"dataframe\">\n  <thead>\n    <tr style=\"text-align: right;\">\n      <th></th>\n      <th>SpawnPointID</th>\n      <th>SpawnPointName</th>\n      <th>SpawnPointCenterWorld.x</th>\n      <th>SpawnPointCenterWorld.y</th>\n      <th>SpawnPointCenterWorld.z</th>\n      <th>SpawnPointPositionGlobal.x</th>\n      <th>SpawnPointPositionGlobal.y</th>\n      <th>SpawnPointPositionGlobal.z</th>\n      <th>SpawnPointPositionLocal.x</th>\n      <th>SpawnPointPositionLocal.y</th>\n      <th>...</th>\n      <th>SpawnPointLocalScale.z</th>\n      <th>SpawnPointForwardDirection.x</th>\n      <th>SpawnPointForwardDirection.y</th>\n      <th>SpawnPointForwardDirection.z</th>\n      <th>SpawnPointUpDirection.x</th>\n      <th>SpawnPointUpDirection.y</th>\n      <th>SpawnPointUpDirection.z</th>\n      <th>SpawnPointRightDirection.x</th>\n      <th>SpawnPointRightDirection.y</th>\n      <th>SpawnPointRightDirection.z</th>\n    </tr>\n  </thead>\n  <tbody>\n    <tr>\n      <th>0</th>\n      <td>9</td>\n      <td>SP_TaskBuilding_9</td>\n      <td>366.741425</td>\n      <td>-1.029061</td>\n      <td>109.221771</td>\n      <td>366.741425</td>\n      <td>-1.029061</td>\n      <td>109.221771</td>\n      <td>366.730011</td>\n      <td>-1.810000</td>\n      <td>...</td>\n      <td>1.0</td>\n      <td>0.634623</td>\n      <td>2.325984e-04</td>\n      <td>0.772822</td>\n      <td>-2.700125e-03</td>\n      <td>0.999995</td>\n      <td>1.916310e-03</td>\n      <td>0.772817</td>\n      <td>3.302850e-03</td>\n      <td>-0.634621</td>\n    </tr>\n    <tr>\n      <th>1</th>\n      <td>30</td>\n      <td>SP_TaskBuilding_30</td>\n      <td>38.822807</td>\n      <td>0.351428</td>\n      <td>53.957973</td>\n      <td>38.822807</td>\n      <td>0.351428</td>\n      <td>53.957973</td>\n      <td>38.820000</td>\n      <td>0.350000</td>\n      <td>...</td>\n      <td>1.0</td>\n      <td>0.011997</td>\n      <td>-1.883786e-03</td>\n      <td>0.999926</td>\n      <td>-2.700125e-03</td>\n      <td>0.999995</td>\n      <td>1.916310e-03</td>\n      <td>0.999924</td>\n      <td>2.722915e-03</td>\n      <td>-0.011992</td>\n    </tr>\n    <tr>\n      <th>2</th>\n      <td>38</td>\n      <td>SP_TaskBuilding_38</td>\n      <td>-54.884190</td>\n      <td>-0.080298</td>\n      <td>235.924225</td>\n      <td>-54.884186</td>\n      <td>-0.080298</td>\n      <td>235.924240</td>\n      <td>-54.900002</td>\n      <td>0.520000</td>\n      <td>...</td>\n      <td>1.0</td>\n      <td>-0.919156</td>\n      <td>-1.727029e-03</td>\n      <td>-0.393891</td>\n      <td>-2.700125e-03</td>\n      <td>0.999995</td>\n      <td>1.916310e-03</td>\n      <td>-0.393885</td>\n      <td>-2.824940e-03</td>\n      <td>0.919155</td>\n    </tr>\n    <tr>\n      <th>3</th>\n      <td>7</td>\n      <td>SP_TaskBuilding_7</td>\n      <td>-185.620300</td>\n      <td>-0.395362</td>\n      <td>-159.597656</td>\n      <td>-185.620300</td>\n      <td>-0.395362</td>\n      <td>-159.597656</td>\n      <td>-185.610001</td>\n      <td>-0.200000</td>\n      <td>...</td>\n      <td>1.0</td>\n      <td>-0.500830</td>\n      <td>3.063527e-04</td>\n      <td>-0.865546</td>\n      <td>-2.700125e-03</td>\n      <td>0.999995</td>\n      <td>1.916310e-03</td>\n      <td>-0.865542</td>\n      <td>-3.296827e-03</td>\n      <td>0.500826</td>\n    </tr>\n    <tr>\n      <th>4</th>\n      <td>29</td>\n      <td>SP_TaskBuilding_29</td>\n      <td>30.083309</td>\n      <td>-0.475717</td>\n      <td>177.916245</td>\n      <td>30.083307</td>\n      <td>-0.475717</td>\n      <td>177.916245</td>\n      <td>30.070000</td>\n      <td>-0.216000</td>\n      <td>...</td>\n      <td>1.0</td>\n      <td>0.166026</td>\n      <td>2.101680e-03</td>\n      <td>-0.986119</td>\n      <td>-3.791834e-03</td>\n      <td>0.999992</td>\n      <td>1.492841e-03</td>\n      <td>-0.986114</td>\n      <td>-3.491349e-03</td>\n      <td>-0.166033</td>\n    </tr>\n    <tr>\n      <th>5</th>\n      <td>20</td>\n      <td>SP_TaskBuilding_20</td>\n      <td>195.920258</td>\n      <td>-1.826742</td>\n      <td>-80.497787</td>\n      <td>195.920258</td>\n      <td>-1.826742</td>\n      <td>-80.497787</td>\n      <td>195.919998</td>\n      <td>-2.510000</td>\n      <td>...</td>\n      <td>1.0</td>\n      <td>-0.635811</td>\n      <td>-3.195868e-03</td>\n      <td>0.771838</td>\n      <td>-2.700125e-03</td>\n      <td>0.999995</td>\n      <td>1.916310e-03</td>\n      <td>0.771840</td>\n      <td>8.656483e-04</td>\n      <td>0.635816</td>\n    </tr>\n    <tr>\n      <th>6</th>\n      <td>34</td>\n      <td>SP_TaskBuilding_34</td>\n      <td>-46.292664</td>\n      <td>0.974889</td>\n      <td>151.395493</td>\n      <td>-46.292664</td>\n      <td>0.974889</td>\n      <td>151.395477</td>\n      <td>-46.299999</td>\n      <td>1.390000</td>\n      <td>...</td>\n      <td>1.0</td>\n      <td>0.404591</td>\n      <td>2.844915e-03</td>\n      <td>-0.914493</td>\n      <td>-2.700125e-03</td>\n      <td>0.999995</td>\n      <td>1.916310e-03</td>\n      <td>-0.914494</td>\n      <td>-1.693924e-03</td>\n      <td>-0.404597</td>\n    </tr>\n    <tr>\n      <th>7</th>\n      <td>43</td>\n      <td>SP_TaskBuilding_43</td>\n      <td>-145.235855</td>\n      <td>0.976016</td>\n      <td>-40.267723</td>\n      <td>-145.235855</td>\n      <td>0.976016</td>\n      <td>-40.267727</td>\n      <td>-145.229996</td>\n      <td>1.291000</td>\n      <td>...</td>\n      <td>1.0</td>\n      <td>0.683276</td>\n      <td>3.244148e-03</td>\n      <td>-0.730153</td>\n      <td>-2.700125e-03</td>\n      <td>0.999995</td>\n      <td>1.916310e-03</td>\n      <td>-0.730155</td>\n      <td>-6.621348e-04</td>\n      <td>-0.683281</td>\n    </tr>\n    <tr>\n      <th>8</th>\n      <td>45</td>\n      <td>SP_TaskBuilding_45</td>\n      <td>-142.188049</td>\n      <td>-1.789833</td>\n      <td>-184.783508</td>\n      <td>-142.188049</td>\n      <td>-1.789833</td>\n      <td>-184.783508</td>\n      <td>-142.179993</td>\n      <td>-1.760000</td>\n      <td>...</td>\n      <td>1.0</td>\n      <td>-0.525191</td>\n      <td>2.126690e-04</td>\n      <td>-0.850984</td>\n      <td>-2.700125e-03</td>\n      <td>0.999995</td>\n      <td>1.916310e-03</td>\n      <td>-0.850980</td>\n      <td>-3.304193e-03</td>\n      <td>0.525188</td>\n    </tr>\n    <tr>\n      <th>9</th>\n      <td>25</td>\n      <td>SP_TaskBuilding_25</td>\n      <td>103.361137</td>\n      <td>-4.799697</td>\n      <td>-182.246994</td>\n      <td>103.361137</td>\n      <td>-4.799697</td>\n      <td>-182.246994</td>\n      <td>103.360001</td>\n      <td>-5.428000</td>\n      <td>...</td>\n      <td>1.0</td>\n      <td>-0.199725</td>\n      <td>1.338425e-03</td>\n      <td>-0.979851</td>\n      <td>-2.700125e-03</td>\n      <td>0.999995</td>\n      <td>1.916310e-03</td>\n      <td>-0.979849</td>\n      <td>-3.028455e-03</td>\n      <td>0.199720</td>\n    </tr>\n    <tr>\n      <th>10</th>\n      <td>21</td>\n      <td>SP_TaskBuilding_21</td>\n      <td>138.591415</td>\n      <td>-3.519833</td>\n      <td>-128.356964</td>\n      <td>138.591415</td>\n      <td>-3.519833</td>\n      <td>-128.356964</td>\n      <td>138.589996</td>\n      <td>-4.140000</td>\n      <td>...</td>\n      <td>1.0</td>\n      <td>0.638103</td>\n      <td>3.198427e-03</td>\n      <td>-0.769945</td>\n      <td>-2.700125e-03</td>\n      <td>0.999995</td>\n      <td>1.916310e-03</td>\n      <td>-0.769947</td>\n      <td>-8.561446e-04</td>\n      <td>-0.638108</td>\n    </tr>\n    <tr>\n      <th>11</th>\n      <td>52</td>\n      <td>SP_TaskBuilding_52</td>\n      <td>-243.075241</td>\n      <td>2.588058</td>\n      <td>39.462566</td>\n      <td>-243.075241</td>\n      <td>2.588058</td>\n      <td>39.462566</td>\n      <td>-243.070007</td>\n      <td>3.320000</td>\n      <td>...</td>\n      <td>1.0</td>\n      <td>-0.436831</td>\n      <td>-2.903309e-03</td>\n      <td>0.899539</td>\n      <td>-2.700125e-03</td>\n      <td>0.999995</td>\n      <td>1.916310e-03</td>\n      <td>0.899540</td>\n      <td>1.591765e-03</td>\n      <td>0.436836</td>\n    </tr>\n    <tr>\n      <th>12</th>\n      <td>55</td>\n      <td>SP_TaskBuilding_55</td>\n      <td>-326.726471</td>\n      <td>2.050282</td>\n      <td>3.927505</td>\n      <td>-326.726471</td>\n      <td>2.050283</td>\n      <td>3.927505</td>\n      <td>-326.720001</td>\n      <td>2.940000</td>\n      <td>...</td>\n      <td>1.0</td>\n      <td>-0.660040</td>\n      <td>-3.426039e-04</td>\n      <td>-0.751230</td>\n      <td>-2.700125e-03</td>\n      <td>0.999995</td>\n      <td>1.916310e-03</td>\n      <td>-0.751225</td>\n      <td>-3.293257e-03</td>\n      <td>0.660038</td>\n    </tr>\n    <tr>\n      <th>13</th>\n      <td>54</td>\n      <td>SP_TaskBuilding_54</td>\n      <td>-321.041016</td>\n      <td>1.864460</td>\n      <td>77.596870</td>\n      <td>-321.041016</td>\n      <td>1.864460</td>\n      <td>77.596878</td>\n      <td>-321.040009</td>\n      <td>2.880000</td>\n      <td>...</td>\n      <td>1.0</td>\n      <td>-0.669801</td>\n      <td>-3.856095e-04</td>\n      <td>-0.742541</td>\n      <td>-2.700125e-03</td>\n      <td>0.999995</td>\n      <td>1.916310e-03</td>\n      <td>-0.742536</td>\n      <td>-3.288499e-03</td>\n      <td>0.669798</td>\n    </tr>\n    <tr>\n      <th>14</th>\n      <td>51</td>\n      <td>SP_TaskBuilding_51</td>\n      <td>-228.901550</td>\n      <td>1.277502</td>\n      <td>190.179321</td>\n      <td>-228.901550</td>\n      <td>1.277502</td>\n      <td>190.179321</td>\n      <td>-228.910004</td>\n      <td>2.260000</td>\n      <td>...</td>\n      <td>1.0</td>\n      <td>-0.711677</td>\n      <td>-5.753986e-04</td>\n      <td>-0.702507</td>\n      <td>-2.700125e-03</td>\n      <td>0.999995</td>\n      <td>1.916310e-03</td>\n      <td>-0.702502</td>\n      <td>-3.260649e-03</td>\n      <td>0.711674</td>\n    </tr>\n    <tr>\n      <th>15</th>\n      <td>40</td>\n      <td>SP_TaskBuilding_40</td>\n      <td>-101.047653</td>\n      <td>2.032324</td>\n      <td>122.551407</td>\n      <td>-101.047653</td>\n      <td>2.032323</td>\n      <td>122.551407</td>\n      <td>-101.050003</td>\n      <td>2.540000</td>\n      <td>...</td>\n      <td>1.0</td>\n      <td>-0.546861</td>\n      <td>-3.080978e-03</td>\n      <td>0.837218</td>\n      <td>-2.700125e-03</td>\n      <td>0.999995</td>\n      <td>1.916310e-03</td>\n      <td>0.837219</td>\n      <td>1.212639e-03</td>\n      <td>0.546866</td>\n    </tr>\n    <tr>\n      <th>16</th>\n      <td>14</td>\n      <td>SP_TaskBuilding_14</td>\n      <td>216.941422</td>\n      <td>-0.630068</td>\n      <td>133.503387</td>\n      <td>216.941422</td>\n      <td>-0.630068</td>\n      <td>133.503387</td>\n      <td>216.929993</td>\n      <td>-0.960000</td>\n      <td>...</td>\n      <td>1.0</td>\n      <td>0.698280</td>\n      <td>3.257188e-03</td>\n      <td>-0.715818</td>\n      <td>-2.700125e-03</td>\n      <td>0.999995</td>\n      <td>1.916310e-03</td>\n      <td>-0.715820</td>\n      <td>-5.946765e-04</td>\n      <td>-0.698285</td>\n    </tr>\n    <tr>\n      <th>17</th>\n      <td>5</td>\n      <td>SP_TaskBuilding_5</td>\n      <td>2.451136</td>\n      <td>0.616729</td>\n      <td>41.691082</td>\n      <td>2.451136</td>\n      <td>0.616729</td>\n      <td>41.691082</td>\n      <td>2.450000</td>\n      <td>0.690000</td>\n      <td>...</td>\n      <td>1.0</td>\n      <td>-0.907683</td>\n      <td>-1.646683e-03</td>\n      <td>-0.419653</td>\n      <td>-2.700125e-03</td>\n      <td>0.999995</td>\n      <td>1.916310e-03</td>\n      <td>-0.419648</td>\n      <td>-2.872517e-03</td>\n      <td>0.907683</td>\n    </tr>\n    <tr>\n      <th>18</th>\n      <td>1</td>\n      <td>SP_TaskBuilding_1</td>\n      <td>257.839844</td>\n      <td>-0.401294</td>\n      <td>-32.619427</td>\n      <td>257.839844</td>\n      <td>-0.401294</td>\n      <td>-32.619427</td>\n      <td>257.839996</td>\n      <td>-1.160000</td>\n      <td>...</td>\n      <td>1.0</td>\n      <td>-0.592875</td>\n      <td>-3.144035e-03</td>\n      <td>0.805289</td>\n      <td>-2.700125e-03</td>\n      <td>0.999995</td>\n      <td>1.916310e-03</td>\n      <td>0.805290</td>\n      <td>1.038249e-03</td>\n      <td>0.592880</td>\n    </tr>\n    <tr>\n      <th>19</th>\n      <td>44</td>\n      <td>SP_TaskBuilding_44</td>\n      <td>-114.325958</td>\n      <td>-1.411310</td>\n      <td>-139.534698</td>\n      <td>-114.325951</td>\n      <td>-1.411310</td>\n      <td>-139.534698</td>\n      <td>-114.320000</td>\n      <td>-1.370000</td>\n      <td>...</td>\n      <td>1.0</td>\n      <td>-0.715405</td>\n      <td>-3.270631e-03</td>\n      <td>0.698703</td>\n      <td>-2.700125e-03</td>\n      <td>0.999995</td>\n      <td>1.916309e-03</td>\n      <td>0.698705</td>\n      <td>5.156469e-04</td>\n      <td>0.715410</td>\n    </tr>\n    <tr>\n      <th>20</th>\n      <td>58</td>\n      <td>SP_BasketballCourt_58</td>\n      <td>118.379997</td>\n      <td>-2.120000</td>\n      <td>-62.560001</td>\n      <td>118.379990</td>\n      <td>-2.120000</td>\n      <td>-62.560001</td>\n      <td>118.378029</td>\n      <td>-2.559514</td>\n      <td>...</td>\n      <td>1.0</td>\n      <td>-0.564175</td>\n      <td>5.966811e-11</td>\n      <td>0.825655</td>\n      <td>-1.324667e-10</td>\n      <td>1.000000</td>\n      <td>-1.627830e-10</td>\n      <td>0.825655</td>\n      <td>2.012099e-10</td>\n      <td>0.564175</td>\n    </tr>\n    <tr>\n      <th>21</th>\n      <td>35</td>\n      <td>SP_TaskBuilding_35</td>\n      <td>-61.519260</td>\n      <td>0.715586</td>\n      <td>27.766203</td>\n      <td>-61.519260</td>\n      <td>0.715586</td>\n      <td>27.766205</td>\n      <td>-61.518963</td>\n      <td>0.934900</td>\n      <td>...</td>\n      <td>1.0</td>\n      <td>-0.445422</td>\n      <td>-6.741502e-02</td>\n      <td>0.892779</td>\n      <td>-2.102448e-02</td>\n      <td>0.997674</td>\n      <td>6.484631e-02</td>\n      <td>0.895074</td>\n      <td>-1.011379e-02</td>\n      <td>0.445804</td>\n    </tr>\n    <tr>\n      <th>22</th>\n      <td>4</td>\n      <td>SP_TaskBuilding_4</td>\n      <td>47.080509</td>\n      <td>-4.003204</td>\n      <td>-156.391357</td>\n      <td>47.080509</td>\n      <td>-4.003204</td>\n      <td>-156.391373</td>\n      <td>47.080002</td>\n      <td>-4.430000</td>\n      <td>...</td>\n      <td>1.0</td>\n      <td>-0.038195</td>\n      <td>-2.018049e-03</td>\n      <td>0.999268</td>\n      <td>-2.700125e-03</td>\n      <td>0.999995</td>\n      <td>1.916310e-03</td>\n      <td>0.999267</td>\n      <td>2.624956e-03</td>\n      <td>0.038200</td>\n    </tr>\n    <tr>\n      <th>23</th>\n      <td>36</td>\n      <td>SP_TaskBuilding_36</td>\n      <td>-65.603775</td>\n      <td>-2.645481</td>\n      <td>-159.510620</td>\n      <td>-65.603775</td>\n      <td>-2.645481</td>\n      <td>-159.510620</td>\n      <td>-65.599998</td>\n      <td>-2.774000</td>\n      <td>...</td>\n      <td>1.0</td>\n      <td>0.703650</td>\n      <td>5.383175e-04</td>\n      <td>0.710547</td>\n      <td>-2.700125e-03</td>\n      <td>0.999995</td>\n      <td>1.916310e-03</td>\n      <td>0.710542</td>\n      <td>3.266976e-03</td>\n      <td>-0.703647</td>\n    </tr>\n    <tr>\n      <th>24</th>\n      <td>37</td>\n      <td>SP_TaskBuilding_37</td>\n      <td>-33.352345</td>\n      <td>-3.901010</td>\n      <td>-190.505417</td>\n      <td>-33.352345</td>\n      <td>-3.901010</td>\n      <td>-190.505432</td>\n      <td>-33.349998</td>\n      <td>-4.176000</td>\n      <td>...</td>\n      <td>1.0</td>\n      <td>-0.523389</td>\n      <td>2.196631e-04</td>\n      <td>-0.852094</td>\n      <td>-2.700125e-03</td>\n      <td>0.999995</td>\n      <td>1.916310e-03</td>\n      <td>-0.852090</td>\n      <td>-3.303735e-03</td>\n      <td>0.523385</td>\n    </tr>\n    <tr>\n      <th>25</th>\n      <td>18</td>\n      <td>SP_TaskBuilding_18</td>\n      <td>174.541840</td>\n      <td>-0.658548</td>\n      <td>140.806412</td>\n      <td>174.541840</td>\n      <td>-0.658548</td>\n      <td>140.806412</td>\n      <td>174.529999</td>\n      <td>-0.860000</td>\n      <td>...</td>\n      <td>1.0</td>\n      <td>-0.776730</td>\n      <td>-8.903158e-04</td>\n      <td>-0.629834</td>\n      <td>-2.700125e-03</td>\n      <td>0.999995</td>\n      <td>1.916310e-03</td>\n      <td>-0.629828</td>\n      <td>-3.189084e-03</td>\n      <td>0.776728</td>\n    </tr>\n    <tr>\n      <th>26</th>\n      <td>2</td>\n      <td>SP_TaskBuilding_2</td>\n      <td>201.651260</td>\n      <td>-2.249071</td>\n      <td>215.801544</td>\n      <td>201.651260</td>\n      <td>-2.249071</td>\n      <td>215.801544</td>\n      <td>201.630005</td>\n      <td>-2.380000</td>\n      <td>...</td>\n      <td>1.0</td>\n      <td>-0.107144</td>\n      <td>-2.194589e-03</td>\n      <td>0.994241</td>\n      <td>-2.700125e-03</td>\n      <td>0.999995</td>\n      <td>1.916310e-03</td>\n      <td>0.994240</td>\n      <td>2.479254e-03</td>\n      <td>0.107150</td>\n    </tr>\n    <tr>\n      <th>27</th>\n      <td>19</td>\n      <td>SP_TaskBuilding_19</td>\n      <td>110.677322</td>\n      <td>-1.378735</td>\n      <td>197.029724</td>\n      <td>110.677322</td>\n      <td>-1.378735</td>\n      <td>197.029724</td>\n      <td>110.660004</td>\n      <td>-1.300000</td>\n      <td>...</td>\n      <td>1.0</td>\n      <td>-0.007237</td>\n      <td>-1.935807e-03</td>\n      <td>0.999972</td>\n      <td>-2.700125e-03</td>\n      <td>0.999995</td>\n      <td>1.916310e-03</td>\n      <td>0.999970</td>\n      <td>2.686181e-03</td>\n      <td>0.007242</td>\n    </tr>\n  </tbody>\n</table>\n<p>28 rows × 40 columns</p>\n</div>"
     },
     "execution_count": 1377,
     "metadata": {},
     "output_type": "execute_result"
    }
   ],
   "source": [
    "starting_locations"
   ],
   "metadata": {
    "collapsed": false,
    "pycharm": {
     "name": "#%%\n"
    }
   }
  },
  {
   "cell_type": "code",
   "execution_count": 1378,
   "outputs": [
    {
     "name": "stdout",
     "output_type": "stream",
     "text": [
      "<class 'pandas.core.frame.DataFrame'>\n",
      "Int64Index: 28 entries, 0 to 27\n",
      "Data columns (total 40 columns):\n",
      " #   Column                             Non-Null Count  Dtype  \n",
      "---  ------                             --------------  -----  \n",
      " 0   SpawnPointID                       28 non-null     int64  \n",
      " 1   SpawnPointName                     28 non-null     object \n",
      " 2   SpawnPointCenterWorld.x            28 non-null     float64\n",
      " 3   SpawnPointCenterWorld.y            28 non-null     float64\n",
      " 4   SpawnPointCenterWorld.z            28 non-null     float64\n",
      " 5   SpawnPointPositionGlobal.x         28 non-null     float64\n",
      " 6   SpawnPointPositionGlobal.y         28 non-null     float64\n",
      " 7   SpawnPointPositionGlobal.z         28 non-null     float64\n",
      " 8   SpawnPointPositionLocal.x          28 non-null     float64\n",
      " 9   SpawnPointPositionLocal.y          28 non-null     float64\n",
      " 10  SpawnPointPositionLocal.z          28 non-null     float64\n",
      " 11  SpawnPointRotationGlobal.x         28 non-null     float64\n",
      " 12  SpawnPointRotationGlobal.y         28 non-null     float64\n",
      " 13  SpawnPointRotationGlobal.z         28 non-null     float64\n",
      " 14  SpawnPointRotationGlobal.w         28 non-null     float64\n",
      " 15  SpawnPointRotationLocal.x          28 non-null     float64\n",
      " 16  SpawnPointRotationLocal.y          28 non-null     float64\n",
      " 17  SpawnPointRotationLocal.z          28 non-null     float64\n",
      " 18  SpawnPointRotationLocal.w          28 non-null     float64\n",
      " 19  SpawnPointRotationVector3Global.x  28 non-null     float64\n",
      " 20  SpawnPointRotationVector3Global.y  28 non-null     float64\n",
      " 21  SpawnPointRotationVector3Global.z  28 non-null     float64\n",
      " 22  SpawnPointRotationVector3Local.x   28 non-null     float64\n",
      " 23  SpawnPointRotationVector3Local.y   28 non-null     float64\n",
      " 24  SpawnPointRotationVector3Local.z   28 non-null     float64\n",
      " 25  SpawnPointLossyScale.x             28 non-null     float64\n",
      " 26  SpawnPointLossyScale.y             28 non-null     float64\n",
      " 27  SpawnPointLossyScale.z             28 non-null     float64\n",
      " 28  SpawnPointLocalScale.x             28 non-null     float64\n",
      " 29  SpawnPointLocalScale.y             28 non-null     float64\n",
      " 30  SpawnPointLocalScale.z             28 non-null     float64\n",
      " 31  SpawnPointForwardDirection.x       28 non-null     float64\n",
      " 32  SpawnPointForwardDirection.y       28 non-null     float64\n",
      " 33  SpawnPointForwardDirection.z       28 non-null     float64\n",
      " 34  SpawnPointUpDirection.x            28 non-null     float64\n",
      " 35  SpawnPointUpDirection.y            28 non-null     float64\n",
      " 36  SpawnPointUpDirection.z            28 non-null     float64\n",
      " 37  SpawnPointRightDirection.x         28 non-null     float64\n",
      " 38  SpawnPointRightDirection.y         28 non-null     float64\n",
      " 39  SpawnPointRightDirection.z         28 non-null     float64\n",
      "dtypes: float64(38), int64(1), object(1)\n",
      "memory usage: 9.0+ KB\n"
     ]
    }
   ],
   "source": [
    "starting_locations.info()"
   ],
   "metadata": {
    "collapsed": false,
    "pycharm": {
     "name": "#%%\n"
    }
   }
  },
  {
   "cell_type": "code",
   "execution_count": 1379,
   "outputs": [
    {
     "data": {
      "text/plain": "       SpawnPointID  SpawnPointCenterWorld.x  SpawnPointCenterWorld.y  \\\ncount      28.00000                28.000000                28.000000   \nmean       29.50000                -2.383237                -0.709571   \nstd        17.64569               177.731511                 1.972548   \nmin         1.00000              -326.726471                -4.799697   \n25%        17.00000              -121.291481                -1.900057   \n50%        32.00000               -15.450604                -0.552892   \n75%        43.25000               123.432852                 0.780412   \nmax        58.00000               366.741425                 2.588058   \n\n       SpawnPointCenterWorld.z  SpawnPointPositionGlobal.x  \\\ncount                28.000000                   28.000000   \nmean                 14.352128                   -2.383237   \nstd                 140.328744                  177.731510   \nmin                -190.505417                 -326.726471   \n25%                -131.151398                 -121.291475   \n50%                  33.614385                  -15.450604   \n75%                 135.329144                  123.432846   \nmax                 235.924225                  366.741425   \n\n       SpawnPointPositionGlobal.y  SpawnPointPositionGlobal.z  \\\ncount                   28.000000                   28.000000   \nmean                    -0.709571                   14.352127   \nstd                      1.972548                  140.328746   \nmin                     -4.799697                 -190.505432   \n25%                     -1.900057                 -131.151398   \n50%                     -0.552892                   33.614386   \n75%                      0.780412                  135.329144   \nmax                      2.588058                  235.924240   \n\n       SpawnPointPositionLocal.x  SpawnPointPositionLocal.y  \\\ncount                  28.000000                  28.000000   \nmean                   -2.386105                  -0.675629   \nstd                   177.727034                   2.395919   \nmin                  -326.720001                  -5.428000   \n25%                  -121.284998                  -2.412500   \n50%                   -15.449999                  -0.910000   \n75%                   123.431021                   1.023925   \nmax                   366.730011                   3.320000   \n\n       SpawnPointPositionLocal.z  ...  SpawnPointLocalScale.z  \\\ncount                  28.000000  ...                    28.0   \nmean                   14.353289  ...                     1.0   \nstd                   140.327827  ...                     0.0   \nmin                  -190.500000  ...                     1.0   \n25%                  -131.139996  ...                     1.0   \n50%                    33.600171  ...                     1.0   \n75%                   135.345005  ...                     1.0   \nmax                   235.919998  ...                     1.0   \n\n       SpawnPointForwardDirection.x  SpawnPointForwardDirection.y  \\\ncount                     28.000000                     28.000000   \nmean                      -0.233701                     -0.002826   \nstd                        0.534446                      0.012823   \nmin                       -0.919156                     -0.067415   \n25%                       -0.641869                     -0.002062   \n50%                       -0.473126                     -0.000481   \n75%                        0.050504                      0.000364   \nmax                        0.703650                      0.003257   \n\n       SpawnPointForwardDirection.z  SpawnPointUpDirection.x  \\\ncount                     28.000000             2.800000e+01   \nmean                      -0.003459            -3.297123e-03   \nstd                        0.833415             3.518654e-03   \nmin                       -0.986119            -2.102448e-02   \n25%                       -0.755909            -2.700125e-03   \n50%                       -0.406772            -2.700125e-03   \n75%                        0.828546            -2.700125e-03   \nmax                        0.999972            -1.324667e-10   \n\n       SpawnPointUpDirection.y  SpawnPointUpDirection.z  \\\ncount                28.000000             2.800000e+01   \nmean                  0.999912             4.080246e-03   \nstd                   0.000439             1.191470e-02   \nmin                   0.997674            -1.627830e-10   \n25%                   0.999995             1.916310e-03   \n50%                   0.999995             1.916310e-03   \n75%                   0.999995             1.916310e-03   \nmax                   1.000000             6.484631e-02   \n\n       SpawnPointRightDirection.x  SpawnPointRightDirection.y  \\\ncount                   28.000000                   28.000000   \nmean                    -0.003376                   -0.000956   \nstd                      0.833505                    0.003038   \nmin                     -0.986114                   -0.010114   \n25%                     -0.755906                   -0.003268   \n50%                     -0.406766                   -0.000759   \n75%                      0.828546                    0.001307   \nmax                      0.999970                    0.003303   \n\n       SpawnPointRightDirection.z  \ncount                   28.000000  \nmean                     0.233715  \nstd                      0.534452  \nmin                     -0.703647  \n25%                     -0.050502  \n50%                      0.473315  \n75%                      0.641872  \nmax                      0.919155  \n\n[8 rows x 39 columns]",
      "text/html": "<div>\n<style scoped>\n    .dataframe tbody tr th:only-of-type {\n        vertical-align: middle;\n    }\n\n    .dataframe tbody tr th {\n        vertical-align: top;\n    }\n\n    .dataframe thead th {\n        text-align: right;\n    }\n</style>\n<table border=\"1\" class=\"dataframe\">\n  <thead>\n    <tr style=\"text-align: right;\">\n      <th></th>\n      <th>SpawnPointID</th>\n      <th>SpawnPointCenterWorld.x</th>\n      <th>SpawnPointCenterWorld.y</th>\n      <th>SpawnPointCenterWorld.z</th>\n      <th>SpawnPointPositionGlobal.x</th>\n      <th>SpawnPointPositionGlobal.y</th>\n      <th>SpawnPointPositionGlobal.z</th>\n      <th>SpawnPointPositionLocal.x</th>\n      <th>SpawnPointPositionLocal.y</th>\n      <th>SpawnPointPositionLocal.z</th>\n      <th>...</th>\n      <th>SpawnPointLocalScale.z</th>\n      <th>SpawnPointForwardDirection.x</th>\n      <th>SpawnPointForwardDirection.y</th>\n      <th>SpawnPointForwardDirection.z</th>\n      <th>SpawnPointUpDirection.x</th>\n      <th>SpawnPointUpDirection.y</th>\n      <th>SpawnPointUpDirection.z</th>\n      <th>SpawnPointRightDirection.x</th>\n      <th>SpawnPointRightDirection.y</th>\n      <th>SpawnPointRightDirection.z</th>\n    </tr>\n  </thead>\n  <tbody>\n    <tr>\n      <th>count</th>\n      <td>28.00000</td>\n      <td>28.000000</td>\n      <td>28.000000</td>\n      <td>28.000000</td>\n      <td>28.000000</td>\n      <td>28.000000</td>\n      <td>28.000000</td>\n      <td>28.000000</td>\n      <td>28.000000</td>\n      <td>28.000000</td>\n      <td>...</td>\n      <td>28.0</td>\n      <td>28.000000</td>\n      <td>28.000000</td>\n      <td>28.000000</td>\n      <td>2.800000e+01</td>\n      <td>28.000000</td>\n      <td>2.800000e+01</td>\n      <td>28.000000</td>\n      <td>28.000000</td>\n      <td>28.000000</td>\n    </tr>\n    <tr>\n      <th>mean</th>\n      <td>29.50000</td>\n      <td>-2.383237</td>\n      <td>-0.709571</td>\n      <td>14.352128</td>\n      <td>-2.383237</td>\n      <td>-0.709571</td>\n      <td>14.352127</td>\n      <td>-2.386105</td>\n      <td>-0.675629</td>\n      <td>14.353289</td>\n      <td>...</td>\n      <td>1.0</td>\n      <td>-0.233701</td>\n      <td>-0.002826</td>\n      <td>-0.003459</td>\n      <td>-3.297123e-03</td>\n      <td>0.999912</td>\n      <td>4.080246e-03</td>\n      <td>-0.003376</td>\n      <td>-0.000956</td>\n      <td>0.233715</td>\n    </tr>\n    <tr>\n      <th>std</th>\n      <td>17.64569</td>\n      <td>177.731511</td>\n      <td>1.972548</td>\n      <td>140.328744</td>\n      <td>177.731510</td>\n      <td>1.972548</td>\n      <td>140.328746</td>\n      <td>177.727034</td>\n      <td>2.395919</td>\n      <td>140.327827</td>\n      <td>...</td>\n      <td>0.0</td>\n      <td>0.534446</td>\n      <td>0.012823</td>\n      <td>0.833415</td>\n      <td>3.518654e-03</td>\n      <td>0.000439</td>\n      <td>1.191470e-02</td>\n      <td>0.833505</td>\n      <td>0.003038</td>\n      <td>0.534452</td>\n    </tr>\n    <tr>\n      <th>min</th>\n      <td>1.00000</td>\n      <td>-326.726471</td>\n      <td>-4.799697</td>\n      <td>-190.505417</td>\n      <td>-326.726471</td>\n      <td>-4.799697</td>\n      <td>-190.505432</td>\n      <td>-326.720001</td>\n      <td>-5.428000</td>\n      <td>-190.500000</td>\n      <td>...</td>\n      <td>1.0</td>\n      <td>-0.919156</td>\n      <td>-0.067415</td>\n      <td>-0.986119</td>\n      <td>-2.102448e-02</td>\n      <td>0.997674</td>\n      <td>-1.627830e-10</td>\n      <td>-0.986114</td>\n      <td>-0.010114</td>\n      <td>-0.703647</td>\n    </tr>\n    <tr>\n      <th>25%</th>\n      <td>17.00000</td>\n      <td>-121.291481</td>\n      <td>-1.900057</td>\n      <td>-131.151398</td>\n      <td>-121.291475</td>\n      <td>-1.900057</td>\n      <td>-131.151398</td>\n      <td>-121.284998</td>\n      <td>-2.412500</td>\n      <td>-131.139996</td>\n      <td>...</td>\n      <td>1.0</td>\n      <td>-0.641869</td>\n      <td>-0.002062</td>\n      <td>-0.755909</td>\n      <td>-2.700125e-03</td>\n      <td>0.999995</td>\n      <td>1.916310e-03</td>\n      <td>-0.755906</td>\n      <td>-0.003268</td>\n      <td>-0.050502</td>\n    </tr>\n    <tr>\n      <th>50%</th>\n      <td>32.00000</td>\n      <td>-15.450604</td>\n      <td>-0.552892</td>\n      <td>33.614385</td>\n      <td>-15.450604</td>\n      <td>-0.552892</td>\n      <td>33.614386</td>\n      <td>-15.449999</td>\n      <td>-0.910000</td>\n      <td>33.600171</td>\n      <td>...</td>\n      <td>1.0</td>\n      <td>-0.473126</td>\n      <td>-0.000481</td>\n      <td>-0.406772</td>\n      <td>-2.700125e-03</td>\n      <td>0.999995</td>\n      <td>1.916310e-03</td>\n      <td>-0.406766</td>\n      <td>-0.000759</td>\n      <td>0.473315</td>\n    </tr>\n    <tr>\n      <th>75%</th>\n      <td>43.25000</td>\n      <td>123.432852</td>\n      <td>0.780412</td>\n      <td>135.329144</td>\n      <td>123.432846</td>\n      <td>0.780412</td>\n      <td>135.329144</td>\n      <td>123.431021</td>\n      <td>1.023925</td>\n      <td>135.345005</td>\n      <td>...</td>\n      <td>1.0</td>\n      <td>0.050504</td>\n      <td>0.000364</td>\n      <td>0.828546</td>\n      <td>-2.700125e-03</td>\n      <td>0.999995</td>\n      <td>1.916310e-03</td>\n      <td>0.828546</td>\n      <td>0.001307</td>\n      <td>0.641872</td>\n    </tr>\n    <tr>\n      <th>max</th>\n      <td>58.00000</td>\n      <td>366.741425</td>\n      <td>2.588058</td>\n      <td>235.924225</td>\n      <td>366.741425</td>\n      <td>2.588058</td>\n      <td>235.924240</td>\n      <td>366.730011</td>\n      <td>3.320000</td>\n      <td>235.919998</td>\n      <td>...</td>\n      <td>1.0</td>\n      <td>0.703650</td>\n      <td>0.003257</td>\n      <td>0.999972</td>\n      <td>-1.324667e-10</td>\n      <td>1.000000</td>\n      <td>6.484631e-02</td>\n      <td>0.999970</td>\n      <td>0.003303</td>\n      <td>0.919155</td>\n    </tr>\n  </tbody>\n</table>\n<p>8 rows × 39 columns</p>\n</div>"
     },
     "execution_count": 1379,
     "metadata": {},
     "output_type": "execute_result"
    }
   ],
   "source": [
    "starting_locations.describe()"
   ],
   "metadata": {
    "collapsed": false,
    "pycharm": {
     "name": "#%%\n"
    }
   }
  },
  {
   "cell_type": "markdown",
   "source": [
    "Check for the number of participants"
   ],
   "metadata": {
    "collapsed": false
   }
  },
  {
   "cell_type": "code",
   "execution_count": 1380,
   "outputs": [
    {
     "name": "stdout",
     "output_type": "stream",
     "text": [
      " Subject IDs: [ 365 3572 4176 5741 6642 7264 7842 8469 9472]\n",
      " Number of participants: 9\n"
     ]
    }
   ],
   "source": [
    "subj_ids = dataset.SubjectID.unique()\n",
    "print(f' Subject IDs: {subj_ids}\\n',\n",
    "      f'Number of participants: {len(subj_ids)}')"
   ],
   "metadata": {
    "collapsed": false,
    "pycharm": {
     "name": "#%%\n"
    }
   }
  },
  {
   "cell_type": "markdown",
   "source": [
    "## Clean dataframes"
   ],
   "metadata": {
    "collapsed": false
   }
  },
  {
   "cell_type": "markdown",
   "source": [
    "Remove redundant variables"
   ],
   "metadata": {
    "collapsed": false
   }
  },
  {
   "cell_type": "code",
   "execution_count": 1381,
   "outputs": [
    {
     "data": {
      "text/plain": "   SubjectID  ParticipantPosition_x  ParticipantPosition_z  PointerPosition_x  \\\n0        365             -33.362625            -190.912018         -33.590775   \n1        365             118.412003             -62.941864         118.647705   \n2        365             257.929993             -33.097687         257.598694   \n3        365            -242.933212              39.037964        -242.879013   \n4        365            -320.974487              77.197166        -320.853760   \n\n   PointerPosition_z  PointerDirection_x  PointerDirection_z  \\\n0        -190.709625           -0.729280            0.681399   \n1         -63.044891            0.943334            0.254118   \n2         -32.840240           -0.831603            0.513045   \n3          38.953239            0.985110            0.151506   \n4          77.009575            0.907607           -0.416039   \n\n  PointingTargetName  PointingTargetBuildingId  Agent  avatarID  meaningful  \\\n0        01_CmA_0_14                        14   True         1        True   \n1        01_CmA_0_14                        14   True         1        True   \n2        01_CmA_0_14                        14   True         1        True   \n3        01_CmA_0_14                        14   True         1        True   \n4        01_CmA_0_14                        14   True         1        True   \n\n   TrialID ImageName                  TimeDelta        RT  TimeOut  \\\n0       29    01_CmA  0 days 00:00:07.635420416  7.635421    False   \n1      102    01_CmA  0 days 00:00:03.853917952  3.853918    False   \n2      155    01_CmA  0 days 00:00:03.418430208  3.418430    False   \n3      223    01_CmA  0 days 00:00:04.257166592  4.257167    False   \n4      303    01_CmA  0 days 00:00:02.474542336  2.474542    False   \n\n                  TimeStampBegin                   TimeStampEnd  \n0  2021-11-18 10:26:39.660960000  2021-11-18 10:26:47.296380416  \n1  2021-11-18 10:34:18.716167680  2021-11-18 10:34:22.570085632  \n2  2021-11-18 10:40:28.512252160  2021-11-18 10:40:31.930682368  \n3  2021-11-18 10:47:55.246826496  2021-11-18 10:47:59.503993088  \n4  2021-11-18 11:08:19.997678080  2021-11-18 11:08:22.472220416  ",
      "text/html": "<div>\n<style scoped>\n    .dataframe tbody tr th:only-of-type {\n        vertical-align: middle;\n    }\n\n    .dataframe tbody tr th {\n        vertical-align: top;\n    }\n\n    .dataframe thead th {\n        text-align: right;\n    }\n</style>\n<table border=\"1\" class=\"dataframe\">\n  <thead>\n    <tr style=\"text-align: right;\">\n      <th></th>\n      <th>SubjectID</th>\n      <th>ParticipantPosition_x</th>\n      <th>ParticipantPosition_z</th>\n      <th>PointerPosition_x</th>\n      <th>PointerPosition_z</th>\n      <th>PointerDirection_x</th>\n      <th>PointerDirection_z</th>\n      <th>PointingTargetName</th>\n      <th>PointingTargetBuildingId</th>\n      <th>Agent</th>\n      <th>avatarID</th>\n      <th>meaningful</th>\n      <th>TrialID</th>\n      <th>ImageName</th>\n      <th>TimeDelta</th>\n      <th>RT</th>\n      <th>TimeOut</th>\n      <th>TimeStampBegin</th>\n      <th>TimeStampEnd</th>\n    </tr>\n  </thead>\n  <tbody>\n    <tr>\n      <th>0</th>\n      <td>365</td>\n      <td>-33.362625</td>\n      <td>-190.912018</td>\n      <td>-33.590775</td>\n      <td>-190.709625</td>\n      <td>-0.729280</td>\n      <td>0.681399</td>\n      <td>01_CmA_0_14</td>\n      <td>14</td>\n      <td>True</td>\n      <td>1</td>\n      <td>True</td>\n      <td>29</td>\n      <td>01_CmA</td>\n      <td>0 days 00:00:07.635420416</td>\n      <td>7.635421</td>\n      <td>False</td>\n      <td>2021-11-18 10:26:39.660960000</td>\n      <td>2021-11-18 10:26:47.296380416</td>\n    </tr>\n    <tr>\n      <th>1</th>\n      <td>365</td>\n      <td>118.412003</td>\n      <td>-62.941864</td>\n      <td>118.647705</td>\n      <td>-63.044891</td>\n      <td>0.943334</td>\n      <td>0.254118</td>\n      <td>01_CmA_0_14</td>\n      <td>14</td>\n      <td>True</td>\n      <td>1</td>\n      <td>True</td>\n      <td>102</td>\n      <td>01_CmA</td>\n      <td>0 days 00:00:03.853917952</td>\n      <td>3.853918</td>\n      <td>False</td>\n      <td>2021-11-18 10:34:18.716167680</td>\n      <td>2021-11-18 10:34:22.570085632</td>\n    </tr>\n    <tr>\n      <th>2</th>\n      <td>365</td>\n      <td>257.929993</td>\n      <td>-33.097687</td>\n      <td>257.598694</td>\n      <td>-32.840240</td>\n      <td>-0.831603</td>\n      <td>0.513045</td>\n      <td>01_CmA_0_14</td>\n      <td>14</td>\n      <td>True</td>\n      <td>1</td>\n      <td>True</td>\n      <td>155</td>\n      <td>01_CmA</td>\n      <td>0 days 00:00:03.418430208</td>\n      <td>3.418430</td>\n      <td>False</td>\n      <td>2021-11-18 10:40:28.512252160</td>\n      <td>2021-11-18 10:40:31.930682368</td>\n    </tr>\n    <tr>\n      <th>3</th>\n      <td>365</td>\n      <td>-242.933212</td>\n      <td>39.037964</td>\n      <td>-242.879013</td>\n      <td>38.953239</td>\n      <td>0.985110</td>\n      <td>0.151506</td>\n      <td>01_CmA_0_14</td>\n      <td>14</td>\n      <td>True</td>\n      <td>1</td>\n      <td>True</td>\n      <td>223</td>\n      <td>01_CmA</td>\n      <td>0 days 00:00:04.257166592</td>\n      <td>4.257167</td>\n      <td>False</td>\n      <td>2021-11-18 10:47:55.246826496</td>\n      <td>2021-11-18 10:47:59.503993088</td>\n    </tr>\n    <tr>\n      <th>4</th>\n      <td>365</td>\n      <td>-320.974487</td>\n      <td>77.197166</td>\n      <td>-320.853760</td>\n      <td>77.009575</td>\n      <td>0.907607</td>\n      <td>-0.416039</td>\n      <td>01_CmA_0_14</td>\n      <td>14</td>\n      <td>True</td>\n      <td>1</td>\n      <td>True</td>\n      <td>303</td>\n      <td>01_CmA</td>\n      <td>0 days 00:00:02.474542336</td>\n      <td>2.474542</td>\n      <td>False</td>\n      <td>2021-11-18 11:08:19.997678080</td>\n      <td>2021-11-18 11:08:22.472220416</td>\n    </tr>\n  </tbody>\n</table>\n</div>"
     },
     "execution_count": 1381,
     "metadata": {},
     "output_type": "execute_result"
    }
   ],
   "source": [
    "df_cleaned = dataset.drop(columns=[\n",
    "    'AvatarPresence',\n",
    "    'meaningfulBuilding',\n",
    "    'AvatarPresenceCategory',\n",
    "    'Context',\n",
    "    'PointingTargetCondition',\n",
    "    'BuildingPositionLocal_x',\n",
    "    'BuildingPositionLocal_y',\n",
    "    'BuildingPositionLocal_z',\n",
    "    'PointingTargetIndex',\n",
    "    'PointerDirection_y',\n",
    "    'vector_PartPos',\n",
    "    'vector_BuildingPos',\n",
    "    'vector_PointerPos',\n",
    "    'Vector_Participant-Building',\n",
    "    'Vector_Participant-Pointer',\n",
    "    'Dot_Pointer-Building-Participant',\n",
    "    'Magnitud_Participant-Pointer',\n",
    "    'Magnitud_Participant-Building',\n",
    "    'Angle',\n",
    "    'SignedAngle-+180',\n",
    "    'SignedAngle360',\n",
    "    'Trials',\n",
    "    'DistanceToParticipant',\n",
    "    'radians',\n",
    "    'degrees',\n",
    "    'PointingTargetId'\n",
    "])\n",
    "\n",
    "df_cleaned.head()"
   ],
   "metadata": {
    "collapsed": false,
    "pycharm": {
     "name": "#%%\n"
    }
   }
  },
  {
   "cell_type": "markdown",
   "source": [
    "Join `building center` values to the df_cleaned"
   ],
   "metadata": {
    "collapsed": false
   }
  },
  {
   "cell_type": "code",
   "execution_count": 1382,
   "outputs": [
    {
     "data": {
      "text/plain": "   SubjectID  ParticipantPosition_x  ParticipantPosition_z  PointerPosition_x  \\\n0        365             -33.362625            -190.912018         -33.590775   \n1        365             118.412003             -62.941864         118.647705   \n2        365             257.929993             -33.097687         257.598694   \n3        365            -242.933212              39.037964        -242.879013   \n4        365            -320.974487              77.197166        -320.853760   \n\n   PointerPosition_z  PointerDirection_x  PointerDirection_z  \\\n0        -190.709625           -0.729280            0.681399   \n1         -63.044891            0.943334            0.254118   \n2         -32.840240           -0.831603            0.513045   \n3          38.953239            0.985110            0.151506   \n4          77.009575            0.907607           -0.416039   \n\n  PointingTargetName  Agent  avatarID  ...  TrialID  ImageName  \\\n0        01_CmA_0_14   True         1  ...       29     01_CmA   \n1        01_CmA_0_14   True         1  ...      102     01_CmA   \n2        01_CmA_0_14   True         1  ...      155     01_CmA   \n3        01_CmA_0_14   True         1  ...      223     01_CmA   \n4        01_CmA_0_14   True         1  ...      303     01_CmA   \n\n                   TimeDelta        RT  TimeOut  \\\n0  0 days 00:00:07.635420416  7.635421    False   \n1  0 days 00:00:03.853917952  3.853918    False   \n2  0 days 00:00:03.418430208  3.418430    False   \n3  0 days 00:00:04.257166592  4.257167    False   \n4  0 days 00:00:02.474542336  2.474542    False   \n\n                  TimeStampBegin                   TimeStampEnd BuildingID  \\\n0  2021-11-18 10:26:39.660960000  2021-11-18 10:26:47.296380416         14   \n1  2021-11-18 10:34:18.716167680  2021-11-18 10:34:22.570085632         14   \n2  2021-11-18 10:40:28.512252160  2021-11-18 10:40:31.930682368         14   \n3  2021-11-18 10:47:55.246826496  2021-11-18 10:47:59.503993088         14   \n4  2021-11-18 11:08:19.997678080  2021-11-18 11:08:22.472220416         14   \n\n   BuildingCenterWorld.x  BuildingCenterWorld.z  \n0             227.649185             119.052856  \n1             227.649185             119.052856  \n2             227.649185             119.052856  \n3             227.649185             119.052856  \n4             227.649185             119.052856  \n\n[5 rows x 21 columns]",
      "text/html": "<div>\n<style scoped>\n    .dataframe tbody tr th:only-of-type {\n        vertical-align: middle;\n    }\n\n    .dataframe tbody tr th {\n        vertical-align: top;\n    }\n\n    .dataframe thead th {\n        text-align: right;\n    }\n</style>\n<table border=\"1\" class=\"dataframe\">\n  <thead>\n    <tr style=\"text-align: right;\">\n      <th></th>\n      <th>SubjectID</th>\n      <th>ParticipantPosition_x</th>\n      <th>ParticipantPosition_z</th>\n      <th>PointerPosition_x</th>\n      <th>PointerPosition_z</th>\n      <th>PointerDirection_x</th>\n      <th>PointerDirection_z</th>\n      <th>PointingTargetName</th>\n      <th>Agent</th>\n      <th>avatarID</th>\n      <th>...</th>\n      <th>TrialID</th>\n      <th>ImageName</th>\n      <th>TimeDelta</th>\n      <th>RT</th>\n      <th>TimeOut</th>\n      <th>TimeStampBegin</th>\n      <th>TimeStampEnd</th>\n      <th>BuildingID</th>\n      <th>BuildingCenterWorld.x</th>\n      <th>BuildingCenterWorld.z</th>\n    </tr>\n  </thead>\n  <tbody>\n    <tr>\n      <th>0</th>\n      <td>365</td>\n      <td>-33.362625</td>\n      <td>-190.912018</td>\n      <td>-33.590775</td>\n      <td>-190.709625</td>\n      <td>-0.729280</td>\n      <td>0.681399</td>\n      <td>01_CmA_0_14</td>\n      <td>True</td>\n      <td>1</td>\n      <td>...</td>\n      <td>29</td>\n      <td>01_CmA</td>\n      <td>0 days 00:00:07.635420416</td>\n      <td>7.635421</td>\n      <td>False</td>\n      <td>2021-11-18 10:26:39.660960000</td>\n      <td>2021-11-18 10:26:47.296380416</td>\n      <td>14</td>\n      <td>227.649185</td>\n      <td>119.052856</td>\n    </tr>\n    <tr>\n      <th>1</th>\n      <td>365</td>\n      <td>118.412003</td>\n      <td>-62.941864</td>\n      <td>118.647705</td>\n      <td>-63.044891</td>\n      <td>0.943334</td>\n      <td>0.254118</td>\n      <td>01_CmA_0_14</td>\n      <td>True</td>\n      <td>1</td>\n      <td>...</td>\n      <td>102</td>\n      <td>01_CmA</td>\n      <td>0 days 00:00:03.853917952</td>\n      <td>3.853918</td>\n      <td>False</td>\n      <td>2021-11-18 10:34:18.716167680</td>\n      <td>2021-11-18 10:34:22.570085632</td>\n      <td>14</td>\n      <td>227.649185</td>\n      <td>119.052856</td>\n    </tr>\n    <tr>\n      <th>2</th>\n      <td>365</td>\n      <td>257.929993</td>\n      <td>-33.097687</td>\n      <td>257.598694</td>\n      <td>-32.840240</td>\n      <td>-0.831603</td>\n      <td>0.513045</td>\n      <td>01_CmA_0_14</td>\n      <td>True</td>\n      <td>1</td>\n      <td>...</td>\n      <td>155</td>\n      <td>01_CmA</td>\n      <td>0 days 00:00:03.418430208</td>\n      <td>3.418430</td>\n      <td>False</td>\n      <td>2021-11-18 10:40:28.512252160</td>\n      <td>2021-11-18 10:40:31.930682368</td>\n      <td>14</td>\n      <td>227.649185</td>\n      <td>119.052856</td>\n    </tr>\n    <tr>\n      <th>3</th>\n      <td>365</td>\n      <td>-242.933212</td>\n      <td>39.037964</td>\n      <td>-242.879013</td>\n      <td>38.953239</td>\n      <td>0.985110</td>\n      <td>0.151506</td>\n      <td>01_CmA_0_14</td>\n      <td>True</td>\n      <td>1</td>\n      <td>...</td>\n      <td>223</td>\n      <td>01_CmA</td>\n      <td>0 days 00:00:04.257166592</td>\n      <td>4.257167</td>\n      <td>False</td>\n      <td>2021-11-18 10:47:55.246826496</td>\n      <td>2021-11-18 10:47:59.503993088</td>\n      <td>14</td>\n      <td>227.649185</td>\n      <td>119.052856</td>\n    </tr>\n    <tr>\n      <th>4</th>\n      <td>365</td>\n      <td>-320.974487</td>\n      <td>77.197166</td>\n      <td>-320.853760</td>\n      <td>77.009575</td>\n      <td>0.907607</td>\n      <td>-0.416039</td>\n      <td>01_CmA_0_14</td>\n      <td>True</td>\n      <td>1</td>\n      <td>...</td>\n      <td>303</td>\n      <td>01_CmA</td>\n      <td>0 days 00:00:02.474542336</td>\n      <td>2.474542</td>\n      <td>False</td>\n      <td>2021-11-18 11:08:19.997678080</td>\n      <td>2021-11-18 11:08:22.472220416</td>\n      <td>14</td>\n      <td>227.649185</td>\n      <td>119.052856</td>\n    </tr>\n  </tbody>\n</table>\n<p>5 rows × 21 columns</p>\n</div>"
     },
     "execution_count": 1382,
     "metadata": {},
     "output_type": "execute_result"
    }
   ],
   "source": [
    "df_cleaned = (\n",
    "    pd.merge(\n",
    "    df_cleaned,\n",
    "    all_buildings[['BuildingID', 'BuildingCenterWorld.x', 'BuildingCenterWorld.z']],\n",
    "    left_on='PointingTargetBuildingId',\n",
    "    right_on='BuildingID',\n",
    "    how='left')\n",
    "        .drop(columns=['PointingTargetBuildingId'])\n",
    ")\n",
    "\n",
    "df_cleaned.head()"
   ],
   "metadata": {
    "collapsed": false,
    "pycharm": {
     "name": "#%%\n"
    }
   }
  },
  {
   "cell_type": "code",
   "execution_count": 1404,
   "outputs": [
    {
     "data": {
      "text/plain": "                        0      1      2      3      4      5      6     7     \\\nParticipantPosition_x  -33.0  118.0  258.0 -243.0 -321.0 -327.0 -114.0   2.0   \nParticipantPosition_z -191.0  -63.0  -33.0   39.0   77.0    4.0 -140.0  42.0   \n\n                       8     9     ...   3014   3015   3016   3017   3018  \\\nParticipantPosition_x   2.0   2.0  ...  202.0  139.0   47.0  111.0  138.0   \nParticipantPosition_z  41.0  41.0  ...  216.0 -128.0 -156.0  197.0 -128.0   \n\n                        3019   3020   3021   3022   3023  \nParticipantPosition_x -243.0   30.0  217.0  196.0   30.0  \nParticipantPosition_z   39.0  178.0  133.0  -81.0  178.0  \n\n[2 rows x 3024 columns]",
      "text/html": "<div>\n<style scoped>\n    .dataframe tbody tr th:only-of-type {\n        vertical-align: middle;\n    }\n\n    .dataframe tbody tr th {\n        vertical-align: top;\n    }\n\n    .dataframe thead th {\n        text-align: right;\n    }\n</style>\n<table border=\"1\" class=\"dataframe\">\n  <thead>\n    <tr style=\"text-align: right;\">\n      <th></th>\n      <th>0</th>\n      <th>1</th>\n      <th>2</th>\n      <th>3</th>\n      <th>4</th>\n      <th>5</th>\n      <th>6</th>\n      <th>7</th>\n      <th>8</th>\n      <th>9</th>\n      <th>...</th>\n      <th>3014</th>\n      <th>3015</th>\n      <th>3016</th>\n      <th>3017</th>\n      <th>3018</th>\n      <th>3019</th>\n      <th>3020</th>\n      <th>3021</th>\n      <th>3022</th>\n      <th>3023</th>\n    </tr>\n  </thead>\n  <tbody>\n    <tr>\n      <th>ParticipantPosition_x</th>\n      <td>-33.0</td>\n      <td>118.0</td>\n      <td>258.0</td>\n      <td>-243.0</td>\n      <td>-321.0</td>\n      <td>-327.0</td>\n      <td>-114.0</td>\n      <td>2.0</td>\n      <td>2.0</td>\n      <td>2.0</td>\n      <td>...</td>\n      <td>202.0</td>\n      <td>139.0</td>\n      <td>47.0</td>\n      <td>111.0</td>\n      <td>138.0</td>\n      <td>-243.0</td>\n      <td>30.0</td>\n      <td>217.0</td>\n      <td>196.0</td>\n      <td>30.0</td>\n    </tr>\n    <tr>\n      <th>ParticipantPosition_z</th>\n      <td>-191.0</td>\n      <td>-63.0</td>\n      <td>-33.0</td>\n      <td>39.0</td>\n      <td>77.0</td>\n      <td>4.0</td>\n      <td>-140.0</td>\n      <td>42.0</td>\n      <td>41.0</td>\n      <td>41.0</td>\n      <td>...</td>\n      <td>216.0</td>\n      <td>-128.0</td>\n      <td>-156.0</td>\n      <td>197.0</td>\n      <td>-128.0</td>\n      <td>39.0</td>\n      <td>178.0</td>\n      <td>133.0</td>\n      <td>-81.0</td>\n      <td>178.0</td>\n    </tr>\n  </tbody>\n</table>\n<p>2 rows × 3024 columns</p>\n</div>"
     },
     "execution_count": 1404,
     "metadata": {},
     "output_type": "execute_result"
    }
   ],
   "source": [
    "pd.DataFrame((df_cleaned['ParticipantPosition_x'].round(), df_cleaned['ParticipantPosition_z'].round()))"
   ],
   "metadata": {
    "collapsed": false,
    "pycharm": {
     "name": "#%%\n"
    }
   }
  },
  {
   "cell_type": "code",
   "execution_count": 1411,
   "outputs": [
    {
     "data": {
      "text/plain": "    SpawnPointPositionGlobal.x  SpawnPointPositionGlobal.z\n12                 -326.726471                    3.927505\n13                 -321.041016                   77.596878\n11                 -243.075241                   39.462566\n14                 -228.901550                  190.179321\n3                  -185.620300                 -159.597656\n7                  -145.235855                  -40.267727\n8                  -142.188049                 -184.783508\n19                 -114.325951                 -139.534698\n15                 -101.047653                  122.551407\n23                  -65.603775                 -159.510620\n21                  -61.519260                   27.766205\n2                   -54.884186                  235.924240\n6                   -46.292664                  151.395477\n24                  -33.352345                 -190.505432\n17                    2.451136                   41.691082\n4                    30.083307                  177.916245\n1                    38.822807                   53.957973\n22                   47.080509                 -156.391373\n9                   103.361137                 -182.246994\n27                  110.677322                  197.029724\n20                  118.379990                  -62.560001\n10                  138.591415                 -128.356964\n25                  174.541840                  140.806412\n5                   195.920258                  -80.497787\n26                  201.651260                  215.801544\n16                  216.941422                  133.503387\n18                  257.839844                  -32.619427\n0                   366.741425                  109.221771",
      "text/html": "<div>\n<style scoped>\n    .dataframe tbody tr th:only-of-type {\n        vertical-align: middle;\n    }\n\n    .dataframe tbody tr th {\n        vertical-align: top;\n    }\n\n    .dataframe thead th {\n        text-align: right;\n    }\n</style>\n<table border=\"1\" class=\"dataframe\">\n  <thead>\n    <tr style=\"text-align: right;\">\n      <th></th>\n      <th>SpawnPointPositionGlobal.x</th>\n      <th>SpawnPointPositionGlobal.z</th>\n    </tr>\n  </thead>\n  <tbody>\n    <tr>\n      <th>12</th>\n      <td>-326.726471</td>\n      <td>3.927505</td>\n    </tr>\n    <tr>\n      <th>13</th>\n      <td>-321.041016</td>\n      <td>77.596878</td>\n    </tr>\n    <tr>\n      <th>11</th>\n      <td>-243.075241</td>\n      <td>39.462566</td>\n    </tr>\n    <tr>\n      <th>14</th>\n      <td>-228.901550</td>\n      <td>190.179321</td>\n    </tr>\n    <tr>\n      <th>3</th>\n      <td>-185.620300</td>\n      <td>-159.597656</td>\n    </tr>\n    <tr>\n      <th>7</th>\n      <td>-145.235855</td>\n      <td>-40.267727</td>\n    </tr>\n    <tr>\n      <th>8</th>\n      <td>-142.188049</td>\n      <td>-184.783508</td>\n    </tr>\n    <tr>\n      <th>19</th>\n      <td>-114.325951</td>\n      <td>-139.534698</td>\n    </tr>\n    <tr>\n      <th>15</th>\n      <td>-101.047653</td>\n      <td>122.551407</td>\n    </tr>\n    <tr>\n      <th>23</th>\n      <td>-65.603775</td>\n      <td>-159.510620</td>\n    </tr>\n    <tr>\n      <th>21</th>\n      <td>-61.519260</td>\n      <td>27.766205</td>\n    </tr>\n    <tr>\n      <th>2</th>\n      <td>-54.884186</td>\n      <td>235.924240</td>\n    </tr>\n    <tr>\n      <th>6</th>\n      <td>-46.292664</td>\n      <td>151.395477</td>\n    </tr>\n    <tr>\n      <th>24</th>\n      <td>-33.352345</td>\n      <td>-190.505432</td>\n    </tr>\n    <tr>\n      <th>17</th>\n      <td>2.451136</td>\n      <td>41.691082</td>\n    </tr>\n    <tr>\n      <th>4</th>\n      <td>30.083307</td>\n      <td>177.916245</td>\n    </tr>\n    <tr>\n      <th>1</th>\n      <td>38.822807</td>\n      <td>53.957973</td>\n    </tr>\n    <tr>\n      <th>22</th>\n      <td>47.080509</td>\n      <td>-156.391373</td>\n    </tr>\n    <tr>\n      <th>9</th>\n      <td>103.361137</td>\n      <td>-182.246994</td>\n    </tr>\n    <tr>\n      <th>27</th>\n      <td>110.677322</td>\n      <td>197.029724</td>\n    </tr>\n    <tr>\n      <th>20</th>\n      <td>118.379990</td>\n      <td>-62.560001</td>\n    </tr>\n    <tr>\n      <th>10</th>\n      <td>138.591415</td>\n      <td>-128.356964</td>\n    </tr>\n    <tr>\n      <th>25</th>\n      <td>174.541840</td>\n      <td>140.806412</td>\n    </tr>\n    <tr>\n      <th>5</th>\n      <td>195.920258</td>\n      <td>-80.497787</td>\n    </tr>\n    <tr>\n      <th>26</th>\n      <td>201.651260</td>\n      <td>215.801544</td>\n    </tr>\n    <tr>\n      <th>16</th>\n      <td>216.941422</td>\n      <td>133.503387</td>\n    </tr>\n    <tr>\n      <th>18</th>\n      <td>257.839844</td>\n      <td>-32.619427</td>\n    </tr>\n    <tr>\n      <th>0</th>\n      <td>366.741425</td>\n      <td>109.221771</td>\n    </tr>\n  </tbody>\n</table>\n</div>"
     },
     "execution_count": 1411,
     "metadata": {},
     "output_type": "execute_result"
    }
   ],
   "source": [
    "starting_locations[['SpawnPointPositionGlobal.x', 'SpawnPointPositionGlobal.z']].sort_values('SpawnPointPositionGlobal.x')\n"
   ],
   "metadata": {
    "collapsed": false,
    "pycharm": {
     "name": "#%%\n"
    }
   }
  },
  {
   "cell_type": "code",
   "execution_count": 1426,
   "outputs": [
    {
     "name": "stdout",
     "output_type": "stream",
     "text": [
      "[-327. -326. -321. -320. -244. -243. -242. -229. -186. -185. -146. -145.\n",
      " -142. -141. -115. -114. -102. -101. -100.  -66.  -65.  -62.  -61.  -56.\n",
      "  -55.  -54.  -47.  -46.  -34.  -33.    0.    2.    3.   30.   31.   38.\n",
      "   39.   47.   48.  103.  104.  110.  111.  118.  119.  138.  139.  174.\n",
      "  175.  195.  196.  201.  202.  216.  217.  218.  257.  258.  366.  367.]\n"
     ]
    }
   ],
   "source": [
    "print(df_cleaned.PointerPosition_x.round().sort_values().unique())"
   ],
   "metadata": {
    "collapsed": false,
    "pycharm": {
     "name": "#%%\n"
    }
   }
  },
  {
   "cell_type": "code",
   "execution_count": 1425,
   "outputs": [
    {
     "name": "stdout",
     "output_type": "stream",
     "text": [
      "[-327.0, -321.0, -243.0, -229.0, -186.0, -145.0, -142.0, -114.0, -101.0, -66.0, -62.0, -55.0, -46.0, -33.0, 2.0, 30.0, 39.0, 47.0, 103.0, 111.0, 118.0, 139.0, 175.0, 196.0, 202.0, 217.0, 258.0, 367.0]\n"
     ]
    }
   ],
   "source": [
    "print(list(starting_locations['SpawnPointPositionGlobal.x'].round().sort_values()))"
   ],
   "metadata": {
    "collapsed": false,
    "pycharm": {
     "name": "#%%\n"
    }
   }
  },
  {
   "cell_type": "code",
   "execution_count": 1479,
   "outputs": [
    {
     "ename": "TypeError",
     "evalue": "cannot convert the series to <class 'float'>",
     "output_type": "error",
     "traceback": [
      "\u001B[1;31m---------------------------------------------------------------------------\u001B[0m",
      "\u001B[1;31mTypeError\u001B[0m                                 Traceback (most recent call last)",
      "\u001B[1;32m~\\AppData\\Local\\Temp/ipykernel_14560/2516073823.py\u001B[0m in \u001B[0;36m<module>\u001B[1;34m\u001B[0m\n\u001B[0;32m      6\u001B[0m df_cleaned = (\n\u001B[0;32m      7\u001B[0m     \u001B[0mdf_cleaned\u001B[0m\u001B[1;33m\u001B[0m\u001B[1;33m\u001B[0m\u001B[0m\n\u001B[1;32m----> 8\u001B[1;33m         .pipe( lambda df: df.assign(\n\u001B[0m\u001B[0;32m      9\u001B[0m         starting_loc_x = pd.cut(\n\u001B[0;32m     10\u001B[0m             \u001B[0mmath\u001B[0m\u001B[1;33m.\u001B[0m\u001B[0mfloor\u001B[0m\u001B[1;33m(\u001B[0m\u001B[0mdf_cleaned\u001B[0m\u001B[1;33m.\u001B[0m\u001B[0mPointerPosition_x\u001B[0m\u001B[1;33m)\u001B[0m\u001B[1;33m,\u001B[0m\u001B[1;33m\u001B[0m\u001B[1;33m\u001B[0m\u001B[0m\n",
      "\u001B[1;32m~\\anaconda3\\lib\\site-packages\\pandas\\core\\generic.py\u001B[0m in \u001B[0;36mpipe\u001B[1;34m(self, func, *args, **kwargs)\u001B[0m\n\u001B[0;32m   5428\u001B[0m         ...  )  # doctest: +SKIP\n\u001B[0;32m   5429\u001B[0m         \"\"\"\n\u001B[1;32m-> 5430\u001B[1;33m         \u001B[1;32mreturn\u001B[0m \u001B[0mcom\u001B[0m\u001B[1;33m.\u001B[0m\u001B[0mpipe\u001B[0m\u001B[1;33m(\u001B[0m\u001B[0mself\u001B[0m\u001B[1;33m,\u001B[0m \u001B[0mfunc\u001B[0m\u001B[1;33m,\u001B[0m \u001B[1;33m*\u001B[0m\u001B[0margs\u001B[0m\u001B[1;33m,\u001B[0m \u001B[1;33m**\u001B[0m\u001B[0mkwargs\u001B[0m\u001B[1;33m)\u001B[0m\u001B[1;33m\u001B[0m\u001B[1;33m\u001B[0m\u001B[0m\n\u001B[0m\u001B[0;32m   5431\u001B[0m \u001B[1;33m\u001B[0m\u001B[0m\n\u001B[0;32m   5432\u001B[0m     \u001B[1;31m# ----------------------------------------------------------------------\u001B[0m\u001B[1;33m\u001B[0m\u001B[1;33m\u001B[0m\u001B[1;33m\u001B[0m\u001B[0m\n",
      "\u001B[1;32m~\\anaconda3\\lib\\site-packages\\pandas\\core\\common.py\u001B[0m in \u001B[0;36mpipe\u001B[1;34m(obj, func, *args, **kwargs)\u001B[0m\n\u001B[0;32m    469\u001B[0m         \u001B[1;32mreturn\u001B[0m \u001B[0mfunc\u001B[0m\u001B[1;33m(\u001B[0m\u001B[1;33m*\u001B[0m\u001B[0margs\u001B[0m\u001B[1;33m,\u001B[0m \u001B[1;33m**\u001B[0m\u001B[0mkwargs\u001B[0m\u001B[1;33m)\u001B[0m\u001B[1;33m\u001B[0m\u001B[1;33m\u001B[0m\u001B[0m\n\u001B[0;32m    470\u001B[0m     \u001B[1;32melse\u001B[0m\u001B[1;33m:\u001B[0m\u001B[1;33m\u001B[0m\u001B[1;33m\u001B[0m\u001B[0m\n\u001B[1;32m--> 471\u001B[1;33m         \u001B[1;32mreturn\u001B[0m \u001B[0mfunc\u001B[0m\u001B[1;33m(\u001B[0m\u001B[0mobj\u001B[0m\u001B[1;33m,\u001B[0m \u001B[1;33m*\u001B[0m\u001B[0margs\u001B[0m\u001B[1;33m,\u001B[0m \u001B[1;33m**\u001B[0m\u001B[0mkwargs\u001B[0m\u001B[1;33m)\u001B[0m\u001B[1;33m\u001B[0m\u001B[1;33m\u001B[0m\u001B[0m\n\u001B[0m\u001B[0;32m    472\u001B[0m \u001B[1;33m\u001B[0m\u001B[0m\n\u001B[0;32m    473\u001B[0m \u001B[1;33m\u001B[0m\u001B[0m\n",
      "\u001B[1;32m~\\AppData\\Local\\Temp/ipykernel_14560/2516073823.py\u001B[0m in \u001B[0;36m<lambda>\u001B[1;34m(df)\u001B[0m\n\u001B[0;32m      8\u001B[0m         .pipe( lambda df: df.assign(\n\u001B[0;32m      9\u001B[0m         starting_loc_x = pd.cut(\n\u001B[1;32m---> 10\u001B[1;33m             \u001B[0mmath\u001B[0m\u001B[1;33m.\u001B[0m\u001B[0mfloor\u001B[0m\u001B[1;33m(\u001B[0m\u001B[0mdf_cleaned\u001B[0m\u001B[1;33m.\u001B[0m\u001B[0mPointerPosition_x\u001B[0m\u001B[1;33m)\u001B[0m\u001B[1;33m,\u001B[0m\u001B[1;33m\u001B[0m\u001B[1;33m\u001B[0m\u001B[0m\n\u001B[0m\u001B[0;32m     11\u001B[0m             \u001B[0mbins\u001B[0m\u001B[1;33m=\u001B[0m\u001B[0mbins\u001B[0m\u001B[1;33m,\u001B[0m\u001B[1;33m\u001B[0m\u001B[1;33m\u001B[0m\u001B[0m\n\u001B[0;32m     12\u001B[0m             \u001B[0mlabels\u001B[0m\u001B[1;33m=\u001B[0m\u001B[0mlabels\u001B[0m\u001B[1;33m,\u001B[0m\u001B[1;33m\u001B[0m\u001B[1;33m\u001B[0m\u001B[0m\n",
      "\u001B[1;32m~\\anaconda3\\lib\\site-packages\\pandas\\core\\series.py\u001B[0m in \u001B[0;36mwrapper\u001B[1;34m(self)\u001B[0m\n\u001B[0;32m    183\u001B[0m         \u001B[1;32mif\u001B[0m \u001B[0mlen\u001B[0m\u001B[1;33m(\u001B[0m\u001B[0mself\u001B[0m\u001B[1;33m)\u001B[0m \u001B[1;33m==\u001B[0m \u001B[1;36m1\u001B[0m\u001B[1;33m:\u001B[0m\u001B[1;33m\u001B[0m\u001B[1;33m\u001B[0m\u001B[0m\n\u001B[0;32m    184\u001B[0m             \u001B[1;32mreturn\u001B[0m \u001B[0mconverter\u001B[0m\u001B[1;33m(\u001B[0m\u001B[0mself\u001B[0m\u001B[1;33m.\u001B[0m\u001B[0miloc\u001B[0m\u001B[1;33m[\u001B[0m\u001B[1;36m0\u001B[0m\u001B[1;33m]\u001B[0m\u001B[1;33m)\u001B[0m\u001B[1;33m\u001B[0m\u001B[1;33m\u001B[0m\u001B[0m\n\u001B[1;32m--> 185\u001B[1;33m         \u001B[1;32mraise\u001B[0m \u001B[0mTypeError\u001B[0m\u001B[1;33m(\u001B[0m\u001B[1;34mf\"cannot convert the series to {converter}\"\u001B[0m\u001B[1;33m)\u001B[0m\u001B[1;33m\u001B[0m\u001B[1;33m\u001B[0m\u001B[0m\n\u001B[0m\u001B[0;32m    186\u001B[0m \u001B[1;33m\u001B[0m\u001B[0m\n\u001B[0;32m    187\u001B[0m     \u001B[0mwrapper\u001B[0m\u001B[1;33m.\u001B[0m\u001B[0m__name__\u001B[0m \u001B[1;33m=\u001B[0m \u001B[1;34mf\"__{converter.__name__}__\"\u001B[0m\u001B[1;33m\u001B[0m\u001B[1;33m\u001B[0m\u001B[0m\n",
      "\u001B[1;31mTypeError\u001B[0m: cannot convert the series to <class 'float'>"
     ]
    }
   ],
   "source": [
    "bins = list(starting_locations['SpawnPointPositionGlobal.x'].round().sort_values())\n",
    "# bins.insert(0, -380.0)\n",
    "bins.append(380.0)\n",
    "labels = np.arange(1, 29)\n",
    "\n",
    "df_cleaned = (\n",
    "    df_cleaned\n",
    "        .pipe( lambda df: df.assign(\n",
    "        starting_loc_x = pd.cut(\n",
    "            math.floor(df_cleaned.PointerPosition_x),\n",
    "            bins=bins,\n",
    "            labels=labels,\n",
    "            right=False,\n",
    "            include_lowest=False\n",
    "        )\n",
    "    )\n",
    ")\n",
    ")\n",
    "\n",
    "df_cleaned[['PointerPosition_x', 'starting_loc_x']].sort_values('PointerPosition_x')"
   ],
   "metadata": {
    "collapsed": false,
    "pycharm": {
     "name": "#%%\n"
    }
   }
  },
  {
   "cell_type": "code",
   "execution_count": null,
   "outputs": [],
   "source": [
    "np.round(2.5)"
   ],
   "metadata": {
    "collapsed": false,
    "pycharm": {
     "name": "#%%\n",
     "is_executing": true
    }
   }
  },
  {
   "cell_type": "code",
   "execution_count": 1385,
   "outputs": [
    {
     "data": {
      "text/plain": "<Figure size 504x504 with 1 Axes>",
      "image/png": "[encoded data removed]"
     },
     "metadata": {},
     "output_type": "display_data"
    }
   ],
   "source": [
    "_, _ = plt.subplots(figsize=(7,7))\n",
    "\n",
    "sns.scatterplot(\n",
    "    data=df_cleaned,\n",
    "    x='ParticipantPosition_x',\n",
    "    y='ParticipantPosition_z',\n",
    "    s=80\n",
    ").set(xlabel='x coordinate', ylabel='y coordinate')\n",
    "\n",
    "sns.scatterplot(\n",
    "    data=starting_locations,\n",
    "    x='SpawnPointPositionGlobal.x',\n",
    "    y='SpawnPointPositionGlobal.z',\n",
    "    s=80,\n",
    "    marker='X',\n",
    "    color=colorblind_palette[1]\n",
    ")\n",
    "\n",
    "plt.suptitle(t='Starting locations', size=16)\n",
    "plt.axvline(x=0, color=colorblind_palette[1], alpha=.5)\n",
    "plt.axhline(y=0, color=colorblind_palette[1], alpha=.5)\n",
    "plt.show()"
   ],
   "metadata": {
    "collapsed": false,
    "pycharm": {
     "name": "#%%\n"
    }
   }
  },
  {
   "cell_type": "code",
   "execution_count": 1390,
   "outputs": [
    {
     "data": {
      "text/plain": "<Figure size 504x504 with 1 Axes>",
      "image/png": "[encoded data removed]"
     },
     "metadata": {},
     "output_type": "display_data"
    }
   ],
   "source": [
    "_, _ = plt.subplots(figsize=(7,7))\n",
    "\n",
    "sns.scatterplot(\n",
    "    data=df_cleaned,\n",
    "    x='ParticipantPosition_x',\n",
    "    y='ParticipantPosition_z',\n",
    "    s=80\n",
    ").set(xlabel='x coordinate', ylabel='y coordinate')\n",
    "\n",
    "sns.scatterplot(\n",
    "    data=starting_locations,\n",
    "    x='SpawnPointPositionGlobal.x',\n",
    "    y='SpawnPointPositionGlobal.z',\n",
    "    s=80,\n",
    "    marker='X',\n",
    "    color=colorblind_palette[1]\n",
    ")\n",
    "\n",
    "sns.scatterplot(\n",
    "    x=df_cleaned['ParticipantPosition_x'].round(),\n",
    "    y=df_cleaned['ParticipantPosition_z'].round(),\n",
    "    s=10,\n",
    "    marker='s',\n",
    "    color=colorblind_palette[2]\n",
    ")\n",
    "\n",
    "plt.suptitle(t='Starting locations', size=16)\n",
    "plt.axvline(x=0, color=colorblind_palette[1], alpha=.5)\n",
    "plt.axhline(y=0, color=colorblind_palette[1], alpha=.5)\n",
    "plt.show()"
   ],
   "metadata": {
    "collapsed": false,
    "pycharm": {
     "name": "#%%\n"
    }
   }
  },
  {
   "cell_type": "code",
   "execution_count": 1387,
   "outputs": [
    {
     "data": {
      "text/plain": "28"
     },
     "execution_count": 1387,
     "metadata": {},
     "output_type": "execute_result"
    }
   ],
   "source": [
    "len(starting_locations['SpawnPointPositionGlobal.x'].unique())"
   ],
   "metadata": {
    "collapsed": false,
    "pycharm": {
     "name": "#%%\n"
    }
   }
  },
  {
   "cell_type": "markdown",
   "source": [
    "Remove trials with time out true"
   ],
   "metadata": {
    "collapsed": false
   }
  },
  {
   "cell_type": "code",
   "execution_count": 1323,
   "outputs": [
    {
     "name": "stdout",
     "output_type": "stream",
     "text": [
      "A total of 7 trial(s) are removed due to maximum time running out before the selection of the direction.\n"
     ]
    }
   ],
   "source": [
    "len_all = len(df_cleaned)\n",
    "\n",
    "df_cleaned = df_cleaned.query('TimeOut==False').reset_index(drop=True)\n",
    "\n",
    "print(f'A total of {len_all - len(df_cleaned)} trial(s) are removed due to maximum time running out before the selection of the direction.')"
   ],
   "metadata": {
    "collapsed": false,
    "pycharm": {
     "name": "#%%\n"
    }
   }
  },
  {
   "cell_type": "code",
   "execution_count": 1324,
   "outputs": [
    {
     "data": {
      "text/plain": "       ParticipantPosition_x  PointerPosition_x  PointerPosition_z  \\\ncount            3017.000000        3017.000000        3017.000000   \nmean               -1.995725          -2.009842          14.184885   \nstd               174.479918         174.375819         137.763222   \nmin              -326.886047        -327.157532        -191.119629   \n25%              -114.479935        -114.621323        -139.236786   \n50%                 2.276962           2.017960          38.763474   \n75%               138.375061         138.100739         139.825256   \nmax               366.834778         366.869934         235.829254   \n\n       PointerPosition_z  \ncount        3017.000000  \nmean           14.184885  \nstd           137.763222  \nmin          -191.119629  \n25%          -139.236786  \n50%            38.763474  \n75%           139.825256  \nmax           235.829254  ",
      "text/html": "<div>\n<style scoped>\n    .dataframe tbody tr th:only-of-type {\n        vertical-align: middle;\n    }\n\n    .dataframe tbody tr th {\n        vertical-align: top;\n    }\n\n    .dataframe thead th {\n        text-align: right;\n    }\n</style>\n<table border=\"1\" class=\"dataframe\">\n  <thead>\n    <tr style=\"text-align: right;\">\n      <th></th>\n      <th>ParticipantPosition_x</th>\n      <th>PointerPosition_x</th>\n      <th>PointerPosition_z</th>\n      <th>PointerPosition_z</th>\n    </tr>\n  </thead>\n  <tbody>\n    <tr>\n      <th>count</th>\n      <td>3017.000000</td>\n      <td>3017.000000</td>\n      <td>3017.000000</td>\n      <td>3017.000000</td>\n    </tr>\n    <tr>\n      <th>mean</th>\n      <td>-1.995725</td>\n      <td>-2.009842</td>\n      <td>14.184885</td>\n      <td>14.184885</td>\n    </tr>\n    <tr>\n      <th>std</th>\n      <td>174.479918</td>\n      <td>174.375819</td>\n      <td>137.763222</td>\n      <td>137.763222</td>\n    </tr>\n    <tr>\n      <th>min</th>\n      <td>-326.886047</td>\n      <td>-327.157532</td>\n      <td>-191.119629</td>\n      <td>-191.119629</td>\n    </tr>\n    <tr>\n      <th>25%</th>\n      <td>-114.479935</td>\n      <td>-114.621323</td>\n      <td>-139.236786</td>\n      <td>-139.236786</td>\n    </tr>\n    <tr>\n      <th>50%</th>\n      <td>2.276962</td>\n      <td>2.017960</td>\n      <td>38.763474</td>\n      <td>38.763474</td>\n    </tr>\n    <tr>\n      <th>75%</th>\n      <td>138.375061</td>\n      <td>138.100739</td>\n      <td>139.825256</td>\n      <td>139.825256</td>\n    </tr>\n    <tr>\n      <th>max</th>\n      <td>366.834778</td>\n      <td>366.869934</td>\n      <td>235.829254</td>\n      <td>235.829254</td>\n    </tr>\n  </tbody>\n</table>\n</div>"
     },
     "execution_count": 1324,
     "metadata": {},
     "output_type": "execute_result"
    }
   ],
   "source": [
    "df_cleaned[['ParticipantPosition_x', 'PointerPosition_x', 'PointerPosition_z', 'PointerPosition_z']].describe()"
   ],
   "metadata": {
    "collapsed": false,
    "pycharm": {
     "name": "#%%\n"
    }
   }
  },
  {
   "cell_type": "markdown",
   "source": [
    "## Calculate angle with body `(participant position)` as origin"
   ],
   "metadata": {
    "collapsed": false
   }
  },
  {
   "cell_type": "markdown",
   "source": [
    "#### Translate the ` building center ` by ` participant's position ` to make ` body position ` the origin"
   ],
   "metadata": {
    "collapsed": false
   }
  },
  {
   "cell_type": "code",
   "execution_count": 1325,
   "outputs": [
    {
     "data": {
      "text/plain": "   SubjectID  ParticipantPosition_x  ParticipantPosition_z  PointerPosition_x  \\\n0        365             -33.362625            -190.912018         -33.590775   \n1        365             118.412003             -62.941864         118.647705   \n2        365             257.929993             -33.097687         257.598694   \n3        365            -242.933212              39.037964        -242.879013   \n4        365            -320.974487              77.197166        -320.853760   \n\n   PointerPosition_z  PointerDirection_x  PointerDirection_z  \\\n0        -190.709625           -0.729280            0.681399   \n1         -63.044891            0.943334            0.254118   \n2         -32.840240           -0.831603            0.513045   \n3          38.953239            0.985110            0.151506   \n4          77.009575            0.907607           -0.416039   \n\n  PointingTargetName  Agent  avatarID  ...                  TimeDelta  \\\n0        01_CmA_0_14   True         1  ...  0 days 00:00:07.635420416   \n1        01_CmA_0_14   True         1  ...  0 days 00:00:03.853917952   \n2        01_CmA_0_14   True         1  ...  0 days 00:00:03.418430208   \n3        01_CmA_0_14   True         1  ...  0 days 00:00:04.257166592   \n4        01_CmA_0_14   True         1  ...  0 days 00:00:02.474542336   \n\n         RT TimeOut                 TimeStampBegin  \\\n0  7.635421   False  2021-11-18 10:26:39.660960000   \n1  3.853918   False  2021-11-18 10:34:18.716167680   \n2  3.418430   False  2021-11-18 10:40:28.512252160   \n3  4.257167   False  2021-11-18 10:47:55.246826496   \n4  2.474542   False  2021-11-18 11:08:19.997678080   \n\n                    TimeStampEnd  BuildingID BuildingCenterWorld.x  \\\n0  2021-11-18 10:26:47.296380416          14            227.649185   \n1  2021-11-18 10:34:22.570085632          14            227.649185   \n2  2021-11-18 10:40:31.930682368          14            227.649185   \n3  2021-11-18 10:47:59.503993088          14            227.649185   \n4  2021-11-18 11:08:22.472220416          14            227.649185   \n\n  BuildingCenterWorld.z  moved_target_position_x  moved_target_position_z  \n0            119.052856               261.011810               309.964874  \n1            119.052856               109.237183               181.994720  \n2            119.052856               -30.280807               152.150543  \n3            119.052856               470.582397                80.014893  \n4            119.052856               548.623672                41.855690  \n\n[5 rows x 23 columns]",
      "text/html": "<div>\n<style scoped>\n    .dataframe tbody tr th:only-of-type {\n        vertical-align: middle;\n    }\n\n    .dataframe tbody tr th {\n        vertical-align: top;\n    }\n\n    .dataframe thead th {\n        text-align: right;\n    }\n</style>\n<table border=\"1\" class=\"dataframe\">\n  <thead>\n    <tr style=\"text-align: right;\">\n      <th></th>\n      <th>SubjectID</th>\n      <th>ParticipantPosition_x</th>\n      <th>ParticipantPosition_z</th>\n      <th>PointerPosition_x</th>\n      <th>PointerPosition_z</th>\n      <th>PointerDirection_x</th>\n      <th>PointerDirection_z</th>\n      <th>PointingTargetName</th>\n      <th>Agent</th>\n      <th>avatarID</th>\n      <th>...</th>\n      <th>TimeDelta</th>\n      <th>RT</th>\n      <th>TimeOut</th>\n      <th>TimeStampBegin</th>\n      <th>TimeStampEnd</th>\n      <th>BuildingID</th>\n      <th>BuildingCenterWorld.x</th>\n      <th>BuildingCenterWorld.z</th>\n      <th>moved_target_position_x</th>\n      <th>moved_target_position_z</th>\n    </tr>\n  </thead>\n  <tbody>\n    <tr>\n      <th>0</th>\n      <td>365</td>\n      <td>-33.362625</td>\n      <td>-190.912018</td>\n      <td>-33.590775</td>\n      <td>-190.709625</td>\n      <td>-0.729280</td>\n      <td>0.681399</td>\n      <td>01_CmA_0_14</td>\n      <td>True</td>\n      <td>1</td>\n      <td>...</td>\n      <td>0 days 00:00:07.635420416</td>\n      <td>7.635421</td>\n      <td>False</td>\n      <td>2021-11-18 10:26:39.660960000</td>\n      <td>2021-11-18 10:26:47.296380416</td>\n      <td>14</td>\n      <td>227.649185</td>\n      <td>119.052856</td>\n      <td>261.011810</td>\n      <td>309.964874</td>\n    </tr>\n    <tr>\n      <th>1</th>\n      <td>365</td>\n      <td>118.412003</td>\n      <td>-62.941864</td>\n      <td>118.647705</td>\n      <td>-63.044891</td>\n      <td>0.943334</td>\n      <td>0.254118</td>\n      <td>01_CmA_0_14</td>\n      <td>True</td>\n      <td>1</td>\n      <td>...</td>\n      <td>0 days 00:00:03.853917952</td>\n      <td>3.853918</td>\n      <td>False</td>\n      <td>2021-11-18 10:34:18.716167680</td>\n      <td>2021-11-18 10:34:22.570085632</td>\n      <td>14</td>\n      <td>227.649185</td>\n      <td>119.052856</td>\n      <td>109.237183</td>\n      <td>181.994720</td>\n    </tr>\n    <tr>\n      <th>2</th>\n      <td>365</td>\n      <td>257.929993</td>\n      <td>-33.097687</td>\n      <td>257.598694</td>\n      <td>-32.840240</td>\n      <td>-0.831603</td>\n      <td>0.513045</td>\n      <td>01_CmA_0_14</td>\n      <td>True</td>\n      <td>1</td>\n      <td>...</td>\n      <td>0 days 00:00:03.418430208</td>\n      <td>3.418430</td>\n      <td>False</td>\n      <td>2021-11-18 10:40:28.512252160</td>\n      <td>2021-11-18 10:40:31.930682368</td>\n      <td>14</td>\n      <td>227.649185</td>\n      <td>119.052856</td>\n      <td>-30.280807</td>\n      <td>152.150543</td>\n    </tr>\n    <tr>\n      <th>3</th>\n      <td>365</td>\n      <td>-242.933212</td>\n      <td>39.037964</td>\n      <td>-242.879013</td>\n      <td>38.953239</td>\n      <td>0.985110</td>\n      <td>0.151506</td>\n      <td>01_CmA_0_14</td>\n      <td>True</td>\n      <td>1</td>\n      <td>...</td>\n      <td>0 days 00:00:04.257166592</td>\n      <td>4.257167</td>\n      <td>False</td>\n      <td>2021-11-18 10:47:55.246826496</td>\n      <td>2021-11-18 10:47:59.503993088</td>\n      <td>14</td>\n      <td>227.649185</td>\n      <td>119.052856</td>\n      <td>470.582397</td>\n      <td>80.014893</td>\n    </tr>\n    <tr>\n      <th>4</th>\n      <td>365</td>\n      <td>-320.974487</td>\n      <td>77.197166</td>\n      <td>-320.853760</td>\n      <td>77.009575</td>\n      <td>0.907607</td>\n      <td>-0.416039</td>\n      <td>01_CmA_0_14</td>\n      <td>True</td>\n      <td>1</td>\n      <td>...</td>\n      <td>0 days 00:00:02.474542336</td>\n      <td>2.474542</td>\n      <td>False</td>\n      <td>2021-11-18 11:08:19.997678080</td>\n      <td>2021-11-18 11:08:22.472220416</td>\n      <td>14</td>\n      <td>227.649185</td>\n      <td>119.052856</td>\n      <td>548.623672</td>\n      <td>41.855690</td>\n    </tr>\n  </tbody>\n</table>\n<p>5 rows × 23 columns</p>\n</div>"
     },
     "execution_count": 1325,
     "metadata": {},
     "output_type": "execute_result"
    }
   ],
   "source": [
    "df_cleaned['moved_target_position_x'] = df_cleaned['BuildingCenterWorld.x'] - df_cleaned.ParticipantPosition_x\n",
    "df_cleaned['moved_target_position_z'] = df_cleaned['BuildingCenterWorld.z'] - df_cleaned.ParticipantPosition_z\n",
    "\n",
    "df_cleaned.head()"
   ],
   "metadata": {
    "collapsed": false,
    "pycharm": {
     "name": "#%%\n"
    }
   }
  },
  {
   "cell_type": "markdown",
   "source": [
    "#### Calculate the `angle difference` between the `derived direction` and `derived target` points and the `x_axis`"
   ],
   "metadata": {
    "collapsed": false
   }
  },
  {
   "cell_type": "code",
   "execution_count": 1326,
   "outputs": [
    {
     "data": {
      "text/plain": "       dir_to_x_180  target_to_x_180\ncount   3017.000000      3017.000000\nmean      -7.994695        -5.521849\nstd      108.174279       104.951014\nmin     -179.997813      -179.866720\n25%     -107.651398       -99.198043\n50%       -4.806071        -2.242696\n75%       83.849116        74.394895\nmax      179.803847       179.845045",
      "text/html": "<div>\n<style scoped>\n    .dataframe tbody tr th:only-of-type {\n        vertical-align: middle;\n    }\n\n    .dataframe tbody tr th {\n        vertical-align: top;\n    }\n\n    .dataframe thead th {\n        text-align: right;\n    }\n</style>\n<table border=\"1\" class=\"dataframe\">\n  <thead>\n    <tr style=\"text-align: right;\">\n      <th></th>\n      <th>dir_to_x_180</th>\n      <th>target_to_x_180</th>\n    </tr>\n  </thead>\n  <tbody>\n    <tr>\n      <th>count</th>\n      <td>3017.000000</td>\n      <td>3017.000000</td>\n    </tr>\n    <tr>\n      <th>mean</th>\n      <td>-7.994695</td>\n      <td>-5.521849</td>\n    </tr>\n    <tr>\n      <th>std</th>\n      <td>108.174279</td>\n      <td>104.951014</td>\n    </tr>\n    <tr>\n      <th>min</th>\n      <td>-179.997813</td>\n      <td>-179.866720</td>\n    </tr>\n    <tr>\n      <th>25%</th>\n      <td>-107.651398</td>\n      <td>-99.198043</td>\n    </tr>\n    <tr>\n      <th>50%</th>\n      <td>-4.806071</td>\n      <td>-2.242696</td>\n    </tr>\n    <tr>\n      <th>75%</th>\n      <td>83.849116</td>\n      <td>74.394895</td>\n    </tr>\n    <tr>\n      <th>max</th>\n      <td>179.803847</td>\n      <td>179.845045</td>\n    </tr>\n  </tbody>\n</table>\n</div>"
     },
     "execution_count": 1326,
     "metadata": {},
     "output_type": "execute_result"
    }
   ],
   "source": [
    "df_cleaned['target_to_x_180'] = np.rad2deg(np.arctan2(df_cleaned.moved_target_position_z, df_cleaned.moved_target_position_x))\n",
    "df_cleaned['dir_to_x_180'] = np.rad2deg(np.arctan2(df_cleaned.PointerDirection_z, df_cleaned.PointerDirection_x))\n",
    "\n",
    "df_cleaned[['dir_to_x_180', 'target_to_x_180']].describe()"
   ],
   "metadata": {
    "collapsed": false,
    "pycharm": {
     "name": "#%%\n"
    }
   }
  },
  {
   "cell_type": "markdown",
   "source": [
    "## Calculate angle deviation between the selected direction and the target"
   ],
   "metadata": {
    "collapsed": false
   }
  },
  {
   "cell_type": "markdown",
   "source": [
    "Convert the angular `difference from the x-axis` of `target` and `direction` to `360 degree`"
   ],
   "metadata": {
    "collapsed": false
   }
  },
  {
   "cell_type": "code",
   "execution_count": 1327,
   "outputs": [
    {
     "data": {
      "text/plain": "       target_to_x_360  dir_to_x_360\ncount      3017.000000   3017.000000\nmean        180.384681    177.315215\nstd         108.241834    100.382084\nmin           0.063520      0.117542\n25%          82.004139     90.201706\n50%         184.560408    183.942087\n75%         268.891242    256.750978\nmax         359.773355    359.968134",
      "text/html": "<div>\n<style scoped>\n    .dataframe tbody tr th:only-of-type {\n        vertical-align: middle;\n    }\n\n    .dataframe tbody tr th {\n        vertical-align: top;\n    }\n\n    .dataframe thead th {\n        text-align: right;\n    }\n</style>\n<table border=\"1\" class=\"dataframe\">\n  <thead>\n    <tr style=\"text-align: right;\">\n      <th></th>\n      <th>target_to_x_360</th>\n      <th>dir_to_x_360</th>\n    </tr>\n  </thead>\n  <tbody>\n    <tr>\n      <th>count</th>\n      <td>3017.000000</td>\n      <td>3017.000000</td>\n    </tr>\n    <tr>\n      <th>mean</th>\n      <td>180.384681</td>\n      <td>177.315215</td>\n    </tr>\n    <tr>\n      <th>std</th>\n      <td>108.241834</td>\n      <td>100.382084</td>\n    </tr>\n    <tr>\n      <th>min</th>\n      <td>0.063520</td>\n      <td>0.117542</td>\n    </tr>\n    <tr>\n      <th>25%</th>\n      <td>82.004139</td>\n      <td>90.201706</td>\n    </tr>\n    <tr>\n      <th>50%</th>\n      <td>184.560408</td>\n      <td>183.942087</td>\n    </tr>\n    <tr>\n      <th>75%</th>\n      <td>268.891242</td>\n      <td>256.750978</td>\n    </tr>\n    <tr>\n      <th>max</th>\n      <td>359.773355</td>\n      <td>359.968134</td>\n    </tr>\n  </tbody>\n</table>\n</div>"
     },
     "execution_count": 1327,
     "metadata": {},
     "output_type": "execute_result"
    }
   ],
   "source": [
    "df_cleaned['target_to_x_360'] = np.where(df_cleaned.target_to_x_180 < 0,\n",
    "                                         360 + df_cleaned.target_to_x_180,\n",
    "                                         df_cleaned.target_to_x_180\n",
    ")\n",
    "\n",
    "df_cleaned['dir_to_x_360'] = np.where(df_cleaned.dir_to_x_180 < 0,\n",
    "                                      360 + df_cleaned.dir_to_x_180,\n",
    "                                      df_cleaned.dir_to_x_180\n",
    ")\n",
    "\n",
    "df_cleaned[['target_to_x_360','dir_to_x_360']].describe()"
   ],
   "metadata": {
    "collapsed": false,
    "pycharm": {
     "name": "#%%\n"
    }
   }
  },
  {
   "cell_type": "markdown",
   "source": [
    "## Calculate the `signed angular difference` between `selected direction` and the `target`"
   ],
   "metadata": {
    "collapsed": false
   }
  },
  {
   "cell_type": "code",
   "execution_count": 1328,
   "outputs": [
    {
     "data": {
      "text/plain": "count    3017.000000\nmean       -3.427437\nstd        65.864053\nmin      -179.881808\n25%       -40.507297\n50%        -4.628868\n75%        30.581841\nmax       179.983386\nName: final_180_angles, dtype: float64"
     },
     "execution_count": 1328,
     "metadata": {},
     "output_type": "execute_result"
    }
   ],
   "source": [
    "df_cleaned['final_180_angles'] = (\n",
    "    ((df_cleaned.dir_to_x_360 - df_cleaned.target_to_x_360) + 180) % 360 - 180\n",
    ")\n",
    "\n",
    "df_cleaned.final_180_angles.describe()"
   ],
   "metadata": {
    "collapsed": false,
    "pycharm": {
     "name": "#%%\n"
    }
   }
  },
  {
   "cell_type": "markdown",
   "source": [
    "## Convert the `signed angular difference` between `selected direction` and the `target` to `360 degree` angles"
   ],
   "metadata": {
    "collapsed": false
   }
  },
  {
   "cell_type": "code",
   "execution_count": 1329,
   "outputs": [
    {
     "data": {
      "text/plain": "count    3017.000000\nmean      195.962686\nstd       137.167835\nmin         0.049746\n25%        46.617934\n50%       248.185209\n75%       329.509538\nmax       359.983459\nName: final_360_angles, dtype: float64"
     },
     "execution_count": 1329,
     "metadata": {},
     "output_type": "execute_result"
    }
   ],
   "source": [
    "df_cleaned['final_360_angles'] = np.where(\n",
    "    df_cleaned.final_180_angles < 0,\n",
    "    360 + df_cleaned.final_180_angles,\n",
    "    df_cleaned.final_180_angles\n",
    ")\n",
    "\n",
    "df_cleaned.final_360_angles.describe()"
   ],
   "metadata": {
    "collapsed": false,
    "pycharm": {
     "name": "#%%\n"
    }
   }
  },
  {
   "cell_type": "markdown",
   "source": [
    "Round the angles"
   ],
   "metadata": {
    "collapsed": false
   }
  },
  {
   "cell_type": "code",
   "execution_count": 1330,
   "outputs": [],
   "source": [
    "df_cleaned['rounded_180_angles'] = round(df_cleaned.final_180_angles)\n",
    "df_cleaned['rounded_360_angles'] = round(df_cleaned.final_360_angles)"
   ],
   "metadata": {
    "collapsed": false,
    "pycharm": {
     "name": "#%%\n"
    }
   }
  },
  {
   "cell_type": "code",
   "execution_count": 1331,
   "outputs": [
    {
     "data": {
      "text/plain": "   SubjectID  ParticipantPosition_x  ParticipantPosition_z  PointerPosition_x  \\\n0        365             -33.362625            -190.912018         -33.590775   \n1        365             118.412003             -62.941864         118.647705   \n2        365             257.929993             -33.097687         257.598694   \n3        365            -242.933212              39.037964        -242.879013   \n4        365            -320.974487              77.197166        -320.853760   \n\n   PointerPosition_z  PointerDirection_x  PointerDirection_z  \\\n0        -190.709625           -0.729280            0.681399   \n1         -63.044891            0.943334            0.254118   \n2         -32.840240           -0.831603            0.513045   \n3          38.953239            0.985110            0.151506   \n4          77.009575            0.907607           -0.416039   \n\n  PointingTargetName  Agent  avatarID  ...  moved_target_position_x  \\\n0        01_CmA_0_14   True         1  ...               261.011810   \n1        01_CmA_0_14   True         1  ...               109.237183   \n2        01_CmA_0_14   True         1  ...               -30.280807   \n3        01_CmA_0_14   True         1  ...               470.582397   \n4        01_CmA_0_14   True         1  ...               548.623672   \n\n   moved_target_position_z target_to_x_180 dir_to_x_180  target_to_x_360  \\\n0               309.964874       49.900308   136.943970        49.900308   \n1               181.994720       59.026904    15.076639        59.026904   \n2               152.150543      101.255862   148.328125       101.255862   \n3                80.014893        9.649925     8.743356         9.649925   \n4                41.855690        4.362768   -24.626282         4.362768   \n\n   dir_to_x_360 final_180_angles final_360_angles  rounded_180_angles  \\\n0    136.943970        87.043662        87.043662                87.0   \n1     15.076639       -43.950265       316.049735               -44.0   \n2    148.328125        47.072263        47.072263                47.0   \n3      8.743356        -0.906569       359.093431                -1.0   \n4    335.373718       -28.989050       331.010950               -29.0   \n\n   rounded_360_angles  \n0                87.0  \n1               316.0  \n2                47.0  \n3               359.0  \n4               331.0  \n\n[5 rows x 31 columns]",
      "text/html": "<div>\n<style scoped>\n    .dataframe tbody tr th:only-of-type {\n        vertical-align: middle;\n    }\n\n    .dataframe tbody tr th {\n        vertical-align: top;\n    }\n\n    .dataframe thead th {\n        text-align: right;\n    }\n</style>\n<table border=\"1\" class=\"dataframe\">\n  <thead>\n    <tr style=\"text-align: right;\">\n      <th></th>\n      <th>SubjectID</th>\n      <th>ParticipantPosition_x</th>\n      <th>ParticipantPosition_z</th>\n      <th>PointerPosition_x</th>\n      <th>PointerPosition_z</th>\n      <th>PointerDirection_x</th>\n      <th>PointerDirection_z</th>\n      <th>PointingTargetName</th>\n      <th>Agent</th>\n      <th>avatarID</th>\n      <th>...</th>\n      <th>moved_target_position_x</th>\n      <th>moved_target_position_z</th>\n      <th>target_to_x_180</th>\n      <th>dir_to_x_180</th>\n      <th>target_to_x_360</th>\n      <th>dir_to_x_360</th>\n      <th>final_180_angles</th>\n      <th>final_360_angles</th>\n      <th>rounded_180_angles</th>\n      <th>rounded_360_angles</th>\n    </tr>\n  </thead>\n  <tbody>\n    <tr>\n      <th>0</th>\n      <td>365</td>\n      <td>-33.362625</td>\n      <td>-190.912018</td>\n      <td>-33.590775</td>\n      <td>-190.709625</td>\n      <td>-0.729280</td>\n      <td>0.681399</td>\n      <td>01_CmA_0_14</td>\n      <td>True</td>\n      <td>1</td>\n      <td>...</td>\n      <td>261.011810</td>\n      <td>309.964874</td>\n      <td>49.900308</td>\n      <td>136.943970</td>\n      <td>49.900308</td>\n      <td>136.943970</td>\n      <td>87.043662</td>\n      <td>87.043662</td>\n      <td>87.0</td>\n      <td>87.0</td>\n    </tr>\n    <tr>\n      <th>1</th>\n      <td>365</td>\n      <td>118.412003</td>\n      <td>-62.941864</td>\n      <td>118.647705</td>\n      <td>-63.044891</td>\n      <td>0.943334</td>\n      <td>0.254118</td>\n      <td>01_CmA_0_14</td>\n      <td>True</td>\n      <td>1</td>\n      <td>...</td>\n      <td>109.237183</td>\n      <td>181.994720</td>\n      <td>59.026904</td>\n      <td>15.076639</td>\n      <td>59.026904</td>\n      <td>15.076639</td>\n      <td>-43.950265</td>\n      <td>316.049735</td>\n      <td>-44.0</td>\n      <td>316.0</td>\n    </tr>\n    <tr>\n      <th>2</th>\n      <td>365</td>\n      <td>257.929993</td>\n      <td>-33.097687</td>\n      <td>257.598694</td>\n      <td>-32.840240</td>\n      <td>-0.831603</td>\n      <td>0.513045</td>\n      <td>01_CmA_0_14</td>\n      <td>True</td>\n      <td>1</td>\n      <td>...</td>\n      <td>-30.280807</td>\n      <td>152.150543</td>\n      <td>101.255862</td>\n      <td>148.328125</td>\n      <td>101.255862</td>\n      <td>148.328125</td>\n      <td>47.072263</td>\n      <td>47.072263</td>\n      <td>47.0</td>\n      <td>47.0</td>\n    </tr>\n    <tr>\n      <th>3</th>\n      <td>365</td>\n      <td>-242.933212</td>\n      <td>39.037964</td>\n      <td>-242.879013</td>\n      <td>38.953239</td>\n      <td>0.985110</td>\n      <td>0.151506</td>\n      <td>01_CmA_0_14</td>\n      <td>True</td>\n      <td>1</td>\n      <td>...</td>\n      <td>470.582397</td>\n      <td>80.014893</td>\n      <td>9.649925</td>\n      <td>8.743356</td>\n      <td>9.649925</td>\n      <td>8.743356</td>\n      <td>-0.906569</td>\n      <td>359.093431</td>\n      <td>-1.0</td>\n      <td>359.0</td>\n    </tr>\n    <tr>\n      <th>4</th>\n      <td>365</td>\n      <td>-320.974487</td>\n      <td>77.197166</td>\n      <td>-320.853760</td>\n      <td>77.009575</td>\n      <td>0.907607</td>\n      <td>-0.416039</td>\n      <td>01_CmA_0_14</td>\n      <td>True</td>\n      <td>1</td>\n      <td>...</td>\n      <td>548.623672</td>\n      <td>41.855690</td>\n      <td>4.362768</td>\n      <td>-24.626282</td>\n      <td>4.362768</td>\n      <td>335.373718</td>\n      <td>-28.989050</td>\n      <td>331.010950</td>\n      <td>-29.0</td>\n      <td>331.0</td>\n    </tr>\n  </tbody>\n</table>\n<p>5 rows × 31 columns</p>\n</div>"
     },
     "execution_count": 1331,
     "metadata": {},
     "output_type": "execute_result"
    }
   ],
   "source": [
    "df_cleaned.head()"
   ],
   "metadata": {
    "collapsed": false,
    "pycharm": {
     "name": "#%%\n"
    }
   }
  },
  {
   "cell_type": "code",
   "execution_count": 1332,
   "outputs": [
    {
     "name": "stdout",
     "output_type": "stream",
     "text": [
      "<class 'pandas.core.frame.DataFrame'>\n",
      "RangeIndex: 3017 entries, 0 to 3016\n",
      "Data columns (total 31 columns):\n",
      " #   Column                   Non-Null Count  Dtype  \n",
      "---  ------                   --------------  -----  \n",
      " 0   subject_id               3017 non-null   int64  \n",
      " 1   body_pos_x               3017 non-null   float64\n",
      " 2   body_pos_z               3017 non-null   float64\n",
      " 3   pointer_pos_x            3017 non-null   float64\n",
      " 4   pointer_pos_z            3017 non-null   float64\n",
      " 5   pointer_dir_x            3017 non-null   float64\n",
      " 6   pointer_dir_z            3017 non-null   float64\n",
      " 7   target_game_object_name  3017 non-null   object \n",
      " 8   avatar_presence          3017 non-null   bool   \n",
      " 9   avatar_id                3017 non-null   int64  \n",
      " 10  meaningful               3017 non-null   bool   \n",
      " 11  trial_id                 3017 non-null   int64  \n",
      " 12  image_name               3017 non-null   object \n",
      " 13  time_delta               3017 non-null   object \n",
      " 14  RT                       3017 non-null   float64\n",
      " 15  time_out                 3017 non-null   bool   \n",
      " 16  timestamp_begin          3017 non-null   object \n",
      " 17  timestamp_end            3017 non-null   object \n",
      " 18  building_id              3017 non-null   int64  \n",
      " 19  building_center_x        3017 non-null   float64\n",
      " 20  building_center_z        3017 non-null   float64\n",
      " 21  moved_target_position_x  3017 non-null   float64\n",
      " 22  moved_target_position_z  3017 non-null   float64\n",
      " 23  target_to_x_180          3017 non-null   float64\n",
      " 24  dir_to_x_180             3017 non-null   float64\n",
      " 25  target_to_x_360          3017 non-null   float64\n",
      " 26  dir_to_x_360             3017 non-null   float64\n",
      " 27  final_180_angles         3017 non-null   float64\n",
      " 28  final_360_angles         3017 non-null   float64\n",
      " 29  rounded_180_angles       3017 non-null   float64\n",
      " 30  rounded_360_angles       3017 non-null   float64\n",
      "dtypes: bool(3), float64(19), int64(4), object(5)\n",
      "memory usage: 668.9+ KB\n"
     ]
    }
   ],
   "source": [
    "df_cleaned = df_cleaned.rename(columns = {'SubjectID'             : 'subject_id',\n",
    "                                          'ParticipantPosition_x' : 'body_pos_x',\n",
    "                                          'ParticipantPosition_z' : 'body_pos_z',\n",
    "                                          'PointerPosition_x'     : 'pointer_pos_x',\n",
    "                                          'PointerPosition_z'     : 'pointer_pos_z',\n",
    "                                          'PointerDirection_x'    : 'pointer_dir_x',\n",
    "                                          'PointerDirection_z'    : 'pointer_dir_z',\n",
    "                                          'PointingTargetName'    : 'target_game_object_name',\n",
    "                                          'Agent'                 : 'avatar_presence',\n",
    "                                          'avatarID'              : 'avatar_id',\n",
    "                                          'TrialID'               : 'trial_id',\n",
    "                                          'ImageName'             : 'image_name',\n",
    "                                          'TimeDelta'             : 'time_delta',\n",
    "                                          'TimeOut'               : 'time_out',\n",
    "                                          'TimeStampBegin'        : 'timestamp_begin',\n",
    "                                          'TimeStampEnd'          : 'timestamp_end',\n",
    "                                          'BuildingID'            : 'building_id',\n",
    "                                          'BuildingCenterWorld.x' : 'building_center_x',\n",
    "                                          'BuildingCenterWorld.z' : 'building_center_z'\n",
    "})\n",
    "\n",
    "df_cleaned.info()"
   ],
   "metadata": {
    "collapsed": false,
    "pycharm": {
     "name": "#%%\n"
    }
   }
  },
  {
   "cell_type": "code",
   "execution_count": 1333,
   "outputs": [],
   "source": [
    "df_cleaned.to_csv(f'{FILE_PATH}/07_preprocessed.csv', index=False)\n",
    "del df_cleaned"
   ],
   "metadata": {
    "collapsed": false,
    "pycharm": {
     "name": "#%%\n"
    }
   }
  }
 ],
 "metadata": {
  "kernelspec": {
   "display_name": "Python 3",
   "language": "python",
   "name": "python3"
  },
  "language_info": {
   "codemirror_mode": {
    "name": "ipython",
    "version": 2
   },
   "file_extension": ".py",
   "mimetype": "text/x-python",
   "name": "python",
   "nbconvert_exporter": "python",
   "pygments_lexer": "ipython2",
   "version": "2.7.6"
  }
 },
 "nbformat": 4,
 "nbformat_minor": 0
}