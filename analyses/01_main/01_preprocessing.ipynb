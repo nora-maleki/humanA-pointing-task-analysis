{
 "cells": [
  {
   "cell_type": "markdown",
   "source": [
    "# Exploring the data\n",
    "author: Nora Maleki (noora.maleki@gmail.com)\n",
    "March 2022"
   ],
   "metadata": {
    "collapsed": false
   }
  },
  {
   "cell_type": "markdown",
   "source": [
    "## Import libraries"
   ],
   "metadata": {
    "collapsed": false
   }
  },
  {
   "cell_type": "code",
   "execution_count": 265,
   "outputs": [],
   "source": [
    "import numpy as np\n",
    "import pandas as pd\n",
    "import matplotlib.pyplot as plt\n",
    "import seaborn as sns\n",
    "import os"
   ],
   "metadata": {
    "collapsed": false,
    "pycharm": {
     "name": "#%%\n"
    }
   }
  },
  {
   "cell_type": "markdown",
   "source": [
    "## Load datasets"
   ],
   "metadata": {
    "collapsed": false
   }
  },
  {
   "cell_type": "code",
   "execution_count": 266,
   "outputs": [],
   "source": [
    "FILE_PATH = r'../../data/01_main'"
   ],
   "metadata": {
    "collapsed": false,
    "pycharm": {
     "name": "#%%\n"
    }
   }
  },
  {
   "cell_type": "code",
   "execution_count": 267,
   "metadata": {
    "collapsed": true,
    "pycharm": {
     "name": "#%%\n"
    }
   },
   "outputs": [
    {
     "name": "stdout",
     "output_type": "stream",
     "text": [
      "Done!\n"
     ]
    }
   ],
   "source": [
    "dataset = pd.read_csv(f'{FILE_PATH}/01_coordinates_integrated.csv', index_col=[0])\n",
    "all_buildings = pd.read_csv(f'{FILE_PATH}/02_all_buildings_list.csv', index_col=[0])\n",
    "avatar_info = pd.read_csv(f'{FILE_PATH}/03_avatar_info_list.csv', index_col=[0])\n",
    "print('Done!')"
   ]
  },
  {
   "cell_type": "code",
   "execution_count": 268,
   "outputs": [
    {
     "data": {
      "text/plain": "   SubjectID  ParticipantPosition_x  ParticipantPosition_z  PointerPosition_x  \\\n0        365             -33.362625            -190.912018         -33.590775   \n1        365             118.412003             -62.941864         118.647705   \n2        365             257.929993             -33.097687         257.598694   \n3        365            -242.933212              39.037964        -242.879013   \n4        365            -320.974487              77.197166        -320.853760   \n\n   PointerPosition_z  PointerDirection_x  PointerDirection_y  \\\n0        -190.709625           -0.729280            0.062026   \n1         -63.044891            0.943334            0.213414   \n2         -32.840240           -0.831603            0.212654   \n3          38.953239            0.985110            0.081270   \n4          77.009575            0.907607            0.056222   \n\n   PointerDirection_z      Angle  BuildingPositionLocal_x  ...  \\\n0            0.681399  87.005028               255.062286  ...   \n1            0.254118  44.100197               255.062286  ...   \n2            0.513045  47.522392               255.062286  ...   \n3            0.151506   1.100918               255.062286  ...   \n4           -0.416039  29.176662               255.062286  ...   \n\n                              vector_PartPos  \\\n0  (-33.36262512207031, -190.91201782226562)   \n1  (118.41200256347656, -62.941864013671875)   \n2  (257.92999267578125, -33.097686767578125)   \n3    (-242.93321228027344, 39.0379638671875)   \n4     (-320.9744873046875, 77.1971664428711)   \n\n                         vector_BuildingPos  \\\n0  (255.06228637695312, -1.663042545318603)   \n1  (255.06228637695312, -1.663042545318603)   \n2  (255.06228637695312, -1.663042545318603)   \n3  (255.06228637695312, -1.663042545318603)   \n4  (255.06228637695312, -1.663042545318603)   \n\n                           vector_PointerPos  \\\n0  (-33.59077453613281, -190.70962524414062)   \n1    (118.647705078125, -63.044891357421875)   \n2  (257.59869384765625, -32.840240478515625)   \n3   (-242.87901306152344, 38.95323944091797)   \n4     (-320.853759765625, 77.00957489013672)   \n\n                Vector_Participant-Building  \\\n0  (288.42491149902344, 189.24897527694702)   \n1   (136.65028381347656, 61.27882146835327)   \n2   (-2.867706298828125, 31.43464422225952)   \n3   (497.99549865722656, -40.7010064125061)   \n4    (576.0367736816406, -78.8602089881897)   \n\n              Vector_Participant-Pointer  Dot_Pointer-Building-Participant  \\\n0     (-0.2281494140625, 0.202392578125)                        -27.501387   \n1   (0.2357025146484375, -0.10302734375)                         25.895421   \n2     (-0.331298828125, 0.2574462890625)                          9.042800   \n3  (0.05419921875, -0.08472442626953125)                         30.439336   \n4  (0.1207275390625, -0.187591552734375)                         84.337011   \n\n   Magnitud_Participant-Pointer Magnitud_Participant-Building   radians  \\\n0                      0.304983                    344.969715  1.835264   \n1                      0.257236                    149.761123  0.833633   \n2                      0.419568                     31.565180  0.819211   \n3                      0.100577                    499.655970  0.920139   \n4                      0.223082                    581.409750  0.862902   \n\n      degrees  \n0  105.152855  \n1   47.763652  \n2   46.937344  \n3   52.720091  \n4   49.440636  \n\n[5 rows x 45 columns]",
      "text/html": "<div>\n<style scoped>\n    .dataframe tbody tr th:only-of-type {\n        vertical-align: middle;\n    }\n\n    .dataframe tbody tr th {\n        vertical-align: top;\n    }\n\n    .dataframe thead th {\n        text-align: right;\n    }\n</style>\n<table border=\"1\" class=\"dataframe\">\n  <thead>\n    <tr style=\"text-align: right;\">\n      <th></th>\n      <th>SubjectID</th>\n      <th>ParticipantPosition_x</th>\n      <th>ParticipantPosition_z</th>\n      <th>PointerPosition_x</th>\n      <th>PointerPosition_z</th>\n      <th>PointerDirection_x</th>\n      <th>PointerDirection_y</th>\n      <th>PointerDirection_z</th>\n      <th>Angle</th>\n      <th>BuildingPositionLocal_x</th>\n      <th>...</th>\n      <th>vector_PartPos</th>\n      <th>vector_BuildingPos</th>\n      <th>vector_PointerPos</th>\n      <th>Vector_Participant-Building</th>\n      <th>Vector_Participant-Pointer</th>\n      <th>Dot_Pointer-Building-Participant</th>\n      <th>Magnitud_Participant-Pointer</th>\n      <th>Magnitud_Participant-Building</th>\n      <th>radians</th>\n      <th>degrees</th>\n    </tr>\n  </thead>\n  <tbody>\n    <tr>\n      <th>0</th>\n      <td>365</td>\n      <td>-33.362625</td>\n      <td>-190.912018</td>\n      <td>-33.590775</td>\n      <td>-190.709625</td>\n      <td>-0.729280</td>\n      <td>0.062026</td>\n      <td>0.681399</td>\n      <td>87.005028</td>\n      <td>255.062286</td>\n      <td>...</td>\n      <td>(-33.36262512207031, -190.91201782226562)</td>\n      <td>(255.06228637695312, -1.663042545318603)</td>\n      <td>(-33.59077453613281, -190.70962524414062)</td>\n      <td>(288.42491149902344, 189.24897527694702)</td>\n      <td>(-0.2281494140625, 0.202392578125)</td>\n      <td>-27.501387</td>\n      <td>0.304983</td>\n      <td>344.969715</td>\n      <td>1.835264</td>\n      <td>105.152855</td>\n    </tr>\n    <tr>\n      <th>1</th>\n      <td>365</td>\n      <td>118.412003</td>\n      <td>-62.941864</td>\n      <td>118.647705</td>\n      <td>-63.044891</td>\n      <td>0.943334</td>\n      <td>0.213414</td>\n      <td>0.254118</td>\n      <td>44.100197</td>\n      <td>255.062286</td>\n      <td>...</td>\n      <td>(118.41200256347656, -62.941864013671875)</td>\n      <td>(255.06228637695312, -1.663042545318603)</td>\n      <td>(118.647705078125, -63.044891357421875)</td>\n      <td>(136.65028381347656, 61.27882146835327)</td>\n      <td>(0.2357025146484375, -0.10302734375)</td>\n      <td>25.895421</td>\n      <td>0.257236</td>\n      <td>149.761123</td>\n      <td>0.833633</td>\n      <td>47.763652</td>\n    </tr>\n    <tr>\n      <th>2</th>\n      <td>365</td>\n      <td>257.929993</td>\n      <td>-33.097687</td>\n      <td>257.598694</td>\n      <td>-32.840240</td>\n      <td>-0.831603</td>\n      <td>0.212654</td>\n      <td>0.513045</td>\n      <td>47.522392</td>\n      <td>255.062286</td>\n      <td>...</td>\n      <td>(257.92999267578125, -33.097686767578125)</td>\n      <td>(255.06228637695312, -1.663042545318603)</td>\n      <td>(257.59869384765625, -32.840240478515625)</td>\n      <td>(-2.867706298828125, 31.43464422225952)</td>\n      <td>(-0.331298828125, 0.2574462890625)</td>\n      <td>9.042800</td>\n      <td>0.419568</td>\n      <td>31.565180</td>\n      <td>0.819211</td>\n      <td>46.937344</td>\n    </tr>\n    <tr>\n      <th>3</th>\n      <td>365</td>\n      <td>-242.933212</td>\n      <td>39.037964</td>\n      <td>-242.879013</td>\n      <td>38.953239</td>\n      <td>0.985110</td>\n      <td>0.081270</td>\n      <td>0.151506</td>\n      <td>1.100918</td>\n      <td>255.062286</td>\n      <td>...</td>\n      <td>(-242.93321228027344, 39.0379638671875)</td>\n      <td>(255.06228637695312, -1.663042545318603)</td>\n      <td>(-242.87901306152344, 38.95323944091797)</td>\n      <td>(497.99549865722656, -40.7010064125061)</td>\n      <td>(0.05419921875, -0.08472442626953125)</td>\n      <td>30.439336</td>\n      <td>0.100577</td>\n      <td>499.655970</td>\n      <td>0.920139</td>\n      <td>52.720091</td>\n    </tr>\n    <tr>\n      <th>4</th>\n      <td>365</td>\n      <td>-320.974487</td>\n      <td>77.197166</td>\n      <td>-320.853760</td>\n      <td>77.009575</td>\n      <td>0.907607</td>\n      <td>0.056222</td>\n      <td>-0.416039</td>\n      <td>29.176662</td>\n      <td>255.062286</td>\n      <td>...</td>\n      <td>(-320.9744873046875, 77.1971664428711)</td>\n      <td>(255.06228637695312, -1.663042545318603)</td>\n      <td>(-320.853759765625, 77.00957489013672)</td>\n      <td>(576.0367736816406, -78.8602089881897)</td>\n      <td>(0.1207275390625, -0.187591552734375)</td>\n      <td>84.337011</td>\n      <td>0.223082</td>\n      <td>581.409750</td>\n      <td>0.862902</td>\n      <td>49.440636</td>\n    </tr>\n  </tbody>\n</table>\n<p>5 rows × 45 columns</p>\n</div>"
     },
     "execution_count": 268,
     "metadata": {},
     "output_type": "execute_result"
    }
   ],
   "source": [
    "dataset.head()"
   ],
   "metadata": {
    "collapsed": false,
    "pycharm": {
     "name": "#%%\n"
    }
   }
  },
  {
   "cell_type": "code",
   "execution_count": 269,
   "outputs": [
    {
     "data": {
      "text/plain": "   BuildingID        BuildingName  BuildingCenterWorld.x  \\\n0          59            Crane_59            -318.127991   \n1          58  BasketballCourt_58             104.339996   \n2          57     Construction_57             -71.695419   \n3          48     TaskBuilding_48            -195.637009   \n4          52     TaskBuilding_52            -247.185669   \n\n   BuildingCenterWorld.y  BuildingCenterWorld.z  BuildingPositionGlobal.x  \\\n0              26.896717            -167.823914               -313.499451   \n1              -0.440584             -45.689999                104.339996   \n2               0.739893             -26.238297                -71.803406   \n3               7.350957            -130.434052               -195.637512   \n4               4.570368              54.489395               -247.203369   \n\n   BuildingPositionGlobal.y  BuildingPositionGlobal.z  \\\n0                  1.614944               -150.514664   \n1                 -3.070000                -45.689999   \n2                  0.551138                -26.717417   \n3                 -0.000015               -130.434052   \n4                  2.410477                 54.642479   \n\n   BuildingPositionLocal.x  BuildingPositionLocal.y  ...  \\\n0              -313.499451                 1.614944  ...   \n1               104.339996                -3.070000  ...   \n2                -0.028043                 0.005596  ...   \n3              -195.637512               130.434067  ...   \n4              -247.203369               -54.642483  ...   \n\n   BuildingLocalScale.z  BuildingForwardDirection.x  \\\n0               1.20745                2.423655e-01   \n1               1.00000               -6.614817e-01   \n2               1.00000                1.490116e-07   \n3               1.00000                0.000000e+00   \n4               1.00000                1.147317e-01   \n\n   BuildingForwardDirection.y  BuildingForwardDirection.z  \\\n0               -7.277503e-09                9.701850e-01   \n1                0.000000e+00                7.499613e-01   \n2                1.000000e+00               -1.639128e-07   \n3                0.000000e+00                1.000000e+00   \n4               -4.165431e-07               -9.933965e-01   \n\n   BuildingUpDirection.x  BuildingUpDirection.y  BuildingUpDirection.z  \\\n0           5.915870e-08           1.000000e+00          -7.277503e-09   \n1           0.000000e+00           1.000000e+00           0.000000e+00   \n2           7.768201e-01          -2.384186e-07          -6.297227e-01   \n3           0.000000e+00           1.000000e+00           0.000000e+00   \n4           2.397451e-08           1.000000e+00          -4.165431e-07   \n\n   BuildingRightDirection.x  BuildingRightDirection.y  \\\n0                  0.970185             -5.915870e-08   \n1                  0.749961              0.000000e+00   \n2                  0.629723              0.000000e+00   \n3                  1.000000              0.000000e+00   \n4                 -0.993397             -2.397451e-08   \n\n   BuildingRightDirection.z  \n0                 -0.242366  \n1                  0.661482  \n2                  0.776820  \n3                  0.000000  \n4                 -0.114732  \n\n[5 rows x 40 columns]",
      "text/html": "<div>\n<style scoped>\n    .dataframe tbody tr th:only-of-type {\n        vertical-align: middle;\n    }\n\n    .dataframe tbody tr th {\n        vertical-align: top;\n    }\n\n    .dataframe thead th {\n        text-align: right;\n    }\n</style>\n<table border=\"1\" class=\"dataframe\">\n  <thead>\n    <tr style=\"text-align: right;\">\n      <th></th>\n      <th>BuildingID</th>\n      <th>BuildingName</th>\n      <th>BuildingCenterWorld.x</th>\n      <th>BuildingCenterWorld.y</th>\n      <th>BuildingCenterWorld.z</th>\n      <th>BuildingPositionGlobal.x</th>\n      <th>BuildingPositionGlobal.y</th>\n      <th>BuildingPositionGlobal.z</th>\n      <th>BuildingPositionLocal.x</th>\n      <th>BuildingPositionLocal.y</th>\n      <th>...</th>\n      <th>BuildingLocalScale.z</th>\n      <th>BuildingForwardDirection.x</th>\n      <th>BuildingForwardDirection.y</th>\n      <th>BuildingForwardDirection.z</th>\n      <th>BuildingUpDirection.x</th>\n      <th>BuildingUpDirection.y</th>\n      <th>BuildingUpDirection.z</th>\n      <th>BuildingRightDirection.x</th>\n      <th>BuildingRightDirection.y</th>\n      <th>BuildingRightDirection.z</th>\n    </tr>\n  </thead>\n  <tbody>\n    <tr>\n      <th>0</th>\n      <td>59</td>\n      <td>Crane_59</td>\n      <td>-318.127991</td>\n      <td>26.896717</td>\n      <td>-167.823914</td>\n      <td>-313.499451</td>\n      <td>1.614944</td>\n      <td>-150.514664</td>\n      <td>-313.499451</td>\n      <td>1.614944</td>\n      <td>...</td>\n      <td>1.20745</td>\n      <td>2.423655e-01</td>\n      <td>-7.277503e-09</td>\n      <td>9.701850e-01</td>\n      <td>5.915870e-08</td>\n      <td>1.000000e+00</td>\n      <td>-7.277503e-09</td>\n      <td>0.970185</td>\n      <td>-5.915870e-08</td>\n      <td>-0.242366</td>\n    </tr>\n    <tr>\n      <th>1</th>\n      <td>58</td>\n      <td>BasketballCourt_58</td>\n      <td>104.339996</td>\n      <td>-0.440584</td>\n      <td>-45.689999</td>\n      <td>104.339996</td>\n      <td>-3.070000</td>\n      <td>-45.689999</td>\n      <td>104.339996</td>\n      <td>-3.070000</td>\n      <td>...</td>\n      <td>1.00000</td>\n      <td>-6.614817e-01</td>\n      <td>0.000000e+00</td>\n      <td>7.499613e-01</td>\n      <td>0.000000e+00</td>\n      <td>1.000000e+00</td>\n      <td>0.000000e+00</td>\n      <td>0.749961</td>\n      <td>0.000000e+00</td>\n      <td>0.661482</td>\n    </tr>\n    <tr>\n      <th>2</th>\n      <td>57</td>\n      <td>Construction_57</td>\n      <td>-71.695419</td>\n      <td>0.739893</td>\n      <td>-26.238297</td>\n      <td>-71.803406</td>\n      <td>0.551138</td>\n      <td>-26.717417</td>\n      <td>-0.028043</td>\n      <td>0.005596</td>\n      <td>...</td>\n      <td>1.00000</td>\n      <td>1.490116e-07</td>\n      <td>1.000000e+00</td>\n      <td>-1.639128e-07</td>\n      <td>7.768201e-01</td>\n      <td>-2.384186e-07</td>\n      <td>-6.297227e-01</td>\n      <td>0.629723</td>\n      <td>0.000000e+00</td>\n      <td>0.776820</td>\n    </tr>\n    <tr>\n      <th>3</th>\n      <td>48</td>\n      <td>TaskBuilding_48</td>\n      <td>-195.637009</td>\n      <td>7.350957</td>\n      <td>-130.434052</td>\n      <td>-195.637512</td>\n      <td>-0.000015</td>\n      <td>-130.434052</td>\n      <td>-195.637512</td>\n      <td>130.434067</td>\n      <td>...</td>\n      <td>1.00000</td>\n      <td>0.000000e+00</td>\n      <td>0.000000e+00</td>\n      <td>1.000000e+00</td>\n      <td>0.000000e+00</td>\n      <td>1.000000e+00</td>\n      <td>0.000000e+00</td>\n      <td>1.000000</td>\n      <td>0.000000e+00</td>\n      <td>0.000000</td>\n    </tr>\n    <tr>\n      <th>4</th>\n      <td>52</td>\n      <td>TaskBuilding_52</td>\n      <td>-247.185669</td>\n      <td>4.570368</td>\n      <td>54.489395</td>\n      <td>-247.203369</td>\n      <td>2.410477</td>\n      <td>54.642479</td>\n      <td>-247.203369</td>\n      <td>-54.642483</td>\n      <td>...</td>\n      <td>1.00000</td>\n      <td>1.147317e-01</td>\n      <td>-4.165431e-07</td>\n      <td>-9.933965e-01</td>\n      <td>2.397451e-08</td>\n      <td>1.000000e+00</td>\n      <td>-4.165431e-07</td>\n      <td>-0.993397</td>\n      <td>-2.397451e-08</td>\n      <td>-0.114732</td>\n    </tr>\n  </tbody>\n</table>\n<p>5 rows × 40 columns</p>\n</div>"
     },
     "execution_count": 269,
     "metadata": {},
     "output_type": "execute_result"
    }
   ],
   "source": [
    "all_buildings.head()"
   ],
   "metadata": {
    "collapsed": false,
    "pycharm": {
     "name": "#%%\n"
    }
   }
  },
  {
   "cell_type": "code",
   "execution_count": 270,
   "outputs": [
    {
     "data": {
      "text/plain": "   AvatarID AvatarName  AvatarCenterWorld.x  AvatarCenterWorld.y  \\\n0         2     02_Cma          -147.664993             3.072653   \n1        42      42_Sa            65.630707            -1.885010   \n2        36      36_Sa           162.001144            -0.394517   \n3        38      38_Sa           150.833649            -1.489311   \n4        41      41_Sa            92.128632             0.218283   \n\n   AvatarCenterWorld.z  AvatarPositionGlobal.x  AvatarPositionGlobal.y  \\\n0            67.390167             -147.646744                2.345342   \n1           -52.687607               65.613266               -2.612321   \n2           133.271271              162.000000               -1.121828   \n3           -43.709518              150.816269               -2.300489   \n4            38.293304               92.163269               -0.467581   \n\n   AvatarPositionGlobal.z  AvatarPositionLocal.x  AvatarPositionLocal.y  ...  \\\n0               67.389999            -351.640015               6.398831  ...   \n1              -52.674149            -138.380005               1.441168  ...   \n2              133.300003             -41.993271               2.931661  ...   \n3              -43.692154             -53.176998               1.753000  ...   \n4               38.295853            -111.830002               3.585908  ...   \n\n   AvatarLocalScale.z  AvatarForwardDirection.x  AvatarForwardDirection.y  \\\n0                 1.0                  0.000000                       0.0   \n1                 1.0                 -0.605179                       0.0   \n2                 1.0                  0.664752                       0.0   \n3                 1.0                  0.711973                       0.0   \n4                 1.0                  0.743769                       0.0   \n\n   AvatarForwardDirection.z  AvatarUpDirection.x  AvatarUpDirection.y  \\\n0                  1.000000                  0.0                  1.0   \n1                 -0.796090                  0.0                  1.0   \n2                  0.747064                  0.0                  1.0   \n3                  0.702207                  0.0                  1.0   \n4                 -0.668437                  0.0                  1.0   \n\n   AvatarUpDirection.z  AvatarRightDirection.x  AvatarRightDirection.y  \\\n0                  0.0                1.000000                     0.0   \n1                  0.0               -0.796090                     0.0   \n2                  0.0                0.747064                     0.0   \n3                  0.0                0.702207                     0.0   \n4                  0.0               -0.668437                     0.0   \n\n   AvatarRightDirection.z  \n0                0.000000  \n1                0.605179  \n2               -0.664752  \n3               -0.711973  \n4               -0.743769  \n\n[5 rows x 40 columns]",
      "text/html": "<div>\n<style scoped>\n    .dataframe tbody tr th:only-of-type {\n        vertical-align: middle;\n    }\n\n    .dataframe tbody tr th {\n        vertical-align: top;\n    }\n\n    .dataframe thead th {\n        text-align: right;\n    }\n</style>\n<table border=\"1\" class=\"dataframe\">\n  <thead>\n    <tr style=\"text-align: right;\">\n      <th></th>\n      <th>AvatarID</th>\n      <th>AvatarName</th>\n      <th>AvatarCenterWorld.x</th>\n      <th>AvatarCenterWorld.y</th>\n      <th>AvatarCenterWorld.z</th>\n      <th>AvatarPositionGlobal.x</th>\n      <th>AvatarPositionGlobal.y</th>\n      <th>AvatarPositionGlobal.z</th>\n      <th>AvatarPositionLocal.x</th>\n      <th>AvatarPositionLocal.y</th>\n      <th>...</th>\n      <th>AvatarLocalScale.z</th>\n      <th>AvatarForwardDirection.x</th>\n      <th>AvatarForwardDirection.y</th>\n      <th>AvatarForwardDirection.z</th>\n      <th>AvatarUpDirection.x</th>\n      <th>AvatarUpDirection.y</th>\n      <th>AvatarUpDirection.z</th>\n      <th>AvatarRightDirection.x</th>\n      <th>AvatarRightDirection.y</th>\n      <th>AvatarRightDirection.z</th>\n    </tr>\n  </thead>\n  <tbody>\n    <tr>\n      <th>0</th>\n      <td>2</td>\n      <td>02_Cma</td>\n      <td>-147.664993</td>\n      <td>3.072653</td>\n      <td>67.390167</td>\n      <td>-147.646744</td>\n      <td>2.345342</td>\n      <td>67.389999</td>\n      <td>-351.640015</td>\n      <td>6.398831</td>\n      <td>...</td>\n      <td>1.0</td>\n      <td>0.000000</td>\n      <td>0.0</td>\n      <td>1.000000</td>\n      <td>0.0</td>\n      <td>1.0</td>\n      <td>0.0</td>\n      <td>1.000000</td>\n      <td>0.0</td>\n      <td>0.000000</td>\n    </tr>\n    <tr>\n      <th>1</th>\n      <td>42</td>\n      <td>42_Sa</td>\n      <td>65.630707</td>\n      <td>-1.885010</td>\n      <td>-52.687607</td>\n      <td>65.613266</td>\n      <td>-2.612321</td>\n      <td>-52.674149</td>\n      <td>-138.380005</td>\n      <td>1.441168</td>\n      <td>...</td>\n      <td>1.0</td>\n      <td>-0.605179</td>\n      <td>0.0</td>\n      <td>-0.796090</td>\n      <td>0.0</td>\n      <td>1.0</td>\n      <td>0.0</td>\n      <td>-0.796090</td>\n      <td>0.0</td>\n      <td>0.605179</td>\n    </tr>\n    <tr>\n      <th>2</th>\n      <td>36</td>\n      <td>36_Sa</td>\n      <td>162.001144</td>\n      <td>-0.394517</td>\n      <td>133.271271</td>\n      <td>162.000000</td>\n      <td>-1.121828</td>\n      <td>133.300003</td>\n      <td>-41.993271</td>\n      <td>2.931661</td>\n      <td>...</td>\n      <td>1.0</td>\n      <td>0.664752</td>\n      <td>0.0</td>\n      <td>0.747064</td>\n      <td>0.0</td>\n      <td>1.0</td>\n      <td>0.0</td>\n      <td>0.747064</td>\n      <td>0.0</td>\n      <td>-0.664752</td>\n    </tr>\n    <tr>\n      <th>3</th>\n      <td>38</td>\n      <td>38_Sa</td>\n      <td>150.833649</td>\n      <td>-1.489311</td>\n      <td>-43.709518</td>\n      <td>150.816269</td>\n      <td>-2.300489</td>\n      <td>-43.692154</td>\n      <td>-53.176998</td>\n      <td>1.753000</td>\n      <td>...</td>\n      <td>1.0</td>\n      <td>0.711973</td>\n      <td>0.0</td>\n      <td>0.702207</td>\n      <td>0.0</td>\n      <td>1.0</td>\n      <td>0.0</td>\n      <td>0.702207</td>\n      <td>0.0</td>\n      <td>-0.711973</td>\n    </tr>\n    <tr>\n      <th>4</th>\n      <td>41</td>\n      <td>41_Sa</td>\n      <td>92.128632</td>\n      <td>0.218283</td>\n      <td>38.293304</td>\n      <td>92.163269</td>\n      <td>-0.467581</td>\n      <td>38.295853</td>\n      <td>-111.830002</td>\n      <td>3.585908</td>\n      <td>...</td>\n      <td>1.0</td>\n      <td>0.743769</td>\n      <td>0.0</td>\n      <td>-0.668437</td>\n      <td>0.0</td>\n      <td>1.0</td>\n      <td>0.0</td>\n      <td>-0.668437</td>\n      <td>0.0</td>\n      <td>-0.743769</td>\n    </tr>\n  </tbody>\n</table>\n<p>5 rows × 40 columns</p>\n</div>"
     },
     "execution_count": 270,
     "metadata": {},
     "output_type": "execute_result"
    }
   ],
   "source": [
    "avatar_info.head()"
   ],
   "metadata": {
    "collapsed": false,
    "pycharm": {
     "name": "#%%\n"
    }
   }
  },
  {
   "cell_type": "markdown",
   "source": [
    "### Glimpse at the data"
   ],
   "metadata": {
    "collapsed": false
   }
  },
  {
   "cell_type": "code",
   "execution_count": 271,
   "outputs": [
    {
     "name": "stdout",
     "output_type": "stream",
     "text": [
      "<class 'pandas.core.frame.DataFrame'>\n",
      "Int64Index: 3024 entries, 0 to 3023\n",
      "Data columns (total 45 columns):\n",
      " #   Column                            Non-Null Count  Dtype  \n",
      "---  ------                            --------------  -----  \n",
      " 0   SubjectID                         3024 non-null   int64  \n",
      " 1   ParticipantPosition_x             3024 non-null   float64\n",
      " 2   ParticipantPosition_z             3024 non-null   float64\n",
      " 3   PointerPosition_x                 3024 non-null   float64\n",
      " 4   PointerPosition_z                 3024 non-null   float64\n",
      " 5   PointerDirection_x                3024 non-null   float64\n",
      " 6   PointerDirection_y                3024 non-null   float64\n",
      " 7   PointerDirection_z                3024 non-null   float64\n",
      " 8   Angle                             3024 non-null   float64\n",
      " 9   BuildingPositionLocal_x           3024 non-null   float64\n",
      " 10  BuildingPositionLocal_y           3024 non-null   float64\n",
      " 11  SignedAngle-+180                  3024 non-null   float64\n",
      " 12  SignedAngle360                    3024 non-null   float64\n",
      " 13  BuildingPositionLocal_z           3024 non-null   float64\n",
      " 14  DistanceToParticipant             3024 non-null   float64\n",
      " 15  PointingTargetId                  3024 non-null   int64  \n",
      " 16  PointingTargetIndex               3024 non-null   int64  \n",
      " 17  PointingTargetName                3024 non-null   object \n",
      " 18  PointingTargetBuildingId          3024 non-null   int64  \n",
      " 19  PointingTargetCondition           3024 non-null   object \n",
      " 20  Context                           3024 non-null   bool   \n",
      " 21  Agent                             3024 non-null   bool   \n",
      " 22  avatarID                          3024 non-null   int64  \n",
      " 23  AvatarPresence                    3024 non-null   bool   \n",
      " 24  AvatarPresenceCategory            3024 non-null   object \n",
      " 25  meaningful                        3024 non-null   bool   \n",
      " 26  meaningfulBuilding                3024 non-null   object \n",
      " 27  Trials                            3024 non-null   int64  \n",
      " 28  TrialID                           3024 non-null   int64  \n",
      " 29  ImageName                         3024 non-null   object \n",
      " 30  TimeDelta                         3024 non-null   object \n",
      " 31  RT                                3024 non-null   float64\n",
      " 32  TimeOut                           3024 non-null   bool   \n",
      " 33  TimeStampBegin                    3024 non-null   object \n",
      " 34  TimeStampEnd                      3024 non-null   object \n",
      " 35  vector_PartPos                    3024 non-null   object \n",
      " 36  vector_BuildingPos                3024 non-null   object \n",
      " 37  vector_PointerPos                 3024 non-null   object \n",
      " 38  Vector_Participant-Building       3024 non-null   object \n",
      " 39  Vector_Participant-Pointer        3024 non-null   object \n",
      " 40  Dot_Pointer-Building-Participant  3024 non-null   float64\n",
      " 41  Magnitud_Participant-Pointer      3024 non-null   float64\n",
      " 42  Magnitud_Participant-Building     3024 non-null   float64\n",
      " 43  radians                           3024 non-null   float64\n",
      " 44  degrees                           3024 non-null   float64\n",
      "dtypes: bool(5), float64(20), int64(7), object(13)\n",
      "memory usage: 983.4+ KB\n"
     ]
    }
   ],
   "source": [
    "dataset.info(verbose=True, show_counts=True)"
   ],
   "metadata": {
    "collapsed": false,
    "pycharm": {
     "name": "#%%\n"
    }
   }
  },
  {
   "cell_type": "code",
   "execution_count": 272,
   "outputs": [
    {
     "data": {
      "text/plain": "         SubjectID  ParticipantPosition_x  ParticipantPosition_z  \\\ncount  3024.000000            3024.000000            3024.000000   \nmean   5949.222222              -2.380455              14.179977   \nstd    2679.017027             174.526182             137.780203   \nmin     365.000000            -326.886047            -191.062988   \n25%    4176.000000            -121.389214            -131.491875   \n50%    6642.000000             -15.471565              33.366211   \n75%    7842.000000             123.511269             135.194962   \nmax    9472.000000             366.834778             235.882217   \n\n       PointerPosition_x  PointerPosition_z  PointerDirection_x  \\\ncount        3024.000000        3024.000000         3024.000000   \nmean           -2.105650          14.240982           -0.062420   \nstd           174.422929         137.616658            0.711618   \nmin          -327.157532        -191.119629           -0.999783   \n25%          -114.630356        -128.914780           -0.786176   \n50%             1.953339          33.455299           -0.127837   \n75%           137.915379         135.195560            0.630784   \nmax           366.869934         235.829254            0.999977   \n\n       PointerDirection_y  PointerDirection_z        Angle  \\\ncount         3024.000000         3024.000000  3024.000000   \nmean             0.049247           -0.019174    49.312632   \nstd              0.063007            0.694938    43.940893   \nmin             -0.107550           -0.999844     0.000000   \n25%              0.011022           -0.697728    13.787071   \n50%              0.031453           -0.036454    36.979969   \n75%              0.066026            0.674460    72.340826   \nmax              0.741587            0.999944   179.972031   \n\n       BuildingPositionLocal_x  ...  PointingTargetBuildingId     avatarID  \\\ncount              3024.000000  ...               3024.000000  3024.000000   \nmean                 -0.507066  ...                 29.076058    28.521495   \nstd                 201.542360  ...                 16.729943    16.143405   \nmin                -431.064392  ...                  1.000000     1.000000   \n25%                -153.392502  ...                 14.000000    15.000000   \n50%                  -3.306354  ...                 29.000000    29.000000   \n75%                 151.605972  ...                 43.000000    43.000000   \nmax                 401.828735  ...                 59.000000    56.000000   \n\n            Trials      TrialID           RT  \\\ncount  3024.000000  3024.000000  3024.000000   \nmean     55.543651   168.500000     7.694524   \nstd      32.306260    97.010457     5.776413   \nmin       0.000000     1.000000     0.955793   \n25%      28.000000    84.750000     3.419546   \n50%      56.000000   168.500000     5.872636   \n75%      84.000000   252.250000     9.962899   \nmax     111.000000   336.000000    30.010961   \n\n       Dot_Pointer-Building-Participant  Magnitud_Participant-Pointer  \\\ncount                       3024.000000                   3024.000000   \nmean                         211.732028                      0.654070   \nstd                         8369.270787                     13.277142   \nmin                         -339.516977                      0.082994   \n25%                           -3.540310                      0.274503   \n50%                           39.073825                      0.327167   \n75%                           76.360604                      0.394744   \nmax                       453402.151930                    688.357250   \n\n       Magnitud_Participant-Building      radians      degrees  \ncount                    3024.000000  3024.000000  3024.000000  \nmean                      268.227781     1.084565    62.141000  \nstd                       133.901451     0.825415    47.292774  \nmin                        15.586697     0.000718     0.041118  \n25%                       173.853627     0.410019    23.492378  \n50%                       243.993779     0.887194    50.832459  \n75%                       351.346622     1.629042    93.337221  \nmax                       728.521287     3.138685   179.833419  \n\n[8 rows x 27 columns]",
      "text/html": "<div>\n<style scoped>\n    .dataframe tbody tr th:only-of-type {\n        vertical-align: middle;\n    }\n\n    .dataframe tbody tr th {\n        vertical-align: top;\n    }\n\n    .dataframe thead th {\n        text-align: right;\n    }\n</style>\n<table border=\"1\" class=\"dataframe\">\n  <thead>\n    <tr style=\"text-align: right;\">\n      <th></th>\n      <th>SubjectID</th>\n      <th>ParticipantPosition_x</th>\n      <th>ParticipantPosition_z</th>\n      <th>PointerPosition_x</th>\n      <th>PointerPosition_z</th>\n      <th>PointerDirection_x</th>\n      <th>PointerDirection_y</th>\n      <th>PointerDirection_z</th>\n      <th>Angle</th>\n      <th>BuildingPositionLocal_x</th>\n      <th>...</th>\n      <th>PointingTargetBuildingId</th>\n      <th>avatarID</th>\n      <th>Trials</th>\n      <th>TrialID</th>\n      <th>RT</th>\n      <th>Dot_Pointer-Building-Participant</th>\n      <th>Magnitud_Participant-Pointer</th>\n      <th>Magnitud_Participant-Building</th>\n      <th>radians</th>\n      <th>degrees</th>\n    </tr>\n  </thead>\n  <tbody>\n    <tr>\n      <th>count</th>\n      <td>3024.000000</td>\n      <td>3024.000000</td>\n      <td>3024.000000</td>\n      <td>3024.000000</td>\n      <td>3024.000000</td>\n      <td>3024.000000</td>\n      <td>3024.000000</td>\n      <td>3024.000000</td>\n      <td>3024.000000</td>\n      <td>3024.000000</td>\n      <td>...</td>\n      <td>3024.000000</td>\n      <td>3024.000000</td>\n      <td>3024.000000</td>\n      <td>3024.000000</td>\n      <td>3024.000000</td>\n      <td>3024.000000</td>\n      <td>3024.000000</td>\n      <td>3024.000000</td>\n      <td>3024.000000</td>\n      <td>3024.000000</td>\n    </tr>\n    <tr>\n      <th>mean</th>\n      <td>5949.222222</td>\n      <td>-2.380455</td>\n      <td>14.179977</td>\n      <td>-2.105650</td>\n      <td>14.240982</td>\n      <td>-0.062420</td>\n      <td>0.049247</td>\n      <td>-0.019174</td>\n      <td>49.312632</td>\n      <td>-0.507066</td>\n      <td>...</td>\n      <td>29.076058</td>\n      <td>28.521495</td>\n      <td>55.543651</td>\n      <td>168.500000</td>\n      <td>7.694524</td>\n      <td>211.732028</td>\n      <td>0.654070</td>\n      <td>268.227781</td>\n      <td>1.084565</td>\n      <td>62.141000</td>\n    </tr>\n    <tr>\n      <th>std</th>\n      <td>2679.017027</td>\n      <td>174.526182</td>\n      <td>137.780203</td>\n      <td>174.422929</td>\n      <td>137.616658</td>\n      <td>0.711618</td>\n      <td>0.063007</td>\n      <td>0.694938</td>\n      <td>43.940893</td>\n      <td>201.542360</td>\n      <td>...</td>\n      <td>16.729943</td>\n      <td>16.143405</td>\n      <td>32.306260</td>\n      <td>97.010457</td>\n      <td>5.776413</td>\n      <td>8369.270787</td>\n      <td>13.277142</td>\n      <td>133.901451</td>\n      <td>0.825415</td>\n      <td>47.292774</td>\n    </tr>\n    <tr>\n      <th>min</th>\n      <td>365.000000</td>\n      <td>-326.886047</td>\n      <td>-191.062988</td>\n      <td>-327.157532</td>\n      <td>-191.119629</td>\n      <td>-0.999783</td>\n      <td>-0.107550</td>\n      <td>-0.999844</td>\n      <td>0.000000</td>\n      <td>-431.064392</td>\n      <td>...</td>\n      <td>1.000000</td>\n      <td>1.000000</td>\n      <td>0.000000</td>\n      <td>1.000000</td>\n      <td>0.955793</td>\n      <td>-339.516977</td>\n      <td>0.082994</td>\n      <td>15.586697</td>\n      <td>0.000718</td>\n      <td>0.041118</td>\n    </tr>\n    <tr>\n      <th>25%</th>\n      <td>4176.000000</td>\n      <td>-121.389214</td>\n      <td>-131.491875</td>\n      <td>-114.630356</td>\n      <td>-128.914780</td>\n      <td>-0.786176</td>\n      <td>0.011022</td>\n      <td>-0.697728</td>\n      <td>13.787071</td>\n      <td>-153.392502</td>\n      <td>...</td>\n      <td>14.000000</td>\n      <td>15.000000</td>\n      <td>28.000000</td>\n      <td>84.750000</td>\n      <td>3.419546</td>\n      <td>-3.540310</td>\n      <td>0.274503</td>\n      <td>173.853627</td>\n      <td>0.410019</td>\n      <td>23.492378</td>\n    </tr>\n    <tr>\n      <th>50%</th>\n      <td>6642.000000</td>\n      <td>-15.471565</td>\n      <td>33.366211</td>\n      <td>1.953339</td>\n      <td>33.455299</td>\n      <td>-0.127837</td>\n      <td>0.031453</td>\n      <td>-0.036454</td>\n      <td>36.979969</td>\n      <td>-3.306354</td>\n      <td>...</td>\n      <td>29.000000</td>\n      <td>29.000000</td>\n      <td>56.000000</td>\n      <td>168.500000</td>\n      <td>5.872636</td>\n      <td>39.073825</td>\n      <td>0.327167</td>\n      <td>243.993779</td>\n      <td>0.887194</td>\n      <td>50.832459</td>\n    </tr>\n    <tr>\n      <th>75%</th>\n      <td>7842.000000</td>\n      <td>123.511269</td>\n      <td>135.194962</td>\n      <td>137.915379</td>\n      <td>135.195560</td>\n      <td>0.630784</td>\n      <td>0.066026</td>\n      <td>0.674460</td>\n      <td>72.340826</td>\n      <td>151.605972</td>\n      <td>...</td>\n      <td>43.000000</td>\n      <td>43.000000</td>\n      <td>84.000000</td>\n      <td>252.250000</td>\n      <td>9.962899</td>\n      <td>76.360604</td>\n      <td>0.394744</td>\n      <td>351.346622</td>\n      <td>1.629042</td>\n      <td>93.337221</td>\n    </tr>\n    <tr>\n      <th>max</th>\n      <td>9472.000000</td>\n      <td>366.834778</td>\n      <td>235.882217</td>\n      <td>366.869934</td>\n      <td>235.829254</td>\n      <td>0.999977</td>\n      <td>0.741587</td>\n      <td>0.999944</td>\n      <td>179.972031</td>\n      <td>401.828735</td>\n      <td>...</td>\n      <td>59.000000</td>\n      <td>56.000000</td>\n      <td>111.000000</td>\n      <td>336.000000</td>\n      <td>30.010961</td>\n      <td>453402.151930</td>\n      <td>688.357250</td>\n      <td>728.521287</td>\n      <td>3.138685</td>\n      <td>179.833419</td>\n    </tr>\n  </tbody>\n</table>\n<p>8 rows × 27 columns</p>\n</div>"
     },
     "execution_count": 272,
     "metadata": {},
     "output_type": "execute_result"
    }
   ],
   "source": [
    "dataset.describe()"
   ],
   "metadata": {
    "collapsed": false,
    "pycharm": {
     "name": "#%%\n"
    }
   }
  },
  {
   "cell_type": "code",
   "execution_count": 273,
   "outputs": [
    {
     "name": "stdout",
     "output_type": "stream",
     "text": [
      "<class 'pandas.core.frame.DataFrame'>\n",
      "Int64Index: 59 entries, 0 to 58\n",
      "Data columns (total 40 columns):\n",
      " #   Column                           Non-Null Count  Dtype  \n",
      "---  ------                           --------------  -----  \n",
      " 0   BuildingID                       59 non-null     int64  \n",
      " 1   BuildingName                     59 non-null     object \n",
      " 2   BuildingCenterWorld.x            59 non-null     float64\n",
      " 3   BuildingCenterWorld.y            59 non-null     float64\n",
      " 4   BuildingCenterWorld.z            59 non-null     float64\n",
      " 5   BuildingPositionGlobal.x         59 non-null     float64\n",
      " 6   BuildingPositionGlobal.y         59 non-null     float64\n",
      " 7   BuildingPositionGlobal.z         59 non-null     float64\n",
      " 8   BuildingPositionLocal.x          59 non-null     float64\n",
      " 9   BuildingPositionLocal.y          59 non-null     float64\n",
      " 10  BuildingPositionLocal.z          59 non-null     float64\n",
      " 11  BuildingRotationGlobal.x         59 non-null     float64\n",
      " 12  BuildingRotationGlobal.y         59 non-null     float64\n",
      " 13  BuildingRotationGlobal.z         59 non-null     float64\n",
      " 14  BuildingRotationGlobal.w         59 non-null     float64\n",
      " 15  BuildingRotationLocal.x          59 non-null     float64\n",
      " 16  BuildingRotationLocal.y          59 non-null     float64\n",
      " 17  BuildingRotationLocal.z          59 non-null     float64\n",
      " 18  BuildingRotationLocal.w          59 non-null     float64\n",
      " 19  BuildingRotationVector3Global.x  59 non-null     float64\n",
      " 20  BuildingRotationVector3Global.y  59 non-null     float64\n",
      " 21  BuildingRotationVector3Global.z  59 non-null     float64\n",
      " 22  BuildingRotationVector3Local.x   59 non-null     float64\n",
      " 23  BuildingRotationVector3Local.y   59 non-null     float64\n",
      " 24  BuildingRotationVector3Local.z   59 non-null     float64\n",
      " 25  BuildingLossyScale.x             59 non-null     float64\n",
      " 26  BuildingLossyScale.y             59 non-null     float64\n",
      " 27  BuildingLossyScale.z             59 non-null     float64\n",
      " 28  BuildingLocalScale.x             59 non-null     float64\n",
      " 29  BuildingLocalScale.y             59 non-null     float64\n",
      " 30  BuildingLocalScale.z             59 non-null     float64\n",
      " 31  BuildingForwardDirection.x       59 non-null     float64\n",
      " 32  BuildingForwardDirection.y       59 non-null     float64\n",
      " 33  BuildingForwardDirection.z       59 non-null     float64\n",
      " 34  BuildingUpDirection.x            59 non-null     float64\n",
      " 35  BuildingUpDirection.y            59 non-null     float64\n",
      " 36  BuildingUpDirection.z            59 non-null     float64\n",
      " 37  BuildingRightDirection.x         59 non-null     float64\n",
      " 38  BuildingRightDirection.y         59 non-null     float64\n",
      " 39  BuildingRightDirection.z         59 non-null     float64\n",
      "dtypes: float64(38), int64(1), object(1)\n",
      "memory usage: 18.9+ KB\n"
     ]
    }
   ],
   "source": [
    "all_buildings.info(verbose=True, show_counts=True)"
   ],
   "metadata": {
    "collapsed": false,
    "pycharm": {
     "name": "#%%\n"
    }
   }
  },
  {
   "cell_type": "code",
   "execution_count": 274,
   "outputs": [
    {
     "data": {
      "text/plain": "       BuildingID  BuildingCenterWorld.x  BuildingCenterWorld.y  \\\ncount   59.000000              59.000000              59.000000   \nmean    30.000000              -6.712761               6.600042   \nstd     17.175564             200.838912               5.763984   \nmin      1.000000            -424.961121              -0.791109   \n25%     15.500000            -160.035126               4.143510   \n50%     30.000000              -7.465199               5.415113   \n75%     44.500000             136.813644               7.507464   \nmax     59.000000             401.768616              31.293985   \n\n       BuildingCenterWorld.z  BuildingPositionGlobal.x  \\\ncount              59.000000                 59.000000   \nmean                2.499345                 -6.834191   \nstd               129.512759                201.222465   \nmin              -263.656067               -431.064392   \n25%               -79.115856               -159.725418   \n50%                -0.542253                 -7.537856   \n75%                96.738884                138.714348   \nmax               288.053894                401.828735   \n\n       BuildingPositionGlobal.y  BuildingPositionGlobal.z  \\\ncount                 59.000000                 59.000000   \nmean                  -0.430375                  3.434584   \nstd                    3.723653                128.471093   \nmin                   -6.542114               -256.052216   \n25%                   -2.322878                -79.156292   \n50%                   -0.946640                 -0.364021   \n75%                    0.851020                 96.718609   \nmax                   18.361389                293.247559   \n\n       BuildingPositionLocal.x  BuildingPositionLocal.y  \\\ncount                59.000000                59.000000   \nmean                 -5.617659                -8.833987   \nstd                 201.039792               125.917491   \nmin                -431.064392              -293.247589   \n25%                -159.725418               -96.718616   \n50%                  -3.306354                -3.070000   \n75%                 138.714348                63.729702   \nmax                 401.828735               256.052246   \n\n       BuildingPositionLocal.z  ...  BuildingLocalScale.z  \\\ncount                59.000000  ...             59.000000   \nmean                 -5.236339  ...              1.003516   \nstd                  23.581244  ...              0.027008   \nmin                -150.514664  ...              1.000000   \n25%                  -2.377509  ...              1.000000   \n50%                  -1.083276  ...              1.000000   \n75%                   0.585904  ...              1.000000   \nmax                  18.361364  ...              1.207450   \n\n       BuildingForwardDirection.x  BuildingForwardDirection.y  \\\ncount                5.900000e+01                5.900000e+01   \nmean                 8.298783e-02                5.084729e-02   \nstd                  5.699982e-01                3.905667e-01   \nmin                 -9.997830e-01               -1.000000e+00   \n25%                 -6.326982e-01               -3.920658e-07   \n50%                  8.662515e-07               -1.097826e-07   \n75%                  5.897807e-01                0.000000e+00   \nmax                  9.409345e-01                1.000000e+00   \n\n       BuildingForwardDirection.z  BuildingUpDirection.x  \\\ncount                5.900000e+01           5.900000e+01   \nmean                 8.181360e-02           8.423508e-03   \nstd                  7.234338e-01           2.884677e-01   \nmin                 -9.999998e-01          -9.998724e-01   \n25%                 -7.404863e-01          -8.994379e-08   \n50%                  3.576279e-07           2.518646e-08   \n75%                  7.563284e-01           1.516654e-07   \nmax                  1.000000e+00           9.893244e-01   \n\n       BuildingUpDirection.y  BuildingUpDirection.z  BuildingRightDirection.x  \\\ncount           5.900000e+01           5.900000e+01                 59.000000   \nmean            8.474576e-01          -2.704659e-02                  0.097501   \nstd             3.626321e-01           2.667254e-01                  0.769663   \nmin            -2.384186e-07          -9.999999e-01                 -1.000000   \n25%             1.000000e+00          -3.837909e-07                 -0.743891   \n50%             1.000000e+00          -1.729682e-07                  0.437528   \n75%             1.000000e+00           0.000000e+00                  0.768934   \nmax             1.000000e+00           9.417416e-01                  1.000000   \n\n       BuildingRightDirection.y  BuildingRightDirection.z  \ncount              5.900000e+01                 59.000000  \nmean              -2.456988e-08                 -0.052710  \nstd                1.508120e-07                  0.642155  \nmin               -4.172325e-07                 -0.999872  \n25%               -1.158900e-07                 -0.637716  \n50%               -2.901228e-08                 -0.149642  \n75%                8.456120e-08                  0.655384  \nmax                5.364418e-07                  0.999783  \n\n[8 rows x 39 columns]",
      "text/html": "<div>\n<style scoped>\n    .dataframe tbody tr th:only-of-type {\n        vertical-align: middle;\n    }\n\n    .dataframe tbody tr th {\n        vertical-align: top;\n    }\n\n    .dataframe thead th {\n        text-align: right;\n    }\n</style>\n<table border=\"1\" class=\"dataframe\">\n  <thead>\n    <tr style=\"text-align: right;\">\n      <th></th>\n      <th>BuildingID</th>\n      <th>BuildingCenterWorld.x</th>\n      <th>BuildingCenterWorld.y</th>\n      <th>BuildingCenterWorld.z</th>\n      <th>BuildingPositionGlobal.x</th>\n      <th>BuildingPositionGlobal.y</th>\n      <th>BuildingPositionGlobal.z</th>\n      <th>BuildingPositionLocal.x</th>\n      <th>BuildingPositionLocal.y</th>\n      <th>BuildingPositionLocal.z</th>\n      <th>...</th>\n      <th>BuildingLocalScale.z</th>\n      <th>BuildingForwardDirection.x</th>\n      <th>BuildingForwardDirection.y</th>\n      <th>BuildingForwardDirection.z</th>\n      <th>BuildingUpDirection.x</th>\n      <th>BuildingUpDirection.y</th>\n      <th>BuildingUpDirection.z</th>\n      <th>BuildingRightDirection.x</th>\n      <th>BuildingRightDirection.y</th>\n      <th>BuildingRightDirection.z</th>\n    </tr>\n  </thead>\n  <tbody>\n    <tr>\n      <th>count</th>\n      <td>59.000000</td>\n      <td>59.000000</td>\n      <td>59.000000</td>\n      <td>59.000000</td>\n      <td>59.000000</td>\n      <td>59.000000</td>\n      <td>59.000000</td>\n      <td>59.000000</td>\n      <td>59.000000</td>\n      <td>59.000000</td>\n      <td>...</td>\n      <td>59.000000</td>\n      <td>5.900000e+01</td>\n      <td>5.900000e+01</td>\n      <td>5.900000e+01</td>\n      <td>5.900000e+01</td>\n      <td>5.900000e+01</td>\n      <td>5.900000e+01</td>\n      <td>59.000000</td>\n      <td>5.900000e+01</td>\n      <td>59.000000</td>\n    </tr>\n    <tr>\n      <th>mean</th>\n      <td>30.000000</td>\n      <td>-6.712761</td>\n      <td>6.600042</td>\n      <td>2.499345</td>\n      <td>-6.834191</td>\n      <td>-0.430375</td>\n      <td>3.434584</td>\n      <td>-5.617659</td>\n      <td>-8.833987</td>\n      <td>-5.236339</td>\n      <td>...</td>\n      <td>1.003516</td>\n      <td>8.298783e-02</td>\n      <td>5.084729e-02</td>\n      <td>8.181360e-02</td>\n      <td>8.423508e-03</td>\n      <td>8.474576e-01</td>\n      <td>-2.704659e-02</td>\n      <td>0.097501</td>\n      <td>-2.456988e-08</td>\n      <td>-0.052710</td>\n    </tr>\n    <tr>\n      <th>std</th>\n      <td>17.175564</td>\n      <td>200.838912</td>\n      <td>5.763984</td>\n      <td>129.512759</td>\n      <td>201.222465</td>\n      <td>3.723653</td>\n      <td>128.471093</td>\n      <td>201.039792</td>\n      <td>125.917491</td>\n      <td>23.581244</td>\n      <td>...</td>\n      <td>0.027008</td>\n      <td>5.699982e-01</td>\n      <td>3.905667e-01</td>\n      <td>7.234338e-01</td>\n      <td>2.884677e-01</td>\n      <td>3.626321e-01</td>\n      <td>2.667254e-01</td>\n      <td>0.769663</td>\n      <td>1.508120e-07</td>\n      <td>0.642155</td>\n    </tr>\n    <tr>\n      <th>min</th>\n      <td>1.000000</td>\n      <td>-424.961121</td>\n      <td>-0.791109</td>\n      <td>-263.656067</td>\n      <td>-431.064392</td>\n      <td>-6.542114</td>\n      <td>-256.052216</td>\n      <td>-431.064392</td>\n      <td>-293.247589</td>\n      <td>-150.514664</td>\n      <td>...</td>\n      <td>1.000000</td>\n      <td>-9.997830e-01</td>\n      <td>-1.000000e+00</td>\n      <td>-9.999998e-01</td>\n      <td>-9.998724e-01</td>\n      <td>-2.384186e-07</td>\n      <td>-9.999999e-01</td>\n      <td>-1.000000</td>\n      <td>-4.172325e-07</td>\n      <td>-0.999872</td>\n    </tr>\n    <tr>\n      <th>25%</th>\n      <td>15.500000</td>\n      <td>-160.035126</td>\n      <td>4.143510</td>\n      <td>-79.115856</td>\n      <td>-159.725418</td>\n      <td>-2.322878</td>\n      <td>-79.156292</td>\n      <td>-159.725418</td>\n      <td>-96.718616</td>\n      <td>-2.377509</td>\n      <td>...</td>\n      <td>1.000000</td>\n      <td>-6.326982e-01</td>\n      <td>-3.920658e-07</td>\n      <td>-7.404863e-01</td>\n      <td>-8.994379e-08</td>\n      <td>1.000000e+00</td>\n      <td>-3.837909e-07</td>\n      <td>-0.743891</td>\n      <td>-1.158900e-07</td>\n      <td>-0.637716</td>\n    </tr>\n    <tr>\n      <th>50%</th>\n      <td>30.000000</td>\n      <td>-7.465199</td>\n      <td>5.415113</td>\n      <td>-0.542253</td>\n      <td>-7.537856</td>\n      <td>-0.946640</td>\n      <td>-0.364021</td>\n      <td>-3.306354</td>\n      <td>-3.070000</td>\n      <td>-1.083276</td>\n      <td>...</td>\n      <td>1.000000</td>\n      <td>8.662515e-07</td>\n      <td>-1.097826e-07</td>\n      <td>3.576279e-07</td>\n      <td>2.518646e-08</td>\n      <td>1.000000e+00</td>\n      <td>-1.729682e-07</td>\n      <td>0.437528</td>\n      <td>-2.901228e-08</td>\n      <td>-0.149642</td>\n    </tr>\n    <tr>\n      <th>75%</th>\n      <td>44.500000</td>\n      <td>136.813644</td>\n      <td>7.507464</td>\n      <td>96.738884</td>\n      <td>138.714348</td>\n      <td>0.851020</td>\n      <td>96.718609</td>\n      <td>138.714348</td>\n      <td>63.729702</td>\n      <td>0.585904</td>\n      <td>...</td>\n      <td>1.000000</td>\n      <td>5.897807e-01</td>\n      <td>0.000000e+00</td>\n      <td>7.563284e-01</td>\n      <td>1.516654e-07</td>\n      <td>1.000000e+00</td>\n      <td>0.000000e+00</td>\n      <td>0.768934</td>\n      <td>8.456120e-08</td>\n      <td>0.655384</td>\n    </tr>\n    <tr>\n      <th>max</th>\n      <td>59.000000</td>\n      <td>401.768616</td>\n      <td>31.293985</td>\n      <td>288.053894</td>\n      <td>401.828735</td>\n      <td>18.361389</td>\n      <td>293.247559</td>\n      <td>401.828735</td>\n      <td>256.052246</td>\n      <td>18.361364</td>\n      <td>...</td>\n      <td>1.207450</td>\n      <td>9.409345e-01</td>\n      <td>1.000000e+00</td>\n      <td>1.000000e+00</td>\n      <td>9.893244e-01</td>\n      <td>1.000000e+00</td>\n      <td>9.417416e-01</td>\n      <td>1.000000</td>\n      <td>5.364418e-07</td>\n      <td>0.999783</td>\n    </tr>\n  </tbody>\n</table>\n<p>8 rows × 39 columns</p>\n</div>"
     },
     "execution_count": 274,
     "metadata": {},
     "output_type": "execute_result"
    }
   ],
   "source": [
    "all_buildings.describe()"
   ],
   "metadata": {
    "collapsed": false,
    "pycharm": {
     "name": "#%%\n"
    }
   }
  },
  {
   "cell_type": "code",
   "execution_count": 275,
   "outputs": [
    {
     "name": "stdout",
     "output_type": "stream",
     "text": [
      "<class 'pandas.core.frame.DataFrame'>\n",
      "Int64Index: 56 entries, 0 to 55\n",
      "Data columns (total 40 columns):\n",
      " #   Column                         Non-Null Count  Dtype  \n",
      "---  ------                         --------------  -----  \n",
      " 0   AvatarID                       56 non-null     int64  \n",
      " 1   AvatarName                     56 non-null     object \n",
      " 2   AvatarCenterWorld.x            56 non-null     float64\n",
      " 3   AvatarCenterWorld.y            56 non-null     float64\n",
      " 4   AvatarCenterWorld.z            56 non-null     float64\n",
      " 5   AvatarPositionGlobal.x         56 non-null     float64\n",
      " 6   AvatarPositionGlobal.y         56 non-null     float64\n",
      " 7   AvatarPositionGlobal.z         56 non-null     float64\n",
      " 8   AvatarPositionLocal.x          56 non-null     float64\n",
      " 9   AvatarPositionLocal.y          56 non-null     float64\n",
      " 10  AvatarPositionLocal.z          56 non-null     float64\n",
      " 11  AvatarRotationGlobal.x         56 non-null     float64\n",
      " 12  AvatarRotationGlobal.y         56 non-null     float64\n",
      " 13  AvatarRotationGlobal.z         56 non-null     float64\n",
      " 14  AvatarRotationGlobal.w         56 non-null     float64\n",
      " 15  AvatarRotationLocal.x          56 non-null     float64\n",
      " 16  AvatarRotationLocal.y          56 non-null     float64\n",
      " 17  AvatarRotationLocal.z          56 non-null     float64\n",
      " 18  AvatarRotationLocal.w          56 non-null     float64\n",
      " 19  AvatarRotationVector3Global.x  56 non-null     float64\n",
      " 20  AvatarRotationVector3Global.y  56 non-null     float64\n",
      " 21  AvatarRotationVector3Global.z  56 non-null     float64\n",
      " 22  AvatarRotationVector3Local.x   56 non-null     float64\n",
      " 23  AvatarRotationVector3Local.y   56 non-null     float64\n",
      " 24  AvatarRotationVector3Local.z   56 non-null     float64\n",
      " 25  AvatarLossyScale.x             56 non-null     float64\n",
      " 26  AvatarLossyScale.y             56 non-null     float64\n",
      " 27  AvatarLossyScale.z             56 non-null     float64\n",
      " 28  AvatarLocalScale.x             56 non-null     float64\n",
      " 29  AvatarLocalScale.y             56 non-null     float64\n",
      " 30  AvatarLocalScale.z             56 non-null     float64\n",
      " 31  AvatarForwardDirection.x       56 non-null     float64\n",
      " 32  AvatarForwardDirection.y       56 non-null     float64\n",
      " 33  AvatarForwardDirection.z       56 non-null     float64\n",
      " 34  AvatarUpDirection.x            56 non-null     float64\n",
      " 35  AvatarUpDirection.y            56 non-null     float64\n",
      " 36  AvatarUpDirection.z            56 non-null     float64\n",
      " 37  AvatarRightDirection.x         56 non-null     float64\n",
      " 38  AvatarRightDirection.y         56 non-null     float64\n",
      " 39  AvatarRightDirection.z         56 non-null     float64\n",
      "dtypes: float64(38), int64(1), object(1)\n",
      "memory usage: 17.9+ KB\n"
     ]
    }
   ],
   "source": [
    "avatar_info.info(verbose=True, show_counts=True)"
   ],
   "metadata": {
    "collapsed": false,
    "pycharm": {
     "name": "#%%\n"
    }
   }
  },
  {
   "cell_type": "code",
   "execution_count": 276,
   "outputs": [
    {
     "data": {
      "text/plain": "        AvatarID  AvatarCenterWorld.x  AvatarCenterWorld.y  \\\ncount  56.000000            56.000000            56.000000   \nmean   28.500000             9.451360            -0.154723   \nstd    16.309506           192.022522             2.171865   \nmin     1.000000          -336.241150            -5.256408   \n25%    14.750000          -141.405403            -1.509524   \n50%    28.500000             2.890167            -0.333378   \n75%    42.250000           147.657764             1.529099   \nmax    56.000000           395.572296             3.703803   \n\n       AvatarCenterWorld.z  AvatarPositionGlobal.x  AvatarPositionGlobal.y  \\\ncount            56.000000               56.000000               56.000000   \nmean              8.906428                9.479183               -0.852688   \nstd             120.788425              191.980332                2.207004   \nmin            -251.694504             -336.241333               -6.063000   \n25%             -58.579079             -141.419785               -2.255122   \n50%               9.498009                2.883270               -1.067159   \n75%             111.972822              147.616764                0.888565   \nmax             230.311523              395.563293                3.100000   \n\n       AvatarPositionGlobal.z  AvatarPositionLocal.x  AvatarPositionLocal.y  \\\ncount               56.000000              56.000000              56.000000   \nmean                 8.787668            -194.514089               3.200802   \nstd                120.734400             191.980334               2.207004   \nmin               -251.780014            -540.234619              -2.009511   \n25%                -58.426651            -345.413055               1.798367   \n50%                  9.492935            -201.110001               2.986331   \n75%                111.858717             -56.376500               4.942055   \nmax                230.184113             191.570007               7.153489   \n\n       AvatarPositionLocal.z  ...  AvatarLocalScale.z  \\\ncount              56.000000  ...                56.0   \nmean             -224.888190  ...                 1.0   \nstd               120.734400  ...                 0.0   \nmin              -485.455872  ...                 1.0   \n25%              -292.102509  ...                 1.0   \n50%              -224.182922  ...                 1.0   \n75%              -121.817141  ...                 1.0   \nmax                -3.491745  ...                 1.0   \n\n       AvatarForwardDirection.x  AvatarForwardDirection.y  \\\ncount                 56.000000                 56.000000   \nmean                   0.152601                 -0.000248   \nstd                    0.596715                  0.001783   \nmin                   -0.961716                 -0.013202   \n25%                   -0.241996                  0.000000   \n50%                    0.000000                  0.000000   \n75%                    0.745289                  0.000000   \nmax                    0.966854                  0.001019   \n\n       AvatarForwardDirection.z  AvatarUpDirection.x  AvatarUpDirection.y  \\\ncount                 56.000000            56.000000            56.000000   \nmean                   0.181139            -0.000041             0.999998   \nstd                    0.777812             0.000304             0.000012   \nmin                   -0.999927            -0.002276             0.999913   \n25%                   -0.655529             0.000000             1.000000   \n50%                    0.468661             0.000000             1.000000   \n75%                    0.980278             0.000000             1.000000   \nmax                    1.000000             0.000000             1.000000   \n\n       AvatarUpDirection.z  AvatarRightDirection.x  AvatarRightDirection.y  \\\ncount            56.000000               56.000000               56.000000   \nmean              0.000191                0.181141                0.000098   \nstd               0.001847                0.777813                0.000539   \nmin              -0.003719               -0.999927                0.000000   \n25%               0.000000               -0.655529                0.000000   \n50%               0.000000                0.468661                0.000000   \n75%               0.000000                0.980299                0.000000   \nmax               0.013202                1.000000                0.003576   \n\n       AvatarRightDirection.z  \ncount               56.000000  \nmean                -0.152601  \nstd                  0.596715  \nmin                 -0.966854  \n25%                 -0.745289  \n50%                  0.000000  \n75%                  0.241999  \nmax                  0.961709  \n\n[8 rows x 39 columns]",
      "text/html": "<div>\n<style scoped>\n    .dataframe tbody tr th:only-of-type {\n        vertical-align: middle;\n    }\n\n    .dataframe tbody tr th {\n        vertical-align: top;\n    }\n\n    .dataframe thead th {\n        text-align: right;\n    }\n</style>\n<table border=\"1\" class=\"dataframe\">\n  <thead>\n    <tr style=\"text-align: right;\">\n      <th></th>\n      <th>AvatarID</th>\n      <th>AvatarCenterWorld.x</th>\n      <th>AvatarCenterWorld.y</th>\n      <th>AvatarCenterWorld.z</th>\n      <th>AvatarPositionGlobal.x</th>\n      <th>AvatarPositionGlobal.y</th>\n      <th>AvatarPositionGlobal.z</th>\n      <th>AvatarPositionLocal.x</th>\n      <th>AvatarPositionLocal.y</th>\n      <th>AvatarPositionLocal.z</th>\n      <th>...</th>\n      <th>AvatarLocalScale.z</th>\n      <th>AvatarForwardDirection.x</th>\n      <th>AvatarForwardDirection.y</th>\n      <th>AvatarForwardDirection.z</th>\n      <th>AvatarUpDirection.x</th>\n      <th>AvatarUpDirection.y</th>\n      <th>AvatarUpDirection.z</th>\n      <th>AvatarRightDirection.x</th>\n      <th>AvatarRightDirection.y</th>\n      <th>AvatarRightDirection.z</th>\n    </tr>\n  </thead>\n  <tbody>\n    <tr>\n      <th>count</th>\n      <td>56.000000</td>\n      <td>56.000000</td>\n      <td>56.000000</td>\n      <td>56.000000</td>\n      <td>56.000000</td>\n      <td>56.000000</td>\n      <td>56.000000</td>\n      <td>56.000000</td>\n      <td>56.000000</td>\n      <td>56.000000</td>\n      <td>...</td>\n      <td>56.0</td>\n      <td>56.000000</td>\n      <td>56.000000</td>\n      <td>56.000000</td>\n      <td>56.000000</td>\n      <td>56.000000</td>\n      <td>56.000000</td>\n      <td>56.000000</td>\n      <td>56.000000</td>\n      <td>56.000000</td>\n    </tr>\n    <tr>\n      <th>mean</th>\n      <td>28.500000</td>\n      <td>9.451360</td>\n      <td>-0.154723</td>\n      <td>8.906428</td>\n      <td>9.479183</td>\n      <td>-0.852688</td>\n      <td>8.787668</td>\n      <td>-194.514089</td>\n      <td>3.200802</td>\n      <td>-224.888190</td>\n      <td>...</td>\n      <td>1.0</td>\n      <td>0.152601</td>\n      <td>-0.000248</td>\n      <td>0.181139</td>\n      <td>-0.000041</td>\n      <td>0.999998</td>\n      <td>0.000191</td>\n      <td>0.181141</td>\n      <td>0.000098</td>\n      <td>-0.152601</td>\n    </tr>\n    <tr>\n      <th>std</th>\n      <td>16.309506</td>\n      <td>192.022522</td>\n      <td>2.171865</td>\n      <td>120.788425</td>\n      <td>191.980332</td>\n      <td>2.207004</td>\n      <td>120.734400</td>\n      <td>191.980334</td>\n      <td>2.207004</td>\n      <td>120.734400</td>\n      <td>...</td>\n      <td>0.0</td>\n      <td>0.596715</td>\n      <td>0.001783</td>\n      <td>0.777812</td>\n      <td>0.000304</td>\n      <td>0.000012</td>\n      <td>0.001847</td>\n      <td>0.777813</td>\n      <td>0.000539</td>\n      <td>0.596715</td>\n    </tr>\n    <tr>\n      <th>min</th>\n      <td>1.000000</td>\n      <td>-336.241150</td>\n      <td>-5.256408</td>\n      <td>-251.694504</td>\n      <td>-336.241333</td>\n      <td>-6.063000</td>\n      <td>-251.780014</td>\n      <td>-540.234619</td>\n      <td>-2.009511</td>\n      <td>-485.455872</td>\n      <td>...</td>\n      <td>1.0</td>\n      <td>-0.961716</td>\n      <td>-0.013202</td>\n      <td>-0.999927</td>\n      <td>-0.002276</td>\n      <td>0.999913</td>\n      <td>-0.003719</td>\n      <td>-0.999927</td>\n      <td>0.000000</td>\n      <td>-0.966854</td>\n    </tr>\n    <tr>\n      <th>25%</th>\n      <td>14.750000</td>\n      <td>-141.405403</td>\n      <td>-1.509524</td>\n      <td>-58.579079</td>\n      <td>-141.419785</td>\n      <td>-2.255122</td>\n      <td>-58.426651</td>\n      <td>-345.413055</td>\n      <td>1.798367</td>\n      <td>-292.102509</td>\n      <td>...</td>\n      <td>1.0</td>\n      <td>-0.241996</td>\n      <td>0.000000</td>\n      <td>-0.655529</td>\n      <td>0.000000</td>\n      <td>1.000000</td>\n      <td>0.000000</td>\n      <td>-0.655529</td>\n      <td>0.000000</td>\n      <td>-0.745289</td>\n    </tr>\n    <tr>\n      <th>50%</th>\n      <td>28.500000</td>\n      <td>2.890167</td>\n      <td>-0.333378</td>\n      <td>9.498009</td>\n      <td>2.883270</td>\n      <td>-1.067159</td>\n      <td>9.492935</td>\n      <td>-201.110001</td>\n      <td>2.986331</td>\n      <td>-224.182922</td>\n      <td>...</td>\n      <td>1.0</td>\n      <td>0.000000</td>\n      <td>0.000000</td>\n      <td>0.468661</td>\n      <td>0.000000</td>\n      <td>1.000000</td>\n      <td>0.000000</td>\n      <td>0.468661</td>\n      <td>0.000000</td>\n      <td>0.000000</td>\n    </tr>\n    <tr>\n      <th>75%</th>\n      <td>42.250000</td>\n      <td>147.657764</td>\n      <td>1.529099</td>\n      <td>111.972822</td>\n      <td>147.616764</td>\n      <td>0.888565</td>\n      <td>111.858717</td>\n      <td>-56.376500</td>\n      <td>4.942055</td>\n      <td>-121.817141</td>\n      <td>...</td>\n      <td>1.0</td>\n      <td>0.745289</td>\n      <td>0.000000</td>\n      <td>0.980278</td>\n      <td>0.000000</td>\n      <td>1.000000</td>\n      <td>0.000000</td>\n      <td>0.980299</td>\n      <td>0.000000</td>\n      <td>0.241999</td>\n    </tr>\n    <tr>\n      <th>max</th>\n      <td>56.000000</td>\n      <td>395.572296</td>\n      <td>3.703803</td>\n      <td>230.311523</td>\n      <td>395.563293</td>\n      <td>3.100000</td>\n      <td>230.184113</td>\n      <td>191.570007</td>\n      <td>7.153489</td>\n      <td>-3.491745</td>\n      <td>...</td>\n      <td>1.0</td>\n      <td>0.966854</td>\n      <td>0.001019</td>\n      <td>1.000000</td>\n      <td>0.000000</td>\n      <td>1.000000</td>\n      <td>0.013202</td>\n      <td>1.000000</td>\n      <td>0.003576</td>\n      <td>0.961709</td>\n    </tr>\n  </tbody>\n</table>\n<p>8 rows × 39 columns</p>\n</div>"
     },
     "execution_count": 276,
     "metadata": {},
     "output_type": "execute_result"
    }
   ],
   "source": [
    "avatar_info.describe()"
   ],
   "metadata": {
    "collapsed": false,
    "pycharm": {
     "name": "#%%\n"
    }
   }
  },
  {
   "cell_type": "markdown",
   "source": [
    "Check for the number of participants"
   ],
   "metadata": {
    "collapsed": false
   }
  },
  {
   "cell_type": "code",
   "execution_count": 277,
   "outputs": [
    {
     "name": "stdout",
     "output_type": "stream",
     "text": [
      " Subject IDs: [ 365 3572 4176 5741 6642 7264 7842 8469 9472]\n",
      " Number of participants: 9\n"
     ]
    }
   ],
   "source": [
    "subj_ids = dataset.SubjectID.unique()\n",
    "print(f' Subject IDs: {subj_ids}\\n',\n",
    "      f'Number of participants: {len(subj_ids)}')"
   ],
   "metadata": {
    "collapsed": false,
    "pycharm": {
     "name": "#%%\n"
    }
   }
  },
  {
   "cell_type": "markdown",
   "source": [
    "### Clean dataframes"
   ],
   "metadata": {
    "collapsed": false
   }
  },
  {
   "cell_type": "markdown",
   "source": [
    "Remove boolean variable ` AvatarPresence ` since it is redundant due to the existence of the boolean variable ` Agent `. It also contains all the values reversed, i.e., True is False and False, True."
   ],
   "metadata": {
    "collapsed": false
   }
  },
  {
   "cell_type": "code",
   "execution_count": 278,
   "outputs": [],
   "source": [
    "dataset.drop(columns=['AvatarPresence',\n",
    "                      'meaningfulBuilding',\n",
    "                      'AvatarPresenceCategory',\n",
    "                      'Context',\n",
    "                      'PointingTargetName',\n",
    "                      'PointingTargetCondition',\n",
    "                      'BuildingPositionLocal_x',\n",
    "                      'BuildingPositionLocal_y',\n",
    "                      'BuildingPositionLocal_z',\n",
    "                      'PointingTargetIndex',\n",
    "                      'PointerDirection_y'], inplace=True)"
   ],
   "metadata": {
    "collapsed": false,
    "pycharm": {
     "name": "#%%\n"
    }
   }
  },
  {
   "cell_type": "markdown",
   "source": [
    "List non- task buildings"
   ],
   "metadata": {
    "collapsed": false
   }
  },
  {
   "cell_type": "code",
   "execution_count": 279,
   "outputs": [
    {
     "data": {
      "text/plain": "[56, 53, 46]"
     },
     "execution_count": 279,
     "metadata": {},
     "output_type": "execute_result"
    }
   ],
   "source": [
    "not_common_ids = list(set(all_buildings.BuildingID.unique())\n",
    "                     - set(dataset.PointingTargetBuildingId.unique()))\n",
    "not_common_ids"
   ],
   "metadata": {
    "collapsed": false,
    "pycharm": {
     "name": "#%%\n"
    }
   }
  },
  {
   "cell_type": "markdown",
   "source": [
    "Remove the non-task buildings from ` all_buildings ` dataframe"
   ],
   "metadata": {
    "collapsed": false
   }
  },
  {
   "cell_type": "code",
   "execution_count": 280,
   "outputs": [],
   "source": [
    "all_buildings = all_buildings[~all_buildings.BuildingID.isin(not_common_ids)]"
   ],
   "metadata": {
    "collapsed": false,
    "pycharm": {
     "name": "#%%\n"
    }
   }
  },
  {
   "cell_type": "code",
   "execution_count": 281,
   "outputs": [
    {
     "data": {
      "text/plain": "   SubjectID  ParticipantPosition_x  ParticipantPosition_z  PointerPosition_x  \\\n0        365             -33.362625            -190.912018         -33.590775   \n1        365             118.412003             -62.941864         118.647705   \n2        365             257.929993             -33.097687         257.598694   \n3        365            -242.933212              39.037964        -242.879013   \n4        365            -320.974487              77.197166        -320.853760   \n\n   PointerPosition_z  PointerDirection_x  PointerDirection_z      Angle  \\\n0        -190.709625           -0.729280            0.681399  87.005028   \n1         -63.044891            0.943334            0.254118  44.100197   \n2         -32.840240           -0.831603            0.513045  47.522392   \n3          38.953239            0.985110            0.151506   1.100918   \n4          77.009575            0.907607           -0.416039  29.176662   \n\n   SignedAngle-+180  SignedAngle360  ...  \\\n0         99.615800       99.615800  ...   \n1         27.610911       27.610911  ...   \n2          6.891651        6.891651  ...   \n3       -171.261997      188.738003  ...   \n4       -166.877049      193.122951  ...   \n\n                Vector_Participant-Building  \\\n0  (288.42491149902344, 189.24897527694702)   \n1   (136.65028381347656, 61.27882146835327)   \n2   (-2.867706298828125, 31.43464422225952)   \n3   (497.99549865722656, -40.7010064125061)   \n4    (576.0367736816406, -78.8602089881897)   \n\n              Vector_Participant-Pointer  Dot_Pointer-Building-Participant  \\\n0     (-0.2281494140625, 0.202392578125)                        -27.501387   \n1   (0.2357025146484375, -0.10302734375)                         25.895421   \n2     (-0.331298828125, 0.2574462890625)                          9.042800   \n3  (0.05419921875, -0.08472442626953125)                         30.439336   \n4  (0.1207275390625, -0.187591552734375)                         84.337011   \n\n   Magnitud_Participant-Pointer  Magnitud_Participant-Building   radians  \\\n0                      0.304983                     344.969715  1.835264   \n1                      0.257236                     149.761123  0.833633   \n2                      0.419568                      31.565180  0.819211   \n3                      0.100577                     499.655970  0.920139   \n4                      0.223082                     581.409750  0.862902   \n\n      degrees BuildingID BuildingCenterWorld.x  BuildingCenterWorld.z  \n0  105.152855         14            227.649185             119.052856  \n1   47.763652         14            227.649185             119.052856  \n2   46.937344         14            227.649185             119.052856  \n3   52.720091         14            227.649185             119.052856  \n4   49.440636         14            227.649185             119.052856  \n\n[5 rows x 36 columns]",
      "text/html": "<div>\n<style scoped>\n    .dataframe tbody tr th:only-of-type {\n        vertical-align: middle;\n    }\n\n    .dataframe tbody tr th {\n        vertical-align: top;\n    }\n\n    .dataframe thead th {\n        text-align: right;\n    }\n</style>\n<table border=\"1\" class=\"dataframe\">\n  <thead>\n    <tr style=\"text-align: right;\">\n      <th></th>\n      <th>SubjectID</th>\n      <th>ParticipantPosition_x</th>\n      <th>ParticipantPosition_z</th>\n      <th>PointerPosition_x</th>\n      <th>PointerPosition_z</th>\n      <th>PointerDirection_x</th>\n      <th>PointerDirection_z</th>\n      <th>Angle</th>\n      <th>SignedAngle-+180</th>\n      <th>SignedAngle360</th>\n      <th>...</th>\n      <th>Vector_Participant-Building</th>\n      <th>Vector_Participant-Pointer</th>\n      <th>Dot_Pointer-Building-Participant</th>\n      <th>Magnitud_Participant-Pointer</th>\n      <th>Magnitud_Participant-Building</th>\n      <th>radians</th>\n      <th>degrees</th>\n      <th>BuildingID</th>\n      <th>BuildingCenterWorld.x</th>\n      <th>BuildingCenterWorld.z</th>\n    </tr>\n  </thead>\n  <tbody>\n    <tr>\n      <th>0</th>\n      <td>365</td>\n      <td>-33.362625</td>\n      <td>-190.912018</td>\n      <td>-33.590775</td>\n      <td>-190.709625</td>\n      <td>-0.729280</td>\n      <td>0.681399</td>\n      <td>87.005028</td>\n      <td>99.615800</td>\n      <td>99.615800</td>\n      <td>...</td>\n      <td>(288.42491149902344, 189.24897527694702)</td>\n      <td>(-0.2281494140625, 0.202392578125)</td>\n      <td>-27.501387</td>\n      <td>0.304983</td>\n      <td>344.969715</td>\n      <td>1.835264</td>\n      <td>105.152855</td>\n      <td>14</td>\n      <td>227.649185</td>\n      <td>119.052856</td>\n    </tr>\n    <tr>\n      <th>1</th>\n      <td>365</td>\n      <td>118.412003</td>\n      <td>-62.941864</td>\n      <td>118.647705</td>\n      <td>-63.044891</td>\n      <td>0.943334</td>\n      <td>0.254118</td>\n      <td>44.100197</td>\n      <td>27.610911</td>\n      <td>27.610911</td>\n      <td>...</td>\n      <td>(136.65028381347656, 61.27882146835327)</td>\n      <td>(0.2357025146484375, -0.10302734375)</td>\n      <td>25.895421</td>\n      <td>0.257236</td>\n      <td>149.761123</td>\n      <td>0.833633</td>\n      <td>47.763652</td>\n      <td>14</td>\n      <td>227.649185</td>\n      <td>119.052856</td>\n    </tr>\n    <tr>\n      <th>2</th>\n      <td>365</td>\n      <td>257.929993</td>\n      <td>-33.097687</td>\n      <td>257.598694</td>\n      <td>-32.840240</td>\n      <td>-0.831603</td>\n      <td>0.513045</td>\n      <td>47.522392</td>\n      <td>6.891651</td>\n      <td>6.891651</td>\n      <td>...</td>\n      <td>(-2.867706298828125, 31.43464422225952)</td>\n      <td>(-0.331298828125, 0.2574462890625)</td>\n      <td>9.042800</td>\n      <td>0.419568</td>\n      <td>31.565180</td>\n      <td>0.819211</td>\n      <td>46.937344</td>\n      <td>14</td>\n      <td>227.649185</td>\n      <td>119.052856</td>\n    </tr>\n    <tr>\n      <th>3</th>\n      <td>365</td>\n      <td>-242.933212</td>\n      <td>39.037964</td>\n      <td>-242.879013</td>\n      <td>38.953239</td>\n      <td>0.985110</td>\n      <td>0.151506</td>\n      <td>1.100918</td>\n      <td>-171.261997</td>\n      <td>188.738003</td>\n      <td>...</td>\n      <td>(497.99549865722656, -40.7010064125061)</td>\n      <td>(0.05419921875, -0.08472442626953125)</td>\n      <td>30.439336</td>\n      <td>0.100577</td>\n      <td>499.655970</td>\n      <td>0.920139</td>\n      <td>52.720091</td>\n      <td>14</td>\n      <td>227.649185</td>\n      <td>119.052856</td>\n    </tr>\n    <tr>\n      <th>4</th>\n      <td>365</td>\n      <td>-320.974487</td>\n      <td>77.197166</td>\n      <td>-320.853760</td>\n      <td>77.009575</td>\n      <td>0.907607</td>\n      <td>-0.416039</td>\n      <td>29.176662</td>\n      <td>-166.877049</td>\n      <td>193.122951</td>\n      <td>...</td>\n      <td>(576.0367736816406, -78.8602089881897)</td>\n      <td>(0.1207275390625, -0.187591552734375)</td>\n      <td>84.337011</td>\n      <td>0.223082</td>\n      <td>581.409750</td>\n      <td>0.862902</td>\n      <td>49.440636</td>\n      <td>14</td>\n      <td>227.649185</td>\n      <td>119.052856</td>\n    </tr>\n  </tbody>\n</table>\n<p>5 rows × 36 columns</p>\n</div>"
     },
     "execution_count": 281,
     "metadata": {},
     "output_type": "execute_result"
    }
   ],
   "source": [
    "df_cleaned = (\n",
    "    pd.merge(\n",
    "    dataset,\n",
    "    all_buildings[['BuildingID', 'BuildingCenterWorld.x', 'BuildingCenterWorld.z']],\n",
    "    left_on='PointingTargetBuildingId',\n",
    "    right_on='BuildingID',\n",
    "    how='left')\n",
    "        .drop(columns=['PointingTargetBuildingId'])\n",
    ")\n",
    "\n",
    "df_cleaned.head()"
   ],
   "metadata": {
    "collapsed": false,
    "pycharm": {
     "name": "#%%\n"
    }
   }
  },
  {
   "cell_type": "markdown",
   "source": [
    "### Calculate angle"
   ],
   "metadata": {
    "collapsed": false
   }
  },
  {
   "cell_type": "markdown",
   "source": [
    "#### Translate the ` building center ` vector by ` pointer position ` so that the ` pointer position ` is origin"
   ],
   "metadata": {
    "collapsed": false
   }
  },
  {
   "cell_type": "code",
   "execution_count": 282,
   "outputs": [
    {
     "data": {
      "text/plain": "   SubjectID  ParticipantPosition_x  ParticipantPosition_z  PointerPosition_x  \\\n0        365             -33.362625            -190.912018         -33.590775   \n1        365             118.412003             -62.941864         118.647705   \n2        365             257.929993             -33.097687         257.598694   \n3        365            -242.933212              39.037964        -242.879013   \n4        365            -320.974487              77.197166        -320.853760   \n\n   PointerPosition_z  PointerDirection_x  PointerDirection_z      Angle  \\\n0        -190.709625           -0.729280            0.681399  87.005028   \n1         -63.044891            0.943334            0.254118  44.100197   \n2         -32.840240           -0.831603            0.513045  47.522392   \n3          38.953239            0.985110            0.151506   1.100918   \n4          77.009575            0.907607           -0.416039  29.176662   \n\n   SignedAngle-+180  SignedAngle360  ...  Dot_Pointer-Building-Participant  \\\n0         99.615800       99.615800  ...                        -27.501387   \n1         27.610911       27.610911  ...                         25.895421   \n2          6.891651        6.891651  ...                          9.042800   \n3       -171.261997      188.738003  ...                         30.439336   \n4       -166.877049      193.122951  ...                         84.337011   \n\n   Magnitud_Participant-Pointer  Magnitud_Participant-Building   radians  \\\n0                      0.304983                     344.969715  1.835264   \n1                      0.257236                     149.761123  0.833633   \n2                      0.419568                      31.565180  0.819211   \n3                      0.100577                     499.655970  0.920139   \n4                      0.223082                     581.409750  0.862902   \n\n      degrees  BuildingID  BuildingCenterWorld.x BuildingCenterWorld.z  \\\n0  105.152855          14             227.649185            119.052856   \n1   47.763652          14             227.649185            119.052856   \n2   46.937344          14             227.649185            119.052856   \n3   52.720091          14             227.649185            119.052856   \n4   49.440636          14             227.649185            119.052856   \n\n  final_target_position_x  final_target_position_z  \n0              261.969239               309.081083  \n1              108.058146               181.843629  \n2              -29.117906               151.380052  \n3              469.543089                79.948111  \n4              547.595338                42.459320  \n\n[5 rows x 38 columns]",
      "text/html": "<div>\n<style scoped>\n    .dataframe tbody tr th:only-of-type {\n        vertical-align: middle;\n    }\n\n    .dataframe tbody tr th {\n        vertical-align: top;\n    }\n\n    .dataframe thead th {\n        text-align: right;\n    }\n</style>\n<table border=\"1\" class=\"dataframe\">\n  <thead>\n    <tr style=\"text-align: right;\">\n      <th></th>\n      <th>SubjectID</th>\n      <th>ParticipantPosition_x</th>\n      <th>ParticipantPosition_z</th>\n      <th>PointerPosition_x</th>\n      <th>PointerPosition_z</th>\n      <th>PointerDirection_x</th>\n      <th>PointerDirection_z</th>\n      <th>Angle</th>\n      <th>SignedAngle-+180</th>\n      <th>SignedAngle360</th>\n      <th>...</th>\n      <th>Dot_Pointer-Building-Participant</th>\n      <th>Magnitud_Participant-Pointer</th>\n      <th>Magnitud_Participant-Building</th>\n      <th>radians</th>\n      <th>degrees</th>\n      <th>BuildingID</th>\n      <th>BuildingCenterWorld.x</th>\n      <th>BuildingCenterWorld.z</th>\n      <th>final_target_position_x</th>\n      <th>final_target_position_z</th>\n    </tr>\n  </thead>\n  <tbody>\n    <tr>\n      <th>0</th>\n      <td>365</td>\n      <td>-33.362625</td>\n      <td>-190.912018</td>\n      <td>-33.590775</td>\n      <td>-190.709625</td>\n      <td>-0.729280</td>\n      <td>0.681399</td>\n      <td>87.005028</td>\n      <td>99.615800</td>\n      <td>99.615800</td>\n      <td>...</td>\n      <td>-27.501387</td>\n      <td>0.304983</td>\n      <td>344.969715</td>\n      <td>1.835264</td>\n      <td>105.152855</td>\n      <td>14</td>\n      <td>227.649185</td>\n      <td>119.052856</td>\n      <td>261.969239</td>\n      <td>309.081083</td>\n    </tr>\n    <tr>\n      <th>1</th>\n      <td>365</td>\n      <td>118.412003</td>\n      <td>-62.941864</td>\n      <td>118.647705</td>\n      <td>-63.044891</td>\n      <td>0.943334</td>\n      <td>0.254118</td>\n      <td>44.100197</td>\n      <td>27.610911</td>\n      <td>27.610911</td>\n      <td>...</td>\n      <td>25.895421</td>\n      <td>0.257236</td>\n      <td>149.761123</td>\n      <td>0.833633</td>\n      <td>47.763652</td>\n      <td>14</td>\n      <td>227.649185</td>\n      <td>119.052856</td>\n      <td>108.058146</td>\n      <td>181.843629</td>\n    </tr>\n    <tr>\n      <th>2</th>\n      <td>365</td>\n      <td>257.929993</td>\n      <td>-33.097687</td>\n      <td>257.598694</td>\n      <td>-32.840240</td>\n      <td>-0.831603</td>\n      <td>0.513045</td>\n      <td>47.522392</td>\n      <td>6.891651</td>\n      <td>6.891651</td>\n      <td>...</td>\n      <td>9.042800</td>\n      <td>0.419568</td>\n      <td>31.565180</td>\n      <td>0.819211</td>\n      <td>46.937344</td>\n      <td>14</td>\n      <td>227.649185</td>\n      <td>119.052856</td>\n      <td>-29.117906</td>\n      <td>151.380052</td>\n    </tr>\n    <tr>\n      <th>3</th>\n      <td>365</td>\n      <td>-242.933212</td>\n      <td>39.037964</td>\n      <td>-242.879013</td>\n      <td>38.953239</td>\n      <td>0.985110</td>\n      <td>0.151506</td>\n      <td>1.100918</td>\n      <td>-171.261997</td>\n      <td>188.738003</td>\n      <td>...</td>\n      <td>30.439336</td>\n      <td>0.100577</td>\n      <td>499.655970</td>\n      <td>0.920139</td>\n      <td>52.720091</td>\n      <td>14</td>\n      <td>227.649185</td>\n      <td>119.052856</td>\n      <td>469.543089</td>\n      <td>79.948111</td>\n    </tr>\n    <tr>\n      <th>4</th>\n      <td>365</td>\n      <td>-320.974487</td>\n      <td>77.197166</td>\n      <td>-320.853760</td>\n      <td>77.009575</td>\n      <td>0.907607</td>\n      <td>-0.416039</td>\n      <td>29.176662</td>\n      <td>-166.877049</td>\n      <td>193.122951</td>\n      <td>...</td>\n      <td>84.337011</td>\n      <td>0.223082</td>\n      <td>581.409750</td>\n      <td>0.862902</td>\n      <td>49.440636</td>\n      <td>14</td>\n      <td>227.649185</td>\n      <td>119.052856</td>\n      <td>547.595338</td>\n      <td>42.459320</td>\n    </tr>\n  </tbody>\n</table>\n<p>5 rows × 38 columns</p>\n</div>"
     },
     "execution_count": 282,
     "metadata": {},
     "output_type": "execute_result"
    }
   ],
   "source": [
    "df_cleaned['target_position_x'] = df_cleaned['BuildingCenterWorld.x'] - df_cleaned.PointerPosition_x\n",
    "df_cleaned['target_position_z'] = df_cleaned['BuildingCenterWorld.z'] - df_cleaned.PointerPosition_z\n",
    "\n",
    "df_cleaned['final_target_position_x'] = df_cleaned['BuildingCenterWorld.x'] - (df_cleaned.PointerPosition_x + df_cleaned.PointerDirection_x)\n",
    "df_cleaned['final_target_position_z'] = df_cleaned['BuildingCenterWorld.z'] - (df_cleaned.PointerPosition_z + df_cleaned.PointerDirection_z)\n",
    "\n",
    "df_cleaned.head()"
   ],
   "metadata": {
    "collapsed": false,
    "pycharm": {
     "name": "#%%\n"
    }
   }
  },
  {
   "cell_type": "code",
   "execution_count": 284,
   "outputs": [
    {
     "data": {
      "text/plain": "   SubjectID  ParticipantPosition_x  ParticipantPosition_z  PointerPosition_x  \\\n0        365             -33.362625            -190.912018         -33.590775   \n1        365             118.412003             -62.941864         118.647705   \n2        365             257.929993             -33.097687         257.598694   \n3        365            -242.933212              39.037964        -242.879013   \n4        365            -320.974487              77.197166        -320.853760   \n\n   PointerPosition_z  PointerDirection_x  PointerDirection_z      Angle  \\\n0        -190.709625           -0.729280            0.681399  87.005028   \n1         -63.044891            0.943334            0.254118  44.100197   \n2         -32.840240           -0.831603            0.513045  47.522392   \n3          38.953239            0.985110            0.151506   1.100918   \n4          77.009575            0.907607           -0.416039  29.176662   \n\n   SignedAngle-+180  SignedAngle360  ...  Magnitud_Participant-Building  \\\n0         99.615800       99.615800  ...                     344.969715   \n1         27.610911       27.610911  ...                     149.761123   \n2          6.891651        6.891651  ...                      31.565180   \n3       -171.261997      188.738003  ...                     499.655970   \n4       -166.877049      193.122951  ...                     581.409750   \n\n    radians     degrees  BuildingID  BuildingCenterWorld.x  \\\n0  1.835264  105.152855          14             227.649185   \n1  0.833633   47.763652          14             227.649185   \n2  0.819211   46.937344          14             227.649185   \n3  0.920139   52.720091          14             227.649185   \n4  0.862902   49.440636          14             227.649185   \n\n   BuildingCenterWorld.z  final_target_position_x final_target_position_z  \\\n0             119.052856               261.969239              309.081083   \n1             119.052856               108.058146              181.843629   \n2             119.052856               -29.117906              151.380052   \n3             119.052856               469.543089               79.948111   \n4             119.052856               547.595338               42.459320   \n\n  signed_angle_rad  signed_angle_deg  \n0         0.703084         40.283760  \n1         0.536171         30.720333  \n2        -0.190029        -10.887847  \n3         1.402146         80.337037  \n4         1.493413         85.566284  \n\n[5 rows x 40 columns]",
      "text/html": "<div>\n<style scoped>\n    .dataframe tbody tr th:only-of-type {\n        vertical-align: middle;\n    }\n\n    .dataframe tbody tr th {\n        vertical-align: top;\n    }\n\n    .dataframe thead th {\n        text-align: right;\n    }\n</style>\n<table border=\"1\" class=\"dataframe\">\n  <thead>\n    <tr style=\"text-align: right;\">\n      <th></th>\n      <th>SubjectID</th>\n      <th>ParticipantPosition_x</th>\n      <th>ParticipantPosition_z</th>\n      <th>PointerPosition_x</th>\n      <th>PointerPosition_z</th>\n      <th>PointerDirection_x</th>\n      <th>PointerDirection_z</th>\n      <th>Angle</th>\n      <th>SignedAngle-+180</th>\n      <th>SignedAngle360</th>\n      <th>...</th>\n      <th>Magnitud_Participant-Building</th>\n      <th>radians</th>\n      <th>degrees</th>\n      <th>BuildingID</th>\n      <th>BuildingCenterWorld.x</th>\n      <th>BuildingCenterWorld.z</th>\n      <th>final_target_position_x</th>\n      <th>final_target_position_z</th>\n      <th>signed_angle_rad</th>\n      <th>signed_angle_deg</th>\n    </tr>\n  </thead>\n  <tbody>\n    <tr>\n      <th>0</th>\n      <td>365</td>\n      <td>-33.362625</td>\n      <td>-190.912018</td>\n      <td>-33.590775</td>\n      <td>-190.709625</td>\n      <td>-0.729280</td>\n      <td>0.681399</td>\n      <td>87.005028</td>\n      <td>99.615800</td>\n      <td>99.615800</td>\n      <td>...</td>\n      <td>344.969715</td>\n      <td>1.835264</td>\n      <td>105.152855</td>\n      <td>14</td>\n      <td>227.649185</td>\n      <td>119.052856</td>\n      <td>261.969239</td>\n      <td>309.081083</td>\n      <td>0.703084</td>\n      <td>40.283760</td>\n    </tr>\n    <tr>\n      <th>1</th>\n      <td>365</td>\n      <td>118.412003</td>\n      <td>-62.941864</td>\n      <td>118.647705</td>\n      <td>-63.044891</td>\n      <td>0.943334</td>\n      <td>0.254118</td>\n      <td>44.100197</td>\n      <td>27.610911</td>\n      <td>27.610911</td>\n      <td>...</td>\n      <td>149.761123</td>\n      <td>0.833633</td>\n      <td>47.763652</td>\n      <td>14</td>\n      <td>227.649185</td>\n      <td>119.052856</td>\n      <td>108.058146</td>\n      <td>181.843629</td>\n      <td>0.536171</td>\n      <td>30.720333</td>\n    </tr>\n    <tr>\n      <th>2</th>\n      <td>365</td>\n      <td>257.929993</td>\n      <td>-33.097687</td>\n      <td>257.598694</td>\n      <td>-32.840240</td>\n      <td>-0.831603</td>\n      <td>0.513045</td>\n      <td>47.522392</td>\n      <td>6.891651</td>\n      <td>6.891651</td>\n      <td>...</td>\n      <td>31.565180</td>\n      <td>0.819211</td>\n      <td>46.937344</td>\n      <td>14</td>\n      <td>227.649185</td>\n      <td>119.052856</td>\n      <td>-29.117906</td>\n      <td>151.380052</td>\n      <td>-0.190029</td>\n      <td>-10.887847</td>\n    </tr>\n    <tr>\n      <th>3</th>\n      <td>365</td>\n      <td>-242.933212</td>\n      <td>39.037964</td>\n      <td>-242.879013</td>\n      <td>38.953239</td>\n      <td>0.985110</td>\n      <td>0.151506</td>\n      <td>1.100918</td>\n      <td>-171.261997</td>\n      <td>188.738003</td>\n      <td>...</td>\n      <td>499.655970</td>\n      <td>0.920139</td>\n      <td>52.720091</td>\n      <td>14</td>\n      <td>227.649185</td>\n      <td>119.052856</td>\n      <td>469.543089</td>\n      <td>79.948111</td>\n      <td>1.402146</td>\n      <td>80.337037</td>\n    </tr>\n    <tr>\n      <th>4</th>\n      <td>365</td>\n      <td>-320.974487</td>\n      <td>77.197166</td>\n      <td>-320.853760</td>\n      <td>77.009575</td>\n      <td>0.907607</td>\n      <td>-0.416039</td>\n      <td>29.176662</td>\n      <td>-166.877049</td>\n      <td>193.122951</td>\n      <td>...</td>\n      <td>581.409750</td>\n      <td>0.862902</td>\n      <td>49.440636</td>\n      <td>14</td>\n      <td>227.649185</td>\n      <td>119.052856</td>\n      <td>547.595338</td>\n      <td>42.459320</td>\n      <td>1.493413</td>\n      <td>85.566284</td>\n    </tr>\n  </tbody>\n</table>\n<p>5 rows × 40 columns</p>\n</div>"
     },
     "execution_count": 284,
     "metadata": {},
     "output_type": "execute_result"
    }
   ],
   "source": [
    "df_cleaned['signed_angle_rad'] = np.arctan2(df_cleaned.final_target_position_x, df_cleaned.final_target_position_z)\n",
    "df_cleaned['signed_angle_deg'] = np.arctan2(df_cleaned.final_target_position_x, df_cleaned.final_target_position_z) * (180 / np.pi)\n",
    "\n",
    "df_cleaned.head()"
   ],
   "metadata": {
    "collapsed": false,
    "pycharm": {
     "name": "#%%\n"
    }
   }
  }
 ],
 "metadata": {
  "kernelspec": {
   "display_name": "Python 3",
   "language": "python",
   "name": "python3"
  },
  "language_info": {
   "codemirror_mode": {
    "name": "ipython",
    "version": 2
   },
   "file_extension": ".py",
   "mimetype": "text/x-python",
   "name": "python",
   "nbconvert_exporter": "python",
   "pygments_lexer": "ipython2",
   "version": "2.7.6"
  }
 },
 "nbformat": 4,
 "nbformat_minor": 0
}