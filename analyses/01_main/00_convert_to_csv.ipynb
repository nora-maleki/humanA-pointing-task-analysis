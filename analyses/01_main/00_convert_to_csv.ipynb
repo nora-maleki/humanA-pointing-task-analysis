{
 "cells": [
  {
   "cell_type": "code",
   "execution_count": 1,
   "metadata": {
    "collapsed": true
   },
   "outputs": [],
   "source": [
    "import numpy as np\n",
    "import pandas as pd\n",
    "import matplotlib.pyplot as plt\n",
    "import seaborn as sns\n",
    "import os\n",
    "import json"
   ]
  },
  {
   "cell_type": "code",
   "execution_count": 2,
   "outputs": [],
   "source": [
    "FILE_PATH = r'../../data/01_main'"
   ],
   "metadata": {
    "collapsed": false,
    "pycharm": {
     "name": "#%%\n"
    }
   }
  },
  {
   "cell_type": "code",
   "execution_count": 3,
   "outputs": [
    {
     "data": {
      "text/plain": "   BuildingID            BuildingName  BuildingCenterWorld.x  \\\n0          16  Church-TaskBuilding_16             277.208374   \n1          31         TaskBuilding_31               6.088593   \n2          35         TaskBuilding_35             -72.578285   \n3           7          TaskBuilding_7            -192.461411   \n4          36         TaskBuilding_36             -51.411949   \n\n   BuildingCenterWorld.y  BuildingCenterWorld.z  BuildingPositionGlobal.x  \\\n0              19.870621             -91.080727                280.644775   \n1               5.046637              -0.542253                  5.910362   \n2               6.850483              53.288437                -72.798836   \n3               6.050417            -174.973267               -192.461411   \n4               4.593466            -142.603455                -52.689445   \n\n   BuildingPositionGlobal.y  BuildingPositionGlobal.z  \\\n0                 -2.905334                -91.287842   \n1                 -0.844291                 -0.364021   \n2                  0.727402                 53.811722   \n3                 -0.946640               -173.510040   \n4                 -3.524445               -144.380814   \n\n   BuildingPositionLocal.x  BuildingPositionLocal.y  ...  \\\n0               280.644775                -2.905348  ...   \n1                 5.910362                 0.364021  ...   \n2               -72.798836               -53.811726  ...   \n3              -192.461411               173.510056  ...   \n4               -52.689445               144.380829  ...   \n\n   BuildingLocalScale.z  BuildingForwardDirection.x  \\\n0                   1.0               -3.576279e-07   \n1                   1.0                5.120487e-01   \n2                   1.0                3.965120e-01   \n3                   1.0                4.611581e-01   \n4                   1.0               -6.533048e-01   \n\n   BuildingForwardDirection.y  BuildingForwardDirection.z  \\\n0               -1.000000e+00               -2.980232e-07   \n1               -3.606156e-07               -8.589562e-01   \n2               -4.116096e-07               -9.180295e-01   \n3                1.051915e-07                8.873180e-01   \n4               -2.793398e-07               -7.570951e-01   \n\n   BuildingUpDirection.x  BuildingUpDirection.y  BuildingUpDirection.z  \\\n0          -5.596234e-01          -5.215406e-08           8.287471e-01   \n1           1.524359e-07           1.000000e+00          -3.289585e-07   \n2           9.906053e-08           1.000000e+00          -4.055762e-07   \n3           1.513008e-08           1.000000e+00          -1.264134e-07   \n4          -1.038612e-07           1.000000e+00          -2.793398e-07   \n\n   BuildingRightDirection.x  BuildingRightDirection.y  \\\n0                  0.828747             -4.172325e-07   \n1                 -0.858956             -3.750693e-08   \n2                 -0.918030             -6.987533e-08   \n3                  0.887318             -7.172174e-08   \n4                 -0.757095              1.038612e-07   \n\n   BuildingRightDirection.z  \n0                  0.559623  \n1                 -0.512049  \n2                 -0.396512  \n3                 -0.461158  \n4                  0.653305  \n\n[5 rows x 40 columns]",
      "text/html": "<div>\n<style scoped>\n    .dataframe tbody tr th:only-of-type {\n        vertical-align: middle;\n    }\n\n    .dataframe tbody tr th {\n        vertical-align: top;\n    }\n\n    .dataframe thead th {\n        text-align: right;\n    }\n</style>\n<table border=\"1\" class=\"dataframe\">\n  <thead>\n    <tr style=\"text-align: right;\">\n      <th></th>\n      <th>BuildingID</th>\n      <th>BuildingName</th>\n      <th>BuildingCenterWorld.x</th>\n      <th>BuildingCenterWorld.y</th>\n      <th>BuildingCenterWorld.z</th>\n      <th>BuildingPositionGlobal.x</th>\n      <th>BuildingPositionGlobal.y</th>\n      <th>BuildingPositionGlobal.z</th>\n      <th>BuildingPositionLocal.x</th>\n      <th>BuildingPositionLocal.y</th>\n      <th>...</th>\n      <th>BuildingLocalScale.z</th>\n      <th>BuildingForwardDirection.x</th>\n      <th>BuildingForwardDirection.y</th>\n      <th>BuildingForwardDirection.z</th>\n      <th>BuildingUpDirection.x</th>\n      <th>BuildingUpDirection.y</th>\n      <th>BuildingUpDirection.z</th>\n      <th>BuildingRightDirection.x</th>\n      <th>BuildingRightDirection.y</th>\n      <th>BuildingRightDirection.z</th>\n    </tr>\n  </thead>\n  <tbody>\n    <tr>\n      <th>0</th>\n      <td>16</td>\n      <td>Church-TaskBuilding_16</td>\n      <td>277.208374</td>\n      <td>19.870621</td>\n      <td>-91.080727</td>\n      <td>280.644775</td>\n      <td>-2.905334</td>\n      <td>-91.287842</td>\n      <td>280.644775</td>\n      <td>-2.905348</td>\n      <td>...</td>\n      <td>1.0</td>\n      <td>-3.576279e-07</td>\n      <td>-1.000000e+00</td>\n      <td>-2.980232e-07</td>\n      <td>-5.596234e-01</td>\n      <td>-5.215406e-08</td>\n      <td>8.287471e-01</td>\n      <td>0.828747</td>\n      <td>-4.172325e-07</td>\n      <td>0.559623</td>\n    </tr>\n    <tr>\n      <th>1</th>\n      <td>31</td>\n      <td>TaskBuilding_31</td>\n      <td>6.088593</td>\n      <td>5.046637</td>\n      <td>-0.542253</td>\n      <td>5.910362</td>\n      <td>-0.844291</td>\n      <td>-0.364021</td>\n      <td>5.910362</td>\n      <td>0.364021</td>\n      <td>...</td>\n      <td>1.0</td>\n      <td>5.120487e-01</td>\n      <td>-3.606156e-07</td>\n      <td>-8.589562e-01</td>\n      <td>1.524359e-07</td>\n      <td>1.000000e+00</td>\n      <td>-3.289585e-07</td>\n      <td>-0.858956</td>\n      <td>-3.750693e-08</td>\n      <td>-0.512049</td>\n    </tr>\n    <tr>\n      <th>2</th>\n      <td>35</td>\n      <td>TaskBuilding_35</td>\n      <td>-72.578285</td>\n      <td>6.850483</td>\n      <td>53.288437</td>\n      <td>-72.798836</td>\n      <td>0.727402</td>\n      <td>53.811722</td>\n      <td>-72.798836</td>\n      <td>-53.811726</td>\n      <td>...</td>\n      <td>1.0</td>\n      <td>3.965120e-01</td>\n      <td>-4.116096e-07</td>\n      <td>-9.180295e-01</td>\n      <td>9.906053e-08</td>\n      <td>1.000000e+00</td>\n      <td>-4.055762e-07</td>\n      <td>-0.918030</td>\n      <td>-6.987533e-08</td>\n      <td>-0.396512</td>\n    </tr>\n    <tr>\n      <th>3</th>\n      <td>7</td>\n      <td>TaskBuilding_7</td>\n      <td>-192.461411</td>\n      <td>6.050417</td>\n      <td>-174.973267</td>\n      <td>-192.461411</td>\n      <td>-0.946640</td>\n      <td>-173.510040</td>\n      <td>-192.461411</td>\n      <td>173.510056</td>\n      <td>...</td>\n      <td>1.0</td>\n      <td>4.611581e-01</td>\n      <td>1.051915e-07</td>\n      <td>8.873180e-01</td>\n      <td>1.513008e-08</td>\n      <td>1.000000e+00</td>\n      <td>-1.264134e-07</td>\n      <td>0.887318</td>\n      <td>-7.172174e-08</td>\n      <td>-0.461158</td>\n    </tr>\n    <tr>\n      <th>4</th>\n      <td>36</td>\n      <td>TaskBuilding_36</td>\n      <td>-51.411949</td>\n      <td>4.593466</td>\n      <td>-142.603455</td>\n      <td>-52.689445</td>\n      <td>-3.524445</td>\n      <td>-144.380814</td>\n      <td>-52.689445</td>\n      <td>144.380829</td>\n      <td>...</td>\n      <td>1.0</td>\n      <td>-6.533048e-01</td>\n      <td>-2.793398e-07</td>\n      <td>-7.570951e-01</td>\n      <td>-1.038612e-07</td>\n      <td>1.000000e+00</td>\n      <td>-2.793398e-07</td>\n      <td>-0.757095</td>\n      <td>1.038612e-07</td>\n      <td>0.653305</td>\n    </tr>\n  </tbody>\n</table>\n<p>5 rows × 40 columns</p>\n</div>"
     },
     "execution_count": 3,
     "metadata": {},
     "output_type": "execute_result"
    }
   ],
   "source": [
    "with open(f'{FILE_PATH}/AllBuildingList_PointingTask.json') as data_file:\n",
    "    df = json.load(data_file)\n",
    "\n",
    "all_buildings = pd.json_normalize(df, max_level=1)\n",
    "all_buildings.head()"
   ],
   "metadata": {
    "collapsed": false,
    "pycharm": {
     "name": "#%%\n"
    }
   }
  },
  {
   "cell_type": "code",
   "execution_count": 4,
   "outputs": [],
   "source": [
    "all_buildings.to_csv(f'{FILE_PATH}/02_all_buildings_list.csv')"
   ],
   "metadata": {
    "collapsed": false,
    "pycharm": {
     "name": "#%%\n"
    }
   }
  },
  {
   "cell_type": "code",
   "execution_count": 7,
   "outputs": [
    {
     "data": {
      "text/plain": "   AvatarID AvatarName  AvatarCenterWorld.x  AvatarCenterWorld.y  \\\n0         2     02_Cma          -147.664993             3.072653   \n1        42      42_Sa            65.630707            -1.885010   \n2        36      36_Sa           162.001144            -0.394517   \n3        38      38_Sa           150.833649            -1.489311   \n4        41      41_Sa            92.128632             0.218283   \n\n   AvatarCenterWorld.z  AvatarPositionGlobal.x  AvatarPositionGlobal.y  \\\n0            67.390167             -147.646744                2.345342   \n1           -52.687607               65.613266               -2.612321   \n2           133.271271              162.000000               -1.121828   \n3           -43.709518              150.816269               -2.300489   \n4            38.293304               92.163269               -0.467581   \n\n   AvatarPositionGlobal.z  AvatarPositionLocal.x  AvatarPositionLocal.y  ...  \\\n0               67.389999            -351.640015               6.398831  ...   \n1              -52.674149            -138.380005               1.441168  ...   \n2              133.300003             -41.993271               2.931661  ...   \n3              -43.692154             -53.176998               1.753000  ...   \n4               38.295853            -111.830002               3.585908  ...   \n\n   AvatarLocalScale.z  AvatarForwardDirection.x  AvatarForwardDirection.y  \\\n0                 1.0                  0.000000                       0.0   \n1                 1.0                 -0.605179                       0.0   \n2                 1.0                  0.664752                       0.0   \n3                 1.0                  0.711973                       0.0   \n4                 1.0                  0.743769                       0.0   \n\n   AvatarForwardDirection.z  AvatarUpDirection.x  AvatarUpDirection.y  \\\n0                  1.000000                  0.0                  1.0   \n1                 -0.796090                  0.0                  1.0   \n2                  0.747064                  0.0                  1.0   \n3                  0.702207                  0.0                  1.0   \n4                 -0.668437                  0.0                  1.0   \n\n   AvatarUpDirection.z  AvatarRightDirection.x  AvatarRightDirection.y  \\\n0                  0.0                1.000000                     0.0   \n1                  0.0               -0.796090                     0.0   \n2                  0.0                0.747064                     0.0   \n3                  0.0                0.702207                     0.0   \n4                  0.0               -0.668437                     0.0   \n\n   AvatarRightDirection.z  \n0                0.000000  \n1                0.605179  \n2               -0.664752  \n3               -0.711973  \n4               -0.743769  \n\n[5 rows x 40 columns]",
      "text/html": "<div>\n<style scoped>\n    .dataframe tbody tr th:only-of-type {\n        vertical-align: middle;\n    }\n\n    .dataframe tbody tr th {\n        vertical-align: top;\n    }\n\n    .dataframe thead th {\n        text-align: right;\n    }\n</style>\n<table border=\"1\" class=\"dataframe\">\n  <thead>\n    <tr style=\"text-align: right;\">\n      <th></th>\n      <th>AvatarID</th>\n      <th>AvatarName</th>\n      <th>AvatarCenterWorld.x</th>\n      <th>AvatarCenterWorld.y</th>\n      <th>AvatarCenterWorld.z</th>\n      <th>AvatarPositionGlobal.x</th>\n      <th>AvatarPositionGlobal.y</th>\n      <th>AvatarPositionGlobal.z</th>\n      <th>AvatarPositionLocal.x</th>\n      <th>AvatarPositionLocal.y</th>\n      <th>...</th>\n      <th>AvatarLocalScale.z</th>\n      <th>AvatarForwardDirection.x</th>\n      <th>AvatarForwardDirection.y</th>\n      <th>AvatarForwardDirection.z</th>\n      <th>AvatarUpDirection.x</th>\n      <th>AvatarUpDirection.y</th>\n      <th>AvatarUpDirection.z</th>\n      <th>AvatarRightDirection.x</th>\n      <th>AvatarRightDirection.y</th>\n      <th>AvatarRightDirection.z</th>\n    </tr>\n  </thead>\n  <tbody>\n    <tr>\n      <th>0</th>\n      <td>2</td>\n      <td>02_Cma</td>\n      <td>-147.664993</td>\n      <td>3.072653</td>\n      <td>67.390167</td>\n      <td>-147.646744</td>\n      <td>2.345342</td>\n      <td>67.389999</td>\n      <td>-351.640015</td>\n      <td>6.398831</td>\n      <td>...</td>\n      <td>1.0</td>\n      <td>0.000000</td>\n      <td>0.0</td>\n      <td>1.000000</td>\n      <td>0.0</td>\n      <td>1.0</td>\n      <td>0.0</td>\n      <td>1.000000</td>\n      <td>0.0</td>\n      <td>0.000000</td>\n    </tr>\n    <tr>\n      <th>1</th>\n      <td>42</td>\n      <td>42_Sa</td>\n      <td>65.630707</td>\n      <td>-1.885010</td>\n      <td>-52.687607</td>\n      <td>65.613266</td>\n      <td>-2.612321</td>\n      <td>-52.674149</td>\n      <td>-138.380005</td>\n      <td>1.441168</td>\n      <td>...</td>\n      <td>1.0</td>\n      <td>-0.605179</td>\n      <td>0.0</td>\n      <td>-0.796090</td>\n      <td>0.0</td>\n      <td>1.0</td>\n      <td>0.0</td>\n      <td>-0.796090</td>\n      <td>0.0</td>\n      <td>0.605179</td>\n    </tr>\n    <tr>\n      <th>2</th>\n      <td>36</td>\n      <td>36_Sa</td>\n      <td>162.001144</td>\n      <td>-0.394517</td>\n      <td>133.271271</td>\n      <td>162.000000</td>\n      <td>-1.121828</td>\n      <td>133.300003</td>\n      <td>-41.993271</td>\n      <td>2.931661</td>\n      <td>...</td>\n      <td>1.0</td>\n      <td>0.664752</td>\n      <td>0.0</td>\n      <td>0.747064</td>\n      <td>0.0</td>\n      <td>1.0</td>\n      <td>0.0</td>\n      <td>0.747064</td>\n      <td>0.0</td>\n      <td>-0.664752</td>\n    </tr>\n    <tr>\n      <th>3</th>\n      <td>38</td>\n      <td>38_Sa</td>\n      <td>150.833649</td>\n      <td>-1.489311</td>\n      <td>-43.709518</td>\n      <td>150.816269</td>\n      <td>-2.300489</td>\n      <td>-43.692154</td>\n      <td>-53.176998</td>\n      <td>1.753000</td>\n      <td>...</td>\n      <td>1.0</td>\n      <td>0.711973</td>\n      <td>0.0</td>\n      <td>0.702207</td>\n      <td>0.0</td>\n      <td>1.0</td>\n      <td>0.0</td>\n      <td>0.702207</td>\n      <td>0.0</td>\n      <td>-0.711973</td>\n    </tr>\n    <tr>\n      <th>4</th>\n      <td>41</td>\n      <td>41_Sa</td>\n      <td>92.128632</td>\n      <td>0.218283</td>\n      <td>38.293304</td>\n      <td>92.163269</td>\n      <td>-0.467581</td>\n      <td>38.295853</td>\n      <td>-111.830002</td>\n      <td>3.585908</td>\n      <td>...</td>\n      <td>1.0</td>\n      <td>0.743769</td>\n      <td>0.0</td>\n      <td>-0.668437</td>\n      <td>0.0</td>\n      <td>1.0</td>\n      <td>0.0</td>\n      <td>-0.668437</td>\n      <td>0.0</td>\n      <td>-0.743769</td>\n    </tr>\n  </tbody>\n</table>\n<p>5 rows × 40 columns</p>\n</div>"
     },
     "execution_count": 7,
     "metadata": {},
     "output_type": "execute_result"
    }
   ],
   "source": [
    "with open(f'{FILE_PATH}/AvatarsList_PointingTask.json') as data_file:\n",
    "    df = json.load(data_file)\n",
    "\n",
    "avatar_list = pd.json_normalize(df, max_level=1)\n",
    "avatar_list.head()"
   ],
   "metadata": {
    "collapsed": false,
    "pycharm": {
     "name": "#%%\n"
    }
   }
  },
  {
   "cell_type": "code",
   "execution_count": 8,
   "outputs": [],
   "source": [
    "avatar_list.to_csv(f'{FILE_PATH}/03_avatar_info_list.csv')"
   ],
   "metadata": {
    "collapsed": false,
    "pycharm": {
     "name": "#%%\n"
    }
   }
  },
  {
   "cell_type": "code",
   "execution_count": 10,
   "outputs": [
    {
     "data": {
      "text/plain": "   PointingTargetId  PointingTargetIndex PointingTargetName  \\\n0                 4                    6        04_CmA_6_47   \n1                 2                    2        02_CmA_2_41   \n2                 3                    5       03_CmANo_5_2   \n3                 2                    3      02_CmANo_3_41   \n4                 3                    4         03_CmA_4_2   \n\n  PointingTargetCondition  PointingTargetBuildingId  Context  Agent  \n0                     CmA                        47     True   True  \n1                     CmA                        41     True   True  \n2                   CmANo                         2     True  False  \n3                   CmANo                        41     True  False  \n4                     CmA                         2     True   True  ",
      "text/html": "<div>\n<style scoped>\n    .dataframe tbody tr th:only-of-type {\n        vertical-align: middle;\n    }\n\n    .dataframe tbody tr th {\n        vertical-align: top;\n    }\n\n    .dataframe thead th {\n        text-align: right;\n    }\n</style>\n<table border=\"1\" class=\"dataframe\">\n  <thead>\n    <tr style=\"text-align: right;\">\n      <th></th>\n      <th>PointingTargetId</th>\n      <th>PointingTargetIndex</th>\n      <th>PointingTargetName</th>\n      <th>PointingTargetCondition</th>\n      <th>PointingTargetBuildingId</th>\n      <th>Context</th>\n      <th>Agent</th>\n    </tr>\n  </thead>\n  <tbody>\n    <tr>\n      <th>0</th>\n      <td>4</td>\n      <td>6</td>\n      <td>04_CmA_6_47</td>\n      <td>CmA</td>\n      <td>47</td>\n      <td>True</td>\n      <td>True</td>\n    </tr>\n    <tr>\n      <th>1</th>\n      <td>2</td>\n      <td>2</td>\n      <td>02_CmA_2_41</td>\n      <td>CmA</td>\n      <td>41</td>\n      <td>True</td>\n      <td>True</td>\n    </tr>\n    <tr>\n      <th>2</th>\n      <td>3</td>\n      <td>5</td>\n      <td>03_CmANo_5_2</td>\n      <td>CmANo</td>\n      <td>2</td>\n      <td>True</td>\n      <td>False</td>\n    </tr>\n    <tr>\n      <th>3</th>\n      <td>2</td>\n      <td>3</td>\n      <td>02_CmANo_3_41</td>\n      <td>CmANo</td>\n      <td>41</td>\n      <td>True</td>\n      <td>False</td>\n    </tr>\n    <tr>\n      <th>4</th>\n      <td>3</td>\n      <td>4</td>\n      <td>03_CmA_4_2</td>\n      <td>CmA</td>\n      <td>2</td>\n      <td>True</td>\n      <td>True</td>\n    </tr>\n  </tbody>\n</table>\n</div>"
     },
     "execution_count": 10,
     "metadata": {},
     "output_type": "execute_result"
    }
   ],
   "source": [
    "with open(f'{FILE_PATH}/PointingTargetList_PointingTask.json') as data_file:\n",
    "    df = json.load(data_file)\n",
    "\n",
    "pointing_target = pd.json_normalize(df, max_level=1)\n",
    "pointing_target.head()"
   ],
   "metadata": {
    "collapsed": false,
    "pycharm": {
     "name": "#%%\n"
    }
   }
  },
  {
   "cell_type": "code",
   "execution_count": 11,
   "outputs": [],
   "source": [
    "pointing_target.to_csv(f'{FILE_PATH}/04_pointing_target_info.csv')"
   ],
   "metadata": {
    "collapsed": false,
    "pycharm": {
     "name": "#%%\n"
    }
   }
  },
  {
   "cell_type": "code",
   "execution_count": 12,
   "outputs": [
    {
     "data": {
      "text/plain": "   SpawnPointID      SpawnPointName  SpawnPointCenterWorld.x  \\\n0             9   SP_TaskBuilding_9               366.741425   \n1            30  SP_TaskBuilding_30                38.822807   \n2            38  SP_TaskBuilding_38               -54.884190   \n3             7   SP_TaskBuilding_7              -185.620300   \n4            29  SP_TaskBuilding_29                30.083309   \n\n   SpawnPointCenterWorld.y  SpawnPointCenterWorld.z  \\\n0                -1.029061               109.221771   \n1                 0.351428                53.957973   \n2                -0.080298               235.924225   \n3                -0.395362              -159.597656   \n4                -0.475717               177.916245   \n\n   SpawnPointPositionGlobal.x  SpawnPointPositionGlobal.y  \\\n0                  366.741425                   -1.029061   \n1                   38.822807                    0.351428   \n2                  -54.884186                   -0.080298   \n3                 -185.620300                   -0.395362   \n4                   30.083307                   -0.475717   \n\n   SpawnPointPositionGlobal.z  SpawnPointPositionLocal.x  \\\n0                  109.221771                 366.730011   \n1                   53.957973                  38.820000   \n2                  235.924240                 -54.900002   \n3                 -159.597656                -185.610001   \n4                  177.916245                  30.070000   \n\n   SpawnPointPositionLocal.y  ...  SpawnPointLocalScale.z  \\\n0                     -1.810  ...                     1.0   \n1                      0.350  ...                     1.0   \n2                      0.520  ...                     1.0   \n3                     -0.200  ...                     1.0   \n4                     -0.216  ...                     1.0   \n\n   SpawnPointForwardDirection.x  SpawnPointForwardDirection.y  \\\n0                      0.634623                      0.000233   \n1                      0.011997                     -0.001884   \n2                     -0.919156                     -0.001727   \n3                     -0.500830                      0.000306   \n4                      0.166026                      0.002102   \n\n   SpawnPointForwardDirection.z  SpawnPointUpDirection.x  \\\n0                      0.772822                -0.002700   \n1                      0.999926                -0.002700   \n2                     -0.393891                -0.002700   \n3                     -0.865546                -0.002700   \n4                     -0.986119                -0.003792   \n\n   SpawnPointUpDirection.y  SpawnPointUpDirection.z  \\\n0                 0.999995                 0.001916   \n1                 0.999995                 0.001916   \n2                 0.999995                 0.001916   \n3                 0.999995                 0.001916   \n4                 0.999992                 0.001493   \n\n   SpawnPointRightDirection.x  SpawnPointRightDirection.y  \\\n0                    0.772817                    0.003303   \n1                    0.999924                    0.002723   \n2                   -0.393885                   -0.002825   \n3                   -0.865542                   -0.003297   \n4                   -0.986114                   -0.003491   \n\n   SpawnPointRightDirection.z  \n0                   -0.634621  \n1                   -0.011992  \n2                    0.919155  \n3                    0.500826  \n4                   -0.166033  \n\n[5 rows x 40 columns]",
      "text/html": "<div>\n<style scoped>\n    .dataframe tbody tr th:only-of-type {\n        vertical-align: middle;\n    }\n\n    .dataframe tbody tr th {\n        vertical-align: top;\n    }\n\n    .dataframe thead th {\n        text-align: right;\n    }\n</style>\n<table border=\"1\" class=\"dataframe\">\n  <thead>\n    <tr style=\"text-align: right;\">\n      <th></th>\n      <th>SpawnPointID</th>\n      <th>SpawnPointName</th>\n      <th>SpawnPointCenterWorld.x</th>\n      <th>SpawnPointCenterWorld.y</th>\n      <th>SpawnPointCenterWorld.z</th>\n      <th>SpawnPointPositionGlobal.x</th>\n      <th>SpawnPointPositionGlobal.y</th>\n      <th>SpawnPointPositionGlobal.z</th>\n      <th>SpawnPointPositionLocal.x</th>\n      <th>SpawnPointPositionLocal.y</th>\n      <th>...</th>\n      <th>SpawnPointLocalScale.z</th>\n      <th>SpawnPointForwardDirection.x</th>\n      <th>SpawnPointForwardDirection.y</th>\n      <th>SpawnPointForwardDirection.z</th>\n      <th>SpawnPointUpDirection.x</th>\n      <th>SpawnPointUpDirection.y</th>\n      <th>SpawnPointUpDirection.z</th>\n      <th>SpawnPointRightDirection.x</th>\n      <th>SpawnPointRightDirection.y</th>\n      <th>SpawnPointRightDirection.z</th>\n    </tr>\n  </thead>\n  <tbody>\n    <tr>\n      <th>0</th>\n      <td>9</td>\n      <td>SP_TaskBuilding_9</td>\n      <td>366.741425</td>\n      <td>-1.029061</td>\n      <td>109.221771</td>\n      <td>366.741425</td>\n      <td>-1.029061</td>\n      <td>109.221771</td>\n      <td>366.730011</td>\n      <td>-1.810</td>\n      <td>...</td>\n      <td>1.0</td>\n      <td>0.634623</td>\n      <td>0.000233</td>\n      <td>0.772822</td>\n      <td>-0.002700</td>\n      <td>0.999995</td>\n      <td>0.001916</td>\n      <td>0.772817</td>\n      <td>0.003303</td>\n      <td>-0.634621</td>\n    </tr>\n    <tr>\n      <th>1</th>\n      <td>30</td>\n      <td>SP_TaskBuilding_30</td>\n      <td>38.822807</td>\n      <td>0.351428</td>\n      <td>53.957973</td>\n      <td>38.822807</td>\n      <td>0.351428</td>\n      <td>53.957973</td>\n      <td>38.820000</td>\n      <td>0.350</td>\n      <td>...</td>\n      <td>1.0</td>\n      <td>0.011997</td>\n      <td>-0.001884</td>\n      <td>0.999926</td>\n      <td>-0.002700</td>\n      <td>0.999995</td>\n      <td>0.001916</td>\n      <td>0.999924</td>\n      <td>0.002723</td>\n      <td>-0.011992</td>\n    </tr>\n    <tr>\n      <th>2</th>\n      <td>38</td>\n      <td>SP_TaskBuilding_38</td>\n      <td>-54.884190</td>\n      <td>-0.080298</td>\n      <td>235.924225</td>\n      <td>-54.884186</td>\n      <td>-0.080298</td>\n      <td>235.924240</td>\n      <td>-54.900002</td>\n      <td>0.520</td>\n      <td>...</td>\n      <td>1.0</td>\n      <td>-0.919156</td>\n      <td>-0.001727</td>\n      <td>-0.393891</td>\n      <td>-0.002700</td>\n      <td>0.999995</td>\n      <td>0.001916</td>\n      <td>-0.393885</td>\n      <td>-0.002825</td>\n      <td>0.919155</td>\n    </tr>\n    <tr>\n      <th>3</th>\n      <td>7</td>\n      <td>SP_TaskBuilding_7</td>\n      <td>-185.620300</td>\n      <td>-0.395362</td>\n      <td>-159.597656</td>\n      <td>-185.620300</td>\n      <td>-0.395362</td>\n      <td>-159.597656</td>\n      <td>-185.610001</td>\n      <td>-0.200</td>\n      <td>...</td>\n      <td>1.0</td>\n      <td>-0.500830</td>\n      <td>0.000306</td>\n      <td>-0.865546</td>\n      <td>-0.002700</td>\n      <td>0.999995</td>\n      <td>0.001916</td>\n      <td>-0.865542</td>\n      <td>-0.003297</td>\n      <td>0.500826</td>\n    </tr>\n    <tr>\n      <th>4</th>\n      <td>29</td>\n      <td>SP_TaskBuilding_29</td>\n      <td>30.083309</td>\n      <td>-0.475717</td>\n      <td>177.916245</td>\n      <td>30.083307</td>\n      <td>-0.475717</td>\n      <td>177.916245</td>\n      <td>30.070000</td>\n      <td>-0.216</td>\n      <td>...</td>\n      <td>1.0</td>\n      <td>0.166026</td>\n      <td>0.002102</td>\n      <td>-0.986119</td>\n      <td>-0.003792</td>\n      <td>0.999992</td>\n      <td>0.001493</td>\n      <td>-0.986114</td>\n      <td>-0.003491</td>\n      <td>-0.166033</td>\n    </tr>\n  </tbody>\n</table>\n<p>5 rows × 40 columns</p>\n</div>"
     },
     "execution_count": 12,
     "metadata": {},
     "output_type": "execute_result"
    }
   ],
   "source": [
    "with open(f'{FILE_PATH}/StartingLocationsList_PointingTask.json') as data_file:\n",
    "    df = json.load(data_file)\n",
    "\n",
    "starting_locations = pd.json_normalize(df, max_level=1)\n",
    "starting_locations.head()"
   ],
   "metadata": {
    "collapsed": false,
    "pycharm": {
     "name": "#%%\n"
    }
   }
  },
  {
   "cell_type": "code",
   "execution_count": 13,
   "outputs": [],
   "source": [
    "starting_locations.to_csv(f'{FILE_PATH}/05_starting_locations_info.csv')"
   ],
   "metadata": {
    "collapsed": false,
    "pycharm": {
     "name": "#%%\n"
    }
   }
  }
 ],
 "metadata": {
  "kernelspec": {
   "display_name": "Python 3",
   "language": "python",
   "name": "python3"
  },
  "language_info": {
   "codemirror_mode": {
    "name": "ipython",
    "version": 2
   },
   "file_extension": ".py",
   "mimetype": "text/x-python",
   "name": "python",
   "nbconvert_exporter": "python",
   "pygments_lexer": "ipython2",
   "version": "2.7.6"
  }
 },
 "nbformat": 4,
 "nbformat_minor": 0
}