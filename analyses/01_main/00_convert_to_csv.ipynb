{
 "cells": [
  {
   "cell_type": "code",
   "execution_count": 1,
   "metadata": {
    "collapsed": true
   },
   "outputs": [],
   "source": [
    "import numpy as np\n",
    "import pandas as pd\n",
    "import matplotlib.pyplot as plt\n",
    "import seaborn as sns\n",
    "import os\n",
    "import json"
   ]
  },
  {
   "cell_type": "code",
   "execution_count": 2,
   "outputs": [],
   "source": [
    "FILE_PATH = r'../../data/01_main'"
   ],
   "metadata": {
    "collapsed": false,
    "pycharm": {
     "name": "#%%\n"
    }
   }
  },
  {
   "cell_type": "code",
   "execution_count": 6,
   "outputs": [
    {
     "data": {
      "text/plain": "   BuildingID        BuildingName  BuildingCenterWorld.x  \\\n0          59            Crane_59            -318.127991   \n1          58  BasketballCourt_58             104.339996   \n2          57     Construction_57             -71.695419   \n3          48     TaskBuilding_48            -195.637009   \n4          52     TaskBuilding_52            -247.185669   \n\n   BuildingCenterWorld.y  BuildingCenterWorld.z  BuildingPositionGlobal.x  \\\n0              26.896717            -167.823914               -313.499451   \n1              -0.440584             -45.689999                104.339996   \n2               0.739893             -26.238297                -71.803406   \n3               7.350957            -130.434052               -195.637512   \n4               4.570368              54.489395               -247.203369   \n\n   BuildingPositionGlobal.y  BuildingPositionGlobal.z  \\\n0                  1.614944               -150.514664   \n1                 -3.070000                -45.689999   \n2                  0.551138                -26.717417   \n3                 -0.000015               -130.434052   \n4                  2.410477                 54.642479   \n\n   BuildingPositionLocal.x  BuildingPositionLocal.y  ...  \\\n0              -313.499451                 1.614944  ...   \n1               104.339996                -3.070000  ...   \n2                -0.028043                 0.005596  ...   \n3              -195.637512               130.434067  ...   \n4              -247.203369               -54.642483  ...   \n\n   BuildingLocalScale.z  BuildingForwardDirection.x  \\\n0               1.20745                2.423655e-01   \n1               1.00000               -6.614817e-01   \n2               1.00000                1.490116e-07   \n3               1.00000                0.000000e+00   \n4               1.00000                1.147317e-01   \n\n   BuildingForwardDirection.y  BuildingForwardDirection.z  \\\n0               -7.277503e-09                9.701850e-01   \n1                0.000000e+00                7.499613e-01   \n2                1.000000e+00               -1.639128e-07   \n3                0.000000e+00                1.000000e+00   \n4               -4.165431e-07               -9.933965e-01   \n\n   BuildingUpDirection.x  BuildingUpDirection.y  BuildingUpDirection.z  \\\n0           5.915870e-08           1.000000e+00          -7.277503e-09   \n1           0.000000e+00           1.000000e+00           0.000000e+00   \n2           7.768201e-01          -2.384186e-07          -6.297227e-01   \n3           0.000000e+00           1.000000e+00           0.000000e+00   \n4           2.397451e-08           1.000000e+00          -4.165431e-07   \n\n   BuildingRightDirection.x  BuildingRightDirection.y  \\\n0                  0.970185             -5.915870e-08   \n1                  0.749961              0.000000e+00   \n2                  0.629723              0.000000e+00   \n3                  1.000000              0.000000e+00   \n4                 -0.993397             -2.397451e-08   \n\n   BuildingRightDirection.z  \n0                 -0.242366  \n1                  0.661482  \n2                  0.776820  \n3                  0.000000  \n4                 -0.114732  \n\n[5 rows x 40 columns]",
      "text/html": "<div>\n<style scoped>\n    .dataframe tbody tr th:only-of-type {\n        vertical-align: middle;\n    }\n\n    .dataframe tbody tr th {\n        vertical-align: top;\n    }\n\n    .dataframe thead th {\n        text-align: right;\n    }\n</style>\n<table border=\"1\" class=\"dataframe\">\n  <thead>\n    <tr style=\"text-align: right;\">\n      <th></th>\n      <th>BuildingID</th>\n      <th>BuildingName</th>\n      <th>BuildingCenterWorld.x</th>\n      <th>BuildingCenterWorld.y</th>\n      <th>BuildingCenterWorld.z</th>\n      <th>BuildingPositionGlobal.x</th>\n      <th>BuildingPositionGlobal.y</th>\n      <th>BuildingPositionGlobal.z</th>\n      <th>BuildingPositionLocal.x</th>\n      <th>BuildingPositionLocal.y</th>\n      <th>...</th>\n      <th>BuildingLocalScale.z</th>\n      <th>BuildingForwardDirection.x</th>\n      <th>BuildingForwardDirection.y</th>\n      <th>BuildingForwardDirection.z</th>\n      <th>BuildingUpDirection.x</th>\n      <th>BuildingUpDirection.y</th>\n      <th>BuildingUpDirection.z</th>\n      <th>BuildingRightDirection.x</th>\n      <th>BuildingRightDirection.y</th>\n      <th>BuildingRightDirection.z</th>\n    </tr>\n  </thead>\n  <tbody>\n    <tr>\n      <th>0</th>\n      <td>59</td>\n      <td>Crane_59</td>\n      <td>-318.127991</td>\n      <td>26.896717</td>\n      <td>-167.823914</td>\n      <td>-313.499451</td>\n      <td>1.614944</td>\n      <td>-150.514664</td>\n      <td>-313.499451</td>\n      <td>1.614944</td>\n      <td>...</td>\n      <td>1.20745</td>\n      <td>2.423655e-01</td>\n      <td>-7.277503e-09</td>\n      <td>9.701850e-01</td>\n      <td>5.915870e-08</td>\n      <td>1.000000e+00</td>\n      <td>-7.277503e-09</td>\n      <td>0.970185</td>\n      <td>-5.915870e-08</td>\n      <td>-0.242366</td>\n    </tr>\n    <tr>\n      <th>1</th>\n      <td>58</td>\n      <td>BasketballCourt_58</td>\n      <td>104.339996</td>\n      <td>-0.440584</td>\n      <td>-45.689999</td>\n      <td>104.339996</td>\n      <td>-3.070000</td>\n      <td>-45.689999</td>\n      <td>104.339996</td>\n      <td>-3.070000</td>\n      <td>...</td>\n      <td>1.00000</td>\n      <td>-6.614817e-01</td>\n      <td>0.000000e+00</td>\n      <td>7.499613e-01</td>\n      <td>0.000000e+00</td>\n      <td>1.000000e+00</td>\n      <td>0.000000e+00</td>\n      <td>0.749961</td>\n      <td>0.000000e+00</td>\n      <td>0.661482</td>\n    </tr>\n    <tr>\n      <th>2</th>\n      <td>57</td>\n      <td>Construction_57</td>\n      <td>-71.695419</td>\n      <td>0.739893</td>\n      <td>-26.238297</td>\n      <td>-71.803406</td>\n      <td>0.551138</td>\n      <td>-26.717417</td>\n      <td>-0.028043</td>\n      <td>0.005596</td>\n      <td>...</td>\n      <td>1.00000</td>\n      <td>1.490116e-07</td>\n      <td>1.000000e+00</td>\n      <td>-1.639128e-07</td>\n      <td>7.768201e-01</td>\n      <td>-2.384186e-07</td>\n      <td>-6.297227e-01</td>\n      <td>0.629723</td>\n      <td>0.000000e+00</td>\n      <td>0.776820</td>\n    </tr>\n    <tr>\n      <th>3</th>\n      <td>48</td>\n      <td>TaskBuilding_48</td>\n      <td>-195.637009</td>\n      <td>7.350957</td>\n      <td>-130.434052</td>\n      <td>-195.637512</td>\n      <td>-0.000015</td>\n      <td>-130.434052</td>\n      <td>-195.637512</td>\n      <td>130.434067</td>\n      <td>...</td>\n      <td>1.00000</td>\n      <td>0.000000e+00</td>\n      <td>0.000000e+00</td>\n      <td>1.000000e+00</td>\n      <td>0.000000e+00</td>\n      <td>1.000000e+00</td>\n      <td>0.000000e+00</td>\n      <td>1.000000</td>\n      <td>0.000000e+00</td>\n      <td>0.000000</td>\n    </tr>\n    <tr>\n      <th>4</th>\n      <td>52</td>\n      <td>TaskBuilding_52</td>\n      <td>-247.185669</td>\n      <td>4.570368</td>\n      <td>54.489395</td>\n      <td>-247.203369</td>\n      <td>2.410477</td>\n      <td>54.642479</td>\n      <td>-247.203369</td>\n      <td>-54.642483</td>\n      <td>...</td>\n      <td>1.00000</td>\n      <td>1.147317e-01</td>\n      <td>-4.165431e-07</td>\n      <td>-9.933965e-01</td>\n      <td>2.397451e-08</td>\n      <td>1.000000e+00</td>\n      <td>-4.165431e-07</td>\n      <td>-0.993397</td>\n      <td>-2.397451e-08</td>\n      <td>-0.114732</td>\n    </tr>\n  </tbody>\n</table>\n<p>5 rows × 40 columns</p>\n</div>"
     },
     "execution_count": 6,
     "metadata": {},
     "output_type": "execute_result"
    }
   ],
   "source": [
    "with open(f'{FILE_PATH}/AllBuildingList_PointingTask.json') as data_file:\n",
    "    df = json.load(data_file)\n",
    "\n",
    "all_buildings = pd.json_normalize(df, max_level=1)\n",
    "all_buildings.head()"
   ],
   "metadata": {
    "collapsed": false,
    "pycharm": {
     "name": "#%%\n"
    }
   }
  },
  {
   "cell_type": "code",
   "execution_count": 7,
   "outputs": [],
   "source": [
    "all_buildings.to_csv(f'{FILE_PATH}/02_all_buildings_list.csv')"
   ],
   "metadata": {
    "collapsed": false,
    "pycharm": {
     "name": "#%%\n"
    }
   }
  },
  {
   "cell_type": "code",
   "execution_count": 7,
   "outputs": [
    {
     "data": {
      "text/plain": "   AvatarID AvatarName  AvatarCenterWorld.x  AvatarCenterWorld.y  \\\n0         2     02_Cma          -147.664993             3.072653   \n1        42      42_Sa            65.630707            -1.885010   \n2        36      36_Sa           162.001144            -0.394517   \n3        38      38_Sa           150.833649            -1.489311   \n4        41      41_Sa            92.128632             0.218283   \n\n   AvatarCenterWorld.z  AvatarPositionGlobal.x  AvatarPositionGlobal.y  \\\n0            67.390167             -147.646744                2.345342   \n1           -52.687607               65.613266               -2.612321   \n2           133.271271              162.000000               -1.121828   \n3           -43.709518              150.816269               -2.300489   \n4            38.293304               92.163269               -0.467581   \n\n   AvatarPositionGlobal.z  AvatarPositionLocal.x  AvatarPositionLocal.y  ...  \\\n0               67.389999            -351.640015               6.398831  ...   \n1              -52.674149            -138.380005               1.441168  ...   \n2              133.300003             -41.993271               2.931661  ...   \n3              -43.692154             -53.176998               1.753000  ...   \n4               38.295853            -111.830002               3.585908  ...   \n\n   AvatarLocalScale.z  AvatarForwardDirection.x  AvatarForwardDirection.y  \\\n0                 1.0                  0.000000                       0.0   \n1                 1.0                 -0.605179                       0.0   \n2                 1.0                  0.664752                       0.0   \n3                 1.0                  0.711973                       0.0   \n4                 1.0                  0.743769                       0.0   \n\n   AvatarForwardDirection.z  AvatarUpDirection.x  AvatarUpDirection.y  \\\n0                  1.000000                  0.0                  1.0   \n1                 -0.796090                  0.0                  1.0   \n2                  0.747064                  0.0                  1.0   \n3                  0.702207                  0.0                  1.0   \n4                 -0.668437                  0.0                  1.0   \n\n   AvatarUpDirection.z  AvatarRightDirection.x  AvatarRightDirection.y  \\\n0                  0.0                1.000000                     0.0   \n1                  0.0               -0.796090                     0.0   \n2                  0.0                0.747064                     0.0   \n3                  0.0                0.702207                     0.0   \n4                  0.0               -0.668437                     0.0   \n\n   AvatarRightDirection.z  \n0                0.000000  \n1                0.605179  \n2               -0.664752  \n3               -0.711973  \n4               -0.743769  \n\n[5 rows x 40 columns]",
      "text/html": "<div>\n<style scoped>\n    .dataframe tbody tr th:only-of-type {\n        vertical-align: middle;\n    }\n\n    .dataframe tbody tr th {\n        vertical-align: top;\n    }\n\n    .dataframe thead th {\n        text-align: right;\n    }\n</style>\n<table border=\"1\" class=\"dataframe\">\n  <thead>\n    <tr style=\"text-align: right;\">\n      <th></th>\n      <th>AvatarID</th>\n      <th>AvatarName</th>\n      <th>AvatarCenterWorld.x</th>\n      <th>AvatarCenterWorld.y</th>\n      <th>AvatarCenterWorld.z</th>\n      <th>AvatarPositionGlobal.x</th>\n      <th>AvatarPositionGlobal.y</th>\n      <th>AvatarPositionGlobal.z</th>\n      <th>AvatarPositionLocal.x</th>\n      <th>AvatarPositionLocal.y</th>\n      <th>...</th>\n      <th>AvatarLocalScale.z</th>\n      <th>AvatarForwardDirection.x</th>\n      <th>AvatarForwardDirection.y</th>\n      <th>AvatarForwardDirection.z</th>\n      <th>AvatarUpDirection.x</th>\n      <th>AvatarUpDirection.y</th>\n      <th>AvatarUpDirection.z</th>\n      <th>AvatarRightDirection.x</th>\n      <th>AvatarRightDirection.y</th>\n      <th>AvatarRightDirection.z</th>\n    </tr>\n  </thead>\n  <tbody>\n    <tr>\n      <th>0</th>\n      <td>2</td>\n      <td>02_Cma</td>\n      <td>-147.664993</td>\n      <td>3.072653</td>\n      <td>67.390167</td>\n      <td>-147.646744</td>\n      <td>2.345342</td>\n      <td>67.389999</td>\n      <td>-351.640015</td>\n      <td>6.398831</td>\n      <td>...</td>\n      <td>1.0</td>\n      <td>0.000000</td>\n      <td>0.0</td>\n      <td>1.000000</td>\n      <td>0.0</td>\n      <td>1.0</td>\n      <td>0.0</td>\n      <td>1.000000</td>\n      <td>0.0</td>\n      <td>0.000000</td>\n    </tr>\n    <tr>\n      <th>1</th>\n      <td>42</td>\n      <td>42_Sa</td>\n      <td>65.630707</td>\n      <td>-1.885010</td>\n      <td>-52.687607</td>\n      <td>65.613266</td>\n      <td>-2.612321</td>\n      <td>-52.674149</td>\n      <td>-138.380005</td>\n      <td>1.441168</td>\n      <td>...</td>\n      <td>1.0</td>\n      <td>-0.605179</td>\n      <td>0.0</td>\n      <td>-0.796090</td>\n      <td>0.0</td>\n      <td>1.0</td>\n      <td>0.0</td>\n      <td>-0.796090</td>\n      <td>0.0</td>\n      <td>0.605179</td>\n    </tr>\n    <tr>\n      <th>2</th>\n      <td>36</td>\n      <td>36_Sa</td>\n      <td>162.001144</td>\n      <td>-0.394517</td>\n      <td>133.271271</td>\n      <td>162.000000</td>\n      <td>-1.121828</td>\n      <td>133.300003</td>\n      <td>-41.993271</td>\n      <td>2.931661</td>\n      <td>...</td>\n      <td>1.0</td>\n      <td>0.664752</td>\n      <td>0.0</td>\n      <td>0.747064</td>\n      <td>0.0</td>\n      <td>1.0</td>\n      <td>0.0</td>\n      <td>0.747064</td>\n      <td>0.0</td>\n      <td>-0.664752</td>\n    </tr>\n    <tr>\n      <th>3</th>\n      <td>38</td>\n      <td>38_Sa</td>\n      <td>150.833649</td>\n      <td>-1.489311</td>\n      <td>-43.709518</td>\n      <td>150.816269</td>\n      <td>-2.300489</td>\n      <td>-43.692154</td>\n      <td>-53.176998</td>\n      <td>1.753000</td>\n      <td>...</td>\n      <td>1.0</td>\n      <td>0.711973</td>\n      <td>0.0</td>\n      <td>0.702207</td>\n      <td>0.0</td>\n      <td>1.0</td>\n      <td>0.0</td>\n      <td>0.702207</td>\n      <td>0.0</td>\n      <td>-0.711973</td>\n    </tr>\n    <tr>\n      <th>4</th>\n      <td>41</td>\n      <td>41_Sa</td>\n      <td>92.128632</td>\n      <td>0.218283</td>\n      <td>38.293304</td>\n      <td>92.163269</td>\n      <td>-0.467581</td>\n      <td>38.295853</td>\n      <td>-111.830002</td>\n      <td>3.585908</td>\n      <td>...</td>\n      <td>1.0</td>\n      <td>0.743769</td>\n      <td>0.0</td>\n      <td>-0.668437</td>\n      <td>0.0</td>\n      <td>1.0</td>\n      <td>0.0</td>\n      <td>-0.668437</td>\n      <td>0.0</td>\n      <td>-0.743769</td>\n    </tr>\n  </tbody>\n</table>\n<p>5 rows × 40 columns</p>\n</div>"
     },
     "execution_count": 7,
     "metadata": {},
     "output_type": "execute_result"
    }
   ],
   "source": [
    "with open(f'{FILE_PATH}/AvatarsList_PointingTask.json') as data_file:\n",
    "    df = json.load(data_file)\n",
    "\n",
    "avatar_list = pd.json_normalize(df, max_level=1)\n",
    "avatar_list.head()"
   ],
   "metadata": {
    "collapsed": false,
    "pycharm": {
     "name": "#%%\n"
    }
   }
  },
  {
   "cell_type": "code",
   "execution_count": 8,
   "outputs": [],
   "source": [
    "avatar_list.to_csv(f'{FILE_PATH}/03_avatar_info_list.csv')"
   ],
   "metadata": {
    "collapsed": false,
    "pycharm": {
     "name": "#%%\n"
    }
   }
  },
  {
   "cell_type": "code",
   "execution_count": 10,
   "outputs": [
    {
     "data": {
      "text/plain": "   PointingTargetId  PointingTargetIndex PointingTargetName  \\\n0                 4                    6        04_CmA_6_47   \n1                 2                    2        02_CmA_2_41   \n2                 3                    5       03_CmANo_5_2   \n3                 2                    3      02_CmANo_3_41   \n4                 3                    4         03_CmA_4_2   \n\n  PointingTargetCondition  PointingTargetBuildingId  Context  Agent  \n0                     CmA                        47     True   True  \n1                     CmA                        41     True   True  \n2                   CmANo                         2     True  False  \n3                   CmANo                        41     True  False  \n4                     CmA                         2     True   True  ",
      "text/html": "<div>\n<style scoped>\n    .dataframe tbody tr th:only-of-type {\n        vertical-align: middle;\n    }\n\n    .dataframe tbody tr th {\n        vertical-align: top;\n    }\n\n    .dataframe thead th {\n        text-align: right;\n    }\n</style>\n<table border=\"1\" class=\"dataframe\">\n  <thead>\n    <tr style=\"text-align: right;\">\n      <th></th>\n      <th>PointingTargetId</th>\n      <th>PointingTargetIndex</th>\n      <th>PointingTargetName</th>\n      <th>PointingTargetCondition</th>\n      <th>PointingTargetBuildingId</th>\n      <th>Context</th>\n      <th>Agent</th>\n    </tr>\n  </thead>\n  <tbody>\n    <tr>\n      <th>0</th>\n      <td>4</td>\n      <td>6</td>\n      <td>04_CmA_6_47</td>\n      <td>CmA</td>\n      <td>47</td>\n      <td>True</td>\n      <td>True</td>\n    </tr>\n    <tr>\n      <th>1</th>\n      <td>2</td>\n      <td>2</td>\n      <td>02_CmA_2_41</td>\n      <td>CmA</td>\n      <td>41</td>\n      <td>True</td>\n      <td>True</td>\n    </tr>\n    <tr>\n      <th>2</th>\n      <td>3</td>\n      <td>5</td>\n      <td>03_CmANo_5_2</td>\n      <td>CmANo</td>\n      <td>2</td>\n      <td>True</td>\n      <td>False</td>\n    </tr>\n    <tr>\n      <th>3</th>\n      <td>2</td>\n      <td>3</td>\n      <td>02_CmANo_3_41</td>\n      <td>CmANo</td>\n      <td>41</td>\n      <td>True</td>\n      <td>False</td>\n    </tr>\n    <tr>\n      <th>4</th>\n      <td>3</td>\n      <td>4</td>\n      <td>03_CmA_4_2</td>\n      <td>CmA</td>\n      <td>2</td>\n      <td>True</td>\n      <td>True</td>\n    </tr>\n  </tbody>\n</table>\n</div>"
     },
     "execution_count": 10,
     "metadata": {},
     "output_type": "execute_result"
    }
   ],
   "source": [
    "with open(f'{FILE_PATH}/PointingTargetList_PointingTask.json') as data_file:\n",
    "    df = json.load(data_file)\n",
    "\n",
    "pointing_target = pd.json_normalize(df, max_level=1)\n",
    "pointing_target.head()"
   ],
   "metadata": {
    "collapsed": false,
    "pycharm": {
     "name": "#%%\n"
    }
   }
  },
  {
   "cell_type": "code",
   "execution_count": 11,
   "outputs": [],
   "source": [
    "pointing_target.to_csv(f'{FILE_PATH}/04_pointing_target_info.csv')"
   ],
   "metadata": {
    "collapsed": false,
    "pycharm": {
     "name": "#%%\n"
    }
   }
  },
  {
   "cell_type": "code",
   "execution_count": 12,
   "outputs": [
    {
     "data": {
      "text/plain": "   SpawnPointID      SpawnPointName  SpawnPointCenterWorld.x  \\\n0             9   SP_TaskBuilding_9               366.741425   \n1            30  SP_TaskBuilding_30                38.822807   \n2            38  SP_TaskBuilding_38               -54.884190   \n3             7   SP_TaskBuilding_7              -185.620300   \n4            29  SP_TaskBuilding_29                30.083309   \n\n   SpawnPointCenterWorld.y  SpawnPointCenterWorld.z  \\\n0                -1.029061               109.221771   \n1                 0.351428                53.957973   \n2                -0.080298               235.924225   \n3                -0.395362              -159.597656   \n4                -0.475717               177.916245   \n\n   SpawnPointPositionGlobal.x  SpawnPointPositionGlobal.y  \\\n0                  366.741425                   -1.029061   \n1                   38.822807                    0.351428   \n2                  -54.884186                   -0.080298   \n3                 -185.620300                   -0.395362   \n4                   30.083307                   -0.475717   \n\n   SpawnPointPositionGlobal.z  SpawnPointPositionLocal.x  \\\n0                  109.221771                 366.730011   \n1                   53.957973                  38.820000   \n2                  235.924240                 -54.900002   \n3                 -159.597656                -185.610001   \n4                  177.916245                  30.070000   \n\n   SpawnPointPositionLocal.y  ...  SpawnPointLocalScale.z  \\\n0                     -1.810  ...                     1.0   \n1                      0.350  ...                     1.0   \n2                      0.520  ...                     1.0   \n3                     -0.200  ...                     1.0   \n4                     -0.216  ...                     1.0   \n\n   SpawnPointForwardDirection.x  SpawnPointForwardDirection.y  \\\n0                      0.634623                      0.000233   \n1                      0.011997                     -0.001884   \n2                     -0.919156                     -0.001727   \n3                     -0.500830                      0.000306   \n4                      0.166026                      0.002102   \n\n   SpawnPointForwardDirection.z  SpawnPointUpDirection.x  \\\n0                      0.772822                -0.002700   \n1                      0.999926                -0.002700   \n2                     -0.393891                -0.002700   \n3                     -0.865546                -0.002700   \n4                     -0.986119                -0.003792   \n\n   SpawnPointUpDirection.y  SpawnPointUpDirection.z  \\\n0                 0.999995                 0.001916   \n1                 0.999995                 0.001916   \n2                 0.999995                 0.001916   \n3                 0.999995                 0.001916   \n4                 0.999992                 0.001493   \n\n   SpawnPointRightDirection.x  SpawnPointRightDirection.y  \\\n0                    0.772817                    0.003303   \n1                    0.999924                    0.002723   \n2                   -0.393885                   -0.002825   \n3                   -0.865542                   -0.003297   \n4                   -0.986114                   -0.003491   \n\n   SpawnPointRightDirection.z  \n0                   -0.634621  \n1                   -0.011992  \n2                    0.919155  \n3                    0.500826  \n4                   -0.166033  \n\n[5 rows x 40 columns]",
      "text/html": "<div>\n<style scoped>\n    .dataframe tbody tr th:only-of-type {\n        vertical-align: middle;\n    }\n\n    .dataframe tbody tr th {\n        vertical-align: top;\n    }\n\n    .dataframe thead th {\n        text-align: right;\n    }\n</style>\n<table border=\"1\" class=\"dataframe\">\n  <thead>\n    <tr style=\"text-align: right;\">\n      <th></th>\n      <th>SpawnPointID</th>\n      <th>SpawnPointName</th>\n      <th>SpawnPointCenterWorld.x</th>\n      <th>SpawnPointCenterWorld.y</th>\n      <th>SpawnPointCenterWorld.z</th>\n      <th>SpawnPointPositionGlobal.x</th>\n      <th>SpawnPointPositionGlobal.y</th>\n      <th>SpawnPointPositionGlobal.z</th>\n      <th>SpawnPointPositionLocal.x</th>\n      <th>SpawnPointPositionLocal.y</th>\n      <th>...</th>\n      <th>SpawnPointLocalScale.z</th>\n      <th>SpawnPointForwardDirection.x</th>\n      <th>SpawnPointForwardDirection.y</th>\n      <th>SpawnPointForwardDirection.z</th>\n      <th>SpawnPointUpDirection.x</th>\n      <th>SpawnPointUpDirection.y</th>\n      <th>SpawnPointUpDirection.z</th>\n      <th>SpawnPointRightDirection.x</th>\n      <th>SpawnPointRightDirection.y</th>\n      <th>SpawnPointRightDirection.z</th>\n    </tr>\n  </thead>\n  <tbody>\n    <tr>\n      <th>0</th>\n      <td>9</td>\n      <td>SP_TaskBuilding_9</td>\n      <td>366.741425</td>\n      <td>-1.029061</td>\n      <td>109.221771</td>\n      <td>366.741425</td>\n      <td>-1.029061</td>\n      <td>109.221771</td>\n      <td>366.730011</td>\n      <td>-1.810</td>\n      <td>...</td>\n      <td>1.0</td>\n      <td>0.634623</td>\n      <td>0.000233</td>\n      <td>0.772822</td>\n      <td>-0.002700</td>\n      <td>0.999995</td>\n      <td>0.001916</td>\n      <td>0.772817</td>\n      <td>0.003303</td>\n      <td>-0.634621</td>\n    </tr>\n    <tr>\n      <th>1</th>\n      <td>30</td>\n      <td>SP_TaskBuilding_30</td>\n      <td>38.822807</td>\n      <td>0.351428</td>\n      <td>53.957973</td>\n      <td>38.822807</td>\n      <td>0.351428</td>\n      <td>53.957973</td>\n      <td>38.820000</td>\n      <td>0.350</td>\n      <td>...</td>\n      <td>1.0</td>\n      <td>0.011997</td>\n      <td>-0.001884</td>\n      <td>0.999926</td>\n      <td>-0.002700</td>\n      <td>0.999995</td>\n      <td>0.001916</td>\n      <td>0.999924</td>\n      <td>0.002723</td>\n      <td>-0.011992</td>\n    </tr>\n    <tr>\n      <th>2</th>\n      <td>38</td>\n      <td>SP_TaskBuilding_38</td>\n      <td>-54.884190</td>\n      <td>-0.080298</td>\n      <td>235.924225</td>\n      <td>-54.884186</td>\n      <td>-0.080298</td>\n      <td>235.924240</td>\n      <td>-54.900002</td>\n      <td>0.520</td>\n      <td>...</td>\n      <td>1.0</td>\n      <td>-0.919156</td>\n      <td>-0.001727</td>\n      <td>-0.393891</td>\n      <td>-0.002700</td>\n      <td>0.999995</td>\n      <td>0.001916</td>\n      <td>-0.393885</td>\n      <td>-0.002825</td>\n      <td>0.919155</td>\n    </tr>\n    <tr>\n      <th>3</th>\n      <td>7</td>\n      <td>SP_TaskBuilding_7</td>\n      <td>-185.620300</td>\n      <td>-0.395362</td>\n      <td>-159.597656</td>\n      <td>-185.620300</td>\n      <td>-0.395362</td>\n      <td>-159.597656</td>\n      <td>-185.610001</td>\n      <td>-0.200</td>\n      <td>...</td>\n      <td>1.0</td>\n      <td>-0.500830</td>\n      <td>0.000306</td>\n      <td>-0.865546</td>\n      <td>-0.002700</td>\n      <td>0.999995</td>\n      <td>0.001916</td>\n      <td>-0.865542</td>\n      <td>-0.003297</td>\n      <td>0.500826</td>\n    </tr>\n    <tr>\n      <th>4</th>\n      <td>29</td>\n      <td>SP_TaskBuilding_29</td>\n      <td>30.083309</td>\n      <td>-0.475717</td>\n      <td>177.916245</td>\n      <td>30.083307</td>\n      <td>-0.475717</td>\n      <td>177.916245</td>\n      <td>30.070000</td>\n      <td>-0.216</td>\n      <td>...</td>\n      <td>1.0</td>\n      <td>0.166026</td>\n      <td>0.002102</td>\n      <td>-0.986119</td>\n      <td>-0.003792</td>\n      <td>0.999992</td>\n      <td>0.001493</td>\n      <td>-0.986114</td>\n      <td>-0.003491</td>\n      <td>-0.166033</td>\n    </tr>\n  </tbody>\n</table>\n<p>5 rows × 40 columns</p>\n</div>"
     },
     "execution_count": 12,
     "metadata": {},
     "output_type": "execute_result"
    }
   ],
   "source": [
    "with open(f'{FILE_PATH}/StartingLocationsList_PointingTask.json') as data_file:\n",
    "    df = json.load(data_file)\n",
    "\n",
    "starting_locations = pd.json_normalize(df, max_level=1)\n",
    "starting_locations.head()"
   ],
   "metadata": {
    "collapsed": false,
    "pycharm": {
     "name": "#%%\n"
    }
   }
  },
  {
   "cell_type": "code",
   "execution_count": 13,
   "outputs": [],
   "source": [
    "starting_locations.to_csv(f'{FILE_PATH}/05_starting_locations_info.csv')"
   ],
   "metadata": {
    "collapsed": false,
    "pycharm": {
     "name": "#%%\n"
    }
   }
  },
  {
   "cell_type": "code",
   "execution_count": 9,
   "outputs": [
    {
     "data": {
      "text/plain": "                          name  id forward right  up\n0               TaskBuilding_1   1       z     x   y\n1               TaskBuilding_2   2       z     x   y\n2               TaskBuilding_3   3       z     x   y\n3               TaskBuilding_4   4      -z    -x   y\n4               TaskBuilding_5   5       z     x   y\n5               TaskBuilding_6   6      -x     z   y\n6               TaskBuilding_7   7       z     x   y\n7               TaskBuilding_8   8      -y     x   z\n8               TaskBuilding_9   9       z     x   y\n9   Windmill-TaskBuilding_10_1  10      -y     x   z\n10             TaskBuilding_11  11       z     x   y\n11             TaskBuilding_12  12       z     x   y\n12             TaskBuilding_13  13      -x     z   y\n13             TaskBuilding_14  14      -x     z   y\n14             TaskBuilding_15  15       z     x   y\n15      Church-TaskBuilding_16  16       y     x  -z\n16             TaskBuilding_17  17       z     x   y\n17             TaskBuilding_18  18       z     x   y\n18             TaskBuilding_19  19       z     x   y\n19             TaskBuilding_20  20       z     x   y\n20             TaskBuilding_21  21       z     x   y\n21             TaskBuilding_22  22       z     x   y\n22             TaskBuilding_23  23       z     x   y\n23             TaskBuilding_24  24       z     x   y\n24             TaskBuilding_25  25       z     x   y\n25             TaskBuilding_26  26       z     x   y\n26             TaskBuilding_27  27      -x    -y   z\n27             TaskBuilding_28  28       z     x   y\n28             TaskBuilding_29  29       z     x   y\n29             TaskBuilding_30  30       z     x   y\n30             TaskBuilding_31  31       z     x   y\n31             TaskBuilding_32  32       z     x   y\n32             TaskBuilding_33  33       z     x   y\n33             TaskBuilding_34  34      -x     z   y\n34             TaskBuilding_35  35       z     x   y\n35             TaskBuilding_36  36       z     x   y\n36             TaskBuilding_37  37       z     x   y\n37             TaskBuilding_38  38       z     x   y\n38             TaskBuilding_39  39       z     x   y\n39             TaskBuilding_40  40       z     x   y\n40             TaskBuilding_41  41       z     x   y\n41             TaskBuilding_42  42       y     x  -z\n42             TaskBuilding_43  43       z     x   y\n43             TaskBuilding_44  44       z     x   y\n44             TaskBuilding_45  45       z     x   y\n45             TaskBuilding_46  46       z     x   y\n46             TaskBuilding_47  47      -y     x   z\n47             TaskBuilding_48  48      -z    -x   y\n48    HighSilo-TaskBuilding_49  49       y    -x   z\n49             TaskBuilding_50  50       x    -z   y\n50             TaskBuilding_51  51       z     x   y\n51             TaskBuilding_52  52       z     x   y\n52             TaskBuilding_53  53       z     x   y\n53             TaskBuilding_54  54       z     x   y\n54             TaskBuilding_55  55      -z    -x   y\n55      Castle-TaskBuilding_56  56      -y    -x  -z\n56             Construction_57  57       y    -x   z\n57          BasketballCourt_58  58      -z    -x   y\n58                    Crane_59  59       z    -x   y",
      "text/html": "<div>\n<style scoped>\n    .dataframe tbody tr th:only-of-type {\n        vertical-align: middle;\n    }\n\n    .dataframe tbody tr th {\n        vertical-align: top;\n    }\n\n    .dataframe thead th {\n        text-align: right;\n    }\n</style>\n<table border=\"1\" class=\"dataframe\">\n  <thead>\n    <tr style=\"text-align: right;\">\n      <th></th>\n      <th>name</th>\n      <th>id</th>\n      <th>forward</th>\n      <th>right</th>\n      <th>up</th>\n    </tr>\n  </thead>\n  <tbody>\n    <tr>\n      <th>0</th>\n      <td>TaskBuilding_1</td>\n      <td>1</td>\n      <td>z</td>\n      <td>x</td>\n      <td>y</td>\n    </tr>\n    <tr>\n      <th>1</th>\n      <td>TaskBuilding_2</td>\n      <td>2</td>\n      <td>z</td>\n      <td>x</td>\n      <td>y</td>\n    </tr>\n    <tr>\n      <th>2</th>\n      <td>TaskBuilding_3</td>\n      <td>3</td>\n      <td>z</td>\n      <td>x</td>\n      <td>y</td>\n    </tr>\n    <tr>\n      <th>3</th>\n      <td>TaskBuilding_4</td>\n      <td>4</td>\n      <td>-z</td>\n      <td>-x</td>\n      <td>y</td>\n    </tr>\n    <tr>\n      <th>4</th>\n      <td>TaskBuilding_5</td>\n      <td>5</td>\n      <td>z</td>\n      <td>x</td>\n      <td>y</td>\n    </tr>\n    <tr>\n      <th>5</th>\n      <td>TaskBuilding_6</td>\n      <td>6</td>\n      <td>-x</td>\n      <td>z</td>\n      <td>y</td>\n    </tr>\n    <tr>\n      <th>6</th>\n      <td>TaskBuilding_7</td>\n      <td>7</td>\n      <td>z</td>\n      <td>x</td>\n      <td>y</td>\n    </tr>\n    <tr>\n      <th>7</th>\n      <td>TaskBuilding_8</td>\n      <td>8</td>\n      <td>-y</td>\n      <td>x</td>\n      <td>z</td>\n    </tr>\n    <tr>\n      <th>8</th>\n      <td>TaskBuilding_9</td>\n      <td>9</td>\n      <td>z</td>\n      <td>x</td>\n      <td>y</td>\n    </tr>\n    <tr>\n      <th>9</th>\n      <td>Windmill-TaskBuilding_10_1</td>\n      <td>10</td>\n      <td>-y</td>\n      <td>x</td>\n      <td>z</td>\n    </tr>\n    <tr>\n      <th>10</th>\n      <td>TaskBuilding_11</td>\n      <td>11</td>\n      <td>z</td>\n      <td>x</td>\n      <td>y</td>\n    </tr>\n    <tr>\n      <th>11</th>\n      <td>TaskBuilding_12</td>\n      <td>12</td>\n      <td>z</td>\n      <td>x</td>\n      <td>y</td>\n    </tr>\n    <tr>\n      <th>12</th>\n      <td>TaskBuilding_13</td>\n      <td>13</td>\n      <td>-x</td>\n      <td>z</td>\n      <td>y</td>\n    </tr>\n    <tr>\n      <th>13</th>\n      <td>TaskBuilding_14</td>\n      <td>14</td>\n      <td>-x</td>\n      <td>z</td>\n      <td>y</td>\n    </tr>\n    <tr>\n      <th>14</th>\n      <td>TaskBuilding_15</td>\n      <td>15</td>\n      <td>z</td>\n      <td>x</td>\n      <td>y</td>\n    </tr>\n    <tr>\n      <th>15</th>\n      <td>Church-TaskBuilding_16</td>\n      <td>16</td>\n      <td>y</td>\n      <td>x</td>\n      <td>-z</td>\n    </tr>\n    <tr>\n      <th>16</th>\n      <td>TaskBuilding_17</td>\n      <td>17</td>\n      <td>z</td>\n      <td>x</td>\n      <td>y</td>\n    </tr>\n    <tr>\n      <th>17</th>\n      <td>TaskBuilding_18</td>\n      <td>18</td>\n      <td>z</td>\n      <td>x</td>\n      <td>y</td>\n    </tr>\n    <tr>\n      <th>18</th>\n      <td>TaskBuilding_19</td>\n      <td>19</td>\n      <td>z</td>\n      <td>x</td>\n      <td>y</td>\n    </tr>\n    <tr>\n      <th>19</th>\n      <td>TaskBuilding_20</td>\n      <td>20</td>\n      <td>z</td>\n      <td>x</td>\n      <td>y</td>\n    </tr>\n    <tr>\n      <th>20</th>\n      <td>TaskBuilding_21</td>\n      <td>21</td>\n      <td>z</td>\n      <td>x</td>\n      <td>y</td>\n    </tr>\n    <tr>\n      <th>21</th>\n      <td>TaskBuilding_22</td>\n      <td>22</td>\n      <td>z</td>\n      <td>x</td>\n      <td>y</td>\n    </tr>\n    <tr>\n      <th>22</th>\n      <td>TaskBuilding_23</td>\n      <td>23</td>\n      <td>z</td>\n      <td>x</td>\n      <td>y</td>\n    </tr>\n    <tr>\n      <th>23</th>\n      <td>TaskBuilding_24</td>\n      <td>24</td>\n      <td>z</td>\n      <td>x</td>\n      <td>y</td>\n    </tr>\n    <tr>\n      <th>24</th>\n      <td>TaskBuilding_25</td>\n      <td>25</td>\n      <td>z</td>\n      <td>x</td>\n      <td>y</td>\n    </tr>\n    <tr>\n      <th>25</th>\n      <td>TaskBuilding_26</td>\n      <td>26</td>\n      <td>z</td>\n      <td>x</td>\n      <td>y</td>\n    </tr>\n    <tr>\n      <th>26</th>\n      <td>TaskBuilding_27</td>\n      <td>27</td>\n      <td>-x</td>\n      <td>-y</td>\n      <td>z</td>\n    </tr>\n    <tr>\n      <th>27</th>\n      <td>TaskBuilding_28</td>\n      <td>28</td>\n      <td>z</td>\n      <td>x</td>\n      <td>y</td>\n    </tr>\n    <tr>\n      <th>28</th>\n      <td>TaskBuilding_29</td>\n      <td>29</td>\n      <td>z</td>\n      <td>x</td>\n      <td>y</td>\n    </tr>\n    <tr>\n      <th>29</th>\n      <td>TaskBuilding_30</td>\n      <td>30</td>\n      <td>z</td>\n      <td>x</td>\n      <td>y</td>\n    </tr>\n    <tr>\n      <th>30</th>\n      <td>TaskBuilding_31</td>\n      <td>31</td>\n      <td>z</td>\n      <td>x</td>\n      <td>y</td>\n    </tr>\n    <tr>\n      <th>31</th>\n      <td>TaskBuilding_32</td>\n      <td>32</td>\n      <td>z</td>\n      <td>x</td>\n      <td>y</td>\n    </tr>\n    <tr>\n      <th>32</th>\n      <td>TaskBuilding_33</td>\n      <td>33</td>\n      <td>z</td>\n      <td>x</td>\n      <td>y</td>\n    </tr>\n    <tr>\n      <th>33</th>\n      <td>TaskBuilding_34</td>\n      <td>34</td>\n      <td>-x</td>\n      <td>z</td>\n      <td>y</td>\n    </tr>\n    <tr>\n      <th>34</th>\n      <td>TaskBuilding_35</td>\n      <td>35</td>\n      <td>z</td>\n      <td>x</td>\n      <td>y</td>\n    </tr>\n    <tr>\n      <th>35</th>\n      <td>TaskBuilding_36</td>\n      <td>36</td>\n      <td>z</td>\n      <td>x</td>\n      <td>y</td>\n    </tr>\n    <tr>\n      <th>36</th>\n      <td>TaskBuilding_37</td>\n      <td>37</td>\n      <td>z</td>\n      <td>x</td>\n      <td>y</td>\n    </tr>\n    <tr>\n      <th>37</th>\n      <td>TaskBuilding_38</td>\n      <td>38</td>\n      <td>z</td>\n      <td>x</td>\n      <td>y</td>\n    </tr>\n    <tr>\n      <th>38</th>\n      <td>TaskBuilding_39</td>\n      <td>39</td>\n      <td>z</td>\n      <td>x</td>\n      <td>y</td>\n    </tr>\n    <tr>\n      <th>39</th>\n      <td>TaskBuilding_40</td>\n      <td>40</td>\n      <td>z</td>\n      <td>x</td>\n      <td>y</td>\n    </tr>\n    <tr>\n      <th>40</th>\n      <td>TaskBuilding_41</td>\n      <td>41</td>\n      <td>z</td>\n      <td>x</td>\n      <td>y</td>\n    </tr>\n    <tr>\n      <th>41</th>\n      <td>TaskBuilding_42</td>\n      <td>42</td>\n      <td>y</td>\n      <td>x</td>\n      <td>-z</td>\n    </tr>\n    <tr>\n      <th>42</th>\n      <td>TaskBuilding_43</td>\n      <td>43</td>\n      <td>z</td>\n      <td>x</td>\n      <td>y</td>\n    </tr>\n    <tr>\n      <th>43</th>\n      <td>TaskBuilding_44</td>\n      <td>44</td>\n      <td>z</td>\n      <td>x</td>\n      <td>y</td>\n    </tr>\n    <tr>\n      <th>44</th>\n      <td>TaskBuilding_45</td>\n      <td>45</td>\n      <td>z</td>\n      <td>x</td>\n      <td>y</td>\n    </tr>\n    <tr>\n      <th>45</th>\n      <td>TaskBuilding_46</td>\n      <td>46</td>\n      <td>z</td>\n      <td>x</td>\n      <td>y</td>\n    </tr>\n    <tr>\n      <th>46</th>\n      <td>TaskBuilding_47</td>\n      <td>47</td>\n      <td>-y</td>\n      <td>x</td>\n      <td>z</td>\n    </tr>\n    <tr>\n      <th>47</th>\n      <td>TaskBuilding_48</td>\n      <td>48</td>\n      <td>-z</td>\n      <td>-x</td>\n      <td>y</td>\n    </tr>\n    <tr>\n      <th>48</th>\n      <td>HighSilo-TaskBuilding_49</td>\n      <td>49</td>\n      <td>y</td>\n      <td>-x</td>\n      <td>z</td>\n    </tr>\n    <tr>\n      <th>49</th>\n      <td>TaskBuilding_50</td>\n      <td>50</td>\n      <td>x</td>\n      <td>-z</td>\n      <td>y</td>\n    </tr>\n    <tr>\n      <th>50</th>\n      <td>TaskBuilding_51</td>\n      <td>51</td>\n      <td>z</td>\n      <td>x</td>\n      <td>y</td>\n    </tr>\n    <tr>\n      <th>51</th>\n      <td>TaskBuilding_52</td>\n      <td>52</td>\n      <td>z</td>\n      <td>x</td>\n      <td>y</td>\n    </tr>\n    <tr>\n      <th>52</th>\n      <td>TaskBuilding_53</td>\n      <td>53</td>\n      <td>z</td>\n      <td>x</td>\n      <td>y</td>\n    </tr>\n    <tr>\n      <th>53</th>\n      <td>TaskBuilding_54</td>\n      <td>54</td>\n      <td>z</td>\n      <td>x</td>\n      <td>y</td>\n    </tr>\n    <tr>\n      <th>54</th>\n      <td>TaskBuilding_55</td>\n      <td>55</td>\n      <td>-z</td>\n      <td>-x</td>\n      <td>y</td>\n    </tr>\n    <tr>\n      <th>55</th>\n      <td>Castle-TaskBuilding_56</td>\n      <td>56</td>\n      <td>-y</td>\n      <td>-x</td>\n      <td>-z</td>\n    </tr>\n    <tr>\n      <th>56</th>\n      <td>Construction_57</td>\n      <td>57</td>\n      <td>y</td>\n      <td>-x</td>\n      <td>z</td>\n    </tr>\n    <tr>\n      <th>57</th>\n      <td>BasketballCourt_58</td>\n      <td>58</td>\n      <td>-z</td>\n      <td>-x</td>\n      <td>y</td>\n    </tr>\n    <tr>\n      <th>58</th>\n      <td>Crane_59</td>\n      <td>59</td>\n      <td>z</td>\n      <td>-x</td>\n      <td>y</td>\n    </tr>\n  </tbody>\n</table>\n</div>"
     },
     "execution_count": 9,
     "metadata": {},
     "output_type": "execute_result"
    }
   ],
   "source": [
    "pd.read_csv(f'{FILE_PATH}/06_building_anomalies_humanA.csv')"
   ],
   "metadata": {
    "collapsed": false,
    "pycharm": {
     "name": "#%%\n"
    }
   }
  }
 ],
 "metadata": {
  "kernelspec": {
   "display_name": "Python 3",
   "language": "python",
   "name": "python3"
  },
  "language_info": {
   "codemirror_mode": {
    "name": "ipython",
    "version": 2
   },
   "file_extension": ".py",
   "mimetype": "text/x-python",
   "name": "python",
   "nbconvert_exporter": "python",
   "pygments_lexer": "ipython2",
   "version": "2.7.6"
  }
 },
 "nbformat": 4,
 "nbformat_minor": 0
}