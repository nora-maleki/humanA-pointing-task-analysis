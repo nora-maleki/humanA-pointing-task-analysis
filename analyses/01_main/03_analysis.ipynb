{
 "cells": [
  {
   "cell_type": "markdown",
   "source": [
    "# Analysis of the effect of starting locations on angular error in HumanA\n",
    "author: Nora Maleki (noora.maleki@gmail.com)\n",
    "April 2022"
   ],
   "metadata": {
    "collapsed": false
   }
  },
  {
   "cell_type": "code",
   "execution_count": 101,
   "metadata": {
    "collapsed": true
   },
   "outputs": [],
   "source": [
    "import numpy as np\n",
    "import pandas as pd\n",
    "import matplotlib.pyplot as plt\n",
    "import seaborn as sns\n",
    "import os\n",
    "import statsmodels.api as sm\n",
    "import statsmodels.formula.api as smf\n",
    "\n",
    "import scipy.stats as stats\n",
    "import researchpy as rp\n"
   ]
  },
  {
   "cell_type": "code",
   "execution_count": 102,
   "outputs": [],
   "source": [
    "colorblind_palette = ['#2d004b', '#5ab4ac', '#b2182b', '#8c510a','#4575b4','#8073ac']\n",
    "sns.set_theme(font_scale=1, palette=colorblind_palette, style='darkgrid')"
   ],
   "metadata": {
    "collapsed": false,
    "pycharm": {
     "name": "#%%\n"
    }
   }
  },
  {
   "cell_type": "markdown",
   "source": [
    "## Load data"
   ],
   "metadata": {
    "collapsed": false
   }
  },
  {
   "cell_type": "code",
   "execution_count": 103,
   "outputs": [],
   "source": [
    "FILE_PATH = r'../../data/01_main'\n",
    "PLOT_PATH = f'{FILE_PATH}/plots/analysis/'\n",
    "\n",
    "os.makedirs(os.path.dirname(PLOT_PATH), exist_ok=True)"
   ],
   "metadata": {
    "collapsed": false,
    "pycharm": {
     "name": "#%%\n"
    }
   }
  },
  {
   "cell_type": "code",
   "execution_count": 104,
   "outputs": [
    {
     "data": {
      "text/plain": "   subject_id  body_pos_x  body_pos_z  pointer_pos_x  pointer_pos_z  \\\n0         365 -114.329147 -139.997375    -114.236984    -139.696228   \n1         365  -65.669235 -159.945099     -65.474716    -159.710205   \n2         365   38.849380   53.547638      38.471634      53.516281   \n3         365   38.880081   53.564148      38.700195      53.581047   \n4         365  110.754181  196.522675     110.428146     196.550751   \n\n   pointer_dir_x  pointer_dir_z  building_center_z  building_center_x  \\\n0      -0.055459       0.989548          53.288437         -72.578285   \n1       0.072550       0.992235          53.288437         -72.578285   \n2      -0.993265      -0.112792          53.288437         -72.578285   \n3      -0.995648      -0.065598          53.288437         -72.578285   \n4      -0.941145      -0.321944          53.288437         -72.578285   \n\n   human_agent  ...  moved_target_position_z  target_to_x_180  dir_to_x_180  \\\n0           46  ...               193.285812        77.811048     93.207763   \n1           46  ...               213.233536        91.855810     85.818077   \n2           46  ...                -0.259201      -179.866720   -173.521430   \n3           46  ...                -0.275711      -179.858270   -176.230517   \n4           46  ...              -143.234238      -142.000152   -161.115388   \n\n   target_to_x_360 dir_to_x_360 final_180_angles  final_360_angles  \\\n0        77.811048    93.207763        15.396716         15.396716   \n1        91.855810    85.818077        -6.037733        353.962267   \n2       180.133280   186.478570         6.345290          6.345290   \n3       180.141730   183.769483         3.627752          3.627752   \n4       217.999848   198.884612       -19.115237        340.884763   \n\n   rounded_180_angles rounded_360_angles absolute_180_angles  \n0                15.0               15.0           15.396716  \n1                -6.0              354.0            6.037733  \n2                 6.0                6.0            6.345290  \n3                 4.0                4.0            3.627752  \n4               -19.0              341.0           19.115237  \n\n[5 rows x 37 columns]",
      "text/html": "<div>\n<style scoped>\n    .dataframe tbody tr th:only-of-type {\n        vertical-align: middle;\n    }\n\n    .dataframe tbody tr th {\n        vertical-align: top;\n    }\n\n    .dataframe thead th {\n        text-align: right;\n    }\n</style>\n<table border=\"1\" class=\"dataframe\">\n  <thead>\n    <tr style=\"text-align: right;\">\n      <th></th>\n      <th>subject_id</th>\n      <th>body_pos_x</th>\n      <th>body_pos_z</th>\n      <th>pointer_pos_x</th>\n      <th>pointer_pos_z</th>\n      <th>pointer_dir_x</th>\n      <th>pointer_dir_z</th>\n      <th>building_center_z</th>\n      <th>building_center_x</th>\n      <th>human_agent</th>\n      <th>...</th>\n      <th>moved_target_position_z</th>\n      <th>target_to_x_180</th>\n      <th>dir_to_x_180</th>\n      <th>target_to_x_360</th>\n      <th>dir_to_x_360</th>\n      <th>final_180_angles</th>\n      <th>final_360_angles</th>\n      <th>rounded_180_angles</th>\n      <th>rounded_360_angles</th>\n      <th>absolute_180_angles</th>\n    </tr>\n  </thead>\n  <tbody>\n    <tr>\n      <th>0</th>\n      <td>365</td>\n      <td>-114.329147</td>\n      <td>-139.997375</td>\n      <td>-114.236984</td>\n      <td>-139.696228</td>\n      <td>-0.055459</td>\n      <td>0.989548</td>\n      <td>53.288437</td>\n      <td>-72.578285</td>\n      <td>46</td>\n      <td>...</td>\n      <td>193.285812</td>\n      <td>77.811048</td>\n      <td>93.207763</td>\n      <td>77.811048</td>\n      <td>93.207763</td>\n      <td>15.396716</td>\n      <td>15.396716</td>\n      <td>15.0</td>\n      <td>15.0</td>\n      <td>15.396716</td>\n    </tr>\n    <tr>\n      <th>1</th>\n      <td>365</td>\n      <td>-65.669235</td>\n      <td>-159.945099</td>\n      <td>-65.474716</td>\n      <td>-159.710205</td>\n      <td>0.072550</td>\n      <td>0.992235</td>\n      <td>53.288437</td>\n      <td>-72.578285</td>\n      <td>46</td>\n      <td>...</td>\n      <td>213.233536</td>\n      <td>91.855810</td>\n      <td>85.818077</td>\n      <td>91.855810</td>\n      <td>85.818077</td>\n      <td>-6.037733</td>\n      <td>353.962267</td>\n      <td>-6.0</td>\n      <td>354.0</td>\n      <td>6.037733</td>\n    </tr>\n    <tr>\n      <th>2</th>\n      <td>365</td>\n      <td>38.849380</td>\n      <td>53.547638</td>\n      <td>38.471634</td>\n      <td>53.516281</td>\n      <td>-0.993265</td>\n      <td>-0.112792</td>\n      <td>53.288437</td>\n      <td>-72.578285</td>\n      <td>46</td>\n      <td>...</td>\n      <td>-0.259201</td>\n      <td>-179.866720</td>\n      <td>-173.521430</td>\n      <td>180.133280</td>\n      <td>186.478570</td>\n      <td>6.345290</td>\n      <td>6.345290</td>\n      <td>6.0</td>\n      <td>6.0</td>\n      <td>6.345290</td>\n    </tr>\n    <tr>\n      <th>3</th>\n      <td>365</td>\n      <td>38.880081</td>\n      <td>53.564148</td>\n      <td>38.700195</td>\n      <td>53.581047</td>\n      <td>-0.995648</td>\n      <td>-0.065598</td>\n      <td>53.288437</td>\n      <td>-72.578285</td>\n      <td>46</td>\n      <td>...</td>\n      <td>-0.275711</td>\n      <td>-179.858270</td>\n      <td>-176.230517</td>\n      <td>180.141730</td>\n      <td>183.769483</td>\n      <td>3.627752</td>\n      <td>3.627752</td>\n      <td>4.0</td>\n      <td>4.0</td>\n      <td>3.627752</td>\n    </tr>\n    <tr>\n      <th>4</th>\n      <td>365</td>\n      <td>110.754181</td>\n      <td>196.522675</td>\n      <td>110.428146</td>\n      <td>196.550751</td>\n      <td>-0.941145</td>\n      <td>-0.321944</td>\n      <td>53.288437</td>\n      <td>-72.578285</td>\n      <td>46</td>\n      <td>...</td>\n      <td>-143.234238</td>\n      <td>-142.000152</td>\n      <td>-161.115388</td>\n      <td>217.999848</td>\n      <td>198.884612</td>\n      <td>-19.115237</td>\n      <td>340.884763</td>\n      <td>-19.0</td>\n      <td>341.0</td>\n      <td>19.115237</td>\n    </tr>\n  </tbody>\n</table>\n<p>5 rows × 37 columns</p>\n</div>"
     },
     "execution_count": 104,
     "metadata": {},
     "output_type": "execute_result"
    }
   ],
   "source": [
    "df_cleaned = pd.read_csv(f'{FILE_PATH}/07_preprocessed.csv')\n",
    "df_cleaned.head()"
   ],
   "metadata": {
    "collapsed": false,
    "pycharm": {
     "name": "#%%\n"
    }
   }
  },
  {
   "cell_type": "markdown",
   "source": [
    "## Linear Mixed Effects Models"
   ],
   "metadata": {
    "collapsed": false
   }
  },
  {
   "cell_type": "code",
   "execution_count": 105,
   "outputs": [
    {
     "name": "stdout",
     "output_type": "stream",
     "text": [
      "<class 'pandas.core.frame.DataFrame'>\n",
      "RangeIndex: 7708 entries, 0 to 7707\n",
      "Data columns (total 7 columns):\n",
      " #   Column                 Non-Null Count  Dtype   \n",
      "---  ------                 --------------  -----   \n",
      " 0   absolute_180_angles    7708 non-null   float64 \n",
      " 1   RT                     7708 non-null   float64 \n",
      " 2   distance_to_target     7708 non-null   float64 \n",
      " 3   subject_id             7708 non-null   category\n",
      " 4   starting_loc_id        7708 non-null   category\n",
      " 5   human_agent            7708 non-null   category\n",
      " 6   trial_id_per_location  7708 non-null   category\n",
      "dtypes: category(4), float64(3)\n",
      "memory usage: 215.8 KB\n"
     ]
    }
   ],
   "source": [
    "lmm_df = (df_cleaned[['absolute_180_angles', 'RT', 'distance_to_target']]\n",
    "           .assign(subject_id=df_cleaned.subject_id.astype('category'),\n",
    "                   starting_loc_id=df_cleaned.starting_loc_id.astype('category'),\n",
    "                   human_agent=df_cleaned.human_agent.astype('category'),\n",
    "                   trial_id_per_location=df_cleaned.trial_id_per_location.astype('category')\n",
    "                   ))\n",
    "\n",
    "lmm_df.info()"
   ],
   "metadata": {
    "collapsed": false,
    "pycharm": {
     "name": "#%%\n"
    }
   }
  },
  {
   "cell_type": "code",
   "execution_count": 106,
   "outputs": [
    {
     "data": {
      "text/plain": "23"
     },
     "execution_count": 106,
     "metadata": {},
     "output_type": "execute_result"
    }
   ],
   "source": [
    "N = lmm_df.subject_id.nunique()\n",
    "N"
   ],
   "metadata": {
    "collapsed": false,
    "pycharm": {
     "name": "#%%\n"
    }
   }
  },
  {
   "cell_type": "code",
   "execution_count": 107,
   "outputs": [
    {
     "name": "stdout",
     "output_type": "stream",
     "text": [
      "Variable: absolute_180_angles    Data Type: float64 \n",
      "\n",
      " Number of Obs.: 7708 \n",
      " Number of missing obs.: 0 \n",
      " Percent missing: 0.0 \n",
      " Number of unique values: 7708 \n",
      "\n",
      " Range: [0.0098611111833122, 179.98338618386344] \n",
      " Mean: 48.08 \n",
      " Standard Deviation: 44.3 \n",
      " Mode: 0.0098611111833122 \n",
      " 10th Percentile: 4.061728074435263 \n",
      " 25th Percentile: 12.864763109725658 \n",
      " 50th Percentile: 33.697730978897454 \n",
      " 75th Percentile: 71.5482171723512 \n",
      " 90th Percentile: 117.0012642321176 \n",
      "\n",
      "\n",
      "\n",
      "\n",
      "\n",
      "Variable: RT    Data Type: float64 \n",
      "\n",
      " Number of Obs.: 7708 \n",
      " Number of missing obs.: 0 \n",
      " Percent missing: 0.0 \n",
      " Number of unique values: 7684 \n",
      "\n",
      " Range: [0.955792665481567, 29.289794206619263] \n",
      " Mean: 7.77 \n",
      " Standard Deviation: 5.56 \n",
      " Mode: 1.3769052028656 \n",
      " 10th Percentile: 2.431258296966553 \n",
      " 25th Percentile: 3.621542990207672 \n",
      " 50th Percentile: 6.063600659370422 \n",
      " 75th Percentile: 10.153734385967253 \n",
      " 90th Percentile: 15.809007906913761 \n",
      "\n",
      "\n",
      "\n",
      "\n",
      "\n",
      "Variable: distance_to_target    Data Type: float64 \n",
      "\n",
      " Number of Obs.: 7708 \n",
      " Number of missing obs.: 0 \n",
      " Percent missing: 0.0 \n",
      " Number of unique values: 7708 \n",
      "\n",
      " Range: [21.578343424291063, 738.7762677401834] \n",
      " Mean: 289.5 \n",
      " Standard Deviation: 139.74 \n",
      " Mode: 21.578343424291063 \n",
      " 10th Percentile: 112.78507026553272 \n",
      " 25th Percentile: 181.58538825512704 \n",
      " 50th Percentile: 273.0258922949297 \n",
      " 75th Percentile: 384.9367608798304 \n",
      " 90th Percentile: 482.8398499579443 \n",
      "\n",
      "\n",
      "\n",
      "\n",
      "\n",
      "Variable: subject_id    Data Type: category \n",
      "\n",
      " Number of Obs.: 7708 \n",
      " Number of missing obs.: 0 \n",
      " Percent missing: 0.0 \n",
      " Number of unique values: 23 \n",
      "\n",
      " Data Values and Counts: \n",
      " \n",
      "  Values  Frequency\n",
      "    365        333\n",
      "    479        336\n",
      "   1754        336\n",
      "   2258        336\n",
      "   3246        336\n",
      "   3572        335\n",
      "   3976        335\n",
      "   4176        336\n",
      "   4796        336\n",
      "   5238        329\n",
      "   5531        336\n",
      "   5741        335\n",
      "   6642        336\n",
      "   7093        335\n",
      "   7264        336\n",
      "   7412        335\n",
      "   7842        334\n",
      "   8007        336\n",
      "   8469        336\n",
      "   8695        334\n",
      "   9472        336\n",
      "   9502        336\n",
      "   9601        335\n",
      "\n",
      "\n",
      "\n",
      "\n",
      "Variable: starting_loc_id    Data Type: category \n",
      "\n",
      " Number of Obs.: 7708 \n",
      " Number of missing obs.: 0 \n",
      " Percent missing: 0.0 \n",
      " Number of unique values: 28 \n",
      "\n",
      " Data Values and Counts: \n",
      " \n",
      "  Values  Frequency\n",
      "      1        276\n",
      "      2        276\n",
      "      4        276\n",
      "      5        276\n",
      "      7        274\n",
      "      9        276\n",
      "     14        276\n",
      "     18        274\n",
      "     19        276\n",
      "     20        276\n",
      "     21        274\n",
      "     25        276\n",
      "     29        276\n",
      "     30        275\n",
      "     34        275\n",
      "     35        272\n",
      "     36        276\n",
      "     37        276\n",
      "     38        276\n",
      "     40        276\n",
      "     43        276\n",
      "     44        276\n",
      "     45        275\n",
      "     51        276\n",
      "     52        274\n",
      "     54        273\n",
      "     55        275\n",
      "     58        275\n",
      "\n",
      "\n",
      "\n",
      "\n",
      "Variable: human_agent    Data Type: category \n",
      "\n",
      " Number of Obs.: 7708 \n",
      " Number of missing obs.: 0 \n",
      " Percent missing: 0.0 \n",
      " Number of unique values: 56 \n",
      "\n",
      " Data Values and Counts: \n",
      " \n",
      "  Values  Frequency\n",
      "      1        155\n",
      "      2        132\n",
      "      3        137\n",
      "      4        137\n",
      "      5        144\n",
      "      6        124\n",
      "      7        144\n",
      "      8        137\n",
      "      9        115\n",
      "     10        143\n",
      "     11        133\n",
      "     12        147\n",
      "     13        139\n",
      "     14        141\n",
      "     15        138\n",
      "     16        167\n",
      "     17        138\n",
      "     18        122\n",
      "     19        125\n",
      "     20        129\n",
      "     21        151\n",
      "     22        145\n",
      "     23        142\n",
      "     24        108\n",
      "     25        126\n",
      "     26        136\n",
      "     27        153\n",
      "     28        132\n",
      "     29        134\n",
      "     30        117\n",
      "     31        142\n",
      "     32        123\n",
      "     33        165\n",
      "     34        136\n",
      "     35        147\n",
      "     36        127\n",
      "     37        135\n",
      "     38        136\n",
      "     39        129\n",
      "     40        135\n",
      "     41        160\n",
      "     42        128\n",
      "     43        139\n",
      "     44        121\n",
      "     45        140\n",
      "     46        138\n",
      "     47        142\n",
      "     48        146\n",
      "     49        122\n",
      "     50        145\n",
      "     51        149\n",
      "     52        160\n",
      "     53        136\n",
      "     54        144\n",
      "     55        126\n",
      "     56        146\n",
      "\n",
      "\n",
      "\n",
      "\n",
      "Variable: trial_id_per_location    Data Type: category \n",
      "\n",
      " Number of Obs.: 7708 \n",
      " Number of missing obs.: 0 \n",
      " Percent missing: 0.0 \n",
      " Number of unique values: 12 \n",
      "\n",
      " Data Values and Counts: \n",
      " \n",
      "  Values  Frequency\n",
      "      1        634\n",
      "      2        642\n",
      "      3        643\n",
      "      4        644\n",
      "      5        643\n",
      "      6        643\n",
      "      7        643\n",
      "      8        644\n",
      "      9        643\n",
      "     10        643\n",
      "     11        642\n",
      "     12        644\n",
      "\n",
      "\n",
      "\n",
      "\n"
     ]
    }
   ],
   "source": [
    "rp.codebook(lmm_df)"
   ],
   "metadata": {
    "collapsed": false,
    "pycharm": {
     "name": "#%%\n"
    }
   }
  },
  {
   "cell_type": "code",
   "execution_count": 108,
   "outputs": [
    {
     "name": "stdout",
     "output_type": "stream",
     "text": [
      "\n",
      "\n"
     ]
    },
    {
     "data": {
      "text/plain": "                   N     Mean       SD      SE  95% Conf.  Interval\nstarting_loc_id                                                    \n1                276  46.7310  41.6004  2.5041    41.8014   51.6605\n2                276  33.5257  30.9483  1.8629    29.8584   37.1930\n4                276  45.7968  43.7805  2.6353    40.6089   50.9846\n5                276  62.7748  51.2321  3.0838    56.7040   68.8457\n7                274  38.7264  39.5038  2.3865    34.0281   43.4247\n9                276  27.5027  26.7153  1.6081    24.3370   30.6684\n14               276  41.3706  40.0602  2.4113    36.6236   46.1176\n18               274  51.9744  48.8015  2.9482    46.1703   57.7786\n19               276  43.0256  42.7547  2.5735    37.9593   48.0920\n20               276  48.0658  41.1517  2.4770    43.1894   52.9422\n21               274  45.1841  43.9356  2.6542    39.9587   50.4095\n25               276  39.2105  35.4404  2.1333    35.0109   43.4101\n29               276  56.8525  48.1531  2.8985    51.1465   62.5585\n30               275  59.6341  52.7650  3.1819    53.3701   65.8980\n34               275  47.0189  40.5075  2.4427    42.2100   51.8277\n35               272  65.2838  54.8018  3.3228    58.7419   71.8256\n36               276  48.9842  42.7402  2.5727    43.9196   54.0488\n37               276  47.1165  39.8367  2.3979    42.3959   51.8370\n38               276  39.2249  31.3367  1.8862    35.5116   42.9382\n40               276  51.1918  44.6000  2.6846    45.9068   56.4768\n43               276  51.9477  46.7182  2.8121    46.4117   57.4836\n44               276  45.7279  41.9330  2.5241    40.7590   50.6969\n45               275  45.2855  43.6882  2.6345    40.0991   50.4720\n51               276  48.4309  34.0405  2.0490    44.3972   52.4646\n52               274  60.9253  51.3694  3.1033    54.8158   67.0348\n54               273  35.7667  36.3543  2.2003    31.4350   40.0984\n55               275  52.3203  47.8827  2.8874    46.6359   58.0047\n58               275  66.8480  56.0122  3.3777    60.1985   73.4974",
      "text/html": "<div>\n<style scoped>\n    .dataframe tbody tr th:only-of-type {\n        vertical-align: middle;\n    }\n\n    .dataframe tbody tr th {\n        vertical-align: top;\n    }\n\n    .dataframe thead th {\n        text-align: right;\n    }\n</style>\n<table border=\"1\" class=\"dataframe\">\n  <thead>\n    <tr style=\"text-align: right;\">\n      <th></th>\n      <th>N</th>\n      <th>Mean</th>\n      <th>SD</th>\n      <th>SE</th>\n      <th>95% Conf.</th>\n      <th>Interval</th>\n    </tr>\n    <tr>\n      <th>starting_loc_id</th>\n      <th></th>\n      <th></th>\n      <th></th>\n      <th></th>\n      <th></th>\n      <th></th>\n    </tr>\n  </thead>\n  <tbody>\n    <tr>\n      <th>1</th>\n      <td>276</td>\n      <td>46.7310</td>\n      <td>41.6004</td>\n      <td>2.5041</td>\n      <td>41.8014</td>\n      <td>51.6605</td>\n    </tr>\n    <tr>\n      <th>2</th>\n      <td>276</td>\n      <td>33.5257</td>\n      <td>30.9483</td>\n      <td>1.8629</td>\n      <td>29.8584</td>\n      <td>37.1930</td>\n    </tr>\n    <tr>\n      <th>4</th>\n      <td>276</td>\n      <td>45.7968</td>\n      <td>43.7805</td>\n      <td>2.6353</td>\n      <td>40.6089</td>\n      <td>50.9846</td>\n    </tr>\n    <tr>\n      <th>5</th>\n      <td>276</td>\n      <td>62.7748</td>\n      <td>51.2321</td>\n      <td>3.0838</td>\n      <td>56.7040</td>\n      <td>68.8457</td>\n    </tr>\n    <tr>\n      <th>7</th>\n      <td>274</td>\n      <td>38.7264</td>\n      <td>39.5038</td>\n      <td>2.3865</td>\n      <td>34.0281</td>\n      <td>43.4247</td>\n    </tr>\n    <tr>\n      <th>9</th>\n      <td>276</td>\n      <td>27.5027</td>\n      <td>26.7153</td>\n      <td>1.6081</td>\n      <td>24.3370</td>\n      <td>30.6684</td>\n    </tr>\n    <tr>\n      <th>14</th>\n      <td>276</td>\n      <td>41.3706</td>\n      <td>40.0602</td>\n      <td>2.4113</td>\n      <td>36.6236</td>\n      <td>46.1176</td>\n    </tr>\n    <tr>\n      <th>18</th>\n      <td>274</td>\n      <td>51.9744</td>\n      <td>48.8015</td>\n      <td>2.9482</td>\n      <td>46.1703</td>\n      <td>57.7786</td>\n    </tr>\n    <tr>\n      <th>19</th>\n      <td>276</td>\n      <td>43.0256</td>\n      <td>42.7547</td>\n      <td>2.5735</td>\n      <td>37.9593</td>\n      <td>48.0920</td>\n    </tr>\n    <tr>\n      <th>20</th>\n      <td>276</td>\n      <td>48.0658</td>\n      <td>41.1517</td>\n      <td>2.4770</td>\n      <td>43.1894</td>\n      <td>52.9422</td>\n    </tr>\n    <tr>\n      <th>21</th>\n      <td>274</td>\n      <td>45.1841</td>\n      <td>43.9356</td>\n      <td>2.6542</td>\n      <td>39.9587</td>\n      <td>50.4095</td>\n    </tr>\n    <tr>\n      <th>25</th>\n      <td>276</td>\n      <td>39.2105</td>\n      <td>35.4404</td>\n      <td>2.1333</td>\n      <td>35.0109</td>\n      <td>43.4101</td>\n    </tr>\n    <tr>\n      <th>29</th>\n      <td>276</td>\n      <td>56.8525</td>\n      <td>48.1531</td>\n      <td>2.8985</td>\n      <td>51.1465</td>\n      <td>62.5585</td>\n    </tr>\n    <tr>\n      <th>30</th>\n      <td>275</td>\n      <td>59.6341</td>\n      <td>52.7650</td>\n      <td>3.1819</td>\n      <td>53.3701</td>\n      <td>65.8980</td>\n    </tr>\n    <tr>\n      <th>34</th>\n      <td>275</td>\n      <td>47.0189</td>\n      <td>40.5075</td>\n      <td>2.4427</td>\n      <td>42.2100</td>\n      <td>51.8277</td>\n    </tr>\n    <tr>\n      <th>35</th>\n      <td>272</td>\n      <td>65.2838</td>\n      <td>54.8018</td>\n      <td>3.3228</td>\n      <td>58.7419</td>\n      <td>71.8256</td>\n    </tr>\n    <tr>\n      <th>36</th>\n      <td>276</td>\n      <td>48.9842</td>\n      <td>42.7402</td>\n      <td>2.5727</td>\n      <td>43.9196</td>\n      <td>54.0488</td>\n    </tr>\n    <tr>\n      <th>37</th>\n      <td>276</td>\n      <td>47.1165</td>\n      <td>39.8367</td>\n      <td>2.3979</td>\n      <td>42.3959</td>\n      <td>51.8370</td>\n    </tr>\n    <tr>\n      <th>38</th>\n      <td>276</td>\n      <td>39.2249</td>\n      <td>31.3367</td>\n      <td>1.8862</td>\n      <td>35.5116</td>\n      <td>42.9382</td>\n    </tr>\n    <tr>\n      <th>40</th>\n      <td>276</td>\n      <td>51.1918</td>\n      <td>44.6000</td>\n      <td>2.6846</td>\n      <td>45.9068</td>\n      <td>56.4768</td>\n    </tr>\n    <tr>\n      <th>43</th>\n      <td>276</td>\n      <td>51.9477</td>\n      <td>46.7182</td>\n      <td>2.8121</td>\n      <td>46.4117</td>\n      <td>57.4836</td>\n    </tr>\n    <tr>\n      <th>44</th>\n      <td>276</td>\n      <td>45.7279</td>\n      <td>41.9330</td>\n      <td>2.5241</td>\n      <td>40.7590</td>\n      <td>50.6969</td>\n    </tr>\n    <tr>\n      <th>45</th>\n      <td>275</td>\n      <td>45.2855</td>\n      <td>43.6882</td>\n      <td>2.6345</td>\n      <td>40.0991</td>\n      <td>50.4720</td>\n    </tr>\n    <tr>\n      <th>51</th>\n      <td>276</td>\n      <td>48.4309</td>\n      <td>34.0405</td>\n      <td>2.0490</td>\n      <td>44.3972</td>\n      <td>52.4646</td>\n    </tr>\n    <tr>\n      <th>52</th>\n      <td>274</td>\n      <td>60.9253</td>\n      <td>51.3694</td>\n      <td>3.1033</td>\n      <td>54.8158</td>\n      <td>67.0348</td>\n    </tr>\n    <tr>\n      <th>54</th>\n      <td>273</td>\n      <td>35.7667</td>\n      <td>36.3543</td>\n      <td>2.2003</td>\n      <td>31.4350</td>\n      <td>40.0984</td>\n    </tr>\n    <tr>\n      <th>55</th>\n      <td>275</td>\n      <td>52.3203</td>\n      <td>47.8827</td>\n      <td>2.8874</td>\n      <td>46.6359</td>\n      <td>58.0047</td>\n    </tr>\n    <tr>\n      <th>58</th>\n      <td>275</td>\n      <td>66.8480</td>\n      <td>56.0122</td>\n      <td>3.3777</td>\n      <td>60.1985</td>\n      <td>73.4974</td>\n    </tr>\n  </tbody>\n</table>\n</div>"
     },
     "execution_count": 108,
     "metadata": {},
     "output_type": "execute_result"
    }
   ],
   "source": [
    "rp.summary_cont(lmm_df.groupby(['starting_loc_id',])['absolute_180_angles'])"
   ],
   "metadata": {
    "collapsed": false,
    "pycharm": {
     "name": "#%%\n"
    }
   }
  },
  {
   "cell_type": "code",
   "execution_count": 109,
   "outputs": [
    {
     "data": {
      "text/plain": "<Figure size 504x432 with 2 Axes>",
      "image/png": "[encoded data removed]"
     },
     "metadata": {},
     "output_type": "display_data"
    }
   ],
   "source": [
    "fig, axes = plt.subplots(figsize = (7, 6))\n",
    "\n",
    "sns.heatmap(\n",
    "    data=(lmm_df\n",
    "          .rename(columns={'absolute_180_angles' : 'angular error',\n",
    "                           'distance_to_target' : 'target distance'})\n",
    "          .corr()),\n",
    "    annot = True,\n",
    "    fmt='.2g',\n",
    "    cmap= 'coolwarm'\n",
    ")\n",
    "\n",
    "plt.suptitle(t='Correlation matrix', size=16, x=.45)\n",
    "\n",
    "plt.show()\n",
    "\n",
    "fig.savefig(f'{PLOT_PATH}/correlation_matrix_{N}.png', bbox_inches='tight', dpi=90)"
   ],
   "metadata": {
    "collapsed": false,
    "pycharm": {
     "name": "#%%\n"
    }
   }
  },
  {
   "cell_type": "markdown",
   "source": [
    "### Predicting `angular error` based on `starting location`"
   ],
   "metadata": {
    "collapsed": false
   }
  },
  {
   "cell_type": "code",
   "execution_count": 110,
   "outputs": [
    {
     "ename": "MemoryError",
     "evalue": "Unable to allocate 18.8 MiB for an array with shape (1569, 1569) and data type float64",
     "output_type": "error",
     "traceback": [
      "\u001B[1;31m---------------------------------------------------------------------------\u001B[0m",
      "\u001B[1;31mMemoryError\u001B[0m                               Traceback (most recent call last)",
      "Input \u001B[1;32mIn [110]\u001B[0m, in \u001B[0;36m<cell line: 3>\u001B[1;34m()\u001B[0m\n\u001B[0;32m      1\u001B[0m formula \u001B[38;5;241m=\u001B[39m \u001B[38;5;124m'\u001B[39m\u001B[38;5;124mnp.log(absolute_180_angles) ~ C(starting_loc_id, Treatment(reference=27)) + C(human_agent) + C(starting_loc_id, Treatment(reference=27)):C(human_agent)\u001B[39m\u001B[38;5;124m'\u001B[39m\n\u001B[1;32m----> 3\u001B[0m model_LM \u001B[38;5;241m=\u001B[39m \u001B[43msmf\u001B[49m\u001B[38;5;241;43m.\u001B[39;49m\u001B[43mmixedlm\u001B[49m\u001B[43m(\u001B[49m\u001B[43mformula\u001B[49m\u001B[43m \u001B[49m\u001B[38;5;241;43m=\u001B[39;49m\u001B[43m \u001B[49m\u001B[43mformula\u001B[49m\u001B[43m,\u001B[49m\u001B[43m \u001B[49m\u001B[43mdata\u001B[49m\u001B[43m \u001B[49m\u001B[38;5;241;43m=\u001B[39;49m\u001B[43m \u001B[49m\u001B[43mlmm_df\u001B[49m\u001B[43m,\u001B[49m\u001B[43m \u001B[49m\u001B[43mgroups\u001B[49m\u001B[38;5;241;43m=\u001B[39;49m\u001B[38;5;124;43m'\u001B[39;49m\u001B[38;5;124;43msubject_id\u001B[39;49m\u001B[38;5;124;43m'\u001B[39;49m\u001B[43m)\u001B[49m\u001B[38;5;241m.\u001B[39mfit()\n\u001B[0;32m      4\u001B[0m \u001B[38;5;28mprint\u001B[39m(model_LM\u001B[38;5;241m.\u001B[39msummary())\n",
      "File \u001B[1;32m~\\anaconda3\\envs\\scipy\\lib\\site-packages\\statsmodels\\regression\\mixed_linear_model.py:1046\u001B[0m, in \u001B[0;36mMixedLM.from_formula\u001B[1;34m(cls, formula, data, re_formula, vc_formula, subset, use_sparse, missing, *args, **kwargs)\u001B[0m\n\u001B[0;32m   1044\u001B[0m kwargs[\u001B[38;5;124m\"\u001B[39m\u001B[38;5;124mexog_vc\u001B[39m\u001B[38;5;124m\"\u001B[39m] \u001B[38;5;241m=\u001B[39m exog_vc\n\u001B[0;32m   1045\u001B[0m kwargs[\u001B[38;5;124m\"\u001B[39m\u001B[38;5;124mgroups\u001B[39m\u001B[38;5;124m\"\u001B[39m] \u001B[38;5;241m=\u001B[39m groups\n\u001B[1;32m-> 1046\u001B[0m mod \u001B[38;5;241m=\u001B[39m \u001B[38;5;28;43msuper\u001B[39;49m\u001B[43m(\u001B[49m\u001B[43mMixedLM\u001B[49m\u001B[43m,\u001B[49m\u001B[43m \u001B[49m\u001B[38;5;28;43mcls\u001B[39;49m\u001B[43m)\u001B[49m\u001B[38;5;241;43m.\u001B[39;49m\u001B[43mfrom_formula\u001B[49m\u001B[43m(\u001B[49m\n\u001B[0;32m   1047\u001B[0m \u001B[43m    \u001B[49m\u001B[43mformula\u001B[49m\u001B[43m,\u001B[49m\u001B[43m \u001B[49m\u001B[43mdata\u001B[49m\u001B[43m,\u001B[49m\u001B[43m \u001B[49m\u001B[38;5;241;43m*\u001B[39;49m\u001B[43margs\u001B[49m\u001B[43m,\u001B[49m\u001B[43m \u001B[49m\u001B[38;5;241;43m*\u001B[39;49m\u001B[38;5;241;43m*\u001B[39;49m\u001B[43mkwargs\u001B[49m\u001B[43m)\u001B[49m\n\u001B[0;32m   1049\u001B[0m \u001B[38;5;66;03m# expand re names to account for pairs of RE\u001B[39;00m\n\u001B[0;32m   1050\u001B[0m (param_names,\n\u001B[0;32m   1051\u001B[0m  exog_re_names,\n\u001B[0;32m   1052\u001B[0m  exog_re_names_full) \u001B[38;5;241m=\u001B[39m mod\u001B[38;5;241m.\u001B[39m_make_param_names(exog_re_names)\n",
      "File \u001B[1;32m~\\anaconda3\\envs\\scipy\\lib\\site-packages\\statsmodels\\base\\model.py:226\u001B[0m, in \u001B[0;36mModel.from_formula\u001B[1;34m(cls, formula, data, subset, drop_cols, *args, **kwargs)\u001B[0m\n\u001B[0;32m    220\u001B[0m         design_info \u001B[38;5;241m=\u001B[39m design_info\u001B[38;5;241m.\u001B[39msubset(cols)\n\u001B[0;32m    222\u001B[0m kwargs\u001B[38;5;241m.\u001B[39mupdate({\u001B[38;5;124m'\u001B[39m\u001B[38;5;124mmissing_idx\u001B[39m\u001B[38;5;124m'\u001B[39m: missing_idx,\n\u001B[0;32m    223\u001B[0m                \u001B[38;5;124m'\u001B[39m\u001B[38;5;124mmissing\u001B[39m\u001B[38;5;124m'\u001B[39m: missing,\n\u001B[0;32m    224\u001B[0m                \u001B[38;5;124m'\u001B[39m\u001B[38;5;124mformula\u001B[39m\u001B[38;5;124m'\u001B[39m: formula,  \u001B[38;5;66;03m# attach formula for unpckling\u001B[39;00m\n\u001B[0;32m    225\u001B[0m                \u001B[38;5;124m'\u001B[39m\u001B[38;5;124mdesign_info\u001B[39m\u001B[38;5;124m'\u001B[39m: design_info})\n\u001B[1;32m--> 226\u001B[0m mod \u001B[38;5;241m=\u001B[39m \u001B[38;5;28;43mcls\u001B[39;49m\u001B[43m(\u001B[49m\u001B[43mendog\u001B[49m\u001B[43m,\u001B[49m\u001B[43m \u001B[49m\u001B[43mexog\u001B[49m\u001B[43m,\u001B[49m\u001B[43m \u001B[49m\u001B[38;5;241;43m*\u001B[39;49m\u001B[43margs\u001B[49m\u001B[43m,\u001B[49m\u001B[43m \u001B[49m\u001B[38;5;241;43m*\u001B[39;49m\u001B[38;5;241;43m*\u001B[39;49m\u001B[43mkwargs\u001B[49m\u001B[43m)\u001B[49m\n\u001B[0;32m    227\u001B[0m mod\u001B[38;5;241m.\u001B[39mformula \u001B[38;5;241m=\u001B[39m formula\n\u001B[0;32m    228\u001B[0m \u001B[38;5;66;03m# since we got a dataframe, attach the original\u001B[39;00m\n",
      "File \u001B[1;32m~\\anaconda3\\envs\\scipy\\lib\\site-packages\\statsmodels\\regression\\mixed_linear_model.py:833\u001B[0m, in \u001B[0;36mMixedLM.__init__\u001B[1;34m(self, endog, exog, groups, exog_re, exog_vc, use_sqrt, missing, **kwargs)\u001B[0m\n\u001B[0;32m    830\u001B[0m     \u001B[38;5;28mself\u001B[39m\u001B[38;5;241m.\u001B[39m_aex_r2\u001B[38;5;241m.\u001B[39mappend(ma)\n\u001B[0;32m    832\u001B[0m \u001B[38;5;66;03m# Precompute this\u001B[39;00m\n\u001B[1;32m--> 833\u001B[0m \u001B[38;5;28mself\u001B[39m\u001B[38;5;241m.\u001B[39m_lin, \u001B[38;5;28mself\u001B[39m\u001B[38;5;241m.\u001B[39m_quad \u001B[38;5;241m=\u001B[39m \u001B[38;5;28;43mself\u001B[39;49m\u001B[38;5;241;43m.\u001B[39;49m\u001B[43m_reparam\u001B[49m\u001B[43m(\u001B[49m\u001B[43m)\u001B[49m\n",
      "File \u001B[1;32m~\\anaconda3\\envs\\scipy\\lib\\site-packages\\statsmodels\\regression\\mixed_linear_model.py:1386\u001B[0m, in \u001B[0;36mMixedLM._reparam\u001B[1;34m(self)\u001B[0m\n\u001B[0;32m   1384\u001B[0m \u001B[38;5;66;03m# Quadratic terms for fixed effects.\u001B[39;00m\n\u001B[0;32m   1385\u001B[0m \u001B[38;5;28;01mfor\u001B[39;00m k \u001B[38;5;129;01min\u001B[39;00m \u001B[38;5;28mrange\u001B[39m(k_tot):\n\u001B[1;32m-> 1386\u001B[0m     quad\u001B[38;5;241m.\u001B[39mappend(\u001B[43mnp\u001B[49m\u001B[38;5;241;43m.\u001B[39;49m\u001B[43mzeros\u001B[49m\u001B[43m(\u001B[49m\u001B[43m(\u001B[49m\u001B[43mk_tot\u001B[49m\u001B[43m,\u001B[49m\u001B[43m \u001B[49m\u001B[43mk_tot\u001B[49m\u001B[43m)\u001B[49m\u001B[43m)\u001B[49m)\n\u001B[0;32m   1388\u001B[0m \u001B[38;5;66;03m# Quadratic terms for random effects covariance.\u001B[39;00m\n\u001B[0;32m   1389\u001B[0m ii \u001B[38;5;241m=\u001B[39m np\u001B[38;5;241m.\u001B[39mtril_indices(k_re)\n",
      "\u001B[1;31mMemoryError\u001B[0m: Unable to allocate 18.8 MiB for an array with shape (1569, 1569) and data type float64"
     ]
    }
   ],
   "source": [
    "formula = 'np.log(absolute_180_angles) ~ C(starting_loc_id, Treatment(reference=27)) + C(human_agent) + C(starting_loc_id, Treatment(reference=27)):C(human_agent)'\n",
    "\n",
    "model_LM = smf.mixedlm(formula = formula, data = lmm_df, groups='subject_id').fit()\n",
    "print(model_LM.summary())"
   ],
   "metadata": {
    "collapsed": false,
    "pycharm": {
     "name": "#%%\n"
    }
   }
  },
  {
   "cell_type": "code",
   "execution_count": 95,
   "outputs": [
    {
     "name": "stdout",
     "output_type": "stream",
     "text": [
      "                           Mixed Linear Model Regression Results\n",
      "============================================================================================\n",
      "Model:                   MixedLM       Dependent Variable:       np.log(absolute_180_angles)\n",
      "No. Observations:        7708          Method:                   REML                       \n",
      "No. Groups:              23            Scale:                    1.7064                     \n",
      "Min. group size:         329           Log-Likelihood:           -13067.5123                \n",
      "Max. group size:         336           Converged:                Yes                        \n",
      "Mean group size:         335.1                                                              \n",
      "--------------------------------------------------------------------------------------------\n",
      "                                                  Coef.  Std.Err.   z    P>|z| [0.025 0.975]\n",
      "--------------------------------------------------------------------------------------------\n",
      "Intercept                                          3.580    0.118 30.384 0.000  3.349  3.811\n",
      "C(starting_loc_id, Treatment(reference=27))[T.1]  -0.297    0.111 -2.670 0.008 -0.515 -0.079\n",
      "C(starting_loc_id, Treatment(reference=27))[T.2]  -0.637    0.111 -5.724 0.000 -0.855 -0.419\n",
      "C(starting_loc_id, Treatment(reference=27))[T.4]  -0.463    0.111 -4.163 0.000 -0.681 -0.245\n",
      "C(starting_loc_id, Treatment(reference=27))[T.5]   0.036    0.111  0.323 0.746 -0.182  0.254\n",
      "C(starting_loc_id, Treatment(reference=27))[T.7]  -0.590    0.112 -5.293 0.000 -0.809 -0.372\n",
      "C(starting_loc_id, Treatment(reference=27))[T.9]  -0.864    0.111 -7.764 0.000 -1.082 -0.646\n",
      "C(starting_loc_id, Treatment(reference=27))[T.14] -0.498    0.111 -4.473 0.000 -0.716 -0.280\n",
      "C(starting_loc_id, Treatment(reference=27))[T.18] -0.320    0.112 -2.871 0.004 -0.539 -0.102\n",
      "C(starting_loc_id, Treatment(reference=27))[T.19] -0.546    0.111 -4.903 0.000 -0.764 -0.328\n",
      "C(starting_loc_id, Treatment(reference=27))[T.20] -0.254    0.111 -2.286 0.022 -0.473 -0.036\n",
      "C(starting_loc_id, Treatment(reference=27))[T.21] -0.463    0.112 -4.155 0.000 -0.682 -0.245\n",
      "C(starting_loc_id, Treatment(reference=27))[T.25] -0.520    0.111 -4.671 0.000 -0.738 -0.302\n",
      "C(starting_loc_id, Treatment(reference=27))[T.29] -0.089    0.111 -0.796 0.426 -0.307  0.130\n",
      "C(starting_loc_id, Treatment(reference=27))[T.30] -0.124    0.111 -1.111 0.267 -0.342  0.095\n",
      "C(starting_loc_id, Treatment(reference=27))[T.34] -0.245    0.111 -2.197 0.028 -0.463 -0.026\n",
      "C(starting_loc_id, Treatment(reference=27))[T.35] -0.028    0.112 -0.250 0.803 -0.247  0.191\n",
      "C(starting_loc_id, Treatment(reference=27))[T.36] -0.289    0.111 -2.595 0.009 -0.507 -0.071\n",
      "C(starting_loc_id, Treatment(reference=27))[T.37] -0.329    0.111 -2.958 0.003 -0.547 -0.111\n",
      "C(starting_loc_id, Treatment(reference=27))[T.38] -0.364    0.111 -3.275 0.001 -0.583 -0.146\n",
      "C(starting_loc_id, Treatment(reference=27))[T.40] -0.238    0.111 -2.138 0.033 -0.456 -0.020\n",
      "C(starting_loc_id, Treatment(reference=27))[T.43] -0.191    0.111 -1.713 0.087 -0.409  0.027\n",
      "C(starting_loc_id, Treatment(reference=27))[T.44] -0.412    0.111 -3.700 0.000 -0.630 -0.194\n",
      "C(starting_loc_id, Treatment(reference=27))[T.45] -0.363    0.111 -3.258 0.001 -0.581 -0.145\n",
      "C(starting_loc_id, Treatment(reference=27))[T.51] -0.072    0.111 -0.650 0.516 -0.290  0.146\n",
      "C(starting_loc_id, Treatment(reference=27))[T.52] -0.116    0.112 -1.042 0.298 -0.335  0.102\n",
      "C(starting_loc_id, Treatment(reference=27))[T.54] -0.666    0.112 -5.966 0.000 -0.885 -0.447\n",
      "C(starting_loc_id, Treatment(reference=27))[T.55] -0.229    0.111 -2.055 0.040 -0.447 -0.011\n",
      "subject_id Var                                     0.177    0.042                           \n",
      "============================================================================================\n",
      "\n"
     ]
    }
   ],
   "source": [
    "formula = 'np.log(absolute_180_angles) ~ C(starting_loc_id, Treatment(reference=27))'\n",
    "\n",
    "model_LM = smf.mixedlm(formula = formula, data = lmm_df, groups='subject_id').fit()\n",
    "print(model_LM.summary())"
   ],
   "metadata": {
    "collapsed": false,
    "pycharm": {
     "name": "#%%\n"
    }
   }
  },
  {
   "cell_type": "code",
   "execution_count": 53,
   "outputs": [
    {
     "data": {
      "text/plain": "<Figure size 432x288 with 1 Axes>",
      "image/png": "[encoded data removed]"
     },
     "metadata": {},
     "output_type": "display_data"
    }
   ],
   "source": [
    "sns.kdeplot(model_LM.resid, shade='fill', palette='Crest', alpha=.5, linewidth=0)\n",
    "plt.show()"
   ],
   "metadata": {
    "collapsed": false,
    "pycharm": {
     "name": "#%%\n"
    }
   }
  },
  {
   "cell_type": "markdown",
   "source": [
    "### Predicting `angular error` based on `starting location` and `distance to target`"
   ],
   "metadata": {
    "collapsed": false,
    "pycharm": {
     "name": "#%% md\n"
    }
   }
  },
  {
   "cell_type": "code",
   "execution_count": 54,
   "outputs": [
    {
     "name": "stdout",
     "output_type": "stream",
     "text": [
      "                           Mixed Linear Model Regression Results\n",
      "============================================================================================\n",
      "Model:                   MixedLM       Dependent Variable:       np.log(absolute_180_angles)\n",
      "No. Observations:        7708          Method:                   REML                       \n",
      "No. Groups:              23            Scale:                    1.7065                     \n",
      "Min. group size:         329           Log-Likelihood:           -13075.3181                \n",
      "Max. group size:         336           Converged:                Yes                        \n",
      "Mean group size:         335.1                                                              \n",
      "--------------------------------------------------------------------------------------------\n",
      "                                                  Coef.  Std.Err.   z    P>|z| [0.025 0.975]\n",
      "--------------------------------------------------------------------------------------------\n",
      "Intercept                                          3.558    0.121 29.472 0.000  3.321  3.795\n",
      "C(starting_loc_id, Treatment(reference=27))[T.1]  -0.307    0.112 -2.741 0.006 -0.526 -0.087\n",
      "C(starting_loc_id, Treatment(reference=27))[T.2]  -0.647    0.112 -5.780 0.000 -0.866 -0.427\n",
      "C(starting_loc_id, Treatment(reference=27))[T.4]  -0.466    0.111 -4.187 0.000 -0.685 -0.248\n",
      "C(starting_loc_id, Treatment(reference=27))[T.5]   0.038    0.111  0.342 0.732 -0.180  0.256\n",
      "C(starting_loc_id, Treatment(reference=27))[T.7]  -0.598    0.112 -5.344 0.000 -0.817 -0.379\n",
      "C(starting_loc_id, Treatment(reference=27))[T.9]  -0.881    0.113 -7.792 0.000 -1.103 -0.659\n",
      "C(starting_loc_id, Treatment(reference=27))[T.14] -0.505    0.112 -4.522 0.000 -0.723 -0.286\n",
      "C(starting_loc_id, Treatment(reference=27))[T.18] -0.325    0.112 -2.913 0.004 -0.544 -0.106\n",
      "C(starting_loc_id, Treatment(reference=27))[T.19] -0.551    0.111 -4.943 0.000 -0.770 -0.333\n",
      "C(starting_loc_id, Treatment(reference=27))[T.20] -0.260    0.112 -2.332 0.020 -0.479 -0.042\n",
      "C(starting_loc_id, Treatment(reference=27))[T.21] -0.467    0.112 -4.188 0.000 -0.686 -0.249\n",
      "C(starting_loc_id, Treatment(reference=27))[T.25] -0.526    0.112 -4.717 0.000 -0.745 -0.308\n",
      "C(starting_loc_id, Treatment(reference=27))[T.29] -0.091    0.111 -0.821 0.412 -0.310  0.127\n",
      "C(starting_loc_id, Treatment(reference=27))[T.30] -0.123    0.111 -1.102 0.271 -0.341  0.096\n",
      "C(starting_loc_id, Treatment(reference=27))[T.34] -0.247    0.111 -2.217 0.027 -0.465 -0.029\n",
      "C(starting_loc_id, Treatment(reference=27))[T.35] -0.027    0.112 -0.239 0.811 -0.246  0.192\n",
      "C(starting_loc_id, Treatment(reference=27))[T.36] -0.292    0.111 -2.625 0.009 -0.511 -0.074\n",
      "C(starting_loc_id, Treatment(reference=27))[T.37] -0.335    0.112 -3.003 0.003 -0.553 -0.116\n",
      "C(starting_loc_id, Treatment(reference=27))[T.38] -0.372    0.112 -3.330 0.001 -0.591 -0.153\n",
      "C(starting_loc_id, Treatment(reference=27))[T.40] -0.240    0.111 -2.159 0.031 -0.459 -0.022\n",
      "C(starting_loc_id, Treatment(reference=27))[T.43] -0.192    0.111 -1.725 0.085 -0.410  0.026\n",
      "C(starting_loc_id, Treatment(reference=27))[T.44] -0.416    0.111 -3.734 0.000 -0.634 -0.198\n",
      "C(starting_loc_id, Treatment(reference=27))[T.45] -0.370    0.112 -3.314 0.001 -0.589 -0.151\n",
      "C(starting_loc_id, Treatment(reference=27))[T.51] -0.085    0.112 -0.760 0.447 -0.306  0.135\n",
      "C(starting_loc_id, Treatment(reference=27))[T.52] -0.123    0.112 -1.104 0.270 -0.343  0.096\n",
      "C(starting_loc_id, Treatment(reference=27))[T.54] -0.680    0.113 -6.025 0.000 -0.902 -0.459\n",
      "C(starting_loc_id, Treatment(reference=27))[T.55] -0.242    0.112 -2.149 0.032 -0.462 -0.021\n",
      "distance_to_target                                 0.000    0.000  0.846 0.398 -0.000  0.000\n",
      "Group Var                                          0.177    0.042                           \n",
      "============================================================================================\n",
      "\n"
     ]
    }
   ],
   "source": [
    "formula = 'np.log(absolute_180_angles) ~ C(starting_loc_id, Treatment(reference=27)) + distance_to_target'\n",
    "\n",
    "# Define and fit a linear regression model\n",
    "model_LM = smf.mixedlm(formula = formula, data = lmer_df, groups='subject_id').fit()\n",
    "print(model_LM.summary())"
   ],
   "metadata": {
    "collapsed": false,
    "pycharm": {
     "name": "#%%\n"
    }
   }
  },
  {
   "cell_type": "code",
   "execution_count": 55,
   "outputs": [
    {
     "data": {
      "text/plain": "<Figure size 432x288 with 1 Axes>",
      "image/png": "[encoded data removed]"
     },
     "metadata": {},
     "output_type": "display_data"
    }
   ],
   "source": [
    "sns.kdeplot(model_LM.resid, shade='fill', palette='Crest', alpha=.5, linewidth=0)\n",
    "plt.show()"
   ],
   "metadata": {
    "collapsed": false,
    "pycharm": {
     "name": "#%%\n"
    }
   }
  },
  {
   "cell_type": "markdown",
   "source": [
    "### Predicting `angular error` based on `distance to target`"
   ],
   "metadata": {
    "collapsed": false
   }
  },
  {
   "cell_type": "code",
   "execution_count": 56,
   "outputs": [
    {
     "name": "stdout",
     "output_type": "stream",
     "text": [
      "                  Mixed Linear Model Regression Results\n",
      "=========================================================================\n",
      "Model:            MixedLM Dependent Variable: np.log(absolute_180_angles)\n",
      "No. Observations: 7708    Method:             REML                       \n",
      "No. Groups:       23      Scale:              1.7466                     \n",
      "Min. group size:  329     Log-Likelihood:     -13135.9430                \n",
      "Max. group size:  336     Converged:          Yes                        \n",
      "Mean group size:  335.1                                                  \n",
      "---------------------------------------------------------------------------\n",
      "                       Coef.    Std.Err.     z      P>|z|   [0.025   0.975]\n",
      "---------------------------------------------------------------------------\n",
      "Intercept               3.324      0.094   35.342   0.000    3.140    3.509\n",
      "distance_to_target     -0.000      0.000   -2.302   0.021   -0.000   -0.000\n",
      "Group Var               0.176      0.041                                   \n",
      "=========================================================================\n",
      "\n"
     ]
    }
   ],
   "source": [
    "formula = 'np.log(absolute_180_angles) ~ distance_to_target'\n",
    "\n",
    "# Define and fit a linear regression model\n",
    "model_LM = smf.mixedlm(formula = formula, data = lmer_df, groups=lmer_df['subject_id']).fit()\n",
    "print(model_LM.summary())"
   ],
   "metadata": {
    "collapsed": false,
    "pycharm": {
     "name": "#%%\n"
    }
   }
  },
  {
   "cell_type": "code",
   "execution_count": 57,
   "outputs": [
    {
     "data": {
      "text/plain": "<Figure size 432x288 with 1 Axes>",
      "image/png": "[encoded data removed]"
     },
     "metadata": {},
     "output_type": "display_data"
    }
   ],
   "source": [
    "sns.kdeplot(model_LM.resid, shade='fill', palette='Crest', alpha=.5, linewidth=0)\n",
    "plt.show()"
   ],
   "metadata": {
    "collapsed": false,
    "pycharm": {
     "name": "#%%\n"
    }
   }
  }
 ],
 "metadata": {
  "kernelspec": {
   "display_name": "Python 3",
   "language": "python",
   "name": "python3"
  },
  "language_info": {
   "codemirror_mode": {
    "name": "ipython",
    "version": 2
   },
   "file_extension": ".py",
   "mimetype": "text/x-python",
   "name": "python",
   "nbconvert_exporter": "python",
   "pygments_lexer": "ipython2",
   "version": "2.7.6"
  }
 },
 "nbformat": 4,
 "nbformat_minor": 0
}