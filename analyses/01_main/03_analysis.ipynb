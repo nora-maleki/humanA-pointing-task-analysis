{
 "cells": [
  {
   "cell_type": "markdown",
   "source": [
    "# Analysis of the effect of starting locations on angular error in HumanA\n",
    "author: Nora Maleki (noora.maleki@gmail.com)\n",
    "April 2022"
   ],
   "metadata": {
    "collapsed": false
   }
  },
  {
   "cell_type": "code",
   "execution_count": 2,
   "metadata": {
    "collapsed": true
   },
   "outputs": [],
   "source": [
    "import numpy as np\n",
    "import pandas as pd\n",
    "import matplotlib.pyplot as plt\n",
    "import seaborn as sns\n",
    "import os\n",
    "import statsmodels.api as sm\n",
    "import statsmodels.formula.api as smf"
   ]
  },
  {
   "cell_type": "code",
   "execution_count": 3,
   "outputs": [],
   "source": [
    "colorblind_palette = ['#2d004b', '#5ab4ac', '#b2182b', '#8c510a','#4575b4','#8073ac']\n",
    "sns.set_theme(font_scale=1, palette=colorblind_palette, style='darkgrid')"
   ],
   "metadata": {
    "collapsed": false,
    "pycharm": {
     "name": "#%%\n"
    }
   }
  },
  {
   "cell_type": "markdown",
   "source": [
    "## Load data"
   ],
   "metadata": {
    "collapsed": false
   }
  },
  {
   "cell_type": "code",
   "execution_count": 4,
   "outputs": [],
   "source": [
    "FILE_PATH = r'../../data/01_main'\n",
    "PLOT_PATH = f'{FILE_PATH}/plots/analysis/'\n",
    "\n",
    "os.makedirs(os.path.dirname(PLOT_PATH), exist_ok=True)"
   ],
   "metadata": {
    "collapsed": false,
    "pycharm": {
     "name": "#%%\n"
    }
   }
  },
  {
   "cell_type": "code",
   "execution_count": 5,
   "outputs": [
    {
     "data": {
      "text/plain": "   subject_id  body_pos_x  body_pos_z  pointer_pos_x  pointer_pos_z  \\\n0         365 -114.329147 -139.997375    -114.236984    -139.696228   \n1         365  -65.669235 -159.945099     -65.474716    -159.710205   \n2         365   38.849380   53.547638      38.471634      53.516281   \n3         365   38.880081   53.564148      38.700195      53.581047   \n4         365  110.754181  196.522675     110.428146     196.550751   \n\n   pointer_dir_x  pointer_dir_z  building_center_z  building_center_x  \\\n0      -0.055459       0.989548          53.288437         -72.578285   \n1       0.072550       0.992235          53.288437         -72.578285   \n2      -0.993265      -0.112792          53.288437         -72.578285   \n3      -0.995648      -0.065598          53.288437         -72.578285   \n4      -0.941145      -0.321944          53.288437         -72.578285   \n\n   avatar_presence  ...  moved_target_position_z  target_to_x_180  \\\n0             True  ...               193.285812        77.811048   \n1             True  ...               213.233536        91.855810   \n2             True  ...                -0.259201      -179.866720   \n3             True  ...                -0.275711      -179.858270   \n4             True  ...              -143.234238      -142.000152   \n\n   dir_to_x_180 target_to_x_360 dir_to_x_360  final_180_angles  \\\n0     93.207763       77.811048    93.207763         15.396716   \n1     85.818077       91.855810    85.818077         -6.037733   \n2   -173.521430      180.133280   186.478570          6.345290   \n3   -176.230517      180.141730   183.769483          3.627752   \n4   -161.115388      217.999848   198.884612        -19.115237   \n\n   final_360_angles rounded_180_angles rounded_360_angles  absolute_180_angles  \n0         15.396716               15.0               15.0            15.396716  \n1        353.962267               -6.0              354.0             6.037733  \n2          6.345290                6.0                6.0             6.345290  \n3          3.627752                4.0                4.0             3.627752  \n4        340.884763              -19.0              341.0            19.115237  \n\n[5 rows x 36 columns]",
      "text/html": "<div>\n<style scoped>\n    .dataframe tbody tr th:only-of-type {\n        vertical-align: middle;\n    }\n\n    .dataframe tbody tr th {\n        vertical-align: top;\n    }\n\n    .dataframe thead th {\n        text-align: right;\n    }\n</style>\n<table border=\"1\" class=\"dataframe\">\n  <thead>\n    <tr style=\"text-align: right;\">\n      <th></th>\n      <th>subject_id</th>\n      <th>body_pos_x</th>\n      <th>body_pos_z</th>\n      <th>pointer_pos_x</th>\n      <th>pointer_pos_z</th>\n      <th>pointer_dir_x</th>\n      <th>pointer_dir_z</th>\n      <th>building_center_z</th>\n      <th>building_center_x</th>\n      <th>avatar_presence</th>\n      <th>...</th>\n      <th>moved_target_position_z</th>\n      <th>target_to_x_180</th>\n      <th>dir_to_x_180</th>\n      <th>target_to_x_360</th>\n      <th>dir_to_x_360</th>\n      <th>final_180_angles</th>\n      <th>final_360_angles</th>\n      <th>rounded_180_angles</th>\n      <th>rounded_360_angles</th>\n      <th>absolute_180_angles</th>\n    </tr>\n  </thead>\n  <tbody>\n    <tr>\n      <th>0</th>\n      <td>365</td>\n      <td>-114.329147</td>\n      <td>-139.997375</td>\n      <td>-114.236984</td>\n      <td>-139.696228</td>\n      <td>-0.055459</td>\n      <td>0.989548</td>\n      <td>53.288437</td>\n      <td>-72.578285</td>\n      <td>True</td>\n      <td>...</td>\n      <td>193.285812</td>\n      <td>77.811048</td>\n      <td>93.207763</td>\n      <td>77.811048</td>\n      <td>93.207763</td>\n      <td>15.396716</td>\n      <td>15.396716</td>\n      <td>15.0</td>\n      <td>15.0</td>\n      <td>15.396716</td>\n    </tr>\n    <tr>\n      <th>1</th>\n      <td>365</td>\n      <td>-65.669235</td>\n      <td>-159.945099</td>\n      <td>-65.474716</td>\n      <td>-159.710205</td>\n      <td>0.072550</td>\n      <td>0.992235</td>\n      <td>53.288437</td>\n      <td>-72.578285</td>\n      <td>True</td>\n      <td>...</td>\n      <td>213.233536</td>\n      <td>91.855810</td>\n      <td>85.818077</td>\n      <td>91.855810</td>\n      <td>85.818077</td>\n      <td>-6.037733</td>\n      <td>353.962267</td>\n      <td>-6.0</td>\n      <td>354.0</td>\n      <td>6.037733</td>\n    </tr>\n    <tr>\n      <th>2</th>\n      <td>365</td>\n      <td>38.849380</td>\n      <td>53.547638</td>\n      <td>38.471634</td>\n      <td>53.516281</td>\n      <td>-0.993265</td>\n      <td>-0.112792</td>\n      <td>53.288437</td>\n      <td>-72.578285</td>\n      <td>True</td>\n      <td>...</td>\n      <td>-0.259201</td>\n      <td>-179.866720</td>\n      <td>-173.521430</td>\n      <td>180.133280</td>\n      <td>186.478570</td>\n      <td>6.345290</td>\n      <td>6.345290</td>\n      <td>6.0</td>\n      <td>6.0</td>\n      <td>6.345290</td>\n    </tr>\n    <tr>\n      <th>3</th>\n      <td>365</td>\n      <td>38.880081</td>\n      <td>53.564148</td>\n      <td>38.700195</td>\n      <td>53.581047</td>\n      <td>-0.995648</td>\n      <td>-0.065598</td>\n      <td>53.288437</td>\n      <td>-72.578285</td>\n      <td>True</td>\n      <td>...</td>\n      <td>-0.275711</td>\n      <td>-179.858270</td>\n      <td>-176.230517</td>\n      <td>180.141730</td>\n      <td>183.769483</td>\n      <td>3.627752</td>\n      <td>3.627752</td>\n      <td>4.0</td>\n      <td>4.0</td>\n      <td>3.627752</td>\n    </tr>\n    <tr>\n      <th>4</th>\n      <td>365</td>\n      <td>110.754181</td>\n      <td>196.522675</td>\n      <td>110.428146</td>\n      <td>196.550751</td>\n      <td>-0.941145</td>\n      <td>-0.321944</td>\n      <td>53.288437</td>\n      <td>-72.578285</td>\n      <td>True</td>\n      <td>...</td>\n      <td>-143.234238</td>\n      <td>-142.000152</td>\n      <td>-161.115388</td>\n      <td>217.999848</td>\n      <td>198.884612</td>\n      <td>-19.115237</td>\n      <td>340.884763</td>\n      <td>-19.0</td>\n      <td>341.0</td>\n      <td>19.115237</td>\n    </tr>\n  </tbody>\n</table>\n<p>5 rows × 36 columns</p>\n</div>"
     },
     "execution_count": 5,
     "metadata": {},
     "output_type": "execute_result"
    }
   ],
   "source": [
    "df_cleaned = pd.read_csv(f'{FILE_PATH}/07_preprocessed.csv')\n",
    "df_cleaned.head()"
   ],
   "metadata": {
    "collapsed": false,
    "pycharm": {
     "name": "#%%\n"
    }
   }
  },
  {
   "cell_type": "markdown",
   "source": [
    "## Linear Mixed Effects Models"
   ],
   "metadata": {
    "collapsed": false
   }
  },
  {
   "cell_type": "code",
   "execution_count": 7,
   "outputs": [
    {
     "data": {
      "text/plain": "   absolute_180_angles         RT  subject_id  starting_loc_id  avatar_id  \\\n0            15.396716  25.825715         365               44         46   \n1             6.037733   4.799789         365               36         46   \n2             6.345290   4.638590         365               30         46   \n3             3.627752   2.361455         365               30         46   \n4            19.115237   5.975304         365               19         46   \n\n   distance_to_target  \n0          197.743621  \n1          213.345438  \n2          111.427967  \n3          111.458707  \n4          232.651757  ",
      "text/html": "<div>\n<style scoped>\n    .dataframe tbody tr th:only-of-type {\n        vertical-align: middle;\n    }\n\n    .dataframe tbody tr th {\n        vertical-align: top;\n    }\n\n    .dataframe thead th {\n        text-align: right;\n    }\n</style>\n<table border=\"1\" class=\"dataframe\">\n  <thead>\n    <tr style=\"text-align: right;\">\n      <th></th>\n      <th>absolute_180_angles</th>\n      <th>RT</th>\n      <th>subject_id</th>\n      <th>starting_loc_id</th>\n      <th>avatar_id</th>\n      <th>distance_to_target</th>\n    </tr>\n  </thead>\n  <tbody>\n    <tr>\n      <th>0</th>\n      <td>15.396716</td>\n      <td>25.825715</td>\n      <td>365</td>\n      <td>44</td>\n      <td>46</td>\n      <td>197.743621</td>\n    </tr>\n    <tr>\n      <th>1</th>\n      <td>6.037733</td>\n      <td>4.799789</td>\n      <td>365</td>\n      <td>36</td>\n      <td>46</td>\n      <td>213.345438</td>\n    </tr>\n    <tr>\n      <th>2</th>\n      <td>6.345290</td>\n      <td>4.638590</td>\n      <td>365</td>\n      <td>30</td>\n      <td>46</td>\n      <td>111.427967</td>\n    </tr>\n    <tr>\n      <th>3</th>\n      <td>3.627752</td>\n      <td>2.361455</td>\n      <td>365</td>\n      <td>30</td>\n      <td>46</td>\n      <td>111.458707</td>\n    </tr>\n    <tr>\n      <th>4</th>\n      <td>19.115237</td>\n      <td>5.975304</td>\n      <td>365</td>\n      <td>19</td>\n      <td>46</td>\n      <td>232.651757</td>\n    </tr>\n  </tbody>\n</table>\n</div>"
     },
     "execution_count": 7,
     "metadata": {},
     "output_type": "execute_result"
    }
   ],
   "source": [
    "lmer_df = df_cleaned[['absolute_180_angles', 'RT', 'subject_id', 'starting_loc_id', 'avatar_id', 'distance_to_target']]\n",
    "lmer_df.head()"
   ],
   "metadata": {
    "collapsed": false,
    "pycharm": {
     "name": "#%%\n"
    }
   }
  },
  {
   "cell_type": "markdown",
   "source": [
    "### Predicting `angular error` based on `starting location`"
   ],
   "metadata": {
    "collapsed": false
   }
  },
  {
   "cell_type": "code",
   "execution_count": 52,
   "outputs": [
    {
     "name": "stdout",
     "output_type": "stream",
     "text": [
      "                           Mixed Linear Model Regression Results\n",
      "============================================================================================\n",
      "Model:                   MixedLM       Dependent Variable:       np.log(absolute_180_angles)\n",
      "No. Observations:        7708          Method:                   REML                       \n",
      "No. Groups:              23            Scale:                    1.7064                     \n",
      "Min. group size:         329           Log-Likelihood:           -13067.5123                \n",
      "Max. group size:         336           Converged:                Yes                        \n",
      "Mean group size:         335.1                                                              \n",
      "--------------------------------------------------------------------------------------------\n",
      "                                                  Coef.  Std.Err.   z    P>|z| [0.025 0.975]\n",
      "--------------------------------------------------------------------------------------------\n",
      "Intercept                                          3.580    0.118 30.384 0.000  3.349  3.811\n",
      "C(starting_loc_id, Treatment(reference=27))[T.1]  -0.297    0.111 -2.670 0.008 -0.515 -0.079\n",
      "C(starting_loc_id, Treatment(reference=27))[T.2]  -0.637    0.111 -5.724 0.000 -0.855 -0.419\n",
      "C(starting_loc_id, Treatment(reference=27))[T.4]  -0.463    0.111 -4.163 0.000 -0.681 -0.245\n",
      "C(starting_loc_id, Treatment(reference=27))[T.5]   0.036    0.111  0.323 0.746 -0.182  0.254\n",
      "C(starting_loc_id, Treatment(reference=27))[T.7]  -0.590    0.112 -5.293 0.000 -0.809 -0.372\n",
      "C(starting_loc_id, Treatment(reference=27))[T.9]  -0.864    0.111 -7.764 0.000 -1.082 -0.646\n",
      "C(starting_loc_id, Treatment(reference=27))[T.14] -0.498    0.111 -4.473 0.000 -0.716 -0.280\n",
      "C(starting_loc_id, Treatment(reference=27))[T.18] -0.320    0.112 -2.871 0.004 -0.539 -0.102\n",
      "C(starting_loc_id, Treatment(reference=27))[T.19] -0.546    0.111 -4.903 0.000 -0.764 -0.328\n",
      "C(starting_loc_id, Treatment(reference=27))[T.20] -0.254    0.111 -2.286 0.022 -0.473 -0.036\n",
      "C(starting_loc_id, Treatment(reference=27))[T.21] -0.463    0.112 -4.155 0.000 -0.682 -0.245\n",
      "C(starting_loc_id, Treatment(reference=27))[T.25] -0.520    0.111 -4.671 0.000 -0.738 -0.302\n",
      "C(starting_loc_id, Treatment(reference=27))[T.29] -0.089    0.111 -0.796 0.426 -0.307  0.130\n",
      "C(starting_loc_id, Treatment(reference=27))[T.30] -0.124    0.111 -1.111 0.267 -0.342  0.095\n",
      "C(starting_loc_id, Treatment(reference=27))[T.34] -0.245    0.111 -2.197 0.028 -0.463 -0.026\n",
      "C(starting_loc_id, Treatment(reference=27))[T.35] -0.028    0.112 -0.250 0.803 -0.247  0.191\n",
      "C(starting_loc_id, Treatment(reference=27))[T.36] -0.289    0.111 -2.595 0.009 -0.507 -0.071\n",
      "C(starting_loc_id, Treatment(reference=27))[T.37] -0.329    0.111 -2.958 0.003 -0.547 -0.111\n",
      "C(starting_loc_id, Treatment(reference=27))[T.38] -0.364    0.111 -3.275 0.001 -0.583 -0.146\n",
      "C(starting_loc_id, Treatment(reference=27))[T.40] -0.238    0.111 -2.138 0.033 -0.456 -0.020\n",
      "C(starting_loc_id, Treatment(reference=27))[T.43] -0.191    0.111 -1.713 0.087 -0.409  0.027\n",
      "C(starting_loc_id, Treatment(reference=27))[T.44] -0.412    0.111 -3.700 0.000 -0.630 -0.194\n",
      "C(starting_loc_id, Treatment(reference=27))[T.45] -0.363    0.111 -3.258 0.001 -0.581 -0.145\n",
      "C(starting_loc_id, Treatment(reference=27))[T.51] -0.072    0.111 -0.650 0.516 -0.290  0.146\n",
      "C(starting_loc_id, Treatment(reference=27))[T.52] -0.116    0.112 -1.042 0.298 -0.335  0.102\n",
      "C(starting_loc_id, Treatment(reference=27))[T.54] -0.666    0.112 -5.966 0.000 -0.885 -0.447\n",
      "C(starting_loc_id, Treatment(reference=27))[T.55] -0.229    0.111 -2.055 0.040 -0.447 -0.011\n",
      "Group Var                                          0.177    0.042                           \n",
      "============================================================================================\n",
      "\n"
     ]
    }
   ],
   "source": [
    "formula = 'np.log(absolute_180_angles) ~ C(starting_loc_id, Treatment(reference=27))'\n",
    "\n",
    "model_LM = smf.mixedlm(formula = formula, data = lmer_df, groups=lmer_df['subject_id']).fit()\n",
    "print(model_LM.summary())"
   ],
   "metadata": {
    "collapsed": false,
    "pycharm": {
     "name": "#%%\n"
    }
   }
  },
  {
   "cell_type": "code",
   "execution_count": 53,
   "outputs": [
    {
     "data": {
      "text/plain": "<Figure size 432x288 with 1 Axes>",
      "image/png": "[encoded data removed]"
     },
     "metadata": {},
     "output_type": "display_data"
    }
   ],
   "source": [
    "sns.kdeplot(model_LM.resid, shade='fill', palette='Crest', alpha=.5, linewidth=0)\n",
    "plt.show()"
   ],
   "metadata": {
    "collapsed": false,
    "pycharm": {
     "name": "#%%\n"
    }
   }
  },
  {
   "cell_type": "markdown",
   "source": [
    "### Predicting `angular error` based on `starting location` and `distance to target`"
   ],
   "metadata": {
    "collapsed": false,
    "pycharm": {
     "name": "#%% md\n"
    }
   }
  },
  {
   "cell_type": "code",
   "execution_count": 54,
   "outputs": [
    {
     "name": "stdout",
     "output_type": "stream",
     "text": [
      "                           Mixed Linear Model Regression Results\n",
      "============================================================================================\n",
      "Model:                   MixedLM       Dependent Variable:       np.log(absolute_180_angles)\n",
      "No. Observations:        7708          Method:                   REML                       \n",
      "No. Groups:              23            Scale:                    1.7065                     \n",
      "Min. group size:         329           Log-Likelihood:           -13075.3181                \n",
      "Max. group size:         336           Converged:                Yes                        \n",
      "Mean group size:         335.1                                                              \n",
      "--------------------------------------------------------------------------------------------\n",
      "                                                  Coef.  Std.Err.   z    P>|z| [0.025 0.975]\n",
      "--------------------------------------------------------------------------------------------\n",
      "Intercept                                          3.558    0.121 29.472 0.000  3.321  3.795\n",
      "C(starting_loc_id, Treatment(reference=27))[T.1]  -0.307    0.112 -2.741 0.006 -0.526 -0.087\n",
      "C(starting_loc_id, Treatment(reference=27))[T.2]  -0.647    0.112 -5.780 0.000 -0.866 -0.427\n",
      "C(starting_loc_id, Treatment(reference=27))[T.4]  -0.466    0.111 -4.187 0.000 -0.685 -0.248\n",
      "C(starting_loc_id, Treatment(reference=27))[T.5]   0.038    0.111  0.342 0.732 -0.180  0.256\n",
      "C(starting_loc_id, Treatment(reference=27))[T.7]  -0.598    0.112 -5.344 0.000 -0.817 -0.379\n",
      "C(starting_loc_id, Treatment(reference=27))[T.9]  -0.881    0.113 -7.792 0.000 -1.103 -0.659\n",
      "C(starting_loc_id, Treatment(reference=27))[T.14] -0.505    0.112 -4.522 0.000 -0.723 -0.286\n",
      "C(starting_loc_id, Treatment(reference=27))[T.18] -0.325    0.112 -2.913 0.004 -0.544 -0.106\n",
      "C(starting_loc_id, Treatment(reference=27))[T.19] -0.551    0.111 -4.943 0.000 -0.770 -0.333\n",
      "C(starting_loc_id, Treatment(reference=27))[T.20] -0.260    0.112 -2.332 0.020 -0.479 -0.042\n",
      "C(starting_loc_id, Treatment(reference=27))[T.21] -0.467    0.112 -4.188 0.000 -0.686 -0.249\n",
      "C(starting_loc_id, Treatment(reference=27))[T.25] -0.526    0.112 -4.717 0.000 -0.745 -0.308\n",
      "C(starting_loc_id, Treatment(reference=27))[T.29] -0.091    0.111 -0.821 0.412 -0.310  0.127\n",
      "C(starting_loc_id, Treatment(reference=27))[T.30] -0.123    0.111 -1.102 0.271 -0.341  0.096\n",
      "C(starting_loc_id, Treatment(reference=27))[T.34] -0.247    0.111 -2.217 0.027 -0.465 -0.029\n",
      "C(starting_loc_id, Treatment(reference=27))[T.35] -0.027    0.112 -0.239 0.811 -0.246  0.192\n",
      "C(starting_loc_id, Treatment(reference=27))[T.36] -0.292    0.111 -2.625 0.009 -0.511 -0.074\n",
      "C(starting_loc_id, Treatment(reference=27))[T.37] -0.335    0.112 -3.003 0.003 -0.553 -0.116\n",
      "C(starting_loc_id, Treatment(reference=27))[T.38] -0.372    0.112 -3.330 0.001 -0.591 -0.153\n",
      "C(starting_loc_id, Treatment(reference=27))[T.40] -0.240    0.111 -2.159 0.031 -0.459 -0.022\n",
      "C(starting_loc_id, Treatment(reference=27))[T.43] -0.192    0.111 -1.725 0.085 -0.410  0.026\n",
      "C(starting_loc_id, Treatment(reference=27))[T.44] -0.416    0.111 -3.734 0.000 -0.634 -0.198\n",
      "C(starting_loc_id, Treatment(reference=27))[T.45] -0.370    0.112 -3.314 0.001 -0.589 -0.151\n",
      "C(starting_loc_id, Treatment(reference=27))[T.51] -0.085    0.112 -0.760 0.447 -0.306  0.135\n",
      "C(starting_loc_id, Treatment(reference=27))[T.52] -0.123    0.112 -1.104 0.270 -0.343  0.096\n",
      "C(starting_loc_id, Treatment(reference=27))[T.54] -0.680    0.113 -6.025 0.000 -0.902 -0.459\n",
      "C(starting_loc_id, Treatment(reference=27))[T.55] -0.242    0.112 -2.149 0.032 -0.462 -0.021\n",
      "distance_to_target                                 0.000    0.000  0.846 0.398 -0.000  0.000\n",
      "Group Var                                          0.177    0.042                           \n",
      "============================================================================================\n",
      "\n"
     ]
    }
   ],
   "source": [
    "formula = 'np.log(absolute_180_angles) ~ C(starting_loc_id, Treatment(reference=27)) + distance_to_target'\n",
    "\n",
    "# Define and fit a linear regression model\n",
    "model_LM = smf.mixedlm(formula = formula, data = lmer_df, groups=lmer_df['subject_id']).fit()\n",
    "print(model_LM.summary())"
   ],
   "metadata": {
    "collapsed": false,
    "pycharm": {
     "name": "#%%\n"
    }
   }
  },
  {
   "cell_type": "code",
   "execution_count": 55,
   "outputs": [
    {
     "data": {
      "text/plain": "<Figure size 432x288 with 1 Axes>",
      "image/png": "[encoded data removed]"
     },
     "metadata": {},
     "output_type": "display_data"
    }
   ],
   "source": [
    "sns.kdeplot(model_LM.resid, shade='fill', palette='Crest', alpha=.5, linewidth=0)\n",
    "plt.show()"
   ],
   "metadata": {
    "collapsed": false,
    "pycharm": {
     "name": "#%%\n"
    }
   }
  },
  {
   "cell_type": "markdown",
   "source": [
    "### Predicting `angular error` based on `distance to target`"
   ],
   "metadata": {
    "collapsed": false
   }
  },
  {
   "cell_type": "code",
   "execution_count": 56,
   "outputs": [
    {
     "name": "stdout",
     "output_type": "stream",
     "text": [
      "                  Mixed Linear Model Regression Results\n",
      "=========================================================================\n",
      "Model:            MixedLM Dependent Variable: np.log(absolute_180_angles)\n",
      "No. Observations: 7708    Method:             REML                       \n",
      "No. Groups:       23      Scale:              1.7466                     \n",
      "Min. group size:  329     Log-Likelihood:     -13135.9430                \n",
      "Max. group size:  336     Converged:          Yes                        \n",
      "Mean group size:  335.1                                                  \n",
      "---------------------------------------------------------------------------\n",
      "                       Coef.    Std.Err.     z      P>|z|   [0.025   0.975]\n",
      "---------------------------------------------------------------------------\n",
      "Intercept               3.324      0.094   35.342   0.000    3.140    3.509\n",
      "distance_to_target     -0.000      0.000   -2.302   0.021   -0.000   -0.000\n",
      "Group Var               0.176      0.041                                   \n",
      "=========================================================================\n",
      "\n"
     ]
    }
   ],
   "source": [
    "formula = 'np.log(absolute_180_angles) ~ distance_to_target'\n",
    "\n",
    "# Define and fit a linear regression model\n",
    "model_LM = smf.mixedlm(formula = formula, data = lmer_df, groups=lmer_df['subject_id']).fit()\n",
    "print(model_LM.summary())"
   ],
   "metadata": {
    "collapsed": false,
    "pycharm": {
     "name": "#%%\n"
    }
   }
  },
  {
   "cell_type": "code",
   "execution_count": 57,
   "outputs": [
    {
     "data": {
      "text/plain": "<Figure size 432x288 with 1 Axes>",
      "image/png": "[encoded data removed]"
     },
     "metadata": {},
     "output_type": "display_data"
    }
   ],
   "source": [
    "sns.kdeplot(model_LM.resid, shade='fill', palette='Crest', alpha=.5, linewidth=0)\n",
    "plt.show()"
   ],
   "metadata": {
    "collapsed": false,
    "pycharm": {
     "name": "#%%\n"
    }
   }
  }
 ],
 "metadata": {
  "kernelspec": {
   "display_name": "Python 3",
   "language": "python",
   "name": "python3"
  },
  "language_info": {
   "codemirror_mode": {
    "name": "ipython",
    "version": 2
   },
   "file_extension": ".py",
   "mimetype": "text/x-python",
   "name": "python",
   "nbconvert_exporter": "python",
   "pygments_lexer": "ipython2",
   "version": "2.7.6"
  }
 },
 "nbformat": 4,
 "nbformat_minor": 0
}