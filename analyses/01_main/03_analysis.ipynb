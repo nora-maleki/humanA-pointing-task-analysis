{
 "cells": [
  {
   "cell_type": "markdown",
   "source": [
    "# Analysis of the effect of starting locations on angular error in HumanA\n",
    "author: Nora Maleki (noora.maleki@gmail.com)\n",
    "April 2022"
   ],
   "metadata": {
    "collapsed": false
   }
  },
  {
   "cell_type": "code",
   "execution_count": 2,
   "metadata": {
    "collapsed": true
   },
   "outputs": [],
   "source": [
    "import numpy as np\n",
    "import pandas as pd\n",
    "import matplotlib.pyplot as plt\n",
    "import seaborn as sns\n",
    "import os\n",
    "import statsmodels.api as sm\n",
    "import statsmodels.formula.api as smf"
   ]
  },
  {
   "cell_type": "code",
   "execution_count": 3,
   "outputs": [],
   "source": [
    "colorblind_palette = ['#2d004b', '#5ab4ac', '#b2182b', '#8c510a','#4575b4','#8073ac']\n",
    "sns.set_theme(font_scale=1, palette=colorblind_palette, style='darkgrid')"
   ],
   "metadata": {
    "collapsed": false,
    "pycharm": {
     "name": "#%%\n"
    }
   }
  },
  {
   "cell_type": "markdown",
   "source": [
    "## Load data"
   ],
   "metadata": {
    "collapsed": false
   }
  },
  {
   "cell_type": "code",
   "execution_count": 4,
   "outputs": [],
   "source": [
    "FILE_PATH = r'../../data/01_main'\n",
    "PLOT_PATH = f'{FILE_PATH}/plots/analysis/'\n",
    "\n",
    "os.makedirs(os.path.dirname(PLOT_PATH), exist_ok=True)"
   ],
   "metadata": {
    "collapsed": false,
    "pycharm": {
     "name": "#%%\n"
    }
   }
  },
  {
   "cell_type": "code",
   "execution_count": 5,
   "outputs": [
    {
     "data": {
      "text/plain": "   subject_id  body_pos_x  body_pos_z  pointer_pos_x  pointer_pos_z  \\\n0         365 -114.329147 -139.997375    -114.236984    -139.696228   \n1         365  -65.669235 -159.945099     -65.474716    -159.710205   \n2         365   38.849380   53.547638      38.471634      53.516281   \n3         365   38.880081   53.564148      38.700195      53.581047   \n4         365  110.754181  196.522675     110.428146     196.550751   \n\n   pointer_dir_x  pointer_dir_z  building_center_z  building_center_x  \\\n0      -0.055459       0.989548          53.288437         -72.578285   \n1       0.072550       0.992235          53.288437         -72.578285   \n2      -0.993265      -0.112792          53.288437         -72.578285   \n3      -0.995648      -0.065598          53.288437         -72.578285   \n4      -0.941145      -0.321944          53.288437         -72.578285   \n\n   avatar_presence  ...  moved_target_position_z  target_to_x_180  \\\n0             True  ...               193.285812        77.811048   \n1             True  ...               213.233536        91.855810   \n2             True  ...                -0.259201      -179.866720   \n3             True  ...                -0.275711      -179.858270   \n4             True  ...              -143.234238      -142.000152   \n\n   dir_to_x_180 target_to_x_360 dir_to_x_360  final_180_angles  \\\n0     93.207763       77.811048    93.207763         15.396716   \n1     85.818077       91.855810    85.818077         -6.037733   \n2   -173.521430      180.133280   186.478570          6.345290   \n3   -176.230517      180.141730   183.769483          3.627752   \n4   -161.115388      217.999848   198.884612        -19.115237   \n\n   final_360_angles rounded_180_angles rounded_360_angles  absolute_180_angles  \n0         15.396716               15.0               15.0            15.396716  \n1        353.962267               -6.0              354.0             6.037733  \n2          6.345290                6.0                6.0             6.345290  \n3          3.627752                4.0                4.0             3.627752  \n4        340.884763              -19.0              341.0            19.115237  \n\n[5 rows x 36 columns]",
      "text/html": "<div>\n<style scoped>\n    .dataframe tbody tr th:only-of-type {\n        vertical-align: middle;\n    }\n\n    .dataframe tbody tr th {\n        vertical-align: top;\n    }\n\n    .dataframe thead th {\n        text-align: right;\n    }\n</style>\n<table border=\"1\" class=\"dataframe\">\n  <thead>\n    <tr style=\"text-align: right;\">\n      <th></th>\n      <th>subject_id</th>\n      <th>body_pos_x</th>\n      <th>body_pos_z</th>\n      <th>pointer_pos_x</th>\n      <th>pointer_pos_z</th>\n      <th>pointer_dir_x</th>\n      <th>pointer_dir_z</th>\n      <th>building_center_z</th>\n      <th>building_center_x</th>\n      <th>avatar_presence</th>\n      <th>...</th>\n      <th>moved_target_position_z</th>\n      <th>target_to_x_180</th>\n      <th>dir_to_x_180</th>\n      <th>target_to_x_360</th>\n      <th>dir_to_x_360</th>\n      <th>final_180_angles</th>\n      <th>final_360_angles</th>\n      <th>rounded_180_angles</th>\n      <th>rounded_360_angles</th>\n      <th>absolute_180_angles</th>\n    </tr>\n  </thead>\n  <tbody>\n    <tr>\n      <th>0</th>\n      <td>365</td>\n      <td>-114.329147</td>\n      <td>-139.997375</td>\n      <td>-114.236984</td>\n      <td>-139.696228</td>\n      <td>-0.055459</td>\n      <td>0.989548</td>\n      <td>53.288437</td>\n      <td>-72.578285</td>\n      <td>True</td>\n      <td>...</td>\n      <td>193.285812</td>\n      <td>77.811048</td>\n      <td>93.207763</td>\n      <td>77.811048</td>\n      <td>93.207763</td>\n      <td>15.396716</td>\n      <td>15.396716</td>\n      <td>15.0</td>\n      <td>15.0</td>\n      <td>15.396716</td>\n    </tr>\n    <tr>\n      <th>1</th>\n      <td>365</td>\n      <td>-65.669235</td>\n      <td>-159.945099</td>\n      <td>-65.474716</td>\n      <td>-159.710205</td>\n      <td>0.072550</td>\n      <td>0.992235</td>\n      <td>53.288437</td>\n      <td>-72.578285</td>\n      <td>True</td>\n      <td>...</td>\n      <td>213.233536</td>\n      <td>91.855810</td>\n      <td>85.818077</td>\n      <td>91.855810</td>\n      <td>85.818077</td>\n      <td>-6.037733</td>\n      <td>353.962267</td>\n      <td>-6.0</td>\n      <td>354.0</td>\n      <td>6.037733</td>\n    </tr>\n    <tr>\n      <th>2</th>\n      <td>365</td>\n      <td>38.849380</td>\n      <td>53.547638</td>\n      <td>38.471634</td>\n      <td>53.516281</td>\n      <td>-0.993265</td>\n      <td>-0.112792</td>\n      <td>53.288437</td>\n      <td>-72.578285</td>\n      <td>True</td>\n      <td>...</td>\n      <td>-0.259201</td>\n      <td>-179.866720</td>\n      <td>-173.521430</td>\n      <td>180.133280</td>\n      <td>186.478570</td>\n      <td>6.345290</td>\n      <td>6.345290</td>\n      <td>6.0</td>\n      <td>6.0</td>\n      <td>6.345290</td>\n    </tr>\n    <tr>\n      <th>3</th>\n      <td>365</td>\n      <td>38.880081</td>\n      <td>53.564148</td>\n      <td>38.700195</td>\n      <td>53.581047</td>\n      <td>-0.995648</td>\n      <td>-0.065598</td>\n      <td>53.288437</td>\n      <td>-72.578285</td>\n      <td>True</td>\n      <td>...</td>\n      <td>-0.275711</td>\n      <td>-179.858270</td>\n      <td>-176.230517</td>\n      <td>180.141730</td>\n      <td>183.769483</td>\n      <td>3.627752</td>\n      <td>3.627752</td>\n      <td>4.0</td>\n      <td>4.0</td>\n      <td>3.627752</td>\n    </tr>\n    <tr>\n      <th>4</th>\n      <td>365</td>\n      <td>110.754181</td>\n      <td>196.522675</td>\n      <td>110.428146</td>\n      <td>196.550751</td>\n      <td>-0.941145</td>\n      <td>-0.321944</td>\n      <td>53.288437</td>\n      <td>-72.578285</td>\n      <td>True</td>\n      <td>...</td>\n      <td>-143.234238</td>\n      <td>-142.000152</td>\n      <td>-161.115388</td>\n      <td>217.999848</td>\n      <td>198.884612</td>\n      <td>-19.115237</td>\n      <td>340.884763</td>\n      <td>-19.0</td>\n      <td>341.0</td>\n      <td>19.115237</td>\n    </tr>\n  </tbody>\n</table>\n<p>5 rows × 36 columns</p>\n</div>"
     },
     "execution_count": 5,
     "metadata": {},
     "output_type": "execute_result"
    }
   ],
   "source": [
    "df_cleaned = pd.read_csv(f'{FILE_PATH}/07_preprocessed.csv')\n",
    "df_cleaned.head()"
   ],
   "metadata": {
    "collapsed": false,
    "pycharm": {
     "name": "#%%\n"
    }
   }
  },
  {
   "cell_type": "markdown",
   "source": [
    "## Linear Mixed Effects Models"
   ],
   "metadata": {
    "collapsed": false
   }
  },
  {
   "cell_type": "code",
   "execution_count": 7,
   "outputs": [
    {
     "data": {
      "text/plain": "   absolute_180_angles         RT  subject_id  starting_loc_id  avatar_id  \\\n0            15.396716  25.825715         365               44         46   \n1             6.037733   4.799789         365               36         46   \n2             6.345290   4.638590         365               30         46   \n3             3.627752   2.361455         365               30         46   \n4            19.115237   5.975304         365               19         46   \n\n   distance_to_target  \n0          197.743621  \n1          213.345438  \n2          111.427967  \n3          111.458707  \n4          232.651757  ",
      "text/html": "<div>\n<style scoped>\n    .dataframe tbody tr th:only-of-type {\n        vertical-align: middle;\n    }\n\n    .dataframe tbody tr th {\n        vertical-align: top;\n    }\n\n    .dataframe thead th {\n        text-align: right;\n    }\n</style>\n<table border=\"1\" class=\"dataframe\">\n  <thead>\n    <tr style=\"text-align: right;\">\n      <th></th>\n      <th>absolute_180_angles</th>\n      <th>RT</th>\n      <th>subject_id</th>\n      <th>starting_loc_id</th>\n      <th>avatar_id</th>\n      <th>distance_to_target</th>\n    </tr>\n  </thead>\n  <tbody>\n    <tr>\n      <th>0</th>\n      <td>15.396716</td>\n      <td>25.825715</td>\n      <td>365</td>\n      <td>44</td>\n      <td>46</td>\n      <td>197.743621</td>\n    </tr>\n    <tr>\n      <th>1</th>\n      <td>6.037733</td>\n      <td>4.799789</td>\n      <td>365</td>\n      <td>36</td>\n      <td>46</td>\n      <td>213.345438</td>\n    </tr>\n    <tr>\n      <th>2</th>\n      <td>6.345290</td>\n      <td>4.638590</td>\n      <td>365</td>\n      <td>30</td>\n      <td>46</td>\n      <td>111.427967</td>\n    </tr>\n    <tr>\n      <th>3</th>\n      <td>3.627752</td>\n      <td>2.361455</td>\n      <td>365</td>\n      <td>30</td>\n      <td>46</td>\n      <td>111.458707</td>\n    </tr>\n    <tr>\n      <th>4</th>\n      <td>19.115237</td>\n      <td>5.975304</td>\n      <td>365</td>\n      <td>19</td>\n      <td>46</td>\n      <td>232.651757</td>\n    </tr>\n  </tbody>\n</table>\n</div>"
     },
     "execution_count": 7,
     "metadata": {},
     "output_type": "execute_result"
    }
   ],
   "source": [
    "lmer_df = df_cleaned[['absolute_180_angles', 'RT', 'subject_id', 'starting_loc_id', 'avatar_id', 'distance_to_target']]\n",
    "lmer_df.head()"
   ],
   "metadata": {
    "collapsed": false,
    "pycharm": {
     "name": "#%%\n"
    }
   }
  },
  {
   "cell_type": "markdown",
   "source": [
    "### Predicting `angular error` based on `starting location`"
   ],
   "metadata": {
    "collapsed": false
   }
  },
  {
   "cell_type": "code",
   "execution_count": 41,
   "outputs": [
    {
     "name": "stdout",
     "output_type": "stream",
     "text": [
      "                Mixed Linear Model Regression Results\n",
      "======================================================================\n",
      "Model:               MixedLM  Dependent Variable:  absolute_180_angles\n",
      "No. Observations:    7708     Method:              REML               \n",
      "No. Groups:          23       Scale:               1713.9889          \n",
      "Min. group size:     329      Log-Likelihood:      -39610.1276        \n",
      "Max. group size:     336      Converged:           Yes                \n",
      "Mean group size:     335.1                                            \n",
      "----------------------------------------------------------------------\n",
      "                          Coef.  Std.Err.   z    P>|z|  [0.025  0.975]\n",
      "----------------------------------------------------------------------\n",
      "Intercept                 46.731    3.717 12.574 0.000  39.447  54.015\n",
      "C(starting_loc_id)[T.2]  -13.205    3.524 -3.747 0.000 -20.113  -6.298\n",
      "C(starting_loc_id)[T.4]   -0.934    3.524 -0.265 0.791  -7.842   5.973\n",
      "C(starting_loc_id)[T.5]   16.044    3.524  4.552 0.000   9.137  22.951\n",
      "C(starting_loc_id)[T.7]   -7.975    3.531 -2.259 0.024 -14.895  -1.055\n",
      "C(starting_loc_id)[T.9]  -19.228    3.524 -5.456 0.000 -26.136 -12.321\n",
      "C(starting_loc_id)[T.14]  -5.360    3.524 -1.521 0.128 -12.268   1.547\n",
      "C(starting_loc_id)[T.18]   5.267    3.531  1.492 0.136  -1.653  12.187\n",
      "C(starting_loc_id)[T.19]  -3.705    3.524 -1.051 0.293 -10.613   3.202\n",
      "C(starting_loc_id)[T.20]   1.335    3.524  0.379 0.705  -5.573   8.242\n",
      "C(starting_loc_id)[T.21]  -1.497    3.531 -0.424 0.672  -8.417   5.423\n",
      "C(starting_loc_id)[T.25]  -7.520    3.524 -2.134 0.033 -14.428  -0.613\n",
      "C(starting_loc_id)[T.29]  10.122    3.524  2.872 0.004   3.214  17.029\n",
      "C(starting_loc_id)[T.30]  12.922    3.527  3.663 0.000   6.008  19.836\n",
      "C(starting_loc_id)[T.34]   0.262    3.527  0.074 0.941  -6.652   7.175\n",
      "C(starting_loc_id)[T.35]  18.667    3.537  5.277 0.000  11.735  25.600\n",
      "C(starting_loc_id)[T.36]   2.253    3.524  0.639 0.523  -4.654   9.161\n",
      "C(starting_loc_id)[T.37]   0.386    3.524  0.109 0.913  -6.522   7.293\n",
      "C(starting_loc_id)[T.38]  -7.506    3.524 -2.130 0.033 -14.413  -0.599\n",
      "C(starting_loc_id)[T.40]   4.461    3.524  1.266 0.206  -2.447  11.368\n",
      "C(starting_loc_id)[T.43]   5.217    3.524  1.480 0.139  -1.691  12.124\n",
      "C(starting_loc_id)[T.44]  -1.003    3.524 -0.285 0.776  -7.910   5.904\n",
      "C(starting_loc_id)[T.45]  -1.421    3.527 -0.403 0.687  -8.334   5.493\n",
      "C(starting_loc_id)[T.51]   1.700    3.524  0.482 0.630  -5.207   8.607\n",
      "C(starting_loc_id)[T.52]  14.251    3.531  4.036 0.000   7.331  21.171\n",
      "C(starting_loc_id)[T.54] -11.039    3.534 -3.124 0.002 -17.966  -4.113\n",
      "C(starting_loc_id)[T.55]   5.588    3.527  1.584 0.113  -1.326  12.502\n",
      "C(starting_loc_id)[T.58]  20.142    3.527  5.710 0.000  13.228  27.056\n",
      "Group Var                174.867    1.311                             \n",
      "======================================================================\n",
      "\n"
     ]
    }
   ],
   "source": [
    "formula = 'absolute_180_angles ~ C(starting_loc_id)'\n",
    "\n",
    "# Define and fit a linear regression model\n",
    "model_LM = smf.mixedlm(formula = formula, data = lmer_df, groups=lmer_df['subject_id']).fit()\n",
    "print(model_LM.summary())"
   ],
   "metadata": {
    "collapsed": false,
    "pycharm": {
     "name": "#%%\n"
    }
   }
  },
  {
   "cell_type": "code",
   "execution_count": 42,
   "outputs": [
    {
     "data": {
      "text/plain": "<Figure size 432x288 with 1 Axes>",
      "image/png": "[encoded data removed]"
     },
     "metadata": {},
     "output_type": "display_data"
    }
   ],
   "source": [
    "sns.kdeplot(model_LM.resid, shade='fill', palette='Crest', alpha=.5, linewidth=0)\n",
    "plt.show()"
   ],
   "metadata": {
    "collapsed": false,
    "pycharm": {
     "name": "#%%\n"
    }
   }
  },
  {
   "cell_type": "markdown",
   "source": [
    "### Predicting `angular error` based on `starting location` and `distance to target`"
   ],
   "metadata": {
    "collapsed": false,
    "pycharm": {
     "name": "#%% md\n"
    }
   }
  },
  {
   "cell_type": "code",
   "execution_count": 43,
   "outputs": [
    {
     "name": "stdout",
     "output_type": "stream",
     "text": [
      "                Mixed Linear Model Regression Results\n",
      "======================================================================\n",
      "Model:               MixedLM  Dependent Variable:  absolute_180_angles\n",
      "No. Observations:    7708     Method:              REML               \n",
      "No. Groups:          23       Scale:               1710.3918          \n",
      "Min. group size:     329      Log-Likelihood:      -39606.2344        \n",
      "Max. group size:     336      Converged:           Yes                \n",
      "Mean group size:     335.1                                            \n",
      "----------------------------------------------------------------------\n",
      "                          Coef.  Std.Err.   z    P>|z|  [0.025  0.975]\n",
      "----------------------------------------------------------------------\n",
      "Intercept                 51.631    3.893 13.263 0.000  44.001  59.261\n",
      "C(starting_loc_id)[T.2]  -13.160    3.521 -3.738 0.000 -20.060  -6.260\n",
      "C(starting_loc_id)[T.4]   -1.941    3.529 -0.550 0.582  -8.857   4.975\n",
      "C(starting_loc_id)[T.5]   14.250    3.547  4.017 0.000   7.298  21.202\n",
      "C(starting_loc_id)[T.7]   -8.245    3.528 -2.337 0.019 -15.159  -1.331\n",
      "C(starting_loc_id)[T.9]  -18.074    3.531 -5.118 0.000 -24.996 -11.153\n",
      "C(starting_loc_id)[T.14]  -5.767    3.522 -1.637 0.102 -12.669   1.136\n",
      "C(starting_loc_id)[T.18]   4.595    3.531  1.301 0.193  -2.325  11.515\n",
      "C(starting_loc_id)[T.19]  -4.333    3.524 -1.230 0.219 -11.240   2.573\n",
      "C(starting_loc_id)[T.20]   0.749    3.523  0.213 0.832  -6.157   7.655\n",
      "C(starting_loc_id)[T.21]  -2.324    3.533 -0.658 0.511  -9.248   4.600\n",
      "C(starting_loc_id)[T.25]  -7.996    3.522 -2.270 0.023 -14.899  -1.092\n",
      "C(starting_loc_id)[T.29]   9.094    3.529  2.577 0.010   2.177  16.011\n",
      "C(starting_loc_id)[T.30]  11.302    3.545  3.188 0.001   4.353  18.250\n",
      "C(starting_loc_id)[T.34]  -0.857    3.534 -0.242 0.808  -7.783   6.070\n",
      "C(starting_loc_id)[T.35]  17.021    3.556  4.787 0.000  10.052  23.990\n",
      "C(starting_loc_id)[T.36]   1.338    3.527  0.379 0.704  -5.575   8.252\n",
      "C(starting_loc_id)[T.37]  -0.209    3.523 -0.059 0.953  -7.115   6.696\n",
      "C(starting_loc_id)[T.38]  -7.850    3.522 -2.229 0.026 -14.753  -0.948\n",
      "C(starting_loc_id)[T.40]   3.372    3.530  0.955 0.340  -3.547  10.291\n",
      "C(starting_loc_id)[T.43]   3.951    3.534  1.118 0.264  -2.975  10.877\n",
      "C(starting_loc_id)[T.44]  -1.816    3.526 -0.515 0.606  -8.727   5.094\n",
      "C(starting_loc_id)[T.45]  -1.742    3.525 -0.494 0.621  -8.650   5.166\n",
      "C(starting_loc_id)[T.51]   2.273    3.523  0.645 0.519  -4.633   9.178\n",
      "C(starting_loc_id)[T.52]  13.912    3.528  3.944 0.000   6.998  20.827\n",
      "C(starting_loc_id)[T.54] -10.249    3.535 -2.899 0.004 -17.178  -3.320\n",
      "C(starting_loc_id)[T.55]   6.085    3.526  1.726 0.084  -0.825  12.996\n",
      "C(starting_loc_id)[T.58]  18.675    3.541  5.273 0.000  11.733  25.616\n",
      "distance_to_target        -0.015    0.004 -4.150 0.000  -0.022  -0.008\n",
      "Group Var                173.946    1.306                             \n",
      "======================================================================\n",
      "\n"
     ]
    }
   ],
   "source": [
    "formula = 'absolute_180_angles ~ C(starting_loc_id) + distance_to_target'\n",
    "\n",
    "# Define and fit a linear regression model\n",
    "model_LM = smf.mixedlm(formula = formula, data = lmer_df, groups=lmer_df['subject_id']).fit()\n",
    "print(model_LM.summary())"
   ],
   "metadata": {
    "collapsed": false,
    "pycharm": {
     "name": "#%%\n"
    }
   }
  },
  {
   "cell_type": "code",
   "execution_count": 44,
   "outputs": [
    {
     "data": {
      "text/plain": "<Figure size 432x288 with 1 Axes>",
      "image/png": "[encoded data removed]"
     },
     "metadata": {},
     "output_type": "display_data"
    }
   ],
   "source": [
    "sns.kdeplot(model_LM.resid, shade='fill', palette='Crest', alpha=.5, linewidth=0)\n",
    "plt.show()"
   ],
   "metadata": {
    "collapsed": false,
    "pycharm": {
     "name": "#%%\n"
    }
   }
  },
  {
   "cell_type": "markdown",
   "source": [
    "### Predicting `angular error` based on `distance to target`"
   ],
   "metadata": {
    "collapsed": false
   }
  },
  {
   "cell_type": "code",
   "execution_count": 45,
   "outputs": [
    {
     "name": "stdout",
     "output_type": "stream",
     "text": [
      "              Mixed Linear Model Regression Results\n",
      "=================================================================\n",
      "Model:            MixedLM Dependent Variable: absolute_180_angles\n",
      "No. Observations: 7708    Method:             REML               \n",
      "No. Groups:       23      Scale:              1778.5414          \n",
      "Min. group size:  329     Log-Likelihood:     -39820.9785        \n",
      "Max. group size:  336     Converged:          Yes                \n",
      "Mean group size:  335.1                                          \n",
      "-----------------------------------------------------------------\n",
      "                       Coef.  Std.Err.   z    P>|z| [0.025 0.975]\n",
      "-----------------------------------------------------------------\n",
      "Intercept              56.619    2.955 19.163 0.000 50.828 62.410\n",
      "distance_to_target     -0.029    0.003 -8.559 0.000 -0.036 -0.023\n",
      "Group Var             172.628    1.273                           \n",
      "=================================================================\n",
      "\n"
     ]
    }
   ],
   "source": [
    "formula = 'absolute_180_angles ~ distance_to_target'\n",
    "\n",
    "# Define and fit a linear regression model\n",
    "model_LM = smf.mixedlm(formula = formula, data = lmer_df, groups=lmer_df['subject_id']).fit()\n",
    "print(model_LM.summary())"
   ],
   "metadata": {
    "collapsed": false,
    "pycharm": {
     "name": "#%%\n"
    }
   }
  },
  {
   "cell_type": "code",
   "execution_count": 46,
   "outputs": [
    {
     "data": {
      "text/plain": "<Figure size 432x288 with 1 Axes>",
      "image/png": "[encoded data removed]"
     },
     "metadata": {},
     "output_type": "display_data"
    }
   ],
   "source": [
    "sns.kdeplot(model_LM.resid, shade='fill', palette='Crest', alpha=.5, linewidth=0)\n",
    "plt.show()"
   ],
   "metadata": {
    "collapsed": false,
    "pycharm": {
     "name": "#%%\n"
    }
   }
  }
 ],
 "metadata": {
  "kernelspec": {
   "display_name": "Python 3",
   "language": "python",
   "name": "python3"
  },
  "language_info": {
   "codemirror_mode": {
    "name": "ipython",
    "version": 2
   },
   "file_extension": ".py",
   "mimetype": "text/x-python",
   "name": "python",
   "nbconvert_exporter": "python",
   "pygments_lexer": "ipython2",
   "version": "2.7.6"
  }
 },
 "nbformat": 4,
 "nbformat_minor": 0
}