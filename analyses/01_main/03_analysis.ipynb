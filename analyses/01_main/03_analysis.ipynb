{
 "cells": [
  {
   "cell_type": "markdown",
   "source": [
    "# Analysis of the effect of starting locations on angular error in HumanA\n",
    "author: Nora Maleki (noora.maleki@gmail.com)\n",
    "April 2022"
   ],
   "metadata": {
    "collapsed": false
   }
  },
  {
   "cell_type": "code",
   "execution_count": 78,
   "metadata": {
    "collapsed": true
   },
   "outputs": [],
   "source": [
    "import numpy as np\n",
    "import pandas as pd\n",
    "import matplotlib.pyplot as plt\n",
    "import seaborn as sns\n",
    "import os\n",
    "import pingouin as pg\n",
    "from statsmodels.stats.anova import AnovaRM"
   ]
  },
  {
   "cell_type": "code",
   "execution_count": 2,
   "outputs": [],
   "source": [
    "colorblind_palette = ['#2d004b', '#5ab4ac', '#b2182b', '#8c510a','#4575b4','#8073ac']\n",
    "sns.set_theme(font_scale=1, palette=colorblind_palette, style='darkgrid')"
   ],
   "metadata": {
    "collapsed": false,
    "pycharm": {
     "name": "#%%\n"
    }
   }
  },
  {
   "cell_type": "markdown",
   "source": [
    "## Load data"
   ],
   "metadata": {
    "collapsed": false
   }
  },
  {
   "cell_type": "code",
   "execution_count": 3,
   "outputs": [],
   "source": [
    "FILE_PATH = r'../../data/01_main'\n",
    "PLOT_PATH = f'{FILE_PATH}/plots/analysis/'\n",
    "\n",
    "os.makedirs(os.path.dirname(PLOT_PATH), exist_ok=True)"
   ],
   "metadata": {
    "collapsed": false,
    "pycharm": {
     "name": "#%%\n"
    }
   }
  },
  {
   "cell_type": "code",
   "execution_count": 4,
   "outputs": [
    {
     "data": {
      "text/plain": "   subject_id  body_pos_x  body_pos_z  pointer_pos_x  pointer_pos_z  \\\n0         365 -114.329147 -139.997375    -114.236984    -139.696228   \n1         365  -65.669235 -159.945099     -65.474716    -159.710205   \n2         365   38.849380   53.547638      38.471634      53.516281   \n3         365   38.880081   53.564148      38.700195      53.581047   \n4         365  110.754181  196.522675     110.428146     196.550751   \n\n   pointer_dir_x  pointer_dir_z  building_center_z  building_center_x  \\\n0      -0.055459       0.989548          53.288437         -72.578285   \n1       0.072550       0.992235          53.288437         -72.578285   \n2      -0.993265      -0.112792          53.288437         -72.578285   \n3      -0.995648      -0.065598          53.288437         -72.578285   \n4      -0.941145      -0.321944          53.288437         -72.578285   \n\n   avatar_presence  ...  moved_target_position_z  target_to_x_180  \\\n0             True  ...               193.285812        77.811048   \n1             True  ...               213.233536        91.855810   \n2             True  ...                -0.259201      -179.866720   \n3             True  ...                -0.275711      -179.858270   \n4             True  ...              -143.234238      -142.000152   \n\n   dir_to_x_180 target_to_x_360 dir_to_x_360  final_180_angles  \\\n0     93.207763       77.811048    93.207763         15.396716   \n1     85.818077       91.855810    85.818077         -6.037733   \n2   -173.521430      180.133280   186.478570          6.345290   \n3   -176.230517      180.141730   183.769483          3.627752   \n4   -161.115388      217.999848   198.884612        -19.115237   \n\n   final_360_angles rounded_180_angles rounded_360_angles  absolute_180_angles  \n0         15.396716               15.0               15.0            15.396716  \n1        353.962267               -6.0              354.0             6.037733  \n2          6.345290                6.0                6.0             6.345290  \n3          3.627752                4.0                4.0             3.627752  \n4        340.884763              -19.0              341.0            19.115237  \n\n[5 rows x 35 columns]",
      "text/html": "<div>\n<style scoped>\n    .dataframe tbody tr th:only-of-type {\n        vertical-align: middle;\n    }\n\n    .dataframe tbody tr th {\n        vertical-align: top;\n    }\n\n    .dataframe thead th {\n        text-align: right;\n    }\n</style>\n<table border=\"1\" class=\"dataframe\">\n  <thead>\n    <tr style=\"text-align: right;\">\n      <th></th>\n      <th>subject_id</th>\n      <th>body_pos_x</th>\n      <th>body_pos_z</th>\n      <th>pointer_pos_x</th>\n      <th>pointer_pos_z</th>\n      <th>pointer_dir_x</th>\n      <th>pointer_dir_z</th>\n      <th>building_center_z</th>\n      <th>building_center_x</th>\n      <th>avatar_presence</th>\n      <th>...</th>\n      <th>moved_target_position_z</th>\n      <th>target_to_x_180</th>\n      <th>dir_to_x_180</th>\n      <th>target_to_x_360</th>\n      <th>dir_to_x_360</th>\n      <th>final_180_angles</th>\n      <th>final_360_angles</th>\n      <th>rounded_180_angles</th>\n      <th>rounded_360_angles</th>\n      <th>absolute_180_angles</th>\n    </tr>\n  </thead>\n  <tbody>\n    <tr>\n      <th>0</th>\n      <td>365</td>\n      <td>-114.329147</td>\n      <td>-139.997375</td>\n      <td>-114.236984</td>\n      <td>-139.696228</td>\n      <td>-0.055459</td>\n      <td>0.989548</td>\n      <td>53.288437</td>\n      <td>-72.578285</td>\n      <td>True</td>\n      <td>...</td>\n      <td>193.285812</td>\n      <td>77.811048</td>\n      <td>93.207763</td>\n      <td>77.811048</td>\n      <td>93.207763</td>\n      <td>15.396716</td>\n      <td>15.396716</td>\n      <td>15.0</td>\n      <td>15.0</td>\n      <td>15.396716</td>\n    </tr>\n    <tr>\n      <th>1</th>\n      <td>365</td>\n      <td>-65.669235</td>\n      <td>-159.945099</td>\n      <td>-65.474716</td>\n      <td>-159.710205</td>\n      <td>0.072550</td>\n      <td>0.992235</td>\n      <td>53.288437</td>\n      <td>-72.578285</td>\n      <td>True</td>\n      <td>...</td>\n      <td>213.233536</td>\n      <td>91.855810</td>\n      <td>85.818077</td>\n      <td>91.855810</td>\n      <td>85.818077</td>\n      <td>-6.037733</td>\n      <td>353.962267</td>\n      <td>-6.0</td>\n      <td>354.0</td>\n      <td>6.037733</td>\n    </tr>\n    <tr>\n      <th>2</th>\n      <td>365</td>\n      <td>38.849380</td>\n      <td>53.547638</td>\n      <td>38.471634</td>\n      <td>53.516281</td>\n      <td>-0.993265</td>\n      <td>-0.112792</td>\n      <td>53.288437</td>\n      <td>-72.578285</td>\n      <td>True</td>\n      <td>...</td>\n      <td>-0.259201</td>\n      <td>-179.866720</td>\n      <td>-173.521430</td>\n      <td>180.133280</td>\n      <td>186.478570</td>\n      <td>6.345290</td>\n      <td>6.345290</td>\n      <td>6.0</td>\n      <td>6.0</td>\n      <td>6.345290</td>\n    </tr>\n    <tr>\n      <th>3</th>\n      <td>365</td>\n      <td>38.880081</td>\n      <td>53.564148</td>\n      <td>38.700195</td>\n      <td>53.581047</td>\n      <td>-0.995648</td>\n      <td>-0.065598</td>\n      <td>53.288437</td>\n      <td>-72.578285</td>\n      <td>True</td>\n      <td>...</td>\n      <td>-0.275711</td>\n      <td>-179.858270</td>\n      <td>-176.230517</td>\n      <td>180.141730</td>\n      <td>183.769483</td>\n      <td>3.627752</td>\n      <td>3.627752</td>\n      <td>4.0</td>\n      <td>4.0</td>\n      <td>3.627752</td>\n    </tr>\n    <tr>\n      <th>4</th>\n      <td>365</td>\n      <td>110.754181</td>\n      <td>196.522675</td>\n      <td>110.428146</td>\n      <td>196.550751</td>\n      <td>-0.941145</td>\n      <td>-0.321944</td>\n      <td>53.288437</td>\n      <td>-72.578285</td>\n      <td>True</td>\n      <td>...</td>\n      <td>-143.234238</td>\n      <td>-142.000152</td>\n      <td>-161.115388</td>\n      <td>217.999848</td>\n      <td>198.884612</td>\n      <td>-19.115237</td>\n      <td>340.884763</td>\n      <td>-19.0</td>\n      <td>341.0</td>\n      <td>19.115237</td>\n    </tr>\n  </tbody>\n</table>\n<p>5 rows × 35 columns</p>\n</div>"
     },
     "execution_count": 4,
     "metadata": {},
     "output_type": "execute_result"
    }
   ],
   "source": [
    "df_cleaned = pd.read_csv(f'{FILE_PATH}/07_preprocessed.csv')\n",
    "df_cleaned.head()"
   ],
   "metadata": {
    "collapsed": false,
    "pycharm": {
     "name": "#%%\n"
    }
   }
  },
  {
   "cell_type": "code",
   "execution_count": 69,
   "outputs": [
    {
     "data": {
      "text/plain": "   subject_id  starting_loc_id  avatar_id  absolute_180_angles\n0         365               44         46            15.396716\n1         365               36         46             6.037733\n2         365               30         46             6.345290\n3         365               30         46             3.627752\n4         365               19         46            19.115237",
      "text/html": "<div>\n<style scoped>\n    .dataframe tbody tr th:only-of-type {\n        vertical-align: middle;\n    }\n\n    .dataframe tbody tr th {\n        vertical-align: top;\n    }\n\n    .dataframe thead th {\n        text-align: right;\n    }\n</style>\n<table border=\"1\" class=\"dataframe\">\n  <thead>\n    <tr style=\"text-align: right;\">\n      <th></th>\n      <th>subject_id</th>\n      <th>starting_loc_id</th>\n      <th>avatar_id</th>\n      <th>absolute_180_angles</th>\n    </tr>\n  </thead>\n  <tbody>\n    <tr>\n      <th>0</th>\n      <td>365</td>\n      <td>44</td>\n      <td>46</td>\n      <td>15.396716</td>\n    </tr>\n    <tr>\n      <th>1</th>\n      <td>365</td>\n      <td>36</td>\n      <td>46</td>\n      <td>6.037733</td>\n    </tr>\n    <tr>\n      <th>2</th>\n      <td>365</td>\n      <td>30</td>\n      <td>46</td>\n      <td>6.345290</td>\n    </tr>\n    <tr>\n      <th>3</th>\n      <td>365</td>\n      <td>30</td>\n      <td>46</td>\n      <td>3.627752</td>\n    </tr>\n    <tr>\n      <th>4</th>\n      <td>365</td>\n      <td>19</td>\n      <td>46</td>\n      <td>19.115237</td>\n    </tr>\n  </tbody>\n</table>\n</div>"
     },
     "execution_count": 69,
     "metadata": {},
     "output_type": "execute_result"
    }
   ],
   "source": [
    "anova_df = df_cleaned[['subject_id', 'starting_loc_id', 'avatar_id','absolute_180_angles']]\n",
    "# anova_df['subject_id'] = anova_df.subject_id.astype(str)\n",
    "# anova_df['starting_loc_id'] = anova_df.starting_loc_id.astype(str)\n",
    "# anova_df['avatar_id'] = anova_df.avatar_id.astype(str)\n",
    "anova_df.head()"
   ],
   "metadata": {
    "collapsed": false,
    "pycharm": {
     "name": "#%%\n"
    }
   }
  },
  {
   "cell_type": "code",
   "execution_count": 70,
   "outputs": [
    {
     "data": {
      "text/plain": "SpherResults(spher=True, W=1.4454357702487354e-28, chi2=373.14842818826077, dof=377, pval=7.173929371629949)"
     },
     "execution_count": 70,
     "metadata": {},
     "output_type": "execute_result"
    }
   ],
   "source": [
    "pg.sphericity(data=anova_df, dv='absolute_180_angles', subject='subject_id', within='starting_loc_id')"
   ],
   "metadata": {
    "collapsed": false,
    "pycharm": {
     "name": "#%%\n"
    }
   }
  },
  {
   "cell_type": "code",
   "execution_count": 71,
   "outputs": [
    {
     "data": {
      "text/plain": "            Source  ddof1  ddof2         F         p-unc       np2       eps\n0  starting_loc_id     27    405  5.737237  2.454395e-16  0.276664  0.340751",
      "text/html": "<div>\n<style scoped>\n    .dataframe tbody tr th:only-of-type {\n        vertical-align: middle;\n    }\n\n    .dataframe tbody tr th {\n        vertical-align: top;\n    }\n\n    .dataframe thead th {\n        text-align: right;\n    }\n</style>\n<table border=\"1\" class=\"dataframe\">\n  <thead>\n    <tr style=\"text-align: right;\">\n      <th></th>\n      <th>Source</th>\n      <th>ddof1</th>\n      <th>ddof2</th>\n      <th>F</th>\n      <th>p-unc</th>\n      <th>np2</th>\n      <th>eps</th>\n    </tr>\n  </thead>\n  <tbody>\n    <tr>\n      <th>0</th>\n      <td>starting_loc_id</td>\n      <td>27</td>\n      <td>405</td>\n      <td>5.737237</td>\n      <td>2.454395e-16</td>\n      <td>0.276664</td>\n      <td>0.340751</td>\n    </tr>\n  </tbody>\n</table>\n</div>"
     },
     "execution_count": 71,
     "metadata": {},
     "output_type": "execute_result"
    }
   ],
   "source": [
    "anova = pg.rm_anova(dv='absolute_180_angles', within='starting_loc_id', subject='subject_id', data=anova_df)\n",
    "anova"
   ],
   "metadata": {
    "collapsed": false,
    "pycharm": {
     "name": "#%%\n"
    }
   }
  },
  {
   "cell_type": "code",
   "execution_count": 72,
   "outputs": [
    {
     "data": {
      "text/plain": "   subject_id  starting_loc_id  absolute_180_angles\n0         365                1            28.290829\n1         365                2            21.913651\n2         365                4            48.221470\n3         365                5            67.533743\n4         365                7            42.938610",
      "text/html": "<div>\n<style scoped>\n    .dataframe tbody tr th:only-of-type {\n        vertical-align: middle;\n    }\n\n    .dataframe tbody tr th {\n        vertical-align: top;\n    }\n\n    .dataframe thead th {\n        text-align: right;\n    }\n</style>\n<table border=\"1\" class=\"dataframe\">\n  <thead>\n    <tr style=\"text-align: right;\">\n      <th></th>\n      <th>subject_id</th>\n      <th>starting_loc_id</th>\n      <th>absolute_180_angles</th>\n    </tr>\n  </thead>\n  <tbody>\n    <tr>\n      <th>0</th>\n      <td>365</td>\n      <td>1</td>\n      <td>28.290829</td>\n    </tr>\n    <tr>\n      <th>1</th>\n      <td>365</td>\n      <td>2</td>\n      <td>21.913651</td>\n    </tr>\n    <tr>\n      <th>2</th>\n      <td>365</td>\n      <td>4</td>\n      <td>48.221470</td>\n    </tr>\n    <tr>\n      <th>3</th>\n      <td>365</td>\n      <td>5</td>\n      <td>67.533743</td>\n    </tr>\n    <tr>\n      <th>4</th>\n      <td>365</td>\n      <td>7</td>\n      <td>42.938610</td>\n    </tr>\n  </tbody>\n</table>\n</div>"
     },
     "execution_count": 72,
     "metadata": {},
     "output_type": "execute_result"
    }
   ],
   "source": [
    "anova_df_agg = anova_df.groupby(['subject_id', 'starting_loc_id']).absolute_180_angles.mean().reset_index()\n",
    "anova_df_agg.head()"
   ],
   "metadata": {
    "collapsed": false,
    "pycharm": {
     "name": "#%%\n"
    }
   }
  },
  {
   "cell_type": "code",
   "execution_count": 73,
   "outputs": [
    {
     "name": "stdout",
     "output_type": "stream",
     "text": [
      "                     Anova\n",
      "===============================================\n",
      "                F Value  Num DF  Den DF  Pr > F\n",
      "-----------------------------------------------\n",
      "starting_loc_id  5.7372 27.0000 405.0000 0.0000\n",
      "===============================================\n",
      "\n"
     ]
    }
   ],
   "source": [
    "print(AnovaRM(data=anova_df_agg, depvar='absolute_180_angles', subject='subject_id', within=['starting_loc_id']).fit())"
   ],
   "metadata": {
    "collapsed": false,
    "pycharm": {
     "name": "#%%\n"
    }
   }
  },
  {
   "cell_type": "markdown",
   "source": [
    "Building"
   ],
   "metadata": {
    "collapsed": false
   }
  },
  {
   "cell_type": "code",
   "execution_count": 74,
   "outputs": [
    {
     "data": {
      "text/plain": "SpherResults(spher=True, W=4.958725591338539e-105, chi2=-1082.2218644633415, dof=1539, pval=1.0)"
     },
     "execution_count": 74,
     "metadata": {},
     "output_type": "execute_result"
    }
   ],
   "source": [
    "pg.sphericity(data=anova_df, dv='absolute_180_angles', subject='subject_id', within='avatar_id')"
   ],
   "metadata": {
    "collapsed": false,
    "pycharm": {
     "name": "#%%\n"
    }
   }
  },
  {
   "cell_type": "code",
   "execution_count": 75,
   "outputs": [
    {
     "data": {
      "text/plain": "      Source  ddof1  ddof2         F         p-unc      np2       eps\n0  avatar_id     55    770  2.984731  2.737571e-11  0.17573  0.198601",
      "text/html": "<div>\n<style scoped>\n    .dataframe tbody tr th:only-of-type {\n        vertical-align: middle;\n    }\n\n    .dataframe tbody tr th {\n        vertical-align: top;\n    }\n\n    .dataframe thead th {\n        text-align: right;\n    }\n</style>\n<table border=\"1\" class=\"dataframe\">\n  <thead>\n    <tr style=\"text-align: right;\">\n      <th></th>\n      <th>Source</th>\n      <th>ddof1</th>\n      <th>ddof2</th>\n      <th>F</th>\n      <th>p-unc</th>\n      <th>np2</th>\n      <th>eps</th>\n    </tr>\n  </thead>\n  <tbody>\n    <tr>\n      <th>0</th>\n      <td>avatar_id</td>\n      <td>55</td>\n      <td>770</td>\n      <td>2.984731</td>\n      <td>2.737571e-11</td>\n      <td>0.17573</td>\n      <td>0.198601</td>\n    </tr>\n  </tbody>\n</table>\n</div>"
     },
     "execution_count": 75,
     "metadata": {},
     "output_type": "execute_result"
    }
   ],
   "source": [
    "pg.rm_anova(dv='absolute_180_angles', within='avatar_id', subject='subject_id', data=anova_df)"
   ],
   "metadata": {
    "collapsed": false,
    "pycharm": {
     "name": "#%%\n"
    }
   }
  },
  {
   "cell_type": "code",
   "execution_count": 76,
   "outputs": [
    {
     "data": {
      "text/plain": "   subject_id  avatar_id  absolute_180_angles\n0         365          1            50.278107\n1         365          2            61.830706\n2         365          3            44.135103\n3         365          4            55.623495\n4         365          5            55.204059",
      "text/html": "<div>\n<style scoped>\n    .dataframe tbody tr th:only-of-type {\n        vertical-align: middle;\n    }\n\n    .dataframe tbody tr th {\n        vertical-align: top;\n    }\n\n    .dataframe thead th {\n        text-align: right;\n    }\n</style>\n<table border=\"1\" class=\"dataframe\">\n  <thead>\n    <tr style=\"text-align: right;\">\n      <th></th>\n      <th>subject_id</th>\n      <th>avatar_id</th>\n      <th>absolute_180_angles</th>\n    </tr>\n  </thead>\n  <tbody>\n    <tr>\n      <th>0</th>\n      <td>365</td>\n      <td>1</td>\n      <td>50.278107</td>\n    </tr>\n    <tr>\n      <th>1</th>\n      <td>365</td>\n      <td>2</td>\n      <td>61.830706</td>\n    </tr>\n    <tr>\n      <th>2</th>\n      <td>365</td>\n      <td>3</td>\n      <td>44.135103</td>\n    </tr>\n    <tr>\n      <th>3</th>\n      <td>365</td>\n      <td>4</td>\n      <td>55.623495</td>\n    </tr>\n    <tr>\n      <th>4</th>\n      <td>365</td>\n      <td>5</td>\n      <td>55.204059</td>\n    </tr>\n  </tbody>\n</table>\n</div>"
     },
     "execution_count": 76,
     "metadata": {},
     "output_type": "execute_result"
    }
   ],
   "source": [
    "anova_df_agg_avatar = anova_df.groupby(['subject_id', 'avatar_id']).absolute_180_angles.mean().reset_index()\n",
    "anova_df_agg_avatar.head()"
   ],
   "metadata": {
    "collapsed": false,
    "pycharm": {
     "name": "#%%\n"
    }
   }
  },
  {
   "cell_type": "code",
   "execution_count": 82,
   "outputs": [
    {
     "ename": "ValueError",
     "evalue": "Data is unbalanced.",
     "output_type": "error",
     "traceback": [
      "\u001B[1;31m---------------------------------------------------------------------------\u001B[0m",
      "\u001B[1;31mValueError\u001B[0m                                Traceback (most recent call last)",
      "\u001B[1;32m~\\AppData\\Local\\Temp/ipykernel_37352/2266496624.py\u001B[0m in \u001B[0;36m<module>\u001B[1;34m\u001B[0m\n\u001B[1;32m----> 1\u001B[1;33m \u001B[0mprint\u001B[0m\u001B[1;33m(\u001B[0m\u001B[0mAnovaRM\u001B[0m\u001B[1;33m(\u001B[0m\u001B[0mdata\u001B[0m\u001B[1;33m=\u001B[0m\u001B[0manova_df_agg_avatar\u001B[0m\u001B[1;33m,\u001B[0m \u001B[0mdepvar\u001B[0m\u001B[1;33m=\u001B[0m\u001B[1;34m'absolute_180_angles'\u001B[0m\u001B[1;33m,\u001B[0m \u001B[0msubject\u001B[0m\u001B[1;33m=\u001B[0m\u001B[1;34m'subject_id'\u001B[0m\u001B[1;33m,\u001B[0m \u001B[0mwithin\u001B[0m\u001B[1;33m=\u001B[0m\u001B[1;33m[\u001B[0m\u001B[1;34m'avatar_id'\u001B[0m\u001B[1;33m]\u001B[0m\u001B[1;33m)\u001B[0m\u001B[1;33m.\u001B[0m\u001B[0mfit\u001B[0m\u001B[1;33m(\u001B[0m\u001B[1;33m)\u001B[0m\u001B[1;33m)\u001B[0m\u001B[1;33m\u001B[0m\u001B[1;33m\u001B[0m\u001B[0m\n\u001B[0m",
      "\u001B[1;32m~\\anaconda3\\lib\\site-packages\\statsmodels\\stats\\anova.py\u001B[0m in \u001B[0;36m__init__\u001B[1;34m(self, data, depvar, subject, within, between, aggregate_func)\u001B[0m\n\u001B[0;32m    503\u001B[0m                 \u001B[1;32mraise\u001B[0m \u001B[0mValueError\u001B[0m\u001B[1;33m(\u001B[0m\u001B[0mmsg\u001B[0m\u001B[1;33m)\u001B[0m\u001B[1;33m\u001B[0m\u001B[1;33m\u001B[0m\u001B[0m\n\u001B[0;32m    504\u001B[0m \u001B[1;33m\u001B[0m\u001B[0m\n\u001B[1;32m--> 505\u001B[1;33m         \u001B[0mself\u001B[0m\u001B[1;33m.\u001B[0m\u001B[0m_check_data_balanced\u001B[0m\u001B[1;33m(\u001B[0m\u001B[1;33m)\u001B[0m\u001B[1;33m\u001B[0m\u001B[1;33m\u001B[0m\u001B[0m\n\u001B[0m\u001B[0;32m    506\u001B[0m \u001B[1;33m\u001B[0m\u001B[0m\n\u001B[0;32m    507\u001B[0m     \u001B[1;32mdef\u001B[0m \u001B[0m_aggregate\u001B[0m\u001B[1;33m(\u001B[0m\u001B[0mself\u001B[0m\u001B[1;33m)\u001B[0m\u001B[1;33m:\u001B[0m\u001B[1;33m\u001B[0m\u001B[1;33m\u001B[0m\u001B[0m\n",
      "\u001B[1;32m~\\anaconda3\\lib\\site-packages\\statsmodels\\stats\\anova.py\u001B[0m in \u001B[0;36m_check_data_balanced\u001B[1;34m(self)\u001B[0m\n\u001B[0;32m    539\u001B[0m         \u001B[1;32mfor\u001B[0m \u001B[0mkey\u001B[0m \u001B[1;32min\u001B[0m \u001B[0mcell_count\u001B[0m\u001B[1;33m:\u001B[0m\u001B[1;33m\u001B[0m\u001B[1;33m\u001B[0m\u001B[0m\n\u001B[0;32m    540\u001B[0m             \u001B[1;32mif\u001B[0m \u001B[0mcount\u001B[0m \u001B[1;33m!=\u001B[0m \u001B[0mcell_count\u001B[0m\u001B[1;33m[\u001B[0m\u001B[0mkey\u001B[0m\u001B[1;33m]\u001B[0m\u001B[1;33m:\u001B[0m\u001B[1;33m\u001B[0m\u001B[1;33m\u001B[0m\u001B[0m\n\u001B[1;32m--> 541\u001B[1;33m                 \u001B[1;32mraise\u001B[0m \u001B[0mValueError\u001B[0m\u001B[1;33m(\u001B[0m\u001B[0merror_message\u001B[0m\u001B[1;33m)\u001B[0m\u001B[1;33m\u001B[0m\u001B[1;33m\u001B[0m\u001B[0m\n\u001B[0m\u001B[0;32m    542\u001B[0m         \u001B[1;32mif\u001B[0m \u001B[0mself\u001B[0m\u001B[1;33m.\u001B[0m\u001B[0mdata\u001B[0m\u001B[1;33m.\u001B[0m\u001B[0mshape\u001B[0m\u001B[1;33m[\u001B[0m\u001B[1;36m0\u001B[0m\u001B[1;33m]\u001B[0m \u001B[1;33m>\u001B[0m \u001B[0mcount\u001B[0m \u001B[1;33m*\u001B[0m \u001B[0mfactor_levels\u001B[0m\u001B[1;33m:\u001B[0m\u001B[1;33m\u001B[0m\u001B[1;33m\u001B[0m\u001B[0m\n\u001B[0;32m    543\u001B[0m             raise ValueError('There are more than 1 element in a cell! Missing'\n",
      "\u001B[1;31mValueError\u001B[0m: Data is unbalanced."
     ]
    }
   ],
   "source": [
    "print(AnovaRM(data=anova_df_agg_avatar, depvar='absolute_180_angles', subject='subject_id', within=['avatar_id']).fit())"
   ],
   "metadata": {
    "collapsed": false,
    "pycharm": {
     "name": "#%%\n"
    }
   }
  }
 ],
 "metadata": {
  "kernelspec": {
   "display_name": "Python 3",
   "language": "python",
   "name": "python3"
  },
  "language_info": {
   "codemirror_mode": {
    "name": "ipython",
    "version": 2
   },
   "file_extension": ".py",
   "mimetype": "text/x-python",
   "name": "python",
   "nbconvert_exporter": "python",
   "pygments_lexer": "ipython2",
   "version": "2.7.6"
  }
 },
 "nbformat": 4,
 "nbformat_minor": 0
}