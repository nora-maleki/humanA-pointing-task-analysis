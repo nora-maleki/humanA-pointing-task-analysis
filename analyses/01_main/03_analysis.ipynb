{
 "cells": [
  {
   "cell_type": "markdown",
   "source": [
    "# Analysis of the effect of starting locations on angular error in HumanA\n",
    "author: Nora Maleki (noora.maleki@gmail.com)\n",
    "April 2022"
   ],
   "metadata": {
    "collapsed": false
   }
  },
  {
   "cell_type": "code",
   "execution_count": 25,
   "metadata": {
    "collapsed": true
   },
   "outputs": [],
   "source": [
    "import numpy as np\n",
    "import pandas as pd\n",
    "import matplotlib.pyplot as plt\n",
    "import seaborn as sns\n",
    "import os\n",
    "import statsmodels.api as sm\n",
    "import statsmodels.formula.api as smf\n",
    "\n",
    "import scipy.stats as stats\n",
    "import researchpy as rp\n"
   ]
  },
  {
   "cell_type": "code",
   "execution_count": 26,
   "outputs": [],
   "source": [
    "colorblind_palette = ['#2d004b', '#5ab4ac', '#b2182b', '#8c510a','#4575b4','#8073ac']\n",
    "sns.set_theme(font_scale=1, palette=colorblind_palette, style='darkgrid')"
   ],
   "metadata": {
    "collapsed": false,
    "pycharm": {
     "name": "#%%\n"
    }
   }
  },
  {
   "cell_type": "markdown",
   "source": [
    "## Load data"
   ],
   "metadata": {
    "collapsed": false
   }
  },
  {
   "cell_type": "code",
   "execution_count": 39,
   "outputs": [],
   "source": [
    "FILE_PATH = r'../../data/01_main'\n",
    "PLOT_PATH = f'{FILE_PATH}/plots/analysis/'\n",
    "\n",
    "os.makedirs(os.path.dirname(PLOT_PATH), exist_ok=True)"
   ],
   "metadata": {
    "collapsed": false,
    "pycharm": {
     "name": "#%%\n"
    }
   }
  },
  {
   "cell_type": "code",
   "execution_count": 40,
   "outputs": [
    {
     "data": {
      "text/plain": "   subject_id  body_pos_x  body_pos_z  pointer_pos_x  pointer_pos_z  \\\n0         365 -114.329147 -139.997375    -114.236984    -139.696228   \n1         365  -65.669235 -159.945099     -65.474716    -159.710205   \n2         365   38.849380   53.547638      38.471634      53.516281   \n3         365   38.880081   53.564148      38.700195      53.581047   \n4         365  110.754181  196.522675     110.428146     196.550751   \n\n   pointer_dir_x  pointer_dir_z  building_center_z  building_center_x  \\\n0      -0.055459       0.989548          53.288437         -72.578285   \n1       0.072550       0.992235          53.288437         -72.578285   \n2      -0.993265      -0.112792          53.288437         -72.578285   \n3      -0.995648      -0.065598          53.288437         -72.578285   \n4      -0.941145      -0.321944          53.288437         -72.578285   \n\n   human_agent  ...  moved_target_position_z  target_to_x_180  dir_to_x_180  \\\n0           46  ...               193.285812        77.811048     93.207763   \n1           46  ...               213.233536        91.855810     85.818077   \n2           46  ...                -0.259201      -179.866720   -173.521430   \n3           46  ...                -0.275711      -179.858270   -176.230517   \n4           46  ...              -143.234238      -142.000152   -161.115388   \n\n   target_to_x_360 dir_to_x_360 final_180_angles  final_360_angles  \\\n0        77.811048    93.207763        15.396716         15.396716   \n1        91.855810    85.818077        -6.037733        353.962267   \n2       180.133280   186.478570         6.345290          6.345290   \n3       180.141730   183.769483         3.627752          3.627752   \n4       217.999848   198.884612       -19.115237        340.884763   \n\n   rounded_180_angles rounded_360_angles absolute_180_angles  \n0                15.0               15.0           15.396716  \n1                -6.0              354.0            6.037733  \n2                 6.0                6.0            6.345290  \n3                 4.0                4.0            3.627752  \n4               -19.0              341.0           19.115237  \n\n[5 rows x 38 columns]",
      "text/html": "<div>\n<style scoped>\n    .dataframe tbody tr th:only-of-type {\n        vertical-align: middle;\n    }\n\n    .dataframe tbody tr th {\n        vertical-align: top;\n    }\n\n    .dataframe thead th {\n        text-align: right;\n    }\n</style>\n<table border=\"1\" class=\"dataframe\">\n  <thead>\n    <tr style=\"text-align: right;\">\n      <th></th>\n      <th>subject_id</th>\n      <th>body_pos_x</th>\n      <th>body_pos_z</th>\n      <th>pointer_pos_x</th>\n      <th>pointer_pos_z</th>\n      <th>pointer_dir_x</th>\n      <th>pointer_dir_z</th>\n      <th>building_center_z</th>\n      <th>building_center_x</th>\n      <th>human_agent</th>\n      <th>...</th>\n      <th>moved_target_position_z</th>\n      <th>target_to_x_180</th>\n      <th>dir_to_x_180</th>\n      <th>target_to_x_360</th>\n      <th>dir_to_x_360</th>\n      <th>final_180_angles</th>\n      <th>final_360_angles</th>\n      <th>rounded_180_angles</th>\n      <th>rounded_360_angles</th>\n      <th>absolute_180_angles</th>\n    </tr>\n  </thead>\n  <tbody>\n    <tr>\n      <th>0</th>\n      <td>365</td>\n      <td>-114.329147</td>\n      <td>-139.997375</td>\n      <td>-114.236984</td>\n      <td>-139.696228</td>\n      <td>-0.055459</td>\n      <td>0.989548</td>\n      <td>53.288437</td>\n      <td>-72.578285</td>\n      <td>46</td>\n      <td>...</td>\n      <td>193.285812</td>\n      <td>77.811048</td>\n      <td>93.207763</td>\n      <td>77.811048</td>\n      <td>93.207763</td>\n      <td>15.396716</td>\n      <td>15.396716</td>\n      <td>15.0</td>\n      <td>15.0</td>\n      <td>15.396716</td>\n    </tr>\n    <tr>\n      <th>1</th>\n      <td>365</td>\n      <td>-65.669235</td>\n      <td>-159.945099</td>\n      <td>-65.474716</td>\n      <td>-159.710205</td>\n      <td>0.072550</td>\n      <td>0.992235</td>\n      <td>53.288437</td>\n      <td>-72.578285</td>\n      <td>46</td>\n      <td>...</td>\n      <td>213.233536</td>\n      <td>91.855810</td>\n      <td>85.818077</td>\n      <td>91.855810</td>\n      <td>85.818077</td>\n      <td>-6.037733</td>\n      <td>353.962267</td>\n      <td>-6.0</td>\n      <td>354.0</td>\n      <td>6.037733</td>\n    </tr>\n    <tr>\n      <th>2</th>\n      <td>365</td>\n      <td>38.849380</td>\n      <td>53.547638</td>\n      <td>38.471634</td>\n      <td>53.516281</td>\n      <td>-0.993265</td>\n      <td>-0.112792</td>\n      <td>53.288437</td>\n      <td>-72.578285</td>\n      <td>46</td>\n      <td>...</td>\n      <td>-0.259201</td>\n      <td>-179.866720</td>\n      <td>-173.521430</td>\n      <td>180.133280</td>\n      <td>186.478570</td>\n      <td>6.345290</td>\n      <td>6.345290</td>\n      <td>6.0</td>\n      <td>6.0</td>\n      <td>6.345290</td>\n    </tr>\n    <tr>\n      <th>3</th>\n      <td>365</td>\n      <td>38.880081</td>\n      <td>53.564148</td>\n      <td>38.700195</td>\n      <td>53.581047</td>\n      <td>-0.995648</td>\n      <td>-0.065598</td>\n      <td>53.288437</td>\n      <td>-72.578285</td>\n      <td>46</td>\n      <td>...</td>\n      <td>-0.275711</td>\n      <td>-179.858270</td>\n      <td>-176.230517</td>\n      <td>180.141730</td>\n      <td>183.769483</td>\n      <td>3.627752</td>\n      <td>3.627752</td>\n      <td>4.0</td>\n      <td>4.0</td>\n      <td>3.627752</td>\n    </tr>\n    <tr>\n      <th>4</th>\n      <td>365</td>\n      <td>110.754181</td>\n      <td>196.522675</td>\n      <td>110.428146</td>\n      <td>196.550751</td>\n      <td>-0.941145</td>\n      <td>-0.321944</td>\n      <td>53.288437</td>\n      <td>-72.578285</td>\n      <td>46</td>\n      <td>...</td>\n      <td>-143.234238</td>\n      <td>-142.000152</td>\n      <td>-161.115388</td>\n      <td>217.999848</td>\n      <td>198.884612</td>\n      <td>-19.115237</td>\n      <td>340.884763</td>\n      <td>-19.0</td>\n      <td>341.0</td>\n      <td>19.115237</td>\n    </tr>\n  </tbody>\n</table>\n<p>5 rows × 38 columns</p>\n</div>"
     },
     "execution_count": 40,
     "metadata": {},
     "output_type": "execute_result"
    }
   ],
   "source": [
    "df_cleaned = pd.read_csv(f'{FILE_PATH}/07_preprocessed.csv')\n",
    "df_cleaned.head()"
   ],
   "metadata": {
    "collapsed": false,
    "pycharm": {
     "name": "#%%\n"
    }
   }
  },
  {
   "cell_type": "markdown",
   "source": [
    "## Linear Mixed Effects Models"
   ],
   "metadata": {
    "collapsed": false
   }
  },
  {
   "cell_type": "code",
   "execution_count": 29,
   "outputs": [
    {
     "name": "stdout",
     "output_type": "stream",
     "text": [
      "<class 'pandas.core.frame.DataFrame'>\n",
      "RangeIndex: 7708 entries, 0 to 7707\n",
      "Data columns (total 8 columns):\n",
      " #   Column                 Non-Null Count  Dtype   \n",
      "---  ------                 --------------  -----   \n",
      " 0   absolute_180_angles    7708 non-null   float64 \n",
      " 1   RT                     7708 non-null   float64 \n",
      " 2   distance_to_target     7708 non-null   float64 \n",
      " 3   subject_id             7708 non-null   category\n",
      " 4   starting_loc_id        7708 non-null   category\n",
      " 5   human_agent            7708 non-null   category\n",
      " 6   trial_id_per_location  7708 non-null   category\n",
      " 7   trial_id               7708 non-null   category\n",
      "dtypes: category(5), float64(3)\n",
      "memory usage: 241.5 KB\n"
     ]
    }
   ],
   "source": [
    "lmm_df = (df_cleaned[['absolute_180_angles', 'RT', 'distance_to_target']]\n",
    "           .assign(subject_id=df_cleaned.subject_id.astype('category'),\n",
    "                   starting_loc_id=df_cleaned.starting_loc_id.astype('category'),\n",
    "                   human_agent=df_cleaned.human_agent.astype('category'),\n",
    "                   trial_id_per_location=df_cleaned.trial_id_per_location.astype('category'),\n",
    "                   trial_id=df_cleaned.trial_id.astype('category')\n",
    "                   ))\n",
    "\n",
    "lmm_df.info()"
   ],
   "metadata": {
    "collapsed": false,
    "pycharm": {
     "name": "#%%\n"
    }
   }
  },
  {
   "cell_type": "code",
   "execution_count": 30,
   "outputs": [
    {
     "data": {
      "text/plain": "23"
     },
     "execution_count": 30,
     "metadata": {},
     "output_type": "execute_result"
    }
   ],
   "source": [
    "N = lmm_df.subject_id.nunique()\n",
    "N"
   ],
   "metadata": {
    "collapsed": false,
    "pycharm": {
     "name": "#%%\n"
    }
   }
  },
  {
   "cell_type": "code",
   "execution_count": 31,
   "outputs": [
    {
     "name": "stdout",
     "output_type": "stream",
     "text": [
      "Variable: absolute_180_angles    Data Type: float64 \n",
      "\n",
      " Number of Obs.: 7708 \n",
      " Number of missing obs.: 0 \n",
      " Percent missing: 0.0 \n",
      " Number of unique values: 7708 \n",
      "\n",
      " Range: [0.0098611111833122, 179.98338618386344] \n",
      " Mean: 48.08 \n",
      " Standard Deviation: 44.3 \n",
      " Mode: 0.0098611111833122 \n",
      " 10th Percentile: 4.061728074435263 \n",
      " 25th Percentile: 12.864763109725658 \n",
      " 50th Percentile: 33.697730978897454 \n",
      " 75th Percentile: 71.5482171723512 \n",
      " 90th Percentile: 117.0012642321176 \n",
      "\n",
      "\n",
      "\n",
      "\n",
      "\n",
      "Variable: RT    Data Type: float64 \n",
      "\n",
      " Number of Obs.: 7708 \n",
      " Number of missing obs.: 0 \n",
      " Percent missing: 0.0 \n",
      " Number of unique values: 7684 \n",
      "\n",
      " Range: [0.955792665481567, 29.289794206619263] \n",
      " Mean: 7.77 \n",
      " Standard Deviation: 5.56 \n",
      " Mode: 1.3769052028656 \n",
      " 10th Percentile: 2.431258296966553 \n",
      " 25th Percentile: 3.621542990207672 \n",
      " 50th Percentile: 6.063600659370422 \n",
      " 75th Percentile: 10.153734385967253 \n",
      " 90th Percentile: 15.809007906913761 \n",
      "\n",
      "\n",
      "\n",
      "\n",
      "\n",
      "Variable: distance_to_target    Data Type: float64 \n",
      "\n",
      " Number of Obs.: 7708 \n",
      " Number of missing obs.: 0 \n",
      " Percent missing: 0.0 \n",
      " Number of unique values: 7708 \n",
      "\n",
      " Range: [21.578343424291063, 738.7762677401834] \n",
      " Mean: 289.5 \n",
      " Standard Deviation: 139.74 \n",
      " Mode: 21.578343424291063 \n",
      " 10th Percentile: 112.78507026553272 \n",
      " 25th Percentile: 181.58538825512704 \n",
      " 50th Percentile: 273.0258922949297 \n",
      " 75th Percentile: 384.9367608798304 \n",
      " 90th Percentile: 482.8398499579443 \n",
      "\n",
      "\n",
      "\n",
      "\n",
      "\n",
      "Variable: subject_id    Data Type: category \n",
      "\n",
      " Number of Obs.: 7708 \n",
      " Number of missing obs.: 0 \n",
      " Percent missing: 0.0 \n",
      " Number of unique values: 23 \n",
      "\n",
      " Data Values and Counts: \n",
      " \n",
      "  Values  Frequency\n",
      "    365        333\n",
      "    479        336\n",
      "   1754        336\n",
      "   2258        336\n",
      "   3246        336\n",
      "   3572        335\n",
      "   3976        335\n",
      "   4176        336\n",
      "   4796        336\n",
      "   5238        329\n",
      "   5531        336\n",
      "   5741        335\n",
      "   6642        336\n",
      "   7093        335\n",
      "   7264        336\n",
      "   7412        335\n",
      "   7842        334\n",
      "   8007        336\n",
      "   8469        336\n",
      "   8695        334\n",
      "   9472        336\n",
      "   9502        336\n",
      "   9601        335\n",
      "\n",
      "\n",
      "\n",
      "\n",
      "Variable: starting_loc_id    Data Type: category \n",
      "\n",
      " Number of Obs.: 7708 \n",
      " Number of missing obs.: 0 \n",
      " Percent missing: 0.0 \n",
      " Number of unique values: 28 \n",
      "\n",
      " Data Values and Counts: \n",
      " \n",
      "  Values  Frequency\n",
      "      1        276\n",
      "      2        276\n",
      "      4        276\n",
      "      5        276\n",
      "      7        274\n",
      "      9        276\n",
      "     14        276\n",
      "     18        274\n",
      "     19        276\n",
      "     20        276\n",
      "     21        274\n",
      "     25        276\n",
      "     29        276\n",
      "     30        275\n",
      "     34        275\n",
      "     35        272\n",
      "     36        276\n",
      "     37        276\n",
      "     38        276\n",
      "     40        276\n",
      "     43        276\n",
      "     44        276\n",
      "     45        275\n",
      "     51        276\n",
      "     52        274\n",
      "     54        273\n",
      "     55        275\n",
      "     58        275\n",
      "\n",
      "\n",
      "\n",
      "\n",
      "Variable: human_agent    Data Type: category \n",
      "\n",
      " Number of Obs.: 7708 \n",
      " Number of missing obs.: 0 \n",
      " Percent missing: 0.0 \n",
      " Number of unique values: 56 \n",
      "\n",
      " Data Values and Counts: \n",
      " \n",
      "  Values  Frequency\n",
      "      1        155\n",
      "      2        132\n",
      "      3        137\n",
      "      4        137\n",
      "      5        144\n",
      "      6        124\n",
      "      7        144\n",
      "      8        137\n",
      "      9        115\n",
      "     10        143\n",
      "     11        133\n",
      "     12        147\n",
      "     13        139\n",
      "     14        141\n",
      "     15        138\n",
      "     16        167\n",
      "     17        138\n",
      "     18        122\n",
      "     19        125\n",
      "     20        129\n",
      "     21        151\n",
      "     22        145\n",
      "     23        142\n",
      "     24        108\n",
      "     25        126\n",
      "     26        136\n",
      "     27        153\n",
      "     28        132\n",
      "     29        134\n",
      "     30        117\n",
      "     31        142\n",
      "     32        123\n",
      "     33        165\n",
      "     34        136\n",
      "     35        147\n",
      "     36        127\n",
      "     37        135\n",
      "     38        136\n",
      "     39        129\n",
      "     40        135\n",
      "     41        160\n",
      "     42        128\n",
      "     43        139\n",
      "     44        121\n",
      "     45        140\n",
      "     46        138\n",
      "     47        142\n",
      "     48        146\n",
      "     49        122\n",
      "     50        145\n",
      "     51        149\n",
      "     52        160\n",
      "     53        136\n",
      "     54        144\n",
      "     55        126\n",
      "     56        146\n",
      "\n",
      "\n",
      "\n",
      "\n",
      "Variable: trial_id_per_location    Data Type: category \n",
      "\n",
      " Number of Obs.: 7708 \n",
      " Number of missing obs.: 0 \n",
      " Percent missing: 0.0 \n",
      " Number of unique values: 12 \n",
      "\n",
      " Data Values and Counts: \n",
      " \n",
      "  Values  Frequency\n",
      "      1        634\n",
      "      2        642\n",
      "      3        643\n",
      "      4        644\n",
      "      5        643\n",
      "      6        643\n",
      "      7        643\n",
      "      8        644\n",
      "      9        643\n",
      "     10        643\n",
      "     11        642\n",
      "     12        644\n",
      "\n",
      "\n",
      "\n",
      "\n",
      "Variable: trial_id    Data Type: category \n",
      "\n",
      " Number of Obs.: 7708 \n",
      " Number of missing obs.: 0 \n",
      " Percent missing: 0.0 \n",
      " Number of unique values: 336 \n",
      "\n",
      " Data Values and Counts: \n",
      " \n",
      "  Values  Frequency\n",
      "      1         18\n",
      "      2         22\n",
      "      3         23\n",
      "      4         23\n",
      "      5         23\n",
      "      6         23\n",
      "      7         23\n",
      "      8         23\n",
      "      9         23\n",
      "     10         23\n",
      "     11         23\n",
      "     12         23\n",
      "     13         22\n",
      "     14         23\n",
      "     15         23\n",
      "     16         23\n",
      "     17         23\n",
      "     18         23\n",
      "     19         23\n",
      "     20         23\n",
      "     21         23\n",
      "     22         23\n",
      "     23         23\n",
      "     24         23\n",
      "     25         22\n",
      "     26         23\n",
      "     27         23\n",
      "     28         23\n",
      "     29         22\n",
      "     30         23\n",
      "     31         22\n",
      "     32         23\n",
      "     33         23\n",
      "     34         23\n",
      "     35         23\n",
      "     36         23\n",
      "     37         23\n",
      "     38         22\n",
      "     39         23\n",
      "     40         23\n",
      "     41         23\n",
      "     42         23\n",
      "     43         23\n",
      "     44         23\n",
      "     45         23\n",
      "     46         23\n",
      "     47         23\n",
      "     48         23\n",
      "     49         22\n",
      "     50         23\n",
      "     51         23\n",
      "     52         23\n",
      "     53         23\n",
      "     54         23\n",
      "     55         23\n",
      "     56         23\n",
      "     57         23\n",
      "     58         23\n",
      "     59         23\n",
      "     60         23\n",
      "     61         23\n",
      "     62         23\n",
      "     63         23\n",
      "     64         23\n",
      "     65         23\n",
      "     66         22\n",
      "     67         23\n",
      "     68         23\n",
      "     69         23\n",
      "     70         23\n",
      "     71         23\n",
      "     72         23\n",
      "     73         23\n",
      "     74         23\n",
      "     75         23\n",
      "     76         23\n",
      "     77         23\n",
      "     78         23\n",
      "     79         23\n",
      "     80         23\n",
      "     81         23\n",
      "     82         23\n",
      "     83         23\n",
      "     84         23\n",
      "     85         23\n",
      "     86         23\n",
      "     87         23\n",
      "     88         23\n",
      "     89         23\n",
      "     90         23\n",
      "     91         23\n",
      "     92         23\n",
      "     93         23\n",
      "     94         23\n",
      "     95         23\n",
      "     96         23\n",
      "     97         23\n",
      "     98         23\n",
      "     99         23\n",
      "    100         23\n",
      "    101         23\n",
      "    102         23\n",
      "    103         23\n",
      "    104         23\n",
      "    105         23\n",
      "    106         23\n",
      "    107         23\n",
      "    108         23\n",
      "    109         23\n",
      "    110         23\n",
      "    111         22\n",
      "    112         23\n",
      "    113         23\n",
      "    114         23\n",
      "    115         23\n",
      "    116         23\n",
      "    117         23\n",
      "    118         23\n",
      "    119         23\n",
      "    120         23\n",
      "    121         23\n",
      "    122         23\n",
      "    123         23\n",
      "    124         23\n",
      "    125         23\n",
      "    126         23\n",
      "    127         23\n",
      "    128         23\n",
      "    129         23\n",
      "    130         23\n",
      "    131         23\n",
      "    132         23\n",
      "    133         23\n",
      "    134         23\n",
      "    135         23\n",
      "    136         23\n",
      "    137         23\n",
      "    138         23\n",
      "    139         23\n",
      "    140         23\n",
      "    141         23\n",
      "    142         23\n",
      "    143         23\n",
      "    144         23\n",
      "    145         23\n",
      "    146         23\n",
      "    147         23\n",
      "    148         23\n",
      "    149         23\n",
      "    150         23\n",
      "    151         23\n",
      "    152         23\n",
      "    153         23\n",
      "    154         23\n",
      "    155         23\n",
      "    156         23\n",
      "    157         23\n",
      "    158         23\n",
      "    159         23\n",
      "    160         23\n",
      "    161         23\n",
      "    162         23\n",
      "    163         23\n",
      "    164         23\n",
      "    165         23\n",
      "    166         23\n",
      "    167         23\n",
      "    168         23\n",
      "    169         23\n",
      "    170         23\n",
      "    171         23\n",
      "    172         23\n",
      "    173         23\n",
      "    174         23\n",
      "    175         23\n",
      "    176         23\n",
      "    177         23\n",
      "    178         23\n",
      "    179         23\n",
      "    180         23\n",
      "    181         23\n",
      "    182         23\n",
      "    183         23\n",
      "    184         23\n",
      "    185         23\n",
      "    186         23\n",
      "    187         23\n",
      "    188         23\n",
      "    189         23\n",
      "    190         23\n",
      "    191         23\n",
      "    192         23\n",
      "    193         23\n",
      "    194         23\n",
      "    195         23\n",
      "    196         23\n",
      "    197         23\n",
      "    198         23\n",
      "    199         23\n",
      "    200         23\n",
      "    201         23\n",
      "    202         23\n",
      "    203         23\n",
      "    204         23\n",
      "    205         23\n",
      "    206         23\n",
      "    207         23\n",
      "    208         23\n",
      "    209         23\n",
      "    210         23\n",
      "    211         23\n",
      "    212         23\n",
      "    213         23\n",
      "    214         23\n",
      "    215         23\n",
      "    216         23\n",
      "    217         23\n",
      "    218         23\n",
      "    219         23\n",
      "    220         23\n",
      "    221         23\n",
      "    222         23\n",
      "    223         23\n",
      "    224         23\n",
      "    225         22\n",
      "    226         22\n",
      "    227         23\n",
      "    228         23\n",
      "    229         22\n",
      "    230         23\n",
      "    231         23\n",
      "    232         23\n",
      "    233         23\n",
      "    234         23\n",
      "    235         23\n",
      "    236         23\n",
      "    237         23\n",
      "    238         23\n",
      "    239         23\n",
      "    240         23\n",
      "    241         23\n",
      "    242         23\n",
      "    243         23\n",
      "    244         23\n",
      "    245         23\n",
      "    246         23\n",
      "    247         23\n",
      "    248         23\n",
      "    249         23\n",
      "    250         23\n",
      "    251         22\n",
      "    252         23\n",
      "    253         23\n",
      "    254         23\n",
      "    255         23\n",
      "    256         23\n",
      "    257         23\n",
      "    258         23\n",
      "    259         23\n",
      "    260         23\n",
      "    261         23\n",
      "    262         23\n",
      "    263         23\n",
      "    264         23\n",
      "    265         23\n",
      "    266         23\n",
      "    267         23\n",
      "    268         23\n",
      "    269         23\n",
      "    270         23\n",
      "    271         23\n",
      "    272         23\n",
      "    273         23\n",
      "    274         23\n",
      "    275         23\n",
      "    276         23\n",
      "    277         23\n",
      "    278         23\n",
      "    279         23\n",
      "    280         23\n",
      "    281         23\n",
      "    282         23\n",
      "    283         23\n",
      "    284         23\n",
      "    285         23\n",
      "    286         23\n",
      "    287         23\n",
      "    288         23\n",
      "    289         23\n",
      "    290         23\n",
      "    291         23\n",
      "    292         23\n",
      "    293         23\n",
      "    294         23\n",
      "    295         23\n",
      "    296         23\n",
      "    297         23\n",
      "    298         23\n",
      "    299         23\n",
      "    300         23\n",
      "    301         22\n",
      "    302         23\n",
      "    303         23\n",
      "    304         23\n",
      "    305         23\n",
      "    306         23\n",
      "    307         23\n",
      "    308         23\n",
      "    309         23\n",
      "    310         23\n",
      "    311         23\n",
      "    312         23\n",
      "    313         23\n",
      "    314         23\n",
      "    315         23\n",
      "    316         23\n",
      "    317         23\n",
      "    318         23\n",
      "    319         23\n",
      "    320         23\n",
      "    321         23\n",
      "    322         23\n",
      "    323         22\n",
      "    324         23\n",
      "    325         23\n",
      "    326         23\n",
      "    327         23\n",
      "    328         23\n",
      "    329         23\n",
      "    330         23\n",
      "    331         23\n",
      "    332         23\n",
      "    333         23\n",
      "    334         23\n",
      "    335         23\n",
      "    336         23\n",
      "\n",
      "\n",
      "\n",
      "\n"
     ]
    }
   ],
   "source": [
    "rp.codebook(lmm_df)"
   ],
   "metadata": {
    "collapsed": false,
    "pycharm": {
     "name": "#%%\n"
    }
   }
  },
  {
   "cell_type": "code",
   "execution_count": 32,
   "outputs": [
    {
     "name": "stdout",
     "output_type": "stream",
     "text": [
      "\n",
      "\n"
     ]
    },
    {
     "data": {
      "text/plain": "                   N     Mean       SD      SE  95% Conf.  Interval\nstarting_loc_id                                                    \n1                276  46.7310  41.6004  2.5041    41.8014   51.6605\n2                276  33.5257  30.9483  1.8629    29.8584   37.1930\n4                276  45.7968  43.7805  2.6353    40.6089   50.9846\n5                276  62.7748  51.2321  3.0838    56.7040   68.8457\n7                274  38.7264  39.5038  2.3865    34.0281   43.4247\n9                276  27.5027  26.7153  1.6081    24.3370   30.6684\n14               276  41.3706  40.0602  2.4113    36.6236   46.1176\n18               274  51.9744  48.8015  2.9482    46.1703   57.7786\n19               276  43.0256  42.7547  2.5735    37.9593   48.0920\n20               276  48.0658  41.1517  2.4770    43.1894   52.9422\n21               274  45.1841  43.9356  2.6542    39.9587   50.4095\n25               276  39.2105  35.4404  2.1333    35.0109   43.4101\n29               276  56.8525  48.1531  2.8985    51.1465   62.5585\n30               275  59.6341  52.7650  3.1819    53.3701   65.8980\n34               275  47.0189  40.5075  2.4427    42.2100   51.8277\n35               272  65.2838  54.8018  3.3228    58.7419   71.8256\n36               276  48.9842  42.7402  2.5727    43.9196   54.0488\n37               276  47.1165  39.8367  2.3979    42.3959   51.8370\n38               276  39.2249  31.3367  1.8862    35.5116   42.9382\n40               276  51.1918  44.6000  2.6846    45.9068   56.4768\n43               276  51.9477  46.7182  2.8121    46.4117   57.4836\n44               276  45.7279  41.9330  2.5241    40.7590   50.6969\n45               275  45.2855  43.6882  2.6345    40.0991   50.4720\n51               276  48.4309  34.0405  2.0490    44.3972   52.4646\n52               274  60.9253  51.3694  3.1033    54.8158   67.0348\n54               273  35.7667  36.3543  2.2003    31.4350   40.0984\n55               275  52.3203  47.8827  2.8874    46.6359   58.0047\n58               275  66.8480  56.0122  3.3777    60.1985   73.4974",
      "text/html": "<div>\n<style scoped>\n    .dataframe tbody tr th:only-of-type {\n        vertical-align: middle;\n    }\n\n    .dataframe tbody tr th {\n        vertical-align: top;\n    }\n\n    .dataframe thead th {\n        text-align: right;\n    }\n</style>\n<table border=\"1\" class=\"dataframe\">\n  <thead>\n    <tr style=\"text-align: right;\">\n      <th></th>\n      <th>N</th>\n      <th>Mean</th>\n      <th>SD</th>\n      <th>SE</th>\n      <th>95% Conf.</th>\n      <th>Interval</th>\n    </tr>\n    <tr>\n      <th>starting_loc_id</th>\n      <th></th>\n      <th></th>\n      <th></th>\n      <th></th>\n      <th></th>\n      <th></th>\n    </tr>\n  </thead>\n  <tbody>\n    <tr>\n      <th>1</th>\n      <td>276</td>\n      <td>46.7310</td>\n      <td>41.6004</td>\n      <td>2.5041</td>\n      <td>41.8014</td>\n      <td>51.6605</td>\n    </tr>\n    <tr>\n      <th>2</th>\n      <td>276</td>\n      <td>33.5257</td>\n      <td>30.9483</td>\n      <td>1.8629</td>\n      <td>29.8584</td>\n      <td>37.1930</td>\n    </tr>\n    <tr>\n      <th>4</th>\n      <td>276</td>\n      <td>45.7968</td>\n      <td>43.7805</td>\n      <td>2.6353</td>\n      <td>40.6089</td>\n      <td>50.9846</td>\n    </tr>\n    <tr>\n      <th>5</th>\n      <td>276</td>\n      <td>62.7748</td>\n      <td>51.2321</td>\n      <td>3.0838</td>\n      <td>56.7040</td>\n      <td>68.8457</td>\n    </tr>\n    <tr>\n      <th>7</th>\n      <td>274</td>\n      <td>38.7264</td>\n      <td>39.5038</td>\n      <td>2.3865</td>\n      <td>34.0281</td>\n      <td>43.4247</td>\n    </tr>\n    <tr>\n      <th>9</th>\n      <td>276</td>\n      <td>27.5027</td>\n      <td>26.7153</td>\n      <td>1.6081</td>\n      <td>24.3370</td>\n      <td>30.6684</td>\n    </tr>\n    <tr>\n      <th>14</th>\n      <td>276</td>\n      <td>41.3706</td>\n      <td>40.0602</td>\n      <td>2.4113</td>\n      <td>36.6236</td>\n      <td>46.1176</td>\n    </tr>\n    <tr>\n      <th>18</th>\n      <td>274</td>\n      <td>51.9744</td>\n      <td>48.8015</td>\n      <td>2.9482</td>\n      <td>46.1703</td>\n      <td>57.7786</td>\n    </tr>\n    <tr>\n      <th>19</th>\n      <td>276</td>\n      <td>43.0256</td>\n      <td>42.7547</td>\n      <td>2.5735</td>\n      <td>37.9593</td>\n      <td>48.0920</td>\n    </tr>\n    <tr>\n      <th>20</th>\n      <td>276</td>\n      <td>48.0658</td>\n      <td>41.1517</td>\n      <td>2.4770</td>\n      <td>43.1894</td>\n      <td>52.9422</td>\n    </tr>\n    <tr>\n      <th>21</th>\n      <td>274</td>\n      <td>45.1841</td>\n      <td>43.9356</td>\n      <td>2.6542</td>\n      <td>39.9587</td>\n      <td>50.4095</td>\n    </tr>\n    <tr>\n      <th>25</th>\n      <td>276</td>\n      <td>39.2105</td>\n      <td>35.4404</td>\n      <td>2.1333</td>\n      <td>35.0109</td>\n      <td>43.4101</td>\n    </tr>\n    <tr>\n      <th>29</th>\n      <td>276</td>\n      <td>56.8525</td>\n      <td>48.1531</td>\n      <td>2.8985</td>\n      <td>51.1465</td>\n      <td>62.5585</td>\n    </tr>\n    <tr>\n      <th>30</th>\n      <td>275</td>\n      <td>59.6341</td>\n      <td>52.7650</td>\n      <td>3.1819</td>\n      <td>53.3701</td>\n      <td>65.8980</td>\n    </tr>\n    <tr>\n      <th>34</th>\n      <td>275</td>\n      <td>47.0189</td>\n      <td>40.5075</td>\n      <td>2.4427</td>\n      <td>42.2100</td>\n      <td>51.8277</td>\n    </tr>\n    <tr>\n      <th>35</th>\n      <td>272</td>\n      <td>65.2838</td>\n      <td>54.8018</td>\n      <td>3.3228</td>\n      <td>58.7419</td>\n      <td>71.8256</td>\n    </tr>\n    <tr>\n      <th>36</th>\n      <td>276</td>\n      <td>48.9842</td>\n      <td>42.7402</td>\n      <td>2.5727</td>\n      <td>43.9196</td>\n      <td>54.0488</td>\n    </tr>\n    <tr>\n      <th>37</th>\n      <td>276</td>\n      <td>47.1165</td>\n      <td>39.8367</td>\n      <td>2.3979</td>\n      <td>42.3959</td>\n      <td>51.8370</td>\n    </tr>\n    <tr>\n      <th>38</th>\n      <td>276</td>\n      <td>39.2249</td>\n      <td>31.3367</td>\n      <td>1.8862</td>\n      <td>35.5116</td>\n      <td>42.9382</td>\n    </tr>\n    <tr>\n      <th>40</th>\n      <td>276</td>\n      <td>51.1918</td>\n      <td>44.6000</td>\n      <td>2.6846</td>\n      <td>45.9068</td>\n      <td>56.4768</td>\n    </tr>\n    <tr>\n      <th>43</th>\n      <td>276</td>\n      <td>51.9477</td>\n      <td>46.7182</td>\n      <td>2.8121</td>\n      <td>46.4117</td>\n      <td>57.4836</td>\n    </tr>\n    <tr>\n      <th>44</th>\n      <td>276</td>\n      <td>45.7279</td>\n      <td>41.9330</td>\n      <td>2.5241</td>\n      <td>40.7590</td>\n      <td>50.6969</td>\n    </tr>\n    <tr>\n      <th>45</th>\n      <td>275</td>\n      <td>45.2855</td>\n      <td>43.6882</td>\n      <td>2.6345</td>\n      <td>40.0991</td>\n      <td>50.4720</td>\n    </tr>\n    <tr>\n      <th>51</th>\n      <td>276</td>\n      <td>48.4309</td>\n      <td>34.0405</td>\n      <td>2.0490</td>\n      <td>44.3972</td>\n      <td>52.4646</td>\n    </tr>\n    <tr>\n      <th>52</th>\n      <td>274</td>\n      <td>60.9253</td>\n      <td>51.3694</td>\n      <td>3.1033</td>\n      <td>54.8158</td>\n      <td>67.0348</td>\n    </tr>\n    <tr>\n      <th>54</th>\n      <td>273</td>\n      <td>35.7667</td>\n      <td>36.3543</td>\n      <td>2.2003</td>\n      <td>31.4350</td>\n      <td>40.0984</td>\n    </tr>\n    <tr>\n      <th>55</th>\n      <td>275</td>\n      <td>52.3203</td>\n      <td>47.8827</td>\n      <td>2.8874</td>\n      <td>46.6359</td>\n      <td>58.0047</td>\n    </tr>\n    <tr>\n      <th>58</th>\n      <td>275</td>\n      <td>66.8480</td>\n      <td>56.0122</td>\n      <td>3.3777</td>\n      <td>60.1985</td>\n      <td>73.4974</td>\n    </tr>\n  </tbody>\n</table>\n</div>"
     },
     "execution_count": 32,
     "metadata": {},
     "output_type": "execute_result"
    }
   ],
   "source": [
    "rp.summary_cont(lmm_df.groupby(['starting_loc_id',])['absolute_180_angles'])"
   ],
   "metadata": {
    "collapsed": false,
    "pycharm": {
     "name": "#%%\n"
    }
   }
  },
  {
   "cell_type": "code",
   "execution_count": 33,
   "outputs": [
    {
     "data": {
      "text/plain": "<Figure size 504x432 with 2 Axes>",
      "image/png": "[encoded data removed]"
     },
     "metadata": {},
     "output_type": "display_data"
    }
   ],
   "source": [
    "fig, axes = plt.subplots(figsize = (7, 6))\n",
    "\n",
    "sns.heatmap(\n",
    "    data=(lmm_df\n",
    "          .rename(columns={'absolute_180_angles' : 'angular error',\n",
    "                           'distance_to_target' : 'target distance'})\n",
    "          .corr()),\n",
    "    annot = True,\n",
    "    fmt='.2g',\n",
    "    cmap= 'coolwarm'\n",
    ")\n",
    "\n",
    "plt.suptitle(t='Correlation matrix', size=16, x=.45)\n",
    "\n",
    "plt.show()\n",
    "\n",
    "fig.savefig(f'{PLOT_PATH}/correlation_matrix_{N}.png', bbox_inches='tight', dpi=90)"
   ],
   "metadata": {
    "collapsed": false,
    "pycharm": {
     "name": "#%%\n"
    }
   }
  },
  {
   "cell_type": "markdown",
   "source": [
    "### Random Intercept model"
   ],
   "metadata": {
    "collapsed": false
   }
  },
  {
   "cell_type": "markdown",
   "source": [
    "#### Angular deviation"
   ],
   "metadata": {
    "collapsed": false
   }
  },
  {
   "cell_type": "markdown",
   "source": [
    "##### Predicting `angular error` based on `starting location`, `distance to target` and `human agent / building`"
   ],
   "metadata": {
    "collapsed": false
   }
  },
  {
   "cell_type": "markdown",
   "source": [
    "Find the starting location id of the location closest to the center of locations\n",
    "_(this will be used as the reference location for the analysis)_"
   ],
   "metadata": {
    "collapsed": false
   }
  },
  {
   "cell_type": "code",
   "execution_count": 45,
   "outputs": [
    {
     "data": {
      "text/plain": "starting_loc_id                     5.000000\ndistance_to_center_of_locations    27.763098\nName: 60, dtype: float64"
     },
     "execution_count": 45,
     "metadata": {},
     "output_type": "execute_result"
    }
   ],
   "source": [
    "df_cleaned[df_cleaned.distance_to_center_of_locations == min(df_cleaned.distance_to_center_of_locations)][['starting_loc_id', 'distance_to_center_of_locations']].iloc[0,:]"
   ],
   "metadata": {
    "collapsed": false,
    "pycharm": {
     "name": "#%%\n"
    }
   }
  },
  {
   "cell_type": "code",
   "execution_count": 38,
   "outputs": [
    {
     "name": "stdout",
     "output_type": "stream",
     "text": [
      "                             Mixed Linear Model Regression Results\n",
      "===============================================================================================\n",
      "Model:                      MixedLM           Dependent Variable:           absolute_180_angles\n",
      "No. Observations:           7708              Method:                       REML               \n",
      "No. Groups:                 23                Scale:                        1713.9889          \n",
      "Min. group size:            329               Log-Likelihood:               -39610.1276        \n",
      "Max. group size:            336               Converged:                    Yes                \n",
      "Mean group size:            335.1                                                              \n",
      "-----------------------------------------------------------------------------------------------\n",
      "                                                  Coef.  Std.Err.    z    P>|z|  [0.025  0.975]\n",
      "-----------------------------------------------------------------------------------------------\n",
      "Intercept                                         62.775    3.717  16.890 0.000  55.490  70.059\n",
      "C(starting_loc_id, Treatment(reference=5))[T.1]  -16.044    3.524  -4.552 0.000 -22.951  -9.137\n",
      "C(starting_loc_id, Treatment(reference=5))[T.2]  -29.249    3.524  -8.299 0.000 -36.157 -22.342\n",
      "C(starting_loc_id, Treatment(reference=5))[T.4]  -16.978    3.524  -4.818 0.000 -23.885 -10.071\n",
      "C(starting_loc_id, Treatment(reference=5))[T.7]  -24.019    3.531  -6.803 0.000 -30.939 -17.099\n",
      "C(starting_loc_id, Treatment(reference=5))[T.9]  -35.272    3.524 -10.008 0.000 -42.179 -28.365\n",
      "C(starting_loc_id, Treatment(reference=5))[T.14] -21.404    3.524  -6.073 0.000 -28.312 -14.497\n",
      "C(starting_loc_id, Treatment(reference=5))[T.18] -10.777    3.531  -3.052 0.002 -17.697  -3.857\n",
      "C(starting_loc_id, Treatment(reference=5))[T.19] -19.749    3.524  -5.604 0.000 -26.657 -12.842\n",
      "C(starting_loc_id, Treatment(reference=5))[T.20] -14.709    3.524  -4.174 0.000 -21.616  -7.802\n",
      "C(starting_loc_id, Treatment(reference=5))[T.21] -17.541    3.531  -4.968 0.000 -24.461 -10.621\n",
      "C(starting_loc_id, Treatment(reference=5))[T.25] -23.564    3.524  -6.686 0.000 -30.472 -16.657\n",
      "C(starting_loc_id, Treatment(reference=5))[T.29]  -5.922    3.524  -1.680 0.093 -12.830   0.985\n",
      "C(starting_loc_id, Treatment(reference=5))[T.30]  -3.122    3.527  -0.885 0.376 -10.036   3.792\n",
      "C(starting_loc_id, Treatment(reference=5))[T.34] -15.782    3.527  -4.474 0.000 -22.696  -8.869\n",
      "C(starting_loc_id, Treatment(reference=5))[T.35]   2.623    3.537   0.742 0.458  -4.309   9.556\n",
      "C(starting_loc_id, Treatment(reference=5))[T.36] -13.791    3.524  -3.913 0.000 -20.698  -6.883\n",
      "C(starting_loc_id, Treatment(reference=5))[T.37] -15.658    3.524  -4.443 0.000 -22.566  -8.751\n",
      "C(starting_loc_id, Treatment(reference=5))[T.38] -23.550    3.524  -6.682 0.000 -30.457 -16.643\n",
      "C(starting_loc_id, Treatment(reference=5))[T.40] -11.583    3.524  -3.287 0.001 -18.490  -4.676\n",
      "C(starting_loc_id, Treatment(reference=5))[T.43] -10.827    3.524  -3.072 0.002 -17.735  -3.920\n",
      "C(starting_loc_id, Treatment(reference=5))[T.44] -17.047    3.524  -4.837 0.000 -23.954 -10.140\n",
      "C(starting_loc_id, Treatment(reference=5))[T.45] -17.464    3.527  -4.951 0.000 -24.378 -10.551\n",
      "C(starting_loc_id, Treatment(reference=5))[T.51] -14.344    3.524  -4.070 0.000 -21.251  -7.437\n",
      "C(starting_loc_id, Treatment(reference=5))[T.52]  -1.792    3.531  -0.508 0.612  -8.713   5.128\n",
      "C(starting_loc_id, Treatment(reference=5))[T.54] -27.083    3.534  -7.664 0.000 -34.010 -20.157\n",
      "C(starting_loc_id, Treatment(reference=5))[T.55] -10.456    3.527  -2.964 0.003 -17.369  -3.542\n",
      "C(starting_loc_id, Treatment(reference=5))[T.58]   4.098    3.527   1.162 0.245  -2.816  11.012\n",
      "subject_id Var                                   174.867    1.311                              \n",
      "===============================================================================================\n",
      "\n"
     ]
    }
   ],
   "source": [
    "formula = 'absolute_180_angles ~ C(starting_loc_id, Treatment(reference=5))'\n",
    "\n",
    "model_LM = smf.mixedlm(formula = formula, data = lmm_df, groups='subject_id').fit()\n",
    "print(model_LM.summary())"
   ],
   "metadata": {
    "collapsed": false,
    "pycharm": {
     "name": "#%%\n"
    }
   }
  },
  {
   "cell_type": "code",
   "execution_count": 48,
   "outputs": [
    {
     "data": {
      "text/plain": "{365: subject_id    7.81794\n dtype: float64,\n 479: subject_id   -22.055755\n dtype: float64,\n 1754: subject_id    13.666454\n dtype: float64,\n 2258: subject_id   -16.453498\n dtype: float64,\n 3246: subject_id   -11.359021\n dtype: float64,\n 3572: subject_id    1.32921\n dtype: float64,\n 3976: subject_id   -5.66387\n dtype: float64,\n 4176: subject_id   -24.392943\n dtype: float64,\n 4796: subject_id    10.938194\n dtype: float64,\n 5238: subject_id    6.853239\n dtype: float64,\n 5531: subject_id    14.245089\n dtype: float64,\n 5741: subject_id    10.367571\n dtype: float64,\n 6642: subject_id   -13.140607\n dtype: float64,\n 7093: subject_id    5.201349\n dtype: float64,\n 7264: subject_id    10.535795\n dtype: float64,\n 7412: subject_id   -22.674788\n dtype: float64,\n 7842: subject_id    6.97044\n dtype: float64,\n 8007: subject_id    16.733609\n dtype: float64,\n 8469: subject_id   -4.286814\n dtype: float64,\n 8695: subject_id   -0.354718\n dtype: float64,\n 9472: subject_id    14.075685\n dtype: float64,\n 9502: subject_id    8.872174\n dtype: float64,\n 9601: subject_id   -7.224736\n dtype: float64}"
     },
     "execution_count": 48,
     "metadata": {},
     "output_type": "execute_result"
    }
   ],
   "source": [
    "model_LM.random_effects"
   ],
   "metadata": {
    "collapsed": false,
    "pycharm": {
     "name": "#%%\n"
    }
   }
  },
  {
   "cell_type": "code",
   "execution_count": 35,
   "outputs": [
    {
     "data": {
      "text/plain": "Intercept                                            45.234103\nC(starting_loc_id, Treatment(reference=10))[T.1]      1.496852\nC(starting_loc_id, Treatment(reference=10))[T.2]    -11.708435\nC(starting_loc_id, Treatment(reference=10))[T.4]      0.562651\nC(starting_loc_id, Treatment(reference=10))[T.5]     17.540730\nC(starting_loc_id, Treatment(reference=10))[T.7]     -6.477824\nC(starting_loc_id, Treatment(reference=10))[T.9]    -17.731362\nC(starting_loc_id, Treatment(reference=10))[T.14]    -3.863518\nC(starting_loc_id, Treatment(reference=10))[T.18]     6.764061\nC(starting_loc_id, Treatment(reference=10))[T.19]    -2.208465\nC(starting_loc_id, Treatment(reference=10))[T.20]     2.831692\nC(starting_loc_id, Treatment(reference=10))[T.25]    -6.023569\nC(starting_loc_id, Treatment(reference=10))[T.29]    11.618412\nC(starting_loc_id, Treatment(reference=10))[T.30]    14.418868\nC(starting_loc_id, Treatment(reference=10))[T.34]     1.758498\nC(starting_loc_id, Treatment(reference=10))[T.35]    20.164224\nC(starting_loc_id, Treatment(reference=10))[T.36]     3.750120\nC(starting_loc_id, Treatment(reference=10))[T.37]     1.882356\nC(starting_loc_id, Treatment(reference=10))[T.38]    -6.009186\nC(starting_loc_id, Treatment(reference=10))[T.40]     5.957679\nC(starting_loc_id, Treatment(reference=10))[T.43]     6.713552\nC(starting_loc_id, Treatment(reference=10))[T.44]     0.493834\nC(starting_loc_id, Treatment(reference=10))[T.45]     0.076344\nC(starting_loc_id, Treatment(reference=10))[T.51]     3.196794\nC(starting_loc_id, Treatment(reference=10))[T.52]    15.748244\nC(starting_loc_id, Treatment(reference=10))[T.54]    -9.542538\nC(starting_loc_id, Treatment(reference=10))[T.55]     7.084903\nC(starting_loc_id, Treatment(reference=10))[T.58]    21.638800\nsubject_id Var                                        0.102023\ndtype: float64"
     },
     "execution_count": 35,
     "metadata": {},
     "output_type": "execute_result"
    }
   ],
   "source": [
    "model_LM.params"
   ],
   "metadata": {
    "collapsed": false,
    "pycharm": {
     "name": "#%%\n"
    }
   }
  },
  {
   "cell_type": "code",
   "execution_count": 19,
   "outputs": [
    {
     "name": "stdout",
     "output_type": "stream",
     "text": [
      "                          Mixed Linear Model Regression Results\n",
      "==========================================================================================\n",
      "Model:                     MixedLM         Dependent Variable:         absolute_180_angles\n",
      "No. Observations:          7708            Method:                     REML               \n",
      "No. Groups:                23              Scale:                      1708.8779          \n",
      "Min. group size:           329             Log-Likelihood:             -38401.8516        \n",
      "Max. group size:           336             Converged:                  Yes                \n",
      "Mean group size:           335.1                                                          \n",
      "------------------------------------------------------------------------------------------\n",
      "                                              Coef.  Std.Err.   z    P>|z|  [0.025  0.975]\n",
      "------------------------------------------------------------------------------------------\n",
      "Intercept                                     52.430    9.502  5.518 0.000  33.807  71.052\n",
      "C(starting_loc_id)[T.2]                      -12.743    3.591 -3.549 0.000 -19.781  -5.705\n",
      "C(starting_loc_id)[T.4]                       -2.733    3.601 -0.759 0.448  -9.790   4.325\n",
      "C(starting_loc_id)[T.5]                       14.708    3.633  4.049 0.000   7.588  21.828\n",
      "C(starting_loc_id)[T.7]                       -7.858    3.592 -2.188 0.029 -14.897  -0.819\n",
      "C(starting_loc_id)[T.9]                      -19.562    3.591 -5.448 0.000 -26.600 -12.524\n",
      "C(starting_loc_id)[T.14]                      -6.137    3.621 -1.695 0.090 -13.235   0.961\n",
      "C(starting_loc_id)[T.18]                       4.407    3.590  1.228 0.220  -2.629  11.443\n",
      "C(starting_loc_id)[T.19]                      -4.661    3.589 -1.299 0.194 -11.696   2.374\n",
      "C(starting_loc_id)[T.20]                      -0.356    3.596 -0.099 0.921  -7.405   6.693\n",
      "C(starting_loc_id)[T.21]                      -3.761    3.638 -1.034 0.301 -10.892   3.370\n",
      "C(starting_loc_id)[T.25]                      -8.822    3.610 -2.444 0.015 -15.897  -1.747\n",
      "C(starting_loc_id)[T.29]                       8.365    3.622  2.309 0.021   1.265  15.464\n",
      "C(starting_loc_id)[T.30]                      10.681    3.609  2.960 0.003   3.609  17.754\n",
      "C(starting_loc_id)[T.34]                      -1.511    3.593 -0.421 0.674  -8.553   5.531\n",
      "C(starting_loc_id)[T.35]                      16.580    3.627  4.572 0.000   9.472  23.688\n",
      "C(starting_loc_id)[T.36]                       0.224    3.612  0.062 0.950  -6.855   7.304\n",
      "C(starting_loc_id)[T.37]                      -0.711    3.613 -0.197 0.844  -7.792   6.369\n",
      "C(starting_loc_id)[T.38]                      -9.571    3.577 -2.676 0.007 -16.581  -2.561\n",
      "C(starting_loc_id)[T.40]                       2.970    3.579  0.830 0.407  -4.045   9.984\n",
      "C(starting_loc_id)[T.43]                       3.962    3.616  1.096 0.273  -3.124  11.049\n",
      "C(starting_loc_id)[T.44]                      -2.323    3.581 -0.649 0.517  -9.343   4.696\n",
      "C(starting_loc_id)[T.45]                      -2.495    3.605 -0.692 0.489  -9.561   4.571\n",
      "C(starting_loc_id)[T.51]                       2.151    3.613  0.595 0.552  -4.930   9.232\n",
      "C(starting_loc_id)[T.52]                      13.531    3.585  3.775 0.000   6.506  20.557\n",
      "C(starting_loc_id)[T.54]                     -10.322    3.593 -2.873 0.004 -17.363  -3.280\n",
      "C(starting_loc_id)[T.55]                       3.891    3.585  1.085 0.278  -3.135  10.917\n",
      "C(starting_loc_id)[T.58]                      17.666    3.620  4.880 0.000  10.571  24.761\n",
      "C(trial_id, Treatment(reference=336))[T.1]     9.836   13.044  0.754 0.451 -15.730  35.401\n",
      "C(trial_id, Treatment(reference=336))[T.2]     6.814   12.358  0.551 0.581 -17.407  31.036\n",
      "C(trial_id, Treatment(reference=336))[T.3]    22.030   12.220  1.803 0.071  -1.921  45.981\n",
      "C(trial_id, Treatment(reference=336))[T.4]    18.943   12.221  1.550 0.121  -5.009  42.895\n",
      "C(trial_id, Treatment(reference=336))[T.5]     1.859   12.221  0.152 0.879 -22.094  25.811\n",
      "C(trial_id, Treatment(reference=336))[T.6]    13.705   12.220  1.122 0.262 -10.246  37.656\n",
      "C(trial_id, Treatment(reference=336))[T.7]     4.208   12.220  0.344 0.731 -19.743  28.160\n",
      "C(trial_id, Treatment(reference=336))[T.8]    12.078   12.220  0.988 0.323 -11.873  36.029\n",
      "C(trial_id, Treatment(reference=336))[T.9]     0.288   12.221  0.024 0.981 -23.664  24.241\n",
      "C(trial_id, Treatment(reference=336))[T.10]   -8.686   12.221 -0.711 0.477 -32.638  15.266\n",
      "C(trial_id, Treatment(reference=336))[T.11]    8.250   12.220  0.675 0.500 -15.701  32.201\n",
      "C(trial_id, Treatment(reference=336))[T.12]   -8.127   12.221 -0.665 0.506 -32.080  15.827\n",
      "C(trial_id, Treatment(reference=336))[T.13]   -4.062   12.350 -0.329 0.742 -28.268  20.145\n",
      "C(trial_id, Treatment(reference=336))[T.14]    3.003   12.213  0.246 0.806 -20.935  26.941\n",
      "C(trial_id, Treatment(reference=336))[T.15]   -3.880   12.214 -0.318 0.751 -27.819  20.060\n",
      "C(trial_id, Treatment(reference=336))[T.16]   10.344   12.213  0.847 0.397 -13.594  34.281\n",
      "C(trial_id, Treatment(reference=336))[T.17]  -11.045   12.213 -0.904 0.366 -34.982  12.893\n",
      "C(trial_id, Treatment(reference=336))[T.18]    0.796   12.214  0.065 0.948 -23.143  24.735\n",
      "C(trial_id, Treatment(reference=336))[T.19]  -14.345   12.213 -1.175 0.240 -38.283   9.593\n",
      "C(trial_id, Treatment(reference=336))[T.20]  -14.268   12.213 -1.168 0.243 -38.205   9.670\n",
      "C(trial_id, Treatment(reference=336))[T.21]   11.270   12.213  0.923 0.356 -12.668  35.208\n",
      "C(trial_id, Treatment(reference=336))[T.22]   -6.408   12.214 -0.525 0.600 -30.347  17.531\n",
      "C(trial_id, Treatment(reference=336))[T.23]   14.908   12.213  1.221 0.222  -9.029  38.846\n",
      "C(trial_id, Treatment(reference=336))[T.24]   -0.471   12.213 -0.039 0.969 -24.409  23.466\n",
      "C(trial_id, Treatment(reference=336))[T.25]  -14.569   12.354 -1.179 0.238 -38.781   9.644\n",
      "C(trial_id, Treatment(reference=336))[T.26]    7.227   12.214  0.592 0.554 -16.711  31.165\n",
      "C(trial_id, Treatment(reference=336))[T.27]   14.514   12.213  1.188 0.235  -9.424  38.451\n",
      "C(trial_id, Treatment(reference=336))[T.28]  -18.469   12.213 -1.512 0.130 -42.407   5.469\n",
      "C(trial_id, Treatment(reference=336))[T.29]    0.246   12.353  0.020 0.984 -23.965  24.457\n",
      "C(trial_id, Treatment(reference=336))[T.30]  -12.994   12.214 -1.064 0.287 -36.934  10.946\n",
      "C(trial_id, Treatment(reference=336))[T.31]   -6.831   12.353 -0.553 0.580 -31.043  17.380\n",
      "C(trial_id, Treatment(reference=336))[T.32]    1.239   12.213  0.101 0.919 -22.698  25.177\n",
      "C(trial_id, Treatment(reference=336))[T.33]   14.238   12.215  1.166 0.244  -9.703  38.179\n",
      "C(trial_id, Treatment(reference=336))[T.34]   -1.708   12.213 -0.140 0.889 -25.646  22.230\n",
      "C(trial_id, Treatment(reference=336))[T.35]    5.893   12.214  0.483 0.629 -18.045  29.831\n",
      "C(trial_id, Treatment(reference=336))[T.36]    1.095   12.213  0.090 0.929 -22.843  25.032\n",
      "C(trial_id, Treatment(reference=336))[T.37]    1.351   12.222  0.111 0.912 -22.604  25.306\n",
      "C(trial_id, Treatment(reference=336))[T.38]    8.989   12.360  0.727 0.467 -15.236  33.214\n",
      "C(trial_id, Treatment(reference=336))[T.39]    2.015   12.221  0.165 0.869 -21.938  25.969\n",
      "C(trial_id, Treatment(reference=336))[T.40]   -3.067   12.221 -0.251 0.802 -27.020  20.887\n",
      "C(trial_id, Treatment(reference=336))[T.41]    8.170   12.223  0.668 0.504 -15.786  32.126\n",
      "C(trial_id, Treatment(reference=336))[T.42]   -3.742   12.222 -0.306 0.759 -27.697  20.212\n",
      "C(trial_id, Treatment(reference=336))[T.43]  -13.405   12.222 -1.097 0.273 -37.360  10.550\n",
      "C(trial_id, Treatment(reference=336))[T.44]  -10.636   12.223 -0.870 0.384 -34.592  13.321\n",
      "C(trial_id, Treatment(reference=336))[T.45]    5.004   12.222  0.409 0.682 -18.951  28.959\n",
      "C(trial_id, Treatment(reference=336))[T.46]   16.896   12.221  1.382 0.167  -7.057  40.849\n",
      "C(trial_id, Treatment(reference=336))[T.47]    4.715   12.221  0.386 0.700 -19.239  28.669\n",
      "C(trial_id, Treatment(reference=336))[T.48]    8.966   12.221  0.734 0.463 -14.988  32.919\n",
      "C(trial_id, Treatment(reference=336))[T.49]    0.451   12.356  0.037 0.971 -23.765  24.667\n",
      "C(trial_id, Treatment(reference=336))[T.50]   -1.438   12.218 -0.118 0.906 -25.384  22.508\n",
      "C(trial_id, Treatment(reference=336))[T.51]    9.965   12.217  0.816 0.415 -13.981  33.911\n",
      "C(trial_id, Treatment(reference=336))[T.52]   -9.852   12.217 -0.806 0.420 -33.798  14.093\n",
      "C(trial_id, Treatment(reference=336))[T.53]    3.569   12.218  0.292 0.770 -20.378  27.516\n",
      "C(trial_id, Treatment(reference=336))[T.54]   -2.169   12.217 -0.178 0.859 -26.115  21.776\n",
      "C(trial_id, Treatment(reference=336))[T.55]   -6.168   12.218 -0.505 0.614 -30.116  17.779\n",
      "C(trial_id, Treatment(reference=336))[T.56]  -11.578   12.218 -0.948 0.343 -35.526  12.369\n",
      "C(trial_id, Treatment(reference=336))[T.57]   -7.638   12.217 -0.625 0.532 -31.583  16.308\n",
      "C(trial_id, Treatment(reference=336))[T.58]   -6.192   12.217 -0.507 0.612 -30.138  17.754\n",
      "C(trial_id, Treatment(reference=336))[T.59]   -1.995   12.218 -0.163 0.870 -25.942  21.952\n",
      "C(trial_id, Treatment(reference=336))[T.60]    1.155   12.218  0.095 0.925 -22.791  25.101\n",
      "C(trial_id, Treatment(reference=336))[T.61]    6.061   12.212  0.496 0.620 -17.873  29.995\n",
      "C(trial_id, Treatment(reference=336))[T.62]    8.627   12.211  0.706 0.480 -15.307  32.561\n",
      "C(trial_id, Treatment(reference=336))[T.63]   13.507   12.212  1.106 0.269 -10.428  37.443\n",
      "C(trial_id, Treatment(reference=336))[T.64]   -0.861   12.211 -0.071 0.944 -24.795  23.073\n",
      "C(trial_id, Treatment(reference=336))[T.65]   -6.574   12.211 -0.538 0.590 -30.508  17.359\n",
      "C(trial_id, Treatment(reference=336))[T.66]   -5.717   12.350 -0.463 0.643 -29.922  18.489\n",
      "C(trial_id, Treatment(reference=336))[T.67]   12.794   12.211  1.048 0.295 -11.140  36.728\n",
      "C(trial_id, Treatment(reference=336))[T.68]   -8.573   12.212 -0.702 0.483 -32.509  15.362\n",
      "C(trial_id, Treatment(reference=336))[T.69]   12.188   12.213  0.998 0.318 -11.749  36.125\n",
      "C(trial_id, Treatment(reference=336))[T.70]   -5.856   12.212 -0.480 0.632 -29.791  18.079\n",
      "C(trial_id, Treatment(reference=336))[T.71]    1.032   12.212  0.084 0.933 -22.903  24.966\n",
      "C(trial_id, Treatment(reference=336))[T.72]   -8.994   12.211 -0.737 0.461 -32.928  14.940\n",
      "C(trial_id, Treatment(reference=336))[T.73]   17.518   12.208  1.435 0.151  -6.409  41.444\n",
      "C(trial_id, Treatment(reference=336))[T.74]    2.167   12.208  0.178 0.859 -21.759  26.094\n",
      "C(trial_id, Treatment(reference=336))[T.75]   -7.986   12.208 -0.654 0.513 -31.913  15.942\n",
      "C(trial_id, Treatment(reference=336))[T.76]   -4.730   12.208 -0.387 0.698 -28.658  19.197\n",
      "C(trial_id, Treatment(reference=336))[T.77]    2.558   12.208  0.210 0.834 -21.368  26.485\n",
      "C(trial_id, Treatment(reference=336))[T.78]   -1.229   12.208 -0.101 0.920 -25.156  22.698\n",
      "C(trial_id, Treatment(reference=336))[T.79]    0.156   12.208  0.013 0.990 -23.771  24.083\n",
      "C(trial_id, Treatment(reference=336))[T.80]    5.196   12.208  0.426 0.670 -18.732  29.123\n",
      "C(trial_id, Treatment(reference=336))[T.81]    5.470   12.208  0.448 0.654 -18.457  29.396\n",
      "C(trial_id, Treatment(reference=336))[T.82]    7.414   12.208  0.607 0.544 -16.513  31.340\n",
      "C(trial_id, Treatment(reference=336))[T.83]   14.236   12.209  1.166 0.244  -9.693  38.164\n",
      "C(trial_id, Treatment(reference=336))[T.84]   -6.477   12.208 -0.531 0.596 -30.404  17.450\n",
      "C(trial_id, Treatment(reference=336))[T.85]   -3.329   12.218 -0.272 0.785 -27.276  20.619\n",
      "C(trial_id, Treatment(reference=336))[T.86]    0.030   12.218  0.002 0.998 -23.917  23.978\n",
      "C(trial_id, Treatment(reference=336))[T.87]   -2.568   12.218 -0.210 0.834 -26.515  21.380\n",
      "C(trial_id, Treatment(reference=336))[T.88]   -1.568   12.219 -0.128 0.898 -25.517  22.381\n",
      "C(trial_id, Treatment(reference=336))[T.89]    7.176   12.218  0.587 0.557 -16.771  31.124\n",
      "C(trial_id, Treatment(reference=336))[T.90]   -4.262   12.218 -0.349 0.727 -28.209  19.686\n",
      "C(trial_id, Treatment(reference=336))[T.91]   -2.718   12.218 -0.222 0.824 -26.665  21.229\n",
      "C(trial_id, Treatment(reference=336))[T.92]   -0.667   12.218 -0.055 0.956 -24.614  23.281\n",
      "C(trial_id, Treatment(reference=336))[T.93]   14.581   12.218  1.193 0.233  -9.366  38.528\n",
      "C(trial_id, Treatment(reference=336))[T.94]    3.119   12.218  0.255 0.799 -20.829  27.066\n",
      "C(trial_id, Treatment(reference=336))[T.95]   -8.971   12.218 -0.734 0.463 -32.918  14.977\n",
      "C(trial_id, Treatment(reference=336))[T.96]  -14.017   12.219 -1.147 0.251 -37.966   9.931\n",
      "C(trial_id, Treatment(reference=336))[T.97]   -4.249   12.219 -0.348 0.728 -28.198  19.700\n",
      "C(trial_id, Treatment(reference=336))[T.98]  -10.508   12.219 -0.860 0.390 -34.458  13.441\n",
      "C(trial_id, Treatment(reference=336))[T.99]   -9.124   12.219 -0.747 0.455 -33.073  14.825\n",
      "C(trial_id, Treatment(reference=336))[T.100]   1.284   12.221  0.105 0.916 -22.669  25.236\n",
      "C(trial_id, Treatment(reference=336))[T.101]  -0.509   12.220 -0.042 0.967 -24.460  23.442\n",
      "C(trial_id, Treatment(reference=336))[T.102]   4.599   12.220  0.376 0.707 -19.351  28.549\n",
      "C(trial_id, Treatment(reference=336))[T.103]  -3.542   12.219 -0.290 0.772 -27.492  20.407\n",
      "C(trial_id, Treatment(reference=336))[T.104]  -3.465   12.220 -0.284 0.777 -27.415  20.485\n",
      "C(trial_id, Treatment(reference=336))[T.105]  -8.176   12.219 -0.669 0.503 -32.125  15.773\n",
      "C(trial_id, Treatment(reference=336))[T.106]  11.660   12.220  0.954 0.340 -12.290  35.610\n",
      "C(trial_id, Treatment(reference=336))[T.107]  -6.916   12.219 -0.566 0.571 -30.865  17.033\n",
      "C(trial_id, Treatment(reference=336))[T.108]  -4.586   12.220 -0.375 0.707 -28.537  19.365\n",
      "C(trial_id, Treatment(reference=336))[T.109]  -1.818   12.224 -0.149 0.882 -25.777  22.141\n",
      "C(trial_id, Treatment(reference=336))[T.110]  -9.181   12.224 -0.751 0.453 -33.140  14.777\n",
      "C(trial_id, Treatment(reference=336))[T.111]  -6.873   12.363 -0.556 0.578 -31.104  17.357\n",
      "C(trial_id, Treatment(reference=336))[T.112]  -1.035   12.224 -0.085 0.933 -24.994  22.924\n",
      "C(trial_id, Treatment(reference=336))[T.113]  -2.747   12.224 -0.225 0.822 -26.706  21.212\n",
      "C(trial_id, Treatment(reference=336))[T.114]  -8.720   12.225 -0.713 0.476 -32.681  15.240\n",
      "C(trial_id, Treatment(reference=336))[T.115]  12.911   12.224  1.056 0.291 -11.048  36.870\n",
      "C(trial_id, Treatment(reference=336))[T.116]   1.139   12.225  0.093 0.926 -22.821  25.099\n",
      "C(trial_id, Treatment(reference=336))[T.117]  -4.112   12.225 -0.336 0.737 -28.072  19.849\n",
      "C(trial_id, Treatment(reference=336))[T.118]  -3.782   12.224 -0.309 0.757 -27.740  20.177\n",
      "C(trial_id, Treatment(reference=336))[T.119] -13.139   12.224 -1.075 0.282 -37.099  10.820\n",
      "C(trial_id, Treatment(reference=336))[T.120]  -5.534   12.226 -0.453 0.651 -29.497  18.428\n",
      "C(trial_id, Treatment(reference=336))[T.121]   2.892   12.221  0.237 0.813 -21.060  26.844\n",
      "C(trial_id, Treatment(reference=336))[T.122]  11.728   12.221  0.960 0.337 -12.225  35.680\n",
      "C(trial_id, Treatment(reference=336))[T.123]  18.042   12.221  1.476 0.140  -5.910  41.994\n",
      "C(trial_id, Treatment(reference=336))[T.124] -13.961   12.221 -1.142 0.253 -37.914   9.992\n",
      "C(trial_id, Treatment(reference=336))[T.125]   4.533   12.221  0.371 0.711 -19.419  28.485\n",
      "C(trial_id, Treatment(reference=336))[T.126]   0.493   12.221  0.040 0.968 -23.459  24.444\n",
      "C(trial_id, Treatment(reference=336))[T.127]   4.621   12.221  0.378 0.705 -19.331  28.573\n",
      "C(trial_id, Treatment(reference=336))[T.128]  -5.953   12.221 -0.487 0.626 -29.906  18.000\n",
      "C(trial_id, Treatment(reference=336))[T.129]  -7.941   12.222 -0.650 0.516 -31.895  16.013\n",
      "C(trial_id, Treatment(reference=336))[T.130]   4.713   12.221  0.386 0.700 -19.239  28.666\n",
      "C(trial_id, Treatment(reference=336))[T.131] -10.891   12.222 -0.891 0.373 -34.845  13.063\n",
      "C(trial_id, Treatment(reference=336))[T.132]   7.140   12.221  0.584 0.559 -16.813  31.093\n",
      "C(trial_id, Treatment(reference=336))[T.133]  -0.289   12.222 -0.024 0.981 -24.245  23.666\n",
      "C(trial_id, Treatment(reference=336))[T.134]   1.632   12.223  0.133 0.894 -22.324  25.588\n",
      "C(trial_id, Treatment(reference=336))[T.135]   4.259   12.223  0.348 0.728 -19.698  28.216\n",
      "C(trial_id, Treatment(reference=336))[T.136]  -2.279   12.222 -0.186 0.852 -26.234  21.677\n",
      "C(trial_id, Treatment(reference=336))[T.137]   5.242   12.223  0.429 0.668 -18.715  29.199\n",
      "C(trial_id, Treatment(reference=336))[T.138]  -8.254   12.223 -0.675 0.499 -32.210  15.701\n",
      "C(trial_id, Treatment(reference=336))[T.139] -11.830   12.222 -0.968 0.333 -35.786  12.125\n",
      "C(trial_id, Treatment(reference=336))[T.140]  -8.311   12.223 -0.680 0.497 -32.267  15.645\n",
      "C(trial_id, Treatment(reference=336))[T.141] -11.026   12.223 -0.902 0.367 -34.982  12.931\n",
      "C(trial_id, Treatment(reference=336))[T.142] -12.999   12.223 -1.063 0.288 -36.955  10.957\n",
      "C(trial_id, Treatment(reference=336))[T.143]   3.432   12.222  0.281 0.779 -20.523  27.388\n",
      "C(trial_id, Treatment(reference=336))[T.144]  -2.811   12.223 -0.230 0.818 -26.768  21.145\n",
      "C(trial_id, Treatment(reference=336))[T.145]   7.963   12.208  0.652 0.514 -15.964  31.890\n",
      "C(trial_id, Treatment(reference=336))[T.146]   5.420   12.210  0.444 0.657 -18.511  29.351\n",
      "C(trial_id, Treatment(reference=336))[T.147]   1.329   12.208  0.109 0.913 -22.597  25.256\n",
      "C(trial_id, Treatment(reference=336))[T.148]   4.716   12.208  0.386 0.699 -19.211  28.643\n",
      "C(trial_id, Treatment(reference=336))[T.149]  -3.968   12.208 -0.325 0.745 -27.896  19.960\n",
      "C(trial_id, Treatment(reference=336))[T.150]  -5.174   12.208 -0.424 0.672 -29.101  18.752\n",
      "C(trial_id, Treatment(reference=336))[T.151]  -4.597   12.208 -0.377 0.707 -28.525  19.331\n",
      "C(trial_id, Treatment(reference=336))[T.152]  -7.642   12.208 -0.626 0.531 -31.568  16.285\n",
      "C(trial_id, Treatment(reference=336))[T.153]  -8.537   12.208 -0.699 0.484 -32.464  15.390\n",
      "C(trial_id, Treatment(reference=336))[T.154]  12.613   12.208  1.033 0.302 -11.314  36.539\n",
      "C(trial_id, Treatment(reference=336))[T.155]   4.634   12.208  0.380 0.704 -19.293  28.561\n",
      "C(trial_id, Treatment(reference=336))[T.156]   4.412   12.210  0.361 0.718 -19.519  28.343\n",
      "C(trial_id, Treatment(reference=336))[T.157]   4.973   12.225  0.407 0.684 -18.988  28.933\n",
      "C(trial_id, Treatment(reference=336))[T.158] -11.841   12.225 -0.969 0.333 -35.802  12.119\n",
      "C(trial_id, Treatment(reference=336))[T.159]   4.109   12.225  0.336 0.737 -19.852  28.069\n",
      "C(trial_id, Treatment(reference=336))[T.160]   0.348   12.225  0.028 0.977 -23.613  24.309\n",
      "C(trial_id, Treatment(reference=336))[T.161]  -1.580   12.225 -0.129 0.897 -25.541  22.382\n",
      "C(trial_id, Treatment(reference=336))[T.162]  -2.346   12.225 -0.192 0.848 -26.307  21.614\n",
      "C(trial_id, Treatment(reference=336))[T.163]  -3.482   12.226 -0.285 0.776 -27.443  20.480\n",
      "C(trial_id, Treatment(reference=336))[T.164]   2.106   12.225  0.172 0.863 -21.855  26.066\n",
      "C(trial_id, Treatment(reference=336))[T.165]  -6.134   12.225 -0.502 0.616 -30.094  17.826\n",
      "C(trial_id, Treatment(reference=336))[T.166]  -8.348   12.225 -0.683 0.495 -32.309  15.612\n",
      "C(trial_id, Treatment(reference=336))[T.167]   3.981   12.226  0.326 0.745 -19.981  27.943\n",
      "C(trial_id, Treatment(reference=336))[T.168]  14.731   12.225  1.205 0.228  -9.228  38.691\n",
      "C(trial_id, Treatment(reference=336))[T.169]   1.611   12.215  0.132 0.895 -22.330  25.553\n",
      "C(trial_id, Treatment(reference=336))[T.170] -12.127   12.215 -0.993 0.321 -36.068  11.815\n",
      "C(trial_id, Treatment(reference=336))[T.171]   4.583   12.216  0.375 0.708 -19.359  28.526\n",
      "C(trial_id, Treatment(reference=336))[T.172]   4.656   12.215  0.381 0.703 -19.285  28.598\n",
      "C(trial_id, Treatment(reference=336))[T.173] -10.967   12.215 -0.898 0.369 -34.909  12.975\n",
      "C(trial_id, Treatment(reference=336))[T.174]   4.545   12.215  0.372 0.710 -19.397  28.486\n",
      "C(trial_id, Treatment(reference=336))[T.175]   2.738   12.216  0.224 0.823 -21.204  26.680\n",
      "C(trial_id, Treatment(reference=336))[T.176]   4.068   12.215  0.333 0.739 -19.873  28.009\n",
      "C(trial_id, Treatment(reference=336))[T.177]  -7.312   12.215 -0.599 0.549 -31.254  16.629\n",
      "C(trial_id, Treatment(reference=336))[T.178]   6.941   12.217  0.568 0.570 -17.003  30.885\n",
      "C(trial_id, Treatment(reference=336))[T.179] -14.549   12.215 -1.191 0.234 -38.490   9.392\n",
      "C(trial_id, Treatment(reference=336))[T.180]  17.820   12.215  1.459 0.145  -6.121  41.762\n",
      "C(trial_id, Treatment(reference=336))[T.181]  -2.369   12.220 -0.194 0.846 -26.320  21.581\n",
      "C(trial_id, Treatment(reference=336))[T.182]  -9.114   12.220 -0.746 0.456 -33.065  14.836\n",
      "C(trial_id, Treatment(reference=336))[T.183]  -2.377   12.220 -0.195 0.846 -26.327  21.574\n",
      "C(trial_id, Treatment(reference=336))[T.184]   4.093   12.220  0.335 0.738 -19.857  28.044\n",
      "C(trial_id, Treatment(reference=336))[T.185] -12.830   12.220 -1.050 0.294 -36.781  11.120\n",
      "C(trial_id, Treatment(reference=336))[T.186]  -3.240   12.220 -0.265 0.791 -27.191  20.711\n",
      "C(trial_id, Treatment(reference=336))[T.187] -15.020   12.220 -1.229 0.219 -38.970   8.931\n",
      "C(trial_id, Treatment(reference=336))[T.188] -11.286   12.221 -0.923 0.356 -35.238  12.667\n",
      "C(trial_id, Treatment(reference=336))[T.189]   0.462   12.220  0.038 0.970 -23.489  24.413\n",
      "C(trial_id, Treatment(reference=336))[T.190]   0.510   12.220  0.042 0.967 -23.441  24.460\n",
      "C(trial_id, Treatment(reference=336))[T.191]  10.098   12.220  0.826 0.409 -13.853  34.048\n",
      "C(trial_id, Treatment(reference=336))[T.192]   1.881   12.220  0.154 0.878 -22.069  25.832\n",
      "C(trial_id, Treatment(reference=336))[T.193]  -0.402   12.210 -0.033 0.974 -24.333  23.530\n",
      "C(trial_id, Treatment(reference=336))[T.194]  32.916   12.211  2.696 0.007   8.983  56.850\n",
      "C(trial_id, Treatment(reference=336))[T.195]   9.896   12.210  0.810 0.418 -14.035  33.827\n",
      "C(trial_id, Treatment(reference=336))[T.196]  -4.211   12.210 -0.345 0.730 -28.143  19.720\n",
      "C(trial_id, Treatment(reference=336))[T.197]  11.733   12.210  0.961 0.337 -12.199  35.664\n",
      "C(trial_id, Treatment(reference=336))[T.198]  10.513   12.211  0.861 0.389 -13.420  34.447\n",
      "C(trial_id, Treatment(reference=336))[T.199]   8.344   12.212  0.683 0.494 -15.591  32.279\n",
      "C(trial_id, Treatment(reference=336))[T.200]  12.435   12.210  1.018 0.308 -11.496  36.366\n",
      "C(trial_id, Treatment(reference=336))[T.201]  -3.152   12.211 -0.258 0.796 -27.084  20.780\n",
      "C(trial_id, Treatment(reference=336))[T.202]  -1.180   12.213 -0.097 0.923 -25.116  22.756\n",
      "C(trial_id, Treatment(reference=336))[T.203]   0.457   12.210  0.037 0.970 -23.475  24.388\n",
      "C(trial_id, Treatment(reference=336))[T.204]   1.393   12.210  0.114 0.909 -22.538  25.324\n",
      "C(trial_id, Treatment(reference=336))[T.205]   2.207   12.213  0.181 0.857 -21.731  26.144\n",
      "C(trial_id, Treatment(reference=336))[T.206]  11.078   12.213  0.907 0.364 -12.859  35.015\n",
      "C(trial_id, Treatment(reference=336))[T.207]  -2.474   12.214 -0.203 0.839 -26.414  21.465\n",
      "C(trial_id, Treatment(reference=336))[T.208]  -3.950   12.213 -0.323 0.746 -27.887  19.987\n",
      "C(trial_id, Treatment(reference=336))[T.209]  24.162   12.214  1.978 0.048   0.222  48.102\n",
      "C(trial_id, Treatment(reference=336))[T.210]  14.499   12.214  1.187 0.235  -9.439  38.437\n",
      "C(trial_id, Treatment(reference=336))[T.211]  -2.696   12.213 -0.221 0.825 -26.633  21.241\n",
      "C(trial_id, Treatment(reference=336))[T.212]   2.429   12.213  0.199 0.842 -21.508  26.366\n",
      "C(trial_id, Treatment(reference=336))[T.213]  -3.377   12.213 -0.277 0.782 -27.315  20.561\n",
      "C(trial_id, Treatment(reference=336))[T.214]  -8.215   12.215 -0.673 0.501 -32.155  15.725\n",
      "C(trial_id, Treatment(reference=336))[T.215]  -2.642   12.213 -0.216 0.829 -26.579  21.295\n",
      "C(trial_id, Treatment(reference=336))[T.216]  -5.976   12.213 -0.489 0.625 -29.914  17.961\n",
      "C(trial_id, Treatment(reference=336))[T.217]  -7.292   12.216 -0.597 0.551 -31.235  16.650\n",
      "C(trial_id, Treatment(reference=336))[T.218]  -2.471   12.217 -0.202 0.840 -26.415  21.473\n",
      "C(trial_id, Treatment(reference=336))[T.219]   1.102   12.216  0.090 0.928 -22.840  25.044\n",
      "C(trial_id, Treatment(reference=336))[T.220]   8.392   12.216  0.687 0.492 -15.550  32.335\n",
      "C(trial_id, Treatment(reference=336))[T.221] -10.504   12.215 -0.860 0.390 -34.446  13.438\n",
      "C(trial_id, Treatment(reference=336))[T.222] -13.577   12.216 -1.111 0.266 -37.519  10.365\n",
      "C(trial_id, Treatment(reference=336))[T.223] -16.037   12.216 -1.313 0.189 -39.979   7.905\n",
      "C(trial_id, Treatment(reference=336))[T.224]  -2.536   12.216 -0.208 0.836 -26.480  21.407\n",
      "C(trial_id, Treatment(reference=336))[T.225]  -1.216   12.354 -0.098 0.922 -25.429  22.997\n",
      "C(trial_id, Treatment(reference=336))[T.226] -16.248   12.354 -1.315 0.188 -40.462   7.965\n",
      "C(trial_id, Treatment(reference=336))[T.227]  14.311   12.215  1.172 0.241  -9.631  38.253\n",
      "C(trial_id, Treatment(reference=336))[T.228]  -9.462   12.216 -0.775 0.439 -33.404  14.480\n",
      "C(trial_id, Treatment(reference=336))[T.229]   8.771   12.360  0.710 0.478 -15.454  32.996\n",
      "C(trial_id, Treatment(reference=336))[T.230]  -1.460   12.223 -0.119 0.905 -25.416  22.496\n",
      "C(trial_id, Treatment(reference=336))[T.231] -12.057   12.221 -0.987 0.324 -36.009  11.896\n",
      "C(trial_id, Treatment(reference=336))[T.232]  11.963   12.222  0.979 0.328 -11.992  35.917\n",
      "C(trial_id, Treatment(reference=336))[T.233]  -6.878   12.221 -0.563 0.574 -30.831  17.075\n",
      "C(trial_id, Treatment(reference=336))[T.234]  -8.305   12.221 -0.680 0.497 -32.258  15.648\n",
      "C(trial_id, Treatment(reference=336))[T.235] -16.121   12.222 -1.319 0.187 -40.077   7.834\n",
      "C(trial_id, Treatment(reference=336))[T.236]   7.351   12.221  0.601 0.548 -16.602  31.304\n",
      "C(trial_id, Treatment(reference=336))[T.237]  -4.621   12.222 -0.378 0.705 -28.575  19.333\n",
      "C(trial_id, Treatment(reference=336))[T.238]  -8.725   12.221 -0.714 0.475 -32.678  15.228\n",
      "C(trial_id, Treatment(reference=336))[T.239]   3.650   12.222  0.299 0.765 -20.304  27.604\n",
      "C(trial_id, Treatment(reference=336))[T.240] -12.044   12.222 -0.985 0.324 -35.998  11.911\n",
      "C(trial_id, Treatment(reference=336))[T.241]  -0.917   12.213 -0.075 0.940 -24.854  23.020\n",
      "C(trial_id, Treatment(reference=336))[T.242]  -3.186   12.213 -0.261 0.794 -27.123  20.752\n",
      "C(trial_id, Treatment(reference=336))[T.243]  -9.404   12.214 -0.770 0.441 -33.344  14.535\n",
      "C(trial_id, Treatment(reference=336))[T.244]  -0.198   12.213 -0.016 0.987 -24.135  23.739\n",
      "C(trial_id, Treatment(reference=336))[T.245] -11.470   12.213 -0.939 0.348 -35.407  12.467\n",
      "C(trial_id, Treatment(reference=336))[T.246] -10.415   12.213 -0.853 0.394 -34.353  13.522\n",
      "C(trial_id, Treatment(reference=336))[T.247] -11.862   12.213 -0.971 0.331 -35.799  12.076\n",
      "C(trial_id, Treatment(reference=336))[T.248]  -6.537   12.213 -0.535 0.592 -30.474  17.400\n",
      "C(trial_id, Treatment(reference=336))[T.249]   0.182   12.213  0.015 0.988 -23.756  24.120\n",
      "C(trial_id, Treatment(reference=336))[T.250]   0.876   12.213  0.072 0.943 -23.061  24.814\n",
      "C(trial_id, Treatment(reference=336))[T.251]  -6.377   12.351 -0.516 0.606 -30.585  17.831\n",
      "C(trial_id, Treatment(reference=336))[T.252]  -2.509   12.213 -0.205 0.837 -26.447  21.428\n",
      "C(trial_id, Treatment(reference=336))[T.253]   4.291   12.217  0.351 0.725 -19.655  28.237\n",
      "C(trial_id, Treatment(reference=336))[T.254]  -5.783   12.217 -0.473 0.636 -29.728  18.163\n",
      "C(trial_id, Treatment(reference=336))[T.255]  -4.029   12.217 -0.330 0.742 -27.974  19.917\n",
      "C(trial_id, Treatment(reference=336))[T.256]  11.689   12.217  0.957 0.339 -12.257  35.634\n",
      "C(trial_id, Treatment(reference=336))[T.257] -22.306   12.219 -1.825 0.068 -46.254   1.643\n",
      "C(trial_id, Treatment(reference=336))[T.258]  -2.611   12.220 -0.214 0.831 -26.563  21.341\n",
      "C(trial_id, Treatment(reference=336))[T.259] -15.329   12.217 -1.255 0.210 -39.274   8.617\n",
      "C(trial_id, Treatment(reference=336))[T.260] -14.399   12.219 -1.178 0.239 -38.346   9.549\n",
      "C(trial_id, Treatment(reference=336))[T.261] -15.702   12.217 -1.285 0.199 -39.647   8.244\n",
      "C(trial_id, Treatment(reference=336))[T.262] -12.247   12.217 -1.002 0.316 -36.193  11.698\n",
      "C(trial_id, Treatment(reference=336))[T.263] -10.176   12.218 -0.833 0.405 -34.122  13.770\n",
      "C(trial_id, Treatment(reference=336))[T.264]   4.353   12.217  0.356 0.722 -19.592  28.299\n",
      "C(trial_id, Treatment(reference=336))[T.265]   9.051   12.213  0.741 0.459 -14.887  32.988\n",
      "C(trial_id, Treatment(reference=336))[T.266]  14.844   12.213  1.215 0.224  -9.092  38.780\n",
      "C(trial_id, Treatment(reference=336))[T.267]  12.587   12.213  1.031 0.303 -11.350  36.523\n",
      "C(trial_id, Treatment(reference=336))[T.268]  11.335   12.213  0.928 0.353 -12.602  35.272\n",
      "C(trial_id, Treatment(reference=336))[T.269]  -1.827   12.213 -0.150 0.881 -25.763  22.109\n",
      "C(trial_id, Treatment(reference=336))[T.270] -16.125   12.213 -1.320 0.187 -40.062   7.812\n",
      "C(trial_id, Treatment(reference=336))[T.271]  -6.520   12.213 -0.534 0.593 -30.457  17.416\n",
      "C(trial_id, Treatment(reference=336))[T.272] -10.969   12.213 -0.898 0.369 -34.906  12.967\n",
      "C(trial_id, Treatment(reference=336))[T.273]  11.102   12.213  0.909 0.363 -12.835  35.038\n",
      "C(trial_id, Treatment(reference=336))[T.274]  -2.512   12.213 -0.206 0.837 -26.449  21.424\n",
      "C(trial_id, Treatment(reference=336))[T.275]  13.365   12.213  1.094 0.274 -10.571  37.302\n",
      "C(trial_id, Treatment(reference=336))[T.276]   8.746   12.213  0.716 0.474 -15.190  32.682\n",
      "C(trial_id, Treatment(reference=336))[T.277]   4.107   12.215  0.336 0.737 -19.833  28.047\n",
      "C(trial_id, Treatment(reference=336))[T.278]  -7.316   12.215 -0.599 0.549 -31.258  16.626\n",
      "C(trial_id, Treatment(reference=336))[T.279]   5.334   12.215  0.437 0.662 -18.606  29.274\n",
      "C(trial_id, Treatment(reference=336))[T.280]  -0.532   12.215 -0.044 0.965 -24.472  23.408\n",
      "C(trial_id, Treatment(reference=336))[T.281] -13.994   12.215 -1.146 0.252 -37.936   9.947\n",
      "C(trial_id, Treatment(reference=336))[T.282]   0.261   12.215  0.021 0.983 -23.679  24.202\n",
      "C(trial_id, Treatment(reference=336))[T.283]   5.991   12.216  0.490 0.624 -17.952  29.934\n",
      "C(trial_id, Treatment(reference=336))[T.284] -11.971   12.215 -0.980 0.327 -35.912  11.969\n",
      "C(trial_id, Treatment(reference=336))[T.285]  16.590   12.215  1.358 0.174  -7.351  40.531\n",
      "C(trial_id, Treatment(reference=336))[T.286]  11.450   12.217  0.937 0.349 -12.494  35.394\n",
      "C(trial_id, Treatment(reference=336))[T.287] -10.821   12.215 -0.886 0.376 -34.761  13.120\n",
      "C(trial_id, Treatment(reference=336))[T.288]  -0.476   12.215 -0.039 0.969 -24.416  23.465\n",
      "C(trial_id, Treatment(reference=336))[T.289] -12.657   12.221 -1.036 0.300 -36.611  11.296\n",
      "C(trial_id, Treatment(reference=336))[T.290]  -7.171   12.219 -0.587 0.557 -31.120  16.778\n",
      "C(trial_id, Treatment(reference=336))[T.291]   1.639   12.219  0.134 0.893 -22.309  25.587\n",
      "C(trial_id, Treatment(reference=336))[T.292]   6.878   12.219  0.563 0.573 -17.070  30.826\n",
      "C(trial_id, Treatment(reference=336))[T.293]  -4.889   12.219 -0.400 0.689 -28.837  19.060\n",
      "C(trial_id, Treatment(reference=336))[T.294] -10.281   12.219 -0.841 0.400 -34.229  13.667\n",
      "C(trial_id, Treatment(reference=336))[T.295]  13.537   12.219  1.108 0.268 -10.411  37.485\n",
      "C(trial_id, Treatment(reference=336))[T.296]  -1.526   12.219 -0.125 0.901 -25.474  22.422\n",
      "C(trial_id, Treatment(reference=336))[T.297]   7.830   12.219  0.641 0.522 -16.119  31.779\n",
      "C(trial_id, Treatment(reference=336))[T.298]  11.567   12.221  0.947 0.344 -12.386  35.520\n",
      "C(trial_id, Treatment(reference=336))[T.299]  18.331   12.220  1.500 0.134  -5.619  42.282\n",
      "C(trial_id, Treatment(reference=336))[T.300]  -0.058   12.219 -0.005 0.996 -24.006  23.890\n",
      "C(trial_id, Treatment(reference=336))[T.301]  -9.485   12.364 -0.767 0.443 -33.718  14.749\n",
      "C(trial_id, Treatment(reference=336))[T.302]  -4.950   12.224 -0.405 0.685 -28.909  19.008\n",
      "C(trial_id, Treatment(reference=336))[T.303]  -7.936   12.224 -0.649 0.516 -31.895  16.022\n",
      "C(trial_id, Treatment(reference=336))[T.304]  -0.780   12.224 -0.064 0.949 -24.738  23.179\n",
      "C(trial_id, Treatment(reference=336))[T.305]  -8.176   12.224 -0.669 0.504 -32.135  15.783\n",
      "C(trial_id, Treatment(reference=336))[T.306]  -7.777   12.225 -0.636 0.525 -31.737  16.184\n",
      "C(trial_id, Treatment(reference=336))[T.307]  -6.683   12.224 -0.547 0.585 -30.642  17.277\n",
      "C(trial_id, Treatment(reference=336))[T.308]  -2.401   12.227 -0.196 0.844 -26.366  21.564\n",
      "C(trial_id, Treatment(reference=336))[T.309]  -4.440   12.226 -0.363 0.716 -28.403  19.522\n",
      "C(trial_id, Treatment(reference=336))[T.310] -13.741   12.224 -1.124 0.261 -37.700  10.217\n",
      "C(trial_id, Treatment(reference=336))[T.311] -12.349   12.224 -1.010 0.312 -36.309  11.610\n",
      "C(trial_id, Treatment(reference=336))[T.312]  -6.144   12.225 -0.503 0.615 -30.105  17.817\n",
      "C(trial_id, Treatment(reference=336))[T.313]  -0.180   12.204 -0.015 0.988 -24.099  23.739\n",
      "C(trial_id, Treatment(reference=336))[T.314]  -4.777   12.204 -0.391 0.695 -28.696  19.141\n",
      "C(trial_id, Treatment(reference=336))[T.315]   7.097   12.204  0.582 0.561 -16.822  31.016\n",
      "C(trial_id, Treatment(reference=336))[T.316]  -3.269   12.204 -0.268 0.789 -27.188  20.650\n",
      "C(trial_id, Treatment(reference=336))[T.317]   7.672   12.204  0.629 0.530 -16.247  31.591\n",
      "C(trial_id, Treatment(reference=336))[T.318]  -1.870   12.204 -0.153 0.878 -25.789  22.049\n",
      "C(trial_id, Treatment(reference=336))[T.319]   9.454   12.204  0.775 0.439 -14.465  33.373\n",
      "C(trial_id, Treatment(reference=336))[T.320]  -6.703   12.205 -0.549 0.583 -30.624  17.218\n",
      "C(trial_id, Treatment(reference=336))[T.321]  -6.360   12.204 -0.521 0.602 -30.279  17.559\n",
      "C(trial_id, Treatment(reference=336))[T.322]  -2.740   12.204 -0.225 0.822 -26.659  21.179\n",
      "C(trial_id, Treatment(reference=336))[T.323]   3.074   12.342  0.249 0.803 -21.116  27.263\n",
      "C(trial_id, Treatment(reference=336))[T.324]   6.148   12.204  0.504 0.614 -17.771  30.066\n",
      "C(trial_id, Treatment(reference=336))[T.325]   6.216   12.190  0.510 0.610 -17.676  30.108\n",
      "C(trial_id, Treatment(reference=336))[T.326]  18.278   12.190  1.499 0.134  -5.615  42.170\n",
      "C(trial_id, Treatment(reference=336))[T.327]  -2.422   12.191 -0.199 0.843 -26.316  21.472\n",
      "C(trial_id, Treatment(reference=336))[T.328]   0.245   12.190  0.020 0.984 -23.647  24.137\n",
      "C(trial_id, Treatment(reference=336))[T.329]  -4.913   12.190 -0.403 0.687 -28.806  18.979\n",
      "C(trial_id, Treatment(reference=336))[T.330]   4.653   12.190  0.382 0.703 -19.239  28.546\n",
      "C(trial_id, Treatment(reference=336))[T.331]  -1.933   12.192 -0.159 0.874 -25.830  21.963\n",
      "C(trial_id, Treatment(reference=336))[T.332]  -2.395   12.190 -0.196 0.844 -26.288  21.497\n",
      "C(trial_id, Treatment(reference=336))[T.333]   7.148   12.191  0.586 0.558 -16.746  31.042\n",
      "C(trial_id, Treatment(reference=336))[T.334]  11.744   12.190  0.963 0.335 -12.149  35.637\n",
      "C(trial_id, Treatment(reference=336))[T.335]   2.649   12.190  0.217 0.828 -21.243  26.542\n",
      "distance_to_target                            -0.014    0.004 -3.828 0.000  -0.021  -0.007\n",
      "subject_id Var                               173.975    1.307                             \n",
      "==========================================================================================\n",
      "\n"
     ]
    }
   ],
   "source": [
    "formula = 'absolute_180_angles ~ C(starting_loc_id) + distance_to_target + C(trial_id, Treatment(reference=336))'\n",
    "\n",
    "model_LM = smf.mixedlm(formula = formula, data = lmm_df, groups='subject_id').fit()\n",
    "print(model_LM.summary())"
   ],
   "metadata": {
    "collapsed": false,
    "pycharm": {
     "name": "#%%\n"
    }
   }
  },
  {
   "cell_type": "code",
   "execution_count": 48,
   "outputs": [
    {
     "data": {
      "text/plain": "0.10370891193531376"
     },
     "execution_count": 48,
     "metadata": {},
     "output_type": "execute_result"
    }
   ],
   "source": [
    "# icc\n",
    "0.177 / 1.7067"
   ],
   "metadata": {
    "collapsed": false,
    "pycharm": {
     "name": "#%%\n"
    }
   }
  },
  {
   "cell_type": "code",
   "execution_count": 49,
   "outputs": [
    {
     "data": {
      "text/plain": "<Figure size 432x288 with 1 Axes>",
      "image/png": "[encoded data removed]"
     },
     "metadata": {},
     "output_type": "display_data"
    }
   ],
   "source": [
    "sns.kdeplot(model_LM.resid, shade='fill', palette='Crest', alpha=.5, linewidth=0)\n",
    "plt.show()"
   ],
   "metadata": {
    "collapsed": false,
    "pycharm": {
     "name": "#%%\n"
    }
   }
  },
  {
   "cell_type": "code",
   "execution_count": 50,
   "outputs": [
    {
     "name": "stdout",
     "output_type": "stream",
     "text": [
      "                              Mixed Linear Model Regression Results\n",
      "==================================================================================================\n",
      "Model:                     MixedLM         Dependent Variable:         np.log(absolute_180_angles)\n",
      "No. Observations:          7708            Method:                     REML                       \n",
      "No. Groups:                23              Scale:                      1.7069                     \n",
      "Min. group size:           329             Log-Likelihood:             -13092.1128                \n",
      "Max. group size:           336             Converged:                  Yes                        \n",
      "Mean group size:           335.1                                                                  \n",
      "--------------------------------------------------------------------------------------------------\n",
      "                                                        Coef.  Std.Err.   z    P>|z| [0.025 0.975]\n",
      "--------------------------------------------------------------------------------------------------\n",
      "Intercept                                                3.573    0.131 27.332 0.000  3.317  3.830\n",
      "C(starting_loc_id, Treatment(reference=27))[T.1]        -0.307    0.112 -2.746 0.006 -0.527 -0.088\n",
      "C(starting_loc_id, Treatment(reference=27))[T.2]        -0.647    0.112 -5.785 0.000 -0.867 -0.428\n",
      "C(starting_loc_id, Treatment(reference=27))[T.4]        -0.467    0.111 -4.189 0.000 -0.685 -0.248\n",
      "C(starting_loc_id, Treatment(reference=27))[T.5]         0.038    0.111  0.343 0.732 -0.180  0.256\n",
      "C(starting_loc_id, Treatment(reference=27))[T.7]        -0.598    0.112 -5.347 0.000 -0.818 -0.379\n",
      "C(starting_loc_id, Treatment(reference=27))[T.9]        -0.882    0.113 -7.799 0.000 -1.104 -0.660\n",
      "C(starting_loc_id, Treatment(reference=27))[T.14]       -0.505    0.112 -4.525 0.000 -0.724 -0.286\n",
      "C(starting_loc_id, Treatment(reference=27))[T.18]       -0.325    0.112 -2.911 0.004 -0.544 -0.106\n",
      "C(starting_loc_id, Treatment(reference=27))[T.19]       -0.552    0.112 -4.946 0.000 -0.770 -0.333\n",
      "C(starting_loc_id, Treatment(reference=27))[T.20]       -0.260    0.112 -2.336 0.020 -0.479 -0.042\n",
      "C(starting_loc_id, Treatment(reference=27))[T.21]       -0.468    0.112 -4.190 0.000 -0.686 -0.249\n",
      "C(starting_loc_id, Treatment(reference=27))[T.25]       -0.527    0.112 -4.720 0.000 -0.745 -0.308\n",
      "C(starting_loc_id, Treatment(reference=27))[T.29]       -0.092    0.111 -0.823 0.411 -0.310  0.127\n",
      "C(starting_loc_id, Treatment(reference=27))[T.30]       -0.123    0.111 -1.100 0.272 -0.341  0.096\n",
      "C(starting_loc_id, Treatment(reference=27))[T.34]       -0.247    0.111 -2.218 0.027 -0.466 -0.029\n",
      "C(starting_loc_id, Treatment(reference=27))[T.35]       -0.026    0.112 -0.234 0.815 -0.245  0.193\n",
      "C(starting_loc_id, Treatment(reference=27))[T.36]       -0.293    0.111 -2.627 0.009 -0.511 -0.074\n",
      "C(starting_loc_id, Treatment(reference=27))[T.37]       -0.335    0.112 -3.006 0.003 -0.554 -0.117\n",
      "C(starting_loc_id, Treatment(reference=27))[T.38]       -0.372    0.112 -3.334 0.001 -0.591 -0.153\n",
      "C(starting_loc_id, Treatment(reference=27))[T.40]       -0.241    0.111 -2.161 0.031 -0.459 -0.022\n",
      "C(starting_loc_id, Treatment(reference=27))[T.43]       -0.192    0.111 -1.726 0.084 -0.410  0.026\n",
      "C(starting_loc_id, Treatment(reference=27))[T.44]       -0.416    0.111 -3.736 0.000 -0.635 -0.198\n",
      "C(starting_loc_id, Treatment(reference=27))[T.45]       -0.371    0.112 -3.316 0.001 -0.590 -0.152\n",
      "C(starting_loc_id, Treatment(reference=27))[T.51]       -0.086    0.112 -0.768 0.443 -0.307  0.134\n",
      "C(starting_loc_id, Treatment(reference=27))[T.52]       -0.124    0.112 -1.109 0.268 -0.343  0.095\n",
      "C(starting_loc_id, Treatment(reference=27))[T.54]       -0.681    0.113 -6.031 0.000 -0.902 -0.460\n",
      "C(starting_loc_id, Treatment(reference=27))[T.55]       -0.242    0.112 -2.154 0.031 -0.462 -0.022\n",
      "C(trial_id_per_location, Treatment(reference=12))[T.1]   0.045    0.073  0.622 0.534 -0.098  0.189\n",
      "C(trial_id_per_location, Treatment(reference=12))[T.2]   0.003    0.073  0.040 0.968 -0.140  0.146\n",
      "C(trial_id_per_location, Treatment(reference=12))[T.3]   0.054    0.073  0.739 0.460 -0.089  0.197\n",
      "C(trial_id_per_location, Treatment(reference=12))[T.4]   0.017    0.073  0.234 0.815 -0.126  0.160\n",
      "C(trial_id_per_location, Treatment(reference=12))[T.5]  -0.061    0.073 -0.832 0.405 -0.203  0.082\n",
      "C(trial_id_per_location, Treatment(reference=12))[T.6]  -0.036    0.073 -0.490 0.624 -0.178  0.107\n",
      "C(trial_id_per_location, Treatment(reference=12))[T.7]  -0.108    0.073 -1.482 0.138 -0.251  0.035\n",
      "C(trial_id_per_location, Treatment(reference=12))[T.8]  -0.061    0.073 -0.834 0.404 -0.203  0.082\n",
      "C(trial_id_per_location, Treatment(reference=12))[T.9]  -0.033    0.073 -0.454 0.650 -0.176  0.110\n",
      "C(trial_id_per_location, Treatment(reference=12))[T.10] -0.022    0.073 -0.307 0.759 -0.165  0.120\n",
      "C(trial_id_per_location, Treatment(reference=12))[T.11]  0.000    0.073  0.006 0.995 -0.142  0.143\n",
      "distance_to_target                                       0.000    0.000  0.893 0.372 -0.000  0.000\n",
      "subject_id Var                                           0.177    0.042                           \n",
      "==================================================================================================\n",
      "\n"
     ]
    }
   ],
   "source": [
    "formula = 'np.log(absolute_180_angles) ~ C(starting_loc_id, Treatment(reference=27)) + distance_to_target + C(trial_id_per_location, Treatment(reference=12))'\n",
    "\n",
    "model_LM = smf.mixedlm(formula = formula, data = lmm_df, groups='subject_id').fit()\n",
    "print(model_LM.summary())"
   ],
   "metadata": {
    "collapsed": false,
    "pycharm": {
     "name": "#%%\n"
    }
   }
  },
  {
   "cell_type": "code",
   "execution_count": 51,
   "outputs": [
    {
     "data": {
      "text/plain": "0.10370891193531376"
     },
     "execution_count": 51,
     "metadata": {},
     "output_type": "execute_result"
    }
   ],
   "source": [
    "# icc\n",
    "0.177 / 1.7067"
   ],
   "metadata": {
    "collapsed": false,
    "pycharm": {
     "name": "#%%\n"
    }
   }
  },
  {
   "cell_type": "code",
   "execution_count": 52,
   "outputs": [
    {
     "data": {
      "text/plain": "<Figure size 432x288 with 1 Axes>",
      "image/png": "[encoded data removed]"
     },
     "metadata": {},
     "output_type": "display_data"
    }
   ],
   "source": [
    "sns.kdeplot(model_LM.resid, shade='fill', palette='Crest', alpha=.5, linewidth=0)\n",
    "plt.show()"
   ],
   "metadata": {
    "collapsed": false,
    "pycharm": {
     "name": "#%%\n"
    }
   }
  },
  {
   "cell_type": "markdown",
   "source": [
    "##### Predicting `angular error` based on `starting location` and `distance to target`"
   ],
   "metadata": {
    "collapsed": false
   }
  },
  {
   "cell_type": "code",
   "execution_count": 13,
   "outputs": [
    {
     "name": "stdout",
     "output_type": "stream",
     "text": [
      "                             Mixed Linear Model Regression Results\n",
      "===============================================================================================\n",
      "Model:                      MixedLM           Dependent Variable:           absolute_180_angles\n",
      "No. Observations:           7708              Method:                       REML               \n",
      "No. Groups:                 23                Scale:                        1709.5923          \n",
      "Min. group size:            329               Log-Likelihood:               -39614.2431        \n",
      "Max. group size:            336               Converged:                    Yes                \n",
      "Mean group size:            335.1                                                              \n",
      "-----------------------------------------------------------------------------------------------\n",
      "                                                   Coef.  Std.Err.   z    P>|z|  [0.025  0.975]\n",
      "-----------------------------------------------------------------------------------------------\n",
      "Intercept                                          52.253    5.273  9.909 0.000  41.918  62.587\n",
      "C(starting_loc_id)[T.2]                           -12.944    3.524 -3.673 0.000 -19.852  -6.037\n",
      "C(starting_loc_id)[T.4]                            -1.662    3.531 -0.471 0.638  -8.583   5.258\n",
      "C(starting_loc_id)[T.5]                            14.415    3.548  4.063 0.000   7.461  21.369\n",
      "C(starting_loc_id)[T.7]                            -8.079    3.529 -2.289 0.022 -14.996  -1.162\n",
      "C(starting_loc_id)[T.9]                           -18.183    3.533 -5.147 0.000 -25.107 -11.259\n",
      "C(starting_loc_id)[T.14]                           -5.772    3.524 -1.638 0.101 -12.679   1.134\n",
      "C(starting_loc_id)[T.18]                            4.531    3.532  1.283 0.199  -2.391  11.453\n",
      "C(starting_loc_id)[T.19]                           -4.202    3.526 -1.192 0.233 -11.112   2.708\n",
      "C(starting_loc_id)[T.20]                            0.900    3.524  0.255 0.798  -6.007   7.807\n",
      "C(starting_loc_id)[T.21]                           -2.171    3.536 -0.614 0.539  -9.102   4.759\n",
      "C(starting_loc_id)[T.25]                           -7.973    3.524 -2.263 0.024 -14.880  -1.067\n",
      "C(starting_loc_id)[T.29]                            9.152    3.530  2.593 0.010   2.234  16.071\n",
      "C(starting_loc_id)[T.30]                           11.360    3.546  3.204 0.001   4.410  18.309\n",
      "C(starting_loc_id)[T.34]                           -0.651    3.535 -0.184 0.854  -7.579   6.276\n",
      "C(starting_loc_id)[T.35]                           17.035    3.557  4.790 0.000  10.065  24.006\n",
      "C(starting_loc_id)[T.36]                            1.407    3.529  0.399 0.690  -5.510   8.324\n",
      "C(starting_loc_id)[T.37]                           -0.133    3.525 -0.038 0.970  -7.041   6.775\n",
      "C(starting_loc_id)[T.38]                           -7.709    3.524 -2.188 0.029 -14.615  -0.803\n",
      "C(starting_loc_id)[T.40]                            3.495    3.531  0.990 0.322  -3.426  10.417\n",
      "C(starting_loc_id)[T.43]                            3.969    3.534  1.123 0.261  -2.958  10.896\n",
      "C(starting_loc_id)[T.44]                           -1.633    3.527 -0.463 0.643  -8.546   5.280\n",
      "C(starting_loc_id)[T.45]                           -1.592    3.526 -0.451 0.652  -8.502   5.318\n",
      "C(starting_loc_id)[T.51]                            2.424    3.525  0.688 0.492  -4.484   9.333\n",
      "C(starting_loc_id)[T.52]                           14.108    3.529  3.998 0.000   7.191  21.025\n",
      "C(starting_loc_id)[T.54]                          -10.176    3.537 -2.877 0.004 -17.109  -3.243\n",
      "C(starting_loc_id)[T.55]                            6.135    3.528  1.739 0.082  -0.780  13.049\n",
      "C(starting_loc_id)[T.58]                           18.799    3.543  5.306 0.000  11.855  25.742\n",
      "C(trial_id_per_location)[T.2]                      -6.146    5.283 -1.163 0.245 -16.500   4.208\n",
      "C(trial_id_per_location)[T.3]                       3.367    5.258  0.640 0.522  -6.939  13.672\n",
      "C(trial_id_per_location)[T.4]                       2.222    5.264  0.422 0.673  -8.096  12.539\n",
      "C(trial_id_per_location)[T.5]                      -2.272    5.266 -0.432 0.666 -12.593   8.048\n",
      "C(trial_id_per_location)[T.6]                      -0.778    5.318 -0.146 0.884 -11.200   9.645\n",
      "C(trial_id_per_location)[T.7]                      -3.872    5.283 -0.733 0.464 -14.226   6.483\n",
      "C(trial_id_per_location)[T.8]                      -2.367    5.304 -0.446 0.655 -12.763   8.029\n",
      "C(trial_id_per_location)[T.9]                       4.223    5.363  0.787 0.431  -6.289  14.734\n",
      "C(trial_id_per_location)[T.10]                     -6.610    5.308 -1.245 0.213 -17.013   3.792\n",
      "C(trial_id_per_location)[T.11]                      3.773    5.242  0.720 0.472  -6.501  14.046\n",
      "C(trial_id_per_location)[T.12]                     -1.177    5.407 -0.218 0.828 -11.774   9.420\n",
      "distance_to_target                                 -0.013    0.012 -1.068 0.285  -0.036   0.011\n",
      "distance_to_target:C(trial_id_per_location)[T.2]    0.023    0.017  1.396 0.163  -0.009   0.056\n",
      "distance_to_target:C(trial_id_per_location)[T.3]   -0.007    0.017 -0.434 0.664  -0.040   0.025\n",
      "distance_to_target:C(trial_id_per_location)[T.4]   -0.008    0.017 -0.457 0.648  -0.040   0.025\n",
      "distance_to_target:C(trial_id_per_location)[T.5]   -0.002    0.017 -0.147 0.883  -0.035   0.030\n",
      "distance_to_target:C(trial_id_per_location)[T.6]   -0.010    0.017 -0.574 0.566  -0.043   0.023\n",
      "distance_to_target:C(trial_id_per_location)[T.7]   -0.000    0.017 -0.006 0.995  -0.033   0.033\n",
      "distance_to_target:C(trial_id_per_location)[T.8]   -0.006    0.016 -0.385 0.701  -0.039   0.026\n",
      "distance_to_target:C(trial_id_per_location)[T.9]   -0.017    0.017 -0.987 0.323  -0.049   0.016\n",
      "distance_to_target:C(trial_id_per_location)[T.10]   0.018    0.017  1.050 0.294  -0.015   0.051\n",
      "distance_to_target:C(trial_id_per_location)[T.11]  -0.013    0.017 -0.775 0.439  -0.046   0.020\n",
      "distance_to_target:C(trial_id_per_location)[T.12]  -0.000    0.017 -0.017 0.986  -0.033   0.032\n",
      "subject_id Var                                    173.519    1.303                             \n",
      "===============================================================================================\n",
      "\n"
     ]
    }
   ],
   "source": [
    "formula = 'absolute_180_angles ~ C(starting_loc_id) + distance_to_target + C(trial_id_per_location) + distance_to_target:C(trial_id_per_location)'\n",
    "\n",
    "model_LM = smf.mixedlm(formula = formula, data = lmm_df, groups='subject_id').fit()\n",
    "print(model_LM.summary())"
   ],
   "metadata": {
    "collapsed": false,
    "pycharm": {
     "name": "#%%\n"
    }
   }
  },
  {
   "cell_type": "code",
   "execution_count": 14,
   "outputs": [
    {
     "data": {
      "text/plain": "<Figure size 432x288 with 1 Axes>",
      "image/png": "[encoded data removed]"
     },
     "metadata": {},
     "output_type": "display_data"
    }
   ],
   "source": [
    "sns.kdeplot(model_LM.resid, shade='fill', palette='Crest', alpha=.5, linewidth=0)\n",
    "plt.show()"
   ],
   "metadata": {
    "collapsed": false,
    "pycharm": {
     "name": "#%%\n"
    }
   }
  },
  {
   "cell_type": "code",
   "execution_count": 55,
   "outputs": [
    {
     "name": "stdout",
     "output_type": "stream",
     "text": [
      "                           Mixed Linear Model Regression Results\n",
      "============================================================================================\n",
      "Model:                   MixedLM       Dependent Variable:       np.log(absolute_180_angles)\n",
      "No. Observations:        7708          Method:                   REML                       \n",
      "No. Groups:              23            Scale:                    1.7065                     \n",
      "Min. group size:         329           Log-Likelihood:           -13075.3181                \n",
      "Max. group size:         336           Converged:                Yes                        \n",
      "Mean group size:         335.1                                                              \n",
      "--------------------------------------------------------------------------------------------\n",
      "                                                  Coef.  Std.Err.   z    P>|z| [0.025 0.975]\n",
      "--------------------------------------------------------------------------------------------\n",
      "Intercept                                          3.558    0.121 29.472 0.000  3.321  3.795\n",
      "C(starting_loc_id, Treatment(reference=27))[T.1]  -0.307    0.112 -2.741 0.006 -0.526 -0.087\n",
      "C(starting_loc_id, Treatment(reference=27))[T.2]  -0.647    0.112 -5.780 0.000 -0.866 -0.427\n",
      "C(starting_loc_id, Treatment(reference=27))[T.4]  -0.466    0.111 -4.187 0.000 -0.685 -0.248\n",
      "C(starting_loc_id, Treatment(reference=27))[T.5]   0.038    0.111  0.342 0.732 -0.180  0.256\n",
      "C(starting_loc_id, Treatment(reference=27))[T.7]  -0.598    0.112 -5.344 0.000 -0.817 -0.379\n",
      "C(starting_loc_id, Treatment(reference=27))[T.9]  -0.881    0.113 -7.792 0.000 -1.103 -0.659\n",
      "C(starting_loc_id, Treatment(reference=27))[T.14] -0.505    0.112 -4.522 0.000 -0.723 -0.286\n",
      "C(starting_loc_id, Treatment(reference=27))[T.18] -0.325    0.112 -2.913 0.004 -0.544 -0.106\n",
      "C(starting_loc_id, Treatment(reference=27))[T.19] -0.551    0.111 -4.943 0.000 -0.770 -0.333\n",
      "C(starting_loc_id, Treatment(reference=27))[T.20] -0.260    0.112 -2.332 0.020 -0.479 -0.042\n",
      "C(starting_loc_id, Treatment(reference=27))[T.21] -0.467    0.112 -4.188 0.000 -0.686 -0.249\n",
      "C(starting_loc_id, Treatment(reference=27))[T.25] -0.526    0.112 -4.717 0.000 -0.745 -0.308\n",
      "C(starting_loc_id, Treatment(reference=27))[T.29] -0.091    0.111 -0.821 0.412 -0.310  0.127\n",
      "C(starting_loc_id, Treatment(reference=27))[T.30] -0.123    0.111 -1.102 0.271 -0.341  0.096\n",
      "C(starting_loc_id, Treatment(reference=27))[T.34] -0.247    0.111 -2.217 0.027 -0.465 -0.029\n",
      "C(starting_loc_id, Treatment(reference=27))[T.35] -0.027    0.112 -0.239 0.811 -0.246  0.192\n",
      "C(starting_loc_id, Treatment(reference=27))[T.36] -0.292    0.111 -2.625 0.009 -0.511 -0.074\n",
      "C(starting_loc_id, Treatment(reference=27))[T.37] -0.335    0.112 -3.003 0.003 -0.553 -0.116\n",
      "C(starting_loc_id, Treatment(reference=27))[T.38] -0.372    0.112 -3.330 0.001 -0.591 -0.153\n",
      "C(starting_loc_id, Treatment(reference=27))[T.40] -0.240    0.111 -2.159 0.031 -0.459 -0.022\n",
      "C(starting_loc_id, Treatment(reference=27))[T.43] -0.192    0.111 -1.725 0.085 -0.410  0.026\n",
      "C(starting_loc_id, Treatment(reference=27))[T.44] -0.416    0.111 -3.734 0.000 -0.634 -0.198\n",
      "C(starting_loc_id, Treatment(reference=27))[T.45] -0.370    0.112 -3.314 0.001 -0.589 -0.151\n",
      "C(starting_loc_id, Treatment(reference=27))[T.51] -0.085    0.112 -0.760 0.447 -0.306  0.135\n",
      "C(starting_loc_id, Treatment(reference=27))[T.52] -0.123    0.112 -1.104 0.270 -0.343  0.096\n",
      "C(starting_loc_id, Treatment(reference=27))[T.54] -0.680    0.113 -6.025 0.000 -0.902 -0.459\n",
      "C(starting_loc_id, Treatment(reference=27))[T.55] -0.242    0.112 -2.149 0.032 -0.462 -0.021\n",
      "distance_to_target                                 0.000    0.000  0.846 0.398 -0.000  0.000\n",
      "subject_id Var                                     0.177    0.042                           \n",
      "============================================================================================\n",
      "\n"
     ]
    }
   ],
   "source": [
    "formula = 'np.log(absolute_180_angles) ~ C(starting_loc_id, Treatment(reference=27)) + distance_to_target'\n",
    "\n",
    "model_LM = smf.mixedlm(formula = formula, data = lmm_df, groups='subject_id').fit()\n",
    "print(model_LM.summary())"
   ],
   "metadata": {
    "collapsed": false,
    "pycharm": {
     "name": "#%%\n"
    }
   }
  },
  {
   "cell_type": "code",
   "execution_count": 56,
   "outputs": [
    {
     "data": {
      "text/plain": "0.1037210665104014"
     },
     "execution_count": 56,
     "metadata": {},
     "output_type": "execute_result"
    }
   ],
   "source": [
    "# icc\n",
    "0.177 / 1.7065"
   ],
   "metadata": {
    "collapsed": false,
    "pycharm": {
     "name": "#%%\n"
    }
   }
  },
  {
   "cell_type": "code",
   "execution_count": 57,
   "outputs": [
    {
     "data": {
      "text/plain": "<Figure size 432x288 with 1 Axes>",
      "image/png": "[encoded data removed]"
     },
     "metadata": {},
     "output_type": "display_data"
    }
   ],
   "source": [
    "sns.kdeplot(model_LM.resid, shade='fill', palette='Crest', alpha=.5, linewidth=0)\n",
    "plt.show()"
   ],
   "metadata": {
    "collapsed": false,
    "pycharm": {
     "name": "#%%\n"
    }
   }
  },
  {
   "cell_type": "markdown",
   "source": [
    "##### Predicting `angular error` based on `starting location`"
   ],
   "metadata": {
    "collapsed": false
   }
  },
  {
   "cell_type": "code",
   "execution_count": 15,
   "outputs": [
    {
     "name": "stdout",
     "output_type": "stream",
     "text": [
      "                Mixed Linear Model Regression Results\n",
      "======================================================================\n",
      "Model:               MixedLM  Dependent Variable:  absolute_180_angles\n",
      "No. Observations:    7708     Method:              REML               \n",
      "No. Groups:          23       Scale:               1713.9889          \n",
      "Min. group size:     329      Log-Likelihood:      -39610.1276        \n",
      "Max. group size:     336      Converged:           Yes                \n",
      "Mean group size:     335.1                                            \n",
      "----------------------------------------------------------------------\n",
      "                          Coef.  Std.Err.   z    P>|z|  [0.025  0.975]\n",
      "----------------------------------------------------------------------\n",
      "Intercept                 46.731    3.717 12.574 0.000  39.447  54.015\n",
      "C(starting_loc_id)[T.2]  -13.205    3.524 -3.747 0.000 -20.113  -6.298\n",
      "C(starting_loc_id)[T.4]   -0.934    3.524 -0.265 0.791  -7.842   5.973\n",
      "C(starting_loc_id)[T.5]   16.044    3.524  4.552 0.000   9.137  22.951\n",
      "C(starting_loc_id)[T.7]   -7.975    3.531 -2.259 0.024 -14.895  -1.055\n",
      "C(starting_loc_id)[T.9]  -19.228    3.524 -5.456 0.000 -26.136 -12.321\n",
      "C(starting_loc_id)[T.14]  -5.360    3.524 -1.521 0.128 -12.268   1.547\n",
      "C(starting_loc_id)[T.18]   5.267    3.531  1.492 0.136  -1.653  12.187\n",
      "C(starting_loc_id)[T.19]  -3.705    3.524 -1.051 0.293 -10.613   3.202\n",
      "C(starting_loc_id)[T.20]   1.335    3.524  0.379 0.705  -5.573   8.242\n",
      "C(starting_loc_id)[T.21]  -1.497    3.531 -0.424 0.672  -8.417   5.423\n",
      "C(starting_loc_id)[T.25]  -7.520    3.524 -2.134 0.033 -14.428  -0.613\n",
      "C(starting_loc_id)[T.29]  10.122    3.524  2.872 0.004   3.214  17.029\n",
      "C(starting_loc_id)[T.30]  12.922    3.527  3.663 0.000   6.008  19.836\n",
      "C(starting_loc_id)[T.34]   0.262    3.527  0.074 0.941  -6.652   7.175\n",
      "C(starting_loc_id)[T.35]  18.667    3.537  5.277 0.000  11.735  25.600\n",
      "C(starting_loc_id)[T.36]   2.253    3.524  0.639 0.523  -4.654   9.161\n",
      "C(starting_loc_id)[T.37]   0.386    3.524  0.109 0.913  -6.522   7.293\n",
      "C(starting_loc_id)[T.38]  -7.506    3.524 -2.130 0.033 -14.413  -0.599\n",
      "C(starting_loc_id)[T.40]   4.461    3.524  1.266 0.206  -2.447  11.368\n",
      "C(starting_loc_id)[T.43]   5.217    3.524  1.480 0.139  -1.691  12.124\n",
      "C(starting_loc_id)[T.44]  -1.003    3.524 -0.285 0.776  -7.910   5.904\n",
      "C(starting_loc_id)[T.45]  -1.421    3.527 -0.403 0.687  -8.334   5.493\n",
      "C(starting_loc_id)[T.51]   1.700    3.524  0.482 0.630  -5.207   8.607\n",
      "C(starting_loc_id)[T.52]  14.251    3.531  4.036 0.000   7.331  21.171\n",
      "C(starting_loc_id)[T.54] -11.039    3.534 -3.124 0.002 -17.966  -4.113\n",
      "C(starting_loc_id)[T.55]   5.588    3.527  1.584 0.113  -1.326  12.502\n",
      "C(starting_loc_id)[T.58]  20.142    3.527  5.710 0.000  13.228  27.056\n",
      "subject_id Var           174.867    1.311                             \n",
      "======================================================================\n",
      "\n"
     ]
    }
   ],
   "source": [
    "formula = 'absolute_180_angles ~ C(starting_loc_id)'\n",
    "\n",
    "model_LM = smf.mixedlm(formula = formula, data = lmm_df, groups='subject_id').fit()\n",
    "print(model_LM.summary())"
   ],
   "metadata": {
    "collapsed": false,
    "pycharm": {
     "name": "#%%\n"
    }
   }
  },
  {
   "cell_type": "code",
   "execution_count": null,
   "outputs": [],
   "source": [
    "# AIC"
   ],
   "metadata": {
    "collapsed": false,
    "pycharm": {
     "name": "#%%\n"
    }
   }
  },
  {
   "cell_type": "code",
   "execution_count": 58,
   "outputs": [
    {
     "data": {
      "text/plain": "0.10372714486638537"
     },
     "execution_count": 58,
     "metadata": {},
     "output_type": "execute_result"
    }
   ],
   "source": [
    "# icc\n",
    "0.177 / 1.7064"
   ],
   "metadata": {
    "collapsed": false,
    "pycharm": {
     "name": "#%%\n"
    }
   }
  },
  {
   "cell_type": "code",
   "execution_count": 59,
   "outputs": [
    {
     "data": {
      "text/plain": "<Figure size 432x288 with 1 Axes>",
      "image/png": "[encoded data removed]"
     },
     "metadata": {},
     "output_type": "display_data"
    }
   ],
   "source": [
    "sns.kdeplot(model_LM.resid, shade='fill', palette='Crest', alpha=.5, linewidth=0)\n",
    "plt.show()"
   ],
   "metadata": {
    "collapsed": false,
    "pycharm": {
     "name": "#%%\n"
    }
   }
  },
  {
   "cell_type": "markdown",
   "source": [],
   "metadata": {
    "collapsed": false,
    "pycharm": {
     "name": "#%% md\n"
    }
   }
  },
  {
   "cell_type": "markdown",
   "source": [
    "##### Predicting `angular error` based on `distance to target`"
   ],
   "metadata": {
    "collapsed": false
   }
  },
  {
   "cell_type": "code",
   "execution_count": 60,
   "outputs": [
    {
     "name": "stdout",
     "output_type": "stream",
     "text": [
      "                  Mixed Linear Model Regression Results\n",
      "=========================================================================\n",
      "Model:            MixedLM Dependent Variable: np.log(absolute_180_angles)\n",
      "No. Observations: 7708    Method:             REML                       \n",
      "No. Groups:       23      Scale:              1.7466                     \n",
      "Min. group size:  329     Log-Likelihood:     -13135.9430                \n",
      "Max. group size:  336     Converged:          Yes                        \n",
      "Mean group size:  335.1                                                  \n",
      "---------------------------------------------------------------------------\n",
      "                       Coef.    Std.Err.     z      P>|z|   [0.025   0.975]\n",
      "---------------------------------------------------------------------------\n",
      "Intercept               3.324      0.094   35.342   0.000    3.140    3.509\n",
      "distance_to_target     -0.000      0.000   -2.302   0.021   -0.000   -0.000\n",
      "subject_id Var          0.176      0.041                                   \n",
      "=========================================================================\n",
      "\n"
     ]
    }
   ],
   "source": [
    "formula = 'np.log(absolute_180_angles) ~ distance_to_target'\n",
    "\n",
    "# Define and fit a linear regression model\n",
    "model_LM = smf.mixedlm(formula = formula, data = lmm_df, groups='subject_id').fit()\n",
    "print(model_LM.summary())"
   ],
   "metadata": {
    "collapsed": false,
    "pycharm": {
     "name": "#%%\n"
    }
   }
  },
  {
   "cell_type": "code",
   "execution_count": 63,
   "outputs": [
    {
     "data": {
      "text/plain": "0.10076720485514715"
     },
     "execution_count": 63,
     "metadata": {},
     "output_type": "execute_result"
    }
   ],
   "source": [
    "# icc\n",
    "0.176 / 1.7466"
   ],
   "metadata": {
    "collapsed": false,
    "pycharm": {
     "name": "#%%\n"
    }
   }
  },
  {
   "cell_type": "code",
   "execution_count": 62,
   "outputs": [
    {
     "data": {
      "text/plain": "<Figure size 432x288 with 1 Axes>",
      "image/png": "[encoded data removed]"
     },
     "metadata": {},
     "output_type": "display_data"
    }
   ],
   "source": [
    "sns.kdeplot(model_LM.resid, shade='fill', palette='Crest', alpha=.5, linewidth=0)\n",
    "plt.show()"
   ],
   "metadata": {
    "collapsed": false,
    "pycharm": {
     "name": "#%%\n"
    }
   }
  },
  {
   "cell_type": "markdown",
   "source": [
    "## Random slope model"
   ],
   "metadata": {
    "collapsed": false
   }
  },
  {
   "cell_type": "code",
   "execution_count": 66,
   "outputs": [
    {
     "name": "stdout",
     "output_type": "stream",
     "text": [
      "                           Mixed Linear Model Regression Results\n",
      "============================================================================================\n",
      "Model:                   MixedLM       Dependent Variable:       np.log(absolute_180_angles)\n",
      "No. Observations:        7708          Method:                   REML                       \n",
      "No. Groups:              23            Scale:                    1.4526                     \n",
      "Min. group size:         329           Log-Likelihood:           -12970.9979                \n",
      "Max. group size:         336           Converged:                Yes                        \n",
      "Mean group size:         335.1                                                              \n",
      "--------------------------------------------------------------------------------------------\n",
      "                                                  Coef.  Std.Err.   z    P>|z| [0.025 0.975]\n",
      "--------------------------------------------------------------------------------------------\n",
      "Intercept                                          3.302    0.175 18.850 0.000  2.959  3.646\n",
      "C(starting_loc_id, Treatment(reference=27))[T.1]  -0.251    0.108 -2.333 0.020 -0.463 -0.040\n",
      "C(starting_loc_id, Treatment(reference=27))[T.2]  -0.559    0.108 -5.177 0.000 -0.771 -0.348\n",
      "C(starting_loc_id, Treatment(reference=27))[T.4]  -0.441    0.108 -4.098 0.000 -0.653 -0.230\n",
      "C(starting_loc_id, Treatment(reference=27))[T.5]   0.074    0.108  0.688 0.491 -0.137  0.285\n",
      "C(starting_loc_id, Treatment(reference=27))[T.7]  -0.524    0.108 -4.851 0.000 -0.736 -0.312\n",
      "C(starting_loc_id, Treatment(reference=27))[T.9]  -0.851    0.108 -7.905 0.000 -1.062 -0.640\n",
      "C(starting_loc_id, Treatment(reference=27))[T.14] -0.476    0.108 -4.424 0.000 -0.687 -0.265\n",
      "C(starting_loc_id, Treatment(reference=27))[T.18] -0.290    0.108 -2.692 0.007 -0.500 -0.079\n",
      "C(starting_loc_id, Treatment(reference=27))[T.19] -0.464    0.108 -4.290 0.000 -0.676 -0.252\n",
      "C(starting_loc_id, Treatment(reference=27))[T.20] -0.140    0.108 -1.302 0.193 -0.352  0.071\n",
      "C(starting_loc_id, Treatment(reference=27))[T.21] -0.407    0.108 -3.767 0.000 -0.619 -0.195\n",
      "C(starting_loc_id, Treatment(reference=27))[T.25] -0.458    0.108 -4.247 0.000 -0.669 -0.247\n",
      "C(starting_loc_id, Treatment(reference=27))[T.29] -0.035    0.108 -0.324 0.746 -0.247  0.177\n",
      "C(starting_loc_id, Treatment(reference=27))[T.30] -0.097    0.108 -0.897 0.370 -0.308  0.115\n",
      "C(starting_loc_id, Treatment(reference=27))[T.34] -0.226    0.108 -2.099 0.036 -0.437 -0.015\n",
      "C(starting_loc_id, Treatment(reference=27))[T.35]  0.015    0.108  0.141 0.888 -0.197  0.228\n",
      "C(starting_loc_id, Treatment(reference=27))[T.36] -0.233    0.108 -2.153 0.031 -0.445 -0.021\n",
      "C(starting_loc_id, Treatment(reference=27))[T.37] -0.282    0.108 -2.613 0.009 -0.494 -0.071\n",
      "C(starting_loc_id, Treatment(reference=27))[T.38] -0.348    0.108 -3.227 0.001 -0.559 -0.137\n",
      "C(starting_loc_id, Treatment(reference=27))[T.40] -0.212    0.108 -1.961 0.050 -0.423 -0.000\n",
      "C(starting_loc_id, Treatment(reference=27))[T.43] -0.158    0.108 -1.470 0.141 -0.370  0.053\n",
      "C(starting_loc_id, Treatment(reference=27))[T.44] -0.381    0.108 -3.529 0.000 -0.592 -0.169\n",
      "C(starting_loc_id, Treatment(reference=27))[T.45] -0.321    0.108 -2.973 0.003 -0.533 -0.109\n",
      "C(starting_loc_id, Treatment(reference=27))[T.51] -0.068    0.108 -0.626 0.531 -0.279  0.144\n",
      "C(starting_loc_id, Treatment(reference=27))[T.52] -0.046    0.108 -0.428 0.669 -0.258  0.166\n",
      "C(starting_loc_id, Treatment(reference=27))[T.54] -0.615    0.108 -5.697 0.000 -0.827 -0.404\n",
      "C(starting_loc_id, Treatment(reference=27))[T.55] -0.165    0.108 -1.529 0.126 -0.377  0.047\n",
      "C(human_agent)[T.2]                                0.334    0.228  1.465 0.143 -0.113  0.780\n",
      "C(human_agent)[T.3]                                0.064    0.227  0.281 0.779 -0.380  0.508\n",
      "C(human_agent)[T.4]                                0.048    0.226  0.211 0.833 -0.396  0.492\n",
      "C(human_agent)[T.5]                               -0.134    0.226 -0.593 0.553 -0.576  0.309\n",
      "C(human_agent)[T.6]                                0.352    0.233  1.513 0.130 -0.104  0.809\n",
      "C(human_agent)[T.7]                                0.665    0.224  2.965 0.003  0.225  1.105\n",
      "C(human_agent)[T.8]                               -0.059    0.228 -0.260 0.795 -0.506  0.388\n",
      "C(human_agent)[T.9]                               -0.138    0.231 -0.599 0.549 -0.591  0.314\n",
      "C(human_agent)[T.10]                               0.564    0.225  2.510 0.012  0.123  1.004\n",
      "C(human_agent)[T.11]                              -0.163    0.228 -0.717 0.474 -0.610  0.283\n",
      "C(human_agent)[T.12]                               0.642    0.224  2.861 0.004  0.202  1.082\n",
      "C(human_agent)[T.13]                               0.365    0.228  1.603 0.109 -0.081  0.811\n",
      "C(human_agent)[T.14]                               0.573    0.226  2.537 0.011  0.130  1.016\n",
      "C(human_agent)[T.15]                               0.058    0.226  0.258 0.797 -0.385  0.501\n",
      "C(human_agent)[T.16]                               0.223    0.221  1.009 0.313 -0.210  0.657\n",
      "C(human_agent)[T.17]                               0.222    0.226  0.983 0.325 -0.221  0.665\n",
      "C(human_agent)[T.18]                               0.421    0.230  1.831 0.067 -0.030  0.872\n",
      "C(human_agent)[T.19]                               0.353    0.228  1.547 0.122 -0.094  0.801\n",
      "C(human_agent)[T.20]                              -0.203    0.228 -0.891 0.373 -0.649  0.243\n",
      "C(human_agent)[T.21]                              -0.363    0.224 -1.619 0.105 -0.803  0.076\n",
      "C(human_agent)[T.22]                               0.282    0.226  1.249 0.212 -0.160  0.724\n",
      "C(human_agent)[T.23]                               0.354    0.226  1.564 0.118 -0.090  0.797\n",
      "C(human_agent)[T.24]                               0.838    0.234  3.576 0.000  0.379  1.297\n",
      "C(human_agent)[T.25]                              -0.173    0.231 -0.748 0.454 -0.624  0.279\n",
      "C(human_agent)[T.26]                               0.427    0.227  1.882 0.060 -0.018  0.872\n",
      "C(human_agent)[T.27]                              -0.107    0.223 -0.479 0.632 -0.544  0.330\n",
      "C(human_agent)[T.28]                              -0.130    0.228 -0.570 0.569 -0.576  0.317\n",
      "C(human_agent)[T.29]                               0.135    0.229  0.588 0.557 -0.314  0.583\n",
      "C(human_agent)[T.30]                               0.040    0.230  0.176 0.860 -0.411  0.492\n",
      "C(human_agent)[T.31]                               0.647    0.225  2.876 0.004  0.206  1.087\n",
      "C(human_agent)[T.32]                               0.284    0.230  1.234 0.217 -0.167  0.736\n",
      "C(human_agent)[T.33]                               0.418    0.223  1.878 0.060 -0.018  0.854\n",
      "C(human_agent)[T.34]                               0.381    0.228  1.671 0.095 -0.066  0.829\n",
      "C(human_agent)[T.35]                               0.486    0.224  2.170 0.030  0.047  0.926\n",
      "C(human_agent)[T.36]                               0.553    0.229  2.412 0.016  0.104  1.003\n",
      "C(human_agent)[T.37]                               0.144    0.228  0.633 0.527 -0.302  0.591\n",
      "C(human_agent)[T.38]                               0.407    0.227  1.795 0.073 -0.037  0.851\n",
      "C(human_agent)[T.39]                               0.504    0.228  2.206 0.027  0.056  0.951\n",
      "C(human_agent)[T.40]                               0.654    0.227  2.882 0.004  0.209  1.099\n",
      "C(human_agent)[T.41]                               0.544    0.222  2.455 0.014  0.110  0.978\n",
      "C(human_agent)[T.42]                               0.407    0.230  1.770 0.077 -0.044  0.857\n",
      "C(human_agent)[T.43]                               0.116    0.225  0.517 0.605 -0.325  0.558\n",
      "C(human_agent)[T.44]                               0.394    0.230  1.715 0.086 -0.056  0.845\n",
      "C(human_agent)[T.45]                               0.369    0.227  1.627 0.104 -0.075  0.813\n",
      "C(human_agent)[T.46]                               0.027    0.226  0.118 0.906 -0.417  0.470\n",
      "C(human_agent)[T.47]                               0.459    0.226  2.030 0.042  0.016  0.902\n",
      "C(human_agent)[T.48]                              -0.161    0.224 -0.721 0.471 -0.600  0.277\n",
      "C(human_agent)[T.49]                               0.283    0.229  1.234 0.217 -0.166  0.732\n",
      "C(human_agent)[T.50]                               0.575    0.226  2.542 0.011  0.132  1.018\n",
      "C(human_agent)[T.51]                               0.407    0.225  1.815 0.070 -0.033  0.847\n",
      "C(human_agent)[T.52]                              -0.031    0.223 -0.140 0.889 -0.468  0.406\n",
      "C(human_agent)[T.53]                               0.530    0.227  2.333 0.020  0.085  0.976\n",
      "C(human_agent)[T.54]                               0.712    0.225  3.166 0.002  0.271  1.153\n",
      "C(human_agent)[T.55]                              -1.160    0.228 -5.094 0.000 -1.607 -0.714\n",
      "C(human_agent)[T.56]                               0.027    0.225  0.120 0.905 -0.414  0.468\n",
      "human_agent Var                                    0.338    0.021                           \n",
      "============================================================================================\n",
      "\n"
     ]
    }
   ],
   "source": [
    "formula = 'np.log(absolute_180_angles) ~ C(starting_loc_id, Treatment(reference=27)) + C(human_agent)'\n",
    "\n",
    "# Define and fit a linear regression model\n",
    "model_LM = smf.mixedlm(formula = formula, data = lmm_df, groups='subject_id', vc_formula = {'human_agent' : '0 + C(human_agent)'}).fit()\n",
    "print(model_LM.summary())"
   ],
   "metadata": {
    "collapsed": false,
    "pycharm": {
     "name": "#%%\n"
    }
   }
  }
 ],
 "metadata": {
  "kernelspec": {
   "display_name": "Python 3",
   "language": "python",
   "name": "python3"
  },
  "language_info": {
   "codemirror_mode": {
    "name": "ipython",
    "version": 2
   },
   "file_extension": ".py",
   "mimetype": "text/x-python",
   "name": "python",
   "nbconvert_exporter": "python",
   "pygments_lexer": "ipython2",
   "version": "2.7.6"
  }
 },
 "nbformat": 4,
 "nbformat_minor": 0
}